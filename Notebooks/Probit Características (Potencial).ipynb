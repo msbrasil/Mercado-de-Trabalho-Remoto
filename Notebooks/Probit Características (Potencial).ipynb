{
 "cells": [
  {
   "attachments": {},
   "cell_type": "markdown",
   "metadata": {},
   "source": [
    "# Probit sobre características (Potencial)\n",
    "\n",
    "Estimação do modelo Probit sobre as características do potencial de trabalho remoto. Será investigado se as características do indívíduo influenciam na probabilidade de possuir um trabalho que pode ser realizado remotamente."
   ]
  },
  {
   "cell_type": "code",
   "execution_count": 2,
   "metadata": {},
   "outputs": [],
   "source": [
    "import pandas as pd"
   ]
  },
  {
   "cell_type": "code",
   "execution_count": 4,
   "metadata": {},
   "outputs": [],
   "source": [
    "#PNAD Contínua 2019, somente características e potencial\n",
    "pnad = pd.read_parquet('../Dados/pnad_2019_caracteristicas_potencial.parquet')"
   ]
  },
  {
   "cell_type": "code",
   "execution_count": null,
   "metadata": {},
   "outputs": [],
   "source": [
    "pnad"
   ]
  }
 ],
 "metadata": {
  "kernelspec": {
   "display_name": "econometria",
   "language": "python",
   "name": "python3"
  },
  "language_info": {
   "codemirror_mode": {
    "name": "ipython",
    "version": 3
   },
   "file_extension": ".py",
   "mimetype": "text/x-python",
   "name": "python",
   "nbconvert_exporter": "python",
   "pygments_lexer": "ipython3",
   "version": "3.9.12"
  },
  "orig_nbformat": 4
 },
 "nbformat": 4,
 "nbformat_minor": 2
}
