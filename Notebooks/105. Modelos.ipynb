{
 "cells": [
  {
   "attachments": {},
   "cell_type": "markdown",
   "metadata": {},
   "source": [
    "### Modelos\n",
    "\n",
    "- Excecução de cross section\n",
    "- Efeitos fixos\n",
    "- Efeitos aleatórios\n",
    "\n"
   ]
  },
  {
   "cell_type": "code",
   "execution_count": 1,
   "metadata": {},
   "outputs": [],
   "source": [
    "import pandas as pd\n",
    "import numpy as np\n",
    "\n",
    "# Modelo\n",
    "import  statsmodels.api as sm \n",
    "from linearmodels.panel import PanelOLS"
   ]
  },
  {
   "cell_type": "code",
   "execution_count": 2,
   "metadata": {},
   "outputs": [],
   "source": [
    "panel_data = pd.read_parquet('../Dados/pnad_covid/pnad_covid_balanced.parquet')"
   ]
  },
  {
   "cell_type": "code",
   "execution_count": 3,
   "metadata": {},
   "outputs": [],
   "source": [
    "panel_data.dropna(inplace=True)"
   ]
  },
  {
   "cell_type": "code",
   "execution_count": 4,
   "metadata": {},
   "outputs": [],
   "source": [
    "panel_data.reset_index(inplace=True)"
   ]
  },
  {
   "cell_type": "code",
   "execution_count": 5,
   "metadata": {},
   "outputs": [],
   "source": [
    "#for every portfolio, fill mising values with first value of sigla_uf\n",
    "\n",
    "\n",
    "\n",
    "panel_data['C013'] = panel_data['C013'].fillna(method='bfill')\n",
    "\n",
    "panel_data['A003'] = panel_data['A003'].fillna(method='bfill')\n",
    "\n",
    "panel_data['A004'] = panel_data['A004'].fillna(method='bfill')\n",
    "\n",
    "panel_data['A005'] = panel_data['A005'].fillna(method='bfill')\n",
    "\n"
   ]
  },
  {
   "cell_type": "code",
   "execution_count": 6,
   "metadata": {},
   "outputs": [],
   "source": [
    "#for each domicilio_id fill missing values with first value diferent of NaN in column\n",
    "\n",
    "panel_data['A003'] = panel_data.groupby('domicilio_id')['A003'].transform(lambda x: x.fillna(method='bfill'))"
   ]
  },
  {
   "cell_type": "markdown",
   "metadata": {},
   "source": [
    "### Regressão"
   ]
  },
  {
   "cell_type": "code",
   "execution_count": 7,
   "metadata": {},
   "outputs": [],
   "source": [
    "panel_data.set_index(['domicilio_id', 'semana_dt'], inplace=True)"
   ]
  },
  {
   "cell_type": "code",
   "execution_count": 8,
   "metadata": {},
   "outputs": [],
   "source": [
    "#Variáveis explicativas do modelo\n",
    "# Adicionando uma constante\n",
    "exog_variables = panel_data.drop('C013', axis=1)"
   ]
  },
  {
   "cell_type": "code",
   "execution_count": 9,
   "metadata": {},
   "outputs": [
    {
     "data": {
      "text/html": [
       "<div>\n",
       "<style scoped>\n",
       "    .dataframe tbody tr th:only-of-type {\n",
       "        vertical-align: middle;\n",
       "    }\n",
       "\n",
       "    .dataframe tbody tr th {\n",
       "        vertical-align: top;\n",
       "    }\n",
       "\n",
       "    .dataframe thead th {\n",
       "        text-align: right;\n",
       "    }\n",
       "</style>\n",
       "<table border=\"1\" class=\"dataframe\">\n",
       "  <thead>\n",
       "    <tr style=\"text-align: right;\">\n",
       "      <th></th>\n",
       "      <th></th>\n",
       "      <th>C013</th>\n",
       "      <th>A003</th>\n",
       "      <th>A004</th>\n",
       "      <th>A005</th>\n",
       "      <th>formalidade</th>\n",
       "      <th>semana</th>\n",
       "    </tr>\n",
       "    <tr>\n",
       "      <th>domicilio_id</th>\n",
       "      <th>semana_dt</th>\n",
       "      <th></th>\n",
       "      <th></th>\n",
       "      <th></th>\n",
       "      <th></th>\n",
       "      <th></th>\n",
       "      <th></th>\n",
       "    </tr>\n",
       "  </thead>\n",
       "  <tbody>\n",
       "    <tr>\n",
       "      <th rowspan=\"5\" valign=\"top\">1100000161Mulher221974</th>\n",
       "      <th>18</th>\n",
       "      <td>Não</td>\n",
       "      <td>Mulher</td>\n",
       "      <td>Parda</td>\n",
       "      <td>Médio completo</td>\n",
       "      <td>Formal</td>\n",
       "      <td>24</td>\n",
       "    </tr>\n",
       "    <tr>\n",
       "      <th>22</th>\n",
       "      <td>Não</td>\n",
       "      <td>Mulher</td>\n",
       "      <td>Parda</td>\n",
       "      <td>Médio completo</td>\n",
       "      <td>Formal</td>\n",
       "      <td>24</td>\n",
       "    </tr>\n",
       "    <tr>\n",
       "      <th>26</th>\n",
       "      <td>Não</td>\n",
       "      <td>Mulher</td>\n",
       "      <td>Parda</td>\n",
       "      <td>Médio completo</td>\n",
       "      <td>Formal</td>\n",
       "      <td>24</td>\n",
       "    </tr>\n",
       "    <tr>\n",
       "      <th>30</th>\n",
       "      <td>Não</td>\n",
       "      <td>Mulher</td>\n",
       "      <td>Parda</td>\n",
       "      <td>Médio completo</td>\n",
       "      <td>Formal</td>\n",
       "      <td>24</td>\n",
       "    </tr>\n",
       "    <tr>\n",
       "      <th>34</th>\n",
       "      <td>Não</td>\n",
       "      <td>Mulher</td>\n",
       "      <td>Parda</td>\n",
       "      <td>Médio completo</td>\n",
       "      <td>Formal</td>\n",
       "      <td>24</td>\n",
       "    </tr>\n",
       "    <tr>\n",
       "      <th>...</th>\n",
       "      <th>...</th>\n",
       "      <td>...</td>\n",
       "      <td>...</td>\n",
       "      <td>...</td>\n",
       "      <td>...</td>\n",
       "      <td>...</td>\n",
       "      <td>...</td>\n",
       "    </tr>\n",
       "    <tr>\n",
       "      <th>53001448813Homem2331978</th>\n",
       "      <th>42</th>\n",
       "      <td>Sim</td>\n",
       "      <td>Homem</td>\n",
       "      <td>Branca</td>\n",
       "      <td>Pós-graduação, mestrado ou doutorado</td>\n",
       "      <td>Formal</td>\n",
       "      <td>20</td>\n",
       "    </tr>\n",
       "    <tr>\n",
       "      <th>53001448813Mulher721980</th>\n",
       "      <th>42</th>\n",
       "      <td>Não</td>\n",
       "      <td>Mulher</td>\n",
       "      <td>Branca</td>\n",
       "      <td>Pós-graduação, mestrado ou doutorado</td>\n",
       "      <td>Formal</td>\n",
       "      <td>20</td>\n",
       "    </tr>\n",
       "    <tr>\n",
       "      <th>5300193734Mulher2081982</th>\n",
       "      <th>44</th>\n",
       "      <td>Sim</td>\n",
       "      <td>Mulher</td>\n",
       "      <td>Parda</td>\n",
       "      <td>Superior completo</td>\n",
       "      <td>Formal</td>\n",
       "      <td>20</td>\n",
       "    </tr>\n",
       "    <tr>\n",
       "      <th>5300317391Homem18112000</th>\n",
       "      <th>44</th>\n",
       "      <td>Sim</td>\n",
       "      <td>Homem</td>\n",
       "      <td>Parda</td>\n",
       "      <td>Superior incompleto</td>\n",
       "      <td>Informal</td>\n",
       "      <td>20</td>\n",
       "    </tr>\n",
       "    <tr>\n",
       "      <th>5300317391Homem4111997</th>\n",
       "      <th>44</th>\n",
       "      <td>Não</td>\n",
       "      <td>Homem</td>\n",
       "      <td>Parda</td>\n",
       "      <td>Médio completo</td>\n",
       "      <td>Informal</td>\n",
       "      <td>20</td>\n",
       "    </tr>\n",
       "  </tbody>\n",
       "</table>\n",
       "<p>977444 rows × 6 columns</p>\n",
       "</div>"
      ],
      "text/plain": [
       "                                  C013    A003    A004  \\\n",
       "domicilio_id            semana_dt                        \n",
       "1100000161Mulher221974  18         Não  Mulher   Parda   \n",
       "                        22         Não  Mulher   Parda   \n",
       "                        26         Não  Mulher   Parda   \n",
       "                        30         Não  Mulher   Parda   \n",
       "                        34         Não  Mulher   Parda   \n",
       "...                                ...     ...     ...   \n",
       "53001448813Homem2331978 42         Sim   Homem  Branca   \n",
       "53001448813Mulher721980 42         Não  Mulher  Branca   \n",
       "5300193734Mulher2081982 44         Sim  Mulher   Parda   \n",
       "5300317391Homem18112000 44         Sim   Homem   Parda   \n",
       "5300317391Homem4111997  44         Não   Homem   Parda   \n",
       "\n",
       "                                                                   A005  \\\n",
       "domicilio_id            semana_dt                                         \n",
       "1100000161Mulher221974  18                               Médio completo   \n",
       "                        22                               Médio completo   \n",
       "                        26                               Médio completo   \n",
       "                        30                               Médio completo   \n",
       "                        34                               Médio completo   \n",
       "...                                                                 ...   \n",
       "53001448813Homem2331978 42         Pós-graduação, mestrado ou doutorado   \n",
       "53001448813Mulher721980 42         Pós-graduação, mestrado ou doutorado   \n",
       "5300193734Mulher2081982 44                            Superior completo   \n",
       "5300317391Homem18112000 44                          Superior incompleto   \n",
       "5300317391Homem4111997  44                               Médio completo   \n",
       "\n",
       "                                  formalidade semana  \n",
       "domicilio_id            semana_dt                     \n",
       "1100000161Mulher221974  18             Formal     24  \n",
       "                        22             Formal     24  \n",
       "                        26             Formal     24  \n",
       "                        30             Formal     24  \n",
       "                        34             Formal     24  \n",
       "...                                       ...    ...  \n",
       "53001448813Homem2331978 42             Formal     20  \n",
       "53001448813Mulher721980 42             Formal     20  \n",
       "5300193734Mulher2081982 44             Formal     20  \n",
       "5300317391Homem18112000 44           Informal     20  \n",
       "5300317391Homem4111997  44           Informal     20  \n",
       "\n",
       "[977444 rows x 6 columns]"
      ]
     },
     "execution_count": 9,
     "metadata": {},
     "output_type": "execute_result"
    }
   ],
   "source": [
    "panel_data"
   ]
  },
  {
   "cell_type": "code",
   "execution_count": 11,
   "metadata": {},
   "outputs": [
    {
     "ename": "KeyError",
     "evalue": "\"['A004_Brancas e Amarelas'] not found in axis\"",
     "output_type": "error",
     "traceback": [
      "\u001b[0;31m---------------------------------------------------------------------------\u001b[0m",
      "\u001b[0;31mKeyError\u001b[0m                                  Traceback (most recent call last)",
      "Cell \u001b[0;32mIn[11], line 1\u001b[0m\n\u001b[0;32m----> 1\u001b[0m pd\u001b[39m.\u001b[39;49mget_dummies(exog_variables[[\u001b[39m'\u001b[39;49m\u001b[39mA003\u001b[39;49m\u001b[39m'\u001b[39;49m,\u001b[39m'\u001b[39;49m\u001b[39mA004\u001b[39;49m\u001b[39m'\u001b[39;49m, \u001b[39m'\u001b[39;49m\u001b[39mA005\u001b[39;49m\u001b[39m'\u001b[39;49m, \u001b[39m'\u001b[39;49m\u001b[39mformalidade\u001b[39;49m\u001b[39m'\u001b[39;49m, \u001b[39m'\u001b[39;49m\u001b[39msemana\u001b[39;49m\u001b[39m'\u001b[39;49m]])\u001b[39m.\u001b[39;49mdrop([\u001b[39m'\u001b[39;49m\u001b[39mA003_Homem\u001b[39;49m\u001b[39m'\u001b[39;49m, \u001b[39m'\u001b[39;49m\u001b[39mA004_Brancas e Amarelas\u001b[39;49m\u001b[39m'\u001b[39;49m, \u001b[39m'\u001b[39;49m\u001b[39mA005_Sem instrução\u001b[39;49m\u001b[39m'\u001b[39;49m, \u001b[39m'\u001b[39;49m\u001b[39mformalidade_Informal\u001b[39;49m\u001b[39m'\u001b[39;49m], axis\u001b[39m=\u001b[39;49m\u001b[39m1\u001b[39;49m)\n",
      "File \u001b[0;32m~/miniconda3/envs/monografia/lib/python3.11/site-packages/pandas/core/frame.py:5258\u001b[0m, in \u001b[0;36mDataFrame.drop\u001b[0;34m(self, labels, axis, index, columns, level, inplace, errors)\u001b[0m\n\u001b[1;32m   5110\u001b[0m \u001b[39mdef\u001b[39;00m \u001b[39mdrop\u001b[39m(\n\u001b[1;32m   5111\u001b[0m     \u001b[39mself\u001b[39m,\n\u001b[1;32m   5112\u001b[0m     labels: IndexLabel \u001b[39m=\u001b[39m \u001b[39mNone\u001b[39;00m,\n\u001b[0;32m   (...)\u001b[0m\n\u001b[1;32m   5119\u001b[0m     errors: IgnoreRaise \u001b[39m=\u001b[39m \u001b[39m\"\u001b[39m\u001b[39mraise\u001b[39m\u001b[39m\"\u001b[39m,\n\u001b[1;32m   5120\u001b[0m ) \u001b[39m-\u001b[39m\u001b[39m>\u001b[39m DataFrame \u001b[39m|\u001b[39m \u001b[39mNone\u001b[39;00m:\n\u001b[1;32m   5121\u001b[0m \u001b[39m    \u001b[39m\u001b[39m\"\"\"\u001b[39;00m\n\u001b[1;32m   5122\u001b[0m \u001b[39m    Drop specified labels from rows or columns.\u001b[39;00m\n\u001b[1;32m   5123\u001b[0m \n\u001b[0;32m   (...)\u001b[0m\n\u001b[1;32m   5256\u001b[0m \u001b[39m            weight  1.0     0.8\u001b[39;00m\n\u001b[1;32m   5257\u001b[0m \u001b[39m    \"\"\"\u001b[39;00m\n\u001b[0;32m-> 5258\u001b[0m     \u001b[39mreturn\u001b[39;00m \u001b[39msuper\u001b[39;49m()\u001b[39m.\u001b[39;49mdrop(\n\u001b[1;32m   5259\u001b[0m         labels\u001b[39m=\u001b[39;49mlabels,\n\u001b[1;32m   5260\u001b[0m         axis\u001b[39m=\u001b[39;49maxis,\n\u001b[1;32m   5261\u001b[0m         index\u001b[39m=\u001b[39;49mindex,\n\u001b[1;32m   5262\u001b[0m         columns\u001b[39m=\u001b[39;49mcolumns,\n\u001b[1;32m   5263\u001b[0m         level\u001b[39m=\u001b[39;49mlevel,\n\u001b[1;32m   5264\u001b[0m         inplace\u001b[39m=\u001b[39;49minplace,\n\u001b[1;32m   5265\u001b[0m         errors\u001b[39m=\u001b[39;49merrors,\n\u001b[1;32m   5266\u001b[0m     )\n",
      "File \u001b[0;32m~/miniconda3/envs/monografia/lib/python3.11/site-packages/pandas/core/generic.py:4549\u001b[0m, in \u001b[0;36mNDFrame.drop\u001b[0;34m(self, labels, axis, index, columns, level, inplace, errors)\u001b[0m\n\u001b[1;32m   4547\u001b[0m \u001b[39mfor\u001b[39;00m axis, labels \u001b[39min\u001b[39;00m axes\u001b[39m.\u001b[39mitems():\n\u001b[1;32m   4548\u001b[0m     \u001b[39mif\u001b[39;00m labels \u001b[39mis\u001b[39;00m \u001b[39mnot\u001b[39;00m \u001b[39mNone\u001b[39;00m:\n\u001b[0;32m-> 4549\u001b[0m         obj \u001b[39m=\u001b[39m obj\u001b[39m.\u001b[39;49m_drop_axis(labels, axis, level\u001b[39m=\u001b[39;49mlevel, errors\u001b[39m=\u001b[39;49merrors)\n\u001b[1;32m   4551\u001b[0m \u001b[39mif\u001b[39;00m inplace:\n\u001b[1;32m   4552\u001b[0m     \u001b[39mself\u001b[39m\u001b[39m.\u001b[39m_update_inplace(obj)\n",
      "File \u001b[0;32m~/miniconda3/envs/monografia/lib/python3.11/site-packages/pandas/core/generic.py:4591\u001b[0m, in \u001b[0;36mNDFrame._drop_axis\u001b[0;34m(self, labels, axis, level, errors, only_slice)\u001b[0m\n\u001b[1;32m   4589\u001b[0m         new_axis \u001b[39m=\u001b[39m axis\u001b[39m.\u001b[39mdrop(labels, level\u001b[39m=\u001b[39mlevel, errors\u001b[39m=\u001b[39merrors)\n\u001b[1;32m   4590\u001b[0m     \u001b[39melse\u001b[39;00m:\n\u001b[0;32m-> 4591\u001b[0m         new_axis \u001b[39m=\u001b[39m axis\u001b[39m.\u001b[39;49mdrop(labels, errors\u001b[39m=\u001b[39;49merrors)\n\u001b[1;32m   4592\u001b[0m     indexer \u001b[39m=\u001b[39m axis\u001b[39m.\u001b[39mget_indexer(new_axis)\n\u001b[1;32m   4594\u001b[0m \u001b[39m# Case for non-unique axis\u001b[39;00m\n\u001b[1;32m   4595\u001b[0m \u001b[39melse\u001b[39;00m:\n",
      "File \u001b[0;32m~/miniconda3/envs/monografia/lib/python3.11/site-packages/pandas/core/indexes/base.py:6699\u001b[0m, in \u001b[0;36mIndex.drop\u001b[0;34m(self, labels, errors)\u001b[0m\n\u001b[1;32m   6697\u001b[0m \u001b[39mif\u001b[39;00m mask\u001b[39m.\u001b[39many():\n\u001b[1;32m   6698\u001b[0m     \u001b[39mif\u001b[39;00m errors \u001b[39m!=\u001b[39m \u001b[39m\"\u001b[39m\u001b[39mignore\u001b[39m\u001b[39m\"\u001b[39m:\n\u001b[0;32m-> 6699\u001b[0m         \u001b[39mraise\u001b[39;00m \u001b[39mKeyError\u001b[39;00m(\u001b[39mf\u001b[39m\u001b[39m\"\u001b[39m\u001b[39m{\u001b[39;00m\u001b[39mlist\u001b[39m(labels[mask])\u001b[39m}\u001b[39;00m\u001b[39m not found in axis\u001b[39m\u001b[39m\"\u001b[39m)\n\u001b[1;32m   6700\u001b[0m     indexer \u001b[39m=\u001b[39m indexer[\u001b[39m~\u001b[39mmask]\n\u001b[1;32m   6701\u001b[0m \u001b[39mreturn\u001b[39;00m \u001b[39mself\u001b[39m\u001b[39m.\u001b[39mdelete(indexer)\n",
      "\u001b[0;31mKeyError\u001b[0m: \"['A004_Brancas e Amarelas'] not found in axis\""
     ]
    }
   ],
   "source": [
    "pd.get_dummies(exog_variables[['A003','A004', 'A005', 'formalidade', 'semana']]).drop(['A003_Homem', 'A004_Brancas e Amarelas', 'A005_Sem instrução', 'formalidade_Informal'], axis=1)"
   ]
  },
  {
   "cell_type": "code",
   "execution_count": 12,
   "metadata": {},
   "outputs": [
    {
     "ename": "KeyError",
     "evalue": "\"['A004_Pretas e Pardas', 'A005_Fundamental completo e Médio incompleto', 'A005_Médio completo e Superior incompleto'] not in index\"",
     "output_type": "error",
     "traceback": [
      "\u001b[0;31m---------------------------------------------------------------------------\u001b[0m",
      "\u001b[0;31mKeyError\u001b[0m                                  Traceback (most recent call last)",
      "Cell \u001b[0;32mIn[12], line 1\u001b[0m\n\u001b[0;32m----> 1\u001b[0m pd\u001b[39m.\u001b[39;49mget_dummies(exog_variables[[\u001b[39m'\u001b[39;49m\u001b[39mA003\u001b[39;49m\u001b[39m'\u001b[39;49m,\u001b[39m'\u001b[39;49m\u001b[39mA004\u001b[39;49m\u001b[39m'\u001b[39;49m, \u001b[39m'\u001b[39;49m\u001b[39mA005\u001b[39;49m\u001b[39m'\u001b[39;49m, \u001b[39m'\u001b[39;49m\u001b[39mformalidade\u001b[39;49m\u001b[39m'\u001b[39;49m]])[[\u001b[39m'\u001b[39;49m\u001b[39mA003_Mulher\u001b[39;49m\u001b[39m'\u001b[39;49m, \u001b[39m'\u001b[39;49m\u001b[39mA004_Pretas e Pardas\u001b[39;49m\u001b[39m'\u001b[39;49m, \u001b[39m'\u001b[39;49m\u001b[39mformalidade_Formal\u001b[39;49m\u001b[39m'\u001b[39;49m, \u001b[39m'\u001b[39;49m\u001b[39mA005_Fundamental completo e Médio incompleto\u001b[39;49m\u001b[39m'\u001b[39;49m, \u001b[39m'\u001b[39;49m\u001b[39mA005_Médio completo e Superior incompleto\u001b[39;49m\u001b[39m'\u001b[39;49m]]\n",
      "File \u001b[0;32m~/miniconda3/envs/monografia/lib/python3.11/site-packages/pandas/core/frame.py:3767\u001b[0m, in \u001b[0;36mDataFrame.__getitem__\u001b[0;34m(self, key)\u001b[0m\n\u001b[1;32m   3765\u001b[0m     \u001b[39mif\u001b[39;00m is_iterator(key):\n\u001b[1;32m   3766\u001b[0m         key \u001b[39m=\u001b[39m \u001b[39mlist\u001b[39m(key)\n\u001b[0;32m-> 3767\u001b[0m     indexer \u001b[39m=\u001b[39m \u001b[39mself\u001b[39;49m\u001b[39m.\u001b[39;49mcolumns\u001b[39m.\u001b[39;49m_get_indexer_strict(key, \u001b[39m\"\u001b[39;49m\u001b[39mcolumns\u001b[39;49m\u001b[39m\"\u001b[39;49m)[\u001b[39m1\u001b[39m]\n\u001b[1;32m   3769\u001b[0m \u001b[39m# take() does not accept boolean indexers\u001b[39;00m\n\u001b[1;32m   3770\u001b[0m \u001b[39mif\u001b[39;00m \u001b[39mgetattr\u001b[39m(indexer, \u001b[39m\"\u001b[39m\u001b[39mdtype\u001b[39m\u001b[39m\"\u001b[39m, \u001b[39mNone\u001b[39;00m) \u001b[39m==\u001b[39m \u001b[39mbool\u001b[39m:\n",
      "File \u001b[0;32m~/miniconda3/envs/monografia/lib/python3.11/site-packages/pandas/core/indexes/base.py:5877\u001b[0m, in \u001b[0;36mIndex._get_indexer_strict\u001b[0;34m(self, key, axis_name)\u001b[0m\n\u001b[1;32m   5874\u001b[0m \u001b[39melse\u001b[39;00m:\n\u001b[1;32m   5875\u001b[0m     keyarr, indexer, new_indexer \u001b[39m=\u001b[39m \u001b[39mself\u001b[39m\u001b[39m.\u001b[39m_reindex_non_unique(keyarr)\n\u001b[0;32m-> 5877\u001b[0m \u001b[39mself\u001b[39;49m\u001b[39m.\u001b[39;49m_raise_if_missing(keyarr, indexer, axis_name)\n\u001b[1;32m   5879\u001b[0m keyarr \u001b[39m=\u001b[39m \u001b[39mself\u001b[39m\u001b[39m.\u001b[39mtake(indexer)\n\u001b[1;32m   5880\u001b[0m \u001b[39mif\u001b[39;00m \u001b[39misinstance\u001b[39m(key, Index):\n\u001b[1;32m   5881\u001b[0m     \u001b[39m# GH 42790 - Preserve name from an Index\u001b[39;00m\n",
      "File \u001b[0;32m~/miniconda3/envs/monografia/lib/python3.11/site-packages/pandas/core/indexes/base.py:5941\u001b[0m, in \u001b[0;36mIndex._raise_if_missing\u001b[0;34m(self, key, indexer, axis_name)\u001b[0m\n\u001b[1;32m   5938\u001b[0m     \u001b[39mraise\u001b[39;00m \u001b[39mKeyError\u001b[39;00m(\u001b[39mf\u001b[39m\u001b[39m\"\u001b[39m\u001b[39mNone of [\u001b[39m\u001b[39m{\u001b[39;00mkey\u001b[39m}\u001b[39;00m\u001b[39m] are in the [\u001b[39m\u001b[39m{\u001b[39;00maxis_name\u001b[39m}\u001b[39;00m\u001b[39m]\u001b[39m\u001b[39m\"\u001b[39m)\n\u001b[1;32m   5940\u001b[0m not_found \u001b[39m=\u001b[39m \u001b[39mlist\u001b[39m(ensure_index(key)[missing_mask\u001b[39m.\u001b[39mnonzero()[\u001b[39m0\u001b[39m]]\u001b[39m.\u001b[39munique())\n\u001b[0;32m-> 5941\u001b[0m \u001b[39mraise\u001b[39;00m \u001b[39mKeyError\u001b[39;00m(\u001b[39mf\u001b[39m\u001b[39m\"\u001b[39m\u001b[39m{\u001b[39;00mnot_found\u001b[39m}\u001b[39;00m\u001b[39m not in index\u001b[39m\u001b[39m\"\u001b[39m)\n",
      "\u001b[0;31mKeyError\u001b[0m: \"['A004_Pretas e Pardas', 'A005_Fundamental completo e Médio incompleto', 'A005_Médio completo e Superior incompleto'] not in index\""
     ]
    }
   ],
   "source": [
    "pd.get_dummies(exog_variables[['A003','A004', 'A005', 'formalidade']])[['A003_Mulher', 'A004_Pretas e Pardas', 'formalidade_Formal', 'A005_Fundamental completo e Médio incompleto', 'A005_Médio completo e Superior incompleto']]"
   ]
  },
  {
   "cell_type": "code",
   "execution_count": 13,
   "metadata": {},
   "outputs": [
    {
     "ename": "KeyError",
     "evalue": "\"['A004_Brancas e Amarelas'] not found in axis\"",
     "output_type": "error",
     "traceback": [
      "\u001b[0;31m---------------------------------------------------------------------------\u001b[0m",
      "\u001b[0;31mKeyError\u001b[0m                                  Traceback (most recent call last)",
      "Cell \u001b[0;32mIn[13], line 1\u001b[0m\n\u001b[0;32m----> 1\u001b[0m exog_variables \u001b[39m=\u001b[39m pd\u001b[39m.\u001b[39;49mget_dummies(exog_variables)\u001b[39m.\u001b[39;49mdrop([\u001b[39m'\u001b[39;49m\u001b[39mA003_Homem\u001b[39;49m\u001b[39m'\u001b[39;49m, \u001b[39m'\u001b[39;49m\u001b[39mA004_Brancas e Amarelas\u001b[39;49m\u001b[39m'\u001b[39;49m, \u001b[39m'\u001b[39;49m\u001b[39mA005_Sem instrução\u001b[39;49m\u001b[39m'\u001b[39;49m, \u001b[39m'\u001b[39;49m\u001b[39mformalidade_Informal\u001b[39;49m\u001b[39m'\u001b[39;49m], axis\u001b[39m=\u001b[39;49m\u001b[39m1\u001b[39;49m)\n",
      "File \u001b[0;32m~/miniconda3/envs/monografia/lib/python3.11/site-packages/pandas/core/frame.py:5258\u001b[0m, in \u001b[0;36mDataFrame.drop\u001b[0;34m(self, labels, axis, index, columns, level, inplace, errors)\u001b[0m\n\u001b[1;32m   5110\u001b[0m \u001b[39mdef\u001b[39;00m \u001b[39mdrop\u001b[39m(\n\u001b[1;32m   5111\u001b[0m     \u001b[39mself\u001b[39m,\n\u001b[1;32m   5112\u001b[0m     labels: IndexLabel \u001b[39m=\u001b[39m \u001b[39mNone\u001b[39;00m,\n\u001b[0;32m   (...)\u001b[0m\n\u001b[1;32m   5119\u001b[0m     errors: IgnoreRaise \u001b[39m=\u001b[39m \u001b[39m\"\u001b[39m\u001b[39mraise\u001b[39m\u001b[39m\"\u001b[39m,\n\u001b[1;32m   5120\u001b[0m ) \u001b[39m-\u001b[39m\u001b[39m>\u001b[39m DataFrame \u001b[39m|\u001b[39m \u001b[39mNone\u001b[39;00m:\n\u001b[1;32m   5121\u001b[0m \u001b[39m    \u001b[39m\u001b[39m\"\"\"\u001b[39;00m\n\u001b[1;32m   5122\u001b[0m \u001b[39m    Drop specified labels from rows or columns.\u001b[39;00m\n\u001b[1;32m   5123\u001b[0m \n\u001b[0;32m   (...)\u001b[0m\n\u001b[1;32m   5256\u001b[0m \u001b[39m            weight  1.0     0.8\u001b[39;00m\n\u001b[1;32m   5257\u001b[0m \u001b[39m    \"\"\"\u001b[39;00m\n\u001b[0;32m-> 5258\u001b[0m     \u001b[39mreturn\u001b[39;00m \u001b[39msuper\u001b[39;49m()\u001b[39m.\u001b[39;49mdrop(\n\u001b[1;32m   5259\u001b[0m         labels\u001b[39m=\u001b[39;49mlabels,\n\u001b[1;32m   5260\u001b[0m         axis\u001b[39m=\u001b[39;49maxis,\n\u001b[1;32m   5261\u001b[0m         index\u001b[39m=\u001b[39;49mindex,\n\u001b[1;32m   5262\u001b[0m         columns\u001b[39m=\u001b[39;49mcolumns,\n\u001b[1;32m   5263\u001b[0m         level\u001b[39m=\u001b[39;49mlevel,\n\u001b[1;32m   5264\u001b[0m         inplace\u001b[39m=\u001b[39;49minplace,\n\u001b[1;32m   5265\u001b[0m         errors\u001b[39m=\u001b[39;49merrors,\n\u001b[1;32m   5266\u001b[0m     )\n",
      "File \u001b[0;32m~/miniconda3/envs/monografia/lib/python3.11/site-packages/pandas/core/generic.py:4549\u001b[0m, in \u001b[0;36mNDFrame.drop\u001b[0;34m(self, labels, axis, index, columns, level, inplace, errors)\u001b[0m\n\u001b[1;32m   4547\u001b[0m \u001b[39mfor\u001b[39;00m axis, labels \u001b[39min\u001b[39;00m axes\u001b[39m.\u001b[39mitems():\n\u001b[1;32m   4548\u001b[0m     \u001b[39mif\u001b[39;00m labels \u001b[39mis\u001b[39;00m \u001b[39mnot\u001b[39;00m \u001b[39mNone\u001b[39;00m:\n\u001b[0;32m-> 4549\u001b[0m         obj \u001b[39m=\u001b[39m obj\u001b[39m.\u001b[39;49m_drop_axis(labels, axis, level\u001b[39m=\u001b[39;49mlevel, errors\u001b[39m=\u001b[39;49merrors)\n\u001b[1;32m   4551\u001b[0m \u001b[39mif\u001b[39;00m inplace:\n\u001b[1;32m   4552\u001b[0m     \u001b[39mself\u001b[39m\u001b[39m.\u001b[39m_update_inplace(obj)\n",
      "File \u001b[0;32m~/miniconda3/envs/monografia/lib/python3.11/site-packages/pandas/core/generic.py:4591\u001b[0m, in \u001b[0;36mNDFrame._drop_axis\u001b[0;34m(self, labels, axis, level, errors, only_slice)\u001b[0m\n\u001b[1;32m   4589\u001b[0m         new_axis \u001b[39m=\u001b[39m axis\u001b[39m.\u001b[39mdrop(labels, level\u001b[39m=\u001b[39mlevel, errors\u001b[39m=\u001b[39merrors)\n\u001b[1;32m   4590\u001b[0m     \u001b[39melse\u001b[39;00m:\n\u001b[0;32m-> 4591\u001b[0m         new_axis \u001b[39m=\u001b[39m axis\u001b[39m.\u001b[39;49mdrop(labels, errors\u001b[39m=\u001b[39;49merrors)\n\u001b[1;32m   4592\u001b[0m     indexer \u001b[39m=\u001b[39m axis\u001b[39m.\u001b[39mget_indexer(new_axis)\n\u001b[1;32m   4594\u001b[0m \u001b[39m# Case for non-unique axis\u001b[39;00m\n\u001b[1;32m   4595\u001b[0m \u001b[39melse\u001b[39;00m:\n",
      "File \u001b[0;32m~/miniconda3/envs/monografia/lib/python3.11/site-packages/pandas/core/indexes/base.py:6699\u001b[0m, in \u001b[0;36mIndex.drop\u001b[0;34m(self, labels, errors)\u001b[0m\n\u001b[1;32m   6697\u001b[0m \u001b[39mif\u001b[39;00m mask\u001b[39m.\u001b[39many():\n\u001b[1;32m   6698\u001b[0m     \u001b[39mif\u001b[39;00m errors \u001b[39m!=\u001b[39m \u001b[39m\"\u001b[39m\u001b[39mignore\u001b[39m\u001b[39m\"\u001b[39m:\n\u001b[0;32m-> 6699\u001b[0m         \u001b[39mraise\u001b[39;00m \u001b[39mKeyError\u001b[39;00m(\u001b[39mf\u001b[39m\u001b[39m\"\u001b[39m\u001b[39m{\u001b[39;00m\u001b[39mlist\u001b[39m(labels[mask])\u001b[39m}\u001b[39;00m\u001b[39m not found in axis\u001b[39m\u001b[39m\"\u001b[39m)\n\u001b[1;32m   6700\u001b[0m     indexer \u001b[39m=\u001b[39m indexer[\u001b[39m~\u001b[39mmask]\n\u001b[1;32m   6701\u001b[0m \u001b[39mreturn\u001b[39;00m \u001b[39mself\u001b[39m\u001b[39m.\u001b[39mdelete(indexer)\n",
      "\u001b[0;31mKeyError\u001b[0m: \"['A004_Brancas e Amarelas'] not found in axis\""
     ]
    }
   ],
   "source": [
    "exog_variables = pd.get_dummies(exog_variables).drop(['A003_Homem', 'A004_Brancas e Amarelas', 'A005_Sem instrução', 'formalidade_Informal'], axis=1)"
   ]
  },
  {
   "cell_type": "code",
   "execution_count": 14,
   "metadata": {},
   "outputs": [
    {
     "data": {
      "text/plain": [
       "(977444, 5)"
      ]
     },
     "execution_count": 14,
     "metadata": {},
     "output_type": "execute_result"
    }
   ],
   "source": [
    "exog_variables.shape"
   ]
  },
  {
   "cell_type": "code",
   "execution_count": 17,
   "metadata": {},
   "outputs": [],
   "source": [
    "exog_variables.drop('semana', axis=1, inplace=True)"
   ]
  },
  {
   "cell_type": "code",
   "execution_count": 18,
   "metadata": {},
   "outputs": [],
   "source": [
    "endog_variable = pd.get_dummies(panel_data['C013'])['Sim']"
   ]
  },
  {
   "cell_type": "code",
   "execution_count": 19,
   "metadata": {},
   "outputs": [
    {
     "name": "stdout",
     "output_type": "stream",
     "text": [
      "Empty DataFrame\n",
      "Columns: [Variável, VIF]\n",
      "Index: []\n"
     ]
    }
   ],
   "source": [
    "from statsmodels.stats.outliers_influence import variance_inflation_factor\n",
    "\n",
    "# Selecionar apenas as variáveis explicativas numéricas\n",
    "exog_numeric = exog_variables.select_dtypes(include=np.number)\n",
    "\n",
    "# Calcular os VIFs\n",
    "vifs = pd.DataFrame()\n",
    "vifs[\"Variável\"] = exog_numeric.columns\n",
    "vifs[\"VIF\"] = [variance_inflation_factor(exog_numeric.values, i) for i in range(exog_numeric.shape[1])]\n",
    "\n",
    "print(vifs)"
   ]
  },
  {
   "cell_type": "code",
   "execution_count": 21,
   "metadata": {},
   "outputs": [
    {
     "name": "stderr",
     "output_type": "stream",
     "text": [
      "/tmp/ipykernel_8926/1146912806.py:10: MemoryWarning: Using low-memory algorithm to estimate two-way model. Explicitly set low_memory=True to silence this message.  Set low_memory=False to use the standard algorithm that creates dummy variables for the smaller of the number of entities or number of time periods.\n",
      "  f_effects_results = f_effects_model.fit()\n",
      "/tmp/ipykernel_8926/1146912806.py:10: AbsorbingEffectWarning: \n",
      "Variables have been fully absorbed and have removed from the regression:\n",
      "\n",
      "A003.Homem\n",
      "\n",
      "  f_effects_results = f_effects_model.fit()\n"
     ]
    }
   ],
   "source": [
    "# Estimating the fixed effects model\n",
    "f_effects_model = PanelOLS(dependent = endog_variable,  # Variável endógena (Y)\n",
    "                           exog = exog_variables,  # Variáveis exógenas (X matrix)\n",
    "                           check_rank=False,  # Checar se a matriz X é de posto completo\n",
    "                           entity_effects = True,  # True -> Efeitos fixos\n",
    "                           drop_absorbed = True,# Remover variáveis absorvidas\n",
    "                           time_effects=True)  \n",
    "\n",
    "# Ajustar o modelo aos dados\n",
    "f_effects_results = f_effects_model.fit()"
   ]
  },
  {
   "cell_type": "code",
   "execution_count": 22,
   "metadata": {},
   "outputs": [
    {
     "name": "stderr",
     "output_type": "stream",
     "text": [
      "/tmp/ipykernel_8926/3205855132.py:1: MemoryWarning: Using low-memory algorithm to estimate two-way model. Explicitly set low_memory=True to silence this message.  Set low_memory=False to use the standard algorithm that creates dummy variables for the smaller of the number of entities or number of time periods.\n",
      "  f_effects_results = f_effects_model.fit()\n"
     ]
    }
   ],
   "source": [
    "f_effects_results = f_effects_model.fit()"
   ]
  },
  {
   "cell_type": "code",
   "execution_count": 23,
   "metadata": {},
   "outputs": [
    {
     "data": {
      "text/html": [
       "<table class=\"simpletable\">\n",
       "<caption>PanelOLS Estimation Summary</caption>\n",
       "<tr>\n",
       "  <th>Dep. Variable:</th>           <td>Sim</td>       <th>  R-squared:         </th>      <td>0.0003</td>   \n",
       "</tr>\n",
       "<tr>\n",
       "  <th>Estimator:</th>            <td>PanelOLS</td>     <th>  R-squared (Between):</th>     <td>0.0489</td>   \n",
       "</tr>\n",
       "<tr>\n",
       "  <th>No. Observations:</th>      <td>977444</td>      <th>  R-squared (Within):</th>      <td>0.0002</td>   \n",
       "</tr>\n",
       "<tr>\n",
       "  <th>Date:</th>             <td>Wed, Sep 06 2023</td> <th>  R-squared (Overall):</th>     <td>0.0418</td>   \n",
       "</tr>\n",
       "<tr>\n",
       "  <th>Time:</th>                 <td>17:48:48</td>     <th>  Log-likelihood     </th>     <td>6.266e+05</td> \n",
       "</tr>\n",
       "<tr>\n",
       "  <th>Cov. Estimator:</th>      <td>Unadjusted</td>    <th>                     </th>         <td></td>      \n",
       "</tr>\n",
       "<tr>\n",
       "  <th></th>                          <td></td>         <th>  F-statistic:       </th>      <td>13.830</td>   \n",
       "</tr>\n",
       "<tr>\n",
       "  <th>Entities:</th>              <td>210843</td>      <th>  P-value            </th>      <td>0.0000</td>   \n",
       "</tr>\n",
       "<tr>\n",
       "  <th>Avg Obs:</th>               <td>4.6359</td>      <th>  Distribution:      </th>   <td>F(14,766560)</td>\n",
       "</tr>\n",
       "<tr>\n",
       "  <th>Min Obs:</th>               <td>1.0000</td>      <th>                     </th>         <td></td>      \n",
       "</tr>\n",
       "<tr>\n",
       "  <th>Max Obs:</th>               <td>14.000</td>      <th>  F-statistic (robust):</th>    <td>13.830</td>   \n",
       "</tr>\n",
       "<tr>\n",
       "  <th></th>                          <td></td>         <th>  P-value            </th>      <td>0.0000</td>   \n",
       "</tr>\n",
       "<tr>\n",
       "  <th>Time periods:</th>            <td>28</td>        <th>  Distribution:      </th>   <td>F(14,766560)</td>\n",
       "</tr>\n",
       "<tr>\n",
       "  <th>Avg Obs:</th>              <td>3.491e+04</td>    <th>                     </th>         <td></td>      \n",
       "</tr>\n",
       "<tr>\n",
       "  <th>Min Obs:</th>              <td>3.065e+04</td>    <th>                     </th>         <td></td>      \n",
       "</tr>\n",
       "<tr>\n",
       "  <th>Max Obs:</th>              <td>3.602e+04</td>    <th>                     </th>         <td></td>      \n",
       "</tr>\n",
       "<tr>\n",
       "  <th></th>                          <td></td>         <th>                     </th>         <td></td>      \n",
       "</tr>\n",
       "</table>\n",
       "<table class=\"simpletable\">\n",
       "<caption>Parameter Estimates</caption>\n",
       "<tr>\n",
       "                      <td></td>                      <th>Parameter</th> <th>Std. Err.</th> <th>T-stat</th>  <th>P-value</th> <th>Lower CI</th> <th>Upper CI</th>\n",
       "</tr>\n",
       "<tr>\n",
       "  <th>A004.Preta</th>                                 <td>-0.0025</td>   <td>0.0041</td>   <td>-0.6094</td> <td>0.5422</td>   <td>-0.0106</td>  <td>0.0056</td> \n",
       "</tr>\n",
       "<tr>\n",
       "  <th>A004.Amarela</th>                               <td>-0.0119</td>   <td>0.0079</td>   <td>-1.5065</td> <td>0.1319</td>   <td>-0.0275</td>  <td>0.0036</td> \n",
       "</tr>\n",
       "<tr>\n",
       "  <th>A004.Parda</th>                                 <td>-0.0018</td>   <td>0.0025</td>   <td>-0.7426</td> <td>0.4578</td>   <td>-0.0067</td>  <td>0.0030</td> \n",
       "</tr>\n",
       "<tr>\n",
       "  <th>A004.Indígena</th>                              <td>-0.0036</td>   <td>0.0115</td>   <td>-0.3141</td> <td>0.7534</td>   <td>-0.0262</td>  <td>0.0190</td> \n",
       "</tr>\n",
       "<tr>\n",
       "  <th>A004.Ignorado</th>                              <td>-0.0109</td>   <td>0.0207</td>   <td>-0.5260</td> <td>0.5989</td>   <td>-0.0516</td>  <td>0.0297</td> \n",
       "</tr>\n",
       "<tr>\n",
       "  <th>A005.Fundamental incompleto</th>                <td>-0.0004</td>   <td>0.0053</td>   <td>-0.0707</td> <td>0.9436</td>   <td>-0.0107</td>  <td>0.0100</td> \n",
       "</tr>\n",
       "<tr>\n",
       "  <th>A005.Fundamental completa</th>                  <td>-0.0001</td>   <td>0.0058</td>   <td>-0.0218</td> <td>0.9826</td>   <td>-0.0115</td>  <td>0.0112</td> \n",
       "</tr>\n",
       "<tr>\n",
       "  <th>A005.Médio incompleto</th>                      <td>0.0039</td>    <td>0.0059</td>   <td>0.6634</td>  <td>0.5071</td>   <td>-0.0076</td>  <td>0.0154</td> \n",
       "</tr>\n",
       "<tr>\n",
       "  <th>A005.Médio completo</th>                        <td>0.0078</td>    <td>0.0058</td>   <td>1.3401</td>  <td>0.1802</td>   <td>-0.0036</td>  <td>0.0192</td> \n",
       "</tr>\n",
       "<tr>\n",
       "  <th>A005.Superior incompleto</th>                   <td>0.0227</td>    <td>0.0064</td>   <td>3.5244</td>  <td>0.0004</td>   <td>0.0101</td>   <td>0.0353</td> \n",
       "</tr>\n",
       "<tr>\n",
       "  <th>A005.Superior completo</th>                     <td>0.0257</td>    <td>0.0064</td>   <td>4.0281</td>  <td>0.0001</td>   <td>0.0132</td>   <td>0.0382</td> \n",
       "</tr>\n",
       "<tr>\n",
       "  <th>A005.Pós-graduação, mestrado ou doutorado</th>  <td>0.0381</td>    <td>0.0070</td>   <td>5.4565</td>  <td>0.0000</td>   <td>0.0244</td>   <td>0.0517</td> \n",
       "</tr>\n",
       "<tr>\n",
       "  <th>formalidade.Informal</th>                       <td>-0.0089</td>   <td>0.0014</td>   <td>-6.3193</td> <td>0.0000</td>   <td>-0.0116</td>  <td>-0.0061</td>\n",
       "</tr>\n",
       "<tr>\n",
       "  <th>formalidade.Fora do mercado de trabalho</th>    <td>-0.0274</td>   <td>0.0027</td>   <td>-10.148</td> <td>0.0000</td>   <td>-0.0326</td>  <td>-0.0221</td>\n",
       "</tr>\n",
       "</table><br/><br/>F-test for Poolability: 10.225<br/>P-value: 0.0000<br/>Distribution: F(210869,766560)<br/><br/>Included effects: Entity, Time"
      ],
      "text/latex": [
       "\\begin{center}\n",
       "\\begin{tabular}{lclc}\n",
       "\\toprule\n",
       "\\textbf{Dep. Variable:}                            &        Sim         & \\textbf{  R-squared:         }   &      0.0003      \\\\\n",
       "\\textbf{Estimator:}                                &      PanelOLS      & \\textbf{  R-squared (Between):}  &      0.0489      \\\\\n",
       "\\textbf{No. Observations:}                         &       977444       & \\textbf{  R-squared (Within):}   &      0.0002      \\\\\n",
       "\\textbf{Date:}                                     &  Wed, Sep 06 2023  & \\textbf{  R-squared (Overall):}  &      0.0418      \\\\\n",
       "\\textbf{Time:}                                     &      17:48:48      & \\textbf{  Log-likelihood     }   &    6.266e+05     \\\\\n",
       "\\textbf{Cov. Estimator:}                           &     Unadjusted     & \\textbf{                     }   &                  \\\\\n",
       "\\textbf{}                                          &                    & \\textbf{  F-statistic:       }   &      13.830      \\\\\n",
       "\\textbf{Entities:}                                 &       210843       & \\textbf{  P-value            }   &      0.0000      \\\\\n",
       "\\textbf{Avg Obs:}                                  &       4.6359       & \\textbf{  Distribution:      }   &   F(14,766560)   \\\\\n",
       "\\textbf{Min Obs:}                                  &       1.0000       & \\textbf{                     }   &                  \\\\\n",
       "\\textbf{Max Obs:}                                  &       14.000       & \\textbf{  F-statistic (robust):} &      13.830      \\\\\n",
       "\\textbf{}                                          &                    & \\textbf{  P-value            }   &      0.0000      \\\\\n",
       "\\textbf{Time periods:}                             &         28         & \\textbf{  Distribution:      }   &   F(14,766560)   \\\\\n",
       "\\textbf{Avg Obs:}                                  &     3.491e+04      & \\textbf{                     }   &                  \\\\\n",
       "\\textbf{Min Obs:}                                  &     3.065e+04      & \\textbf{                     }   &                  \\\\\n",
       "\\textbf{Max Obs:}                                  &     3.602e+04      & \\textbf{                     }   &                  \\\\\n",
       "\\textbf{}                                          &                    & \\textbf{                     }   &                  \\\\\n",
       "\\bottomrule\n",
       "\\end{tabular}\n",
       "\\begin{tabular}{lcccccc}\n",
       "                                                   & \\textbf{Parameter} & \\textbf{Std. Err.} & \\textbf{T-stat} & \\textbf{P-value} & \\textbf{Lower CI} & \\textbf{Upper CI}  \\\\\n",
       "\\midrule\n",
       "\\textbf{A004.Preta}                                &      -0.0025       &       0.0041       &     -0.6094     &      0.5422      &      -0.0106      &       0.0056       \\\\\n",
       "\\textbf{A004.Amarela}                              &      -0.0119       &       0.0079       &     -1.5065     &      0.1319      &      -0.0275      &       0.0036       \\\\\n",
       "\\textbf{A004.Parda}                                &      -0.0018       &       0.0025       &     -0.7426     &      0.4578      &      -0.0067      &       0.0030       \\\\\n",
       "\\textbf{A004.Indígena}                             &      -0.0036       &       0.0115       &     -0.3141     &      0.7534      &      -0.0262      &       0.0190       \\\\\n",
       "\\textbf{A004.Ignorado}                             &      -0.0109       &       0.0207       &     -0.5260     &      0.5989      &      -0.0516      &       0.0297       \\\\\n",
       "\\textbf{A005.Fundamental incompleto}               &      -0.0004       &       0.0053       &     -0.0707     &      0.9436      &      -0.0107      &       0.0100       \\\\\n",
       "\\textbf{A005.Fundamental completa}                 &      -0.0001       &       0.0058       &     -0.0218     &      0.9826      &      -0.0115      &       0.0112       \\\\\n",
       "\\textbf{A005.Médio incompleto}                     &       0.0039       &       0.0059       &      0.6634     &      0.5071      &      -0.0076      &       0.0154       \\\\\n",
       "\\textbf{A005.Médio completo}                       &       0.0078       &       0.0058       &      1.3401     &      0.1802      &      -0.0036      &       0.0192       \\\\\n",
       "\\textbf{A005.Superior incompleto}                  &       0.0227       &       0.0064       &      3.5244     &      0.0004      &       0.0101      &       0.0353       \\\\\n",
       "\\textbf{A005.Superior completo}                    &       0.0257       &       0.0064       &      4.0281     &      0.0001      &       0.0132      &       0.0382       \\\\\n",
       "\\textbf{A005.Pós-graduação, mestrado ou doutorado} &       0.0381       &       0.0070       &      5.4565     &      0.0000      &       0.0244      &       0.0517       \\\\\n",
       "\\textbf{formalidade.Informal}                      &      -0.0089       &       0.0014       &     -6.3193     &      0.0000      &      -0.0116      &      -0.0061       \\\\\n",
       "\\textbf{formalidade.Fora do mercado de trabalho}   &      -0.0274       &       0.0027       &     -10.148     &      0.0000      &      -0.0326      &      -0.0221       \\\\\n",
       "\\bottomrule\n",
       "\\end{tabular}\n",
       "%\\caption{PanelOLS Estimation Summary}\n",
       "\\end{center}\n",
       "\n",
       "F-test for Poolability: 10.225 \\newline\n",
       " P-value: 0.0000 \\newline\n",
       " Distribution: F(210869,766560) \\newline\n",
       "  \\newline\n",
       " Included effects: Entity, Time"
      ],
      "text/plain": [
       "<class 'linearmodels.compat.statsmodels.Summary'>\n",
       "\"\"\"\n",
       "                          PanelOLS Estimation Summary                           \n",
       "================================================================================\n",
       "Dep. Variable:                    Sim   R-squared:                        0.0003\n",
       "Estimator:                   PanelOLS   R-squared (Between):              0.0489\n",
       "No. Observations:              977444   R-squared (Within):               0.0002\n",
       "Date:                Wed, Sep 06 2023   R-squared (Overall):              0.0418\n",
       "Time:                        17:48:48   Log-likelihood                 6.266e+05\n",
       "Cov. Estimator:            Unadjusted                                           \n",
       "                                        F-statistic:                      13.830\n",
       "Entities:                      210843   P-value                           0.0000\n",
       "Avg Obs:                       4.6359   Distribution:               F(14,766560)\n",
       "Min Obs:                       1.0000                                           \n",
       "Max Obs:                       14.000   F-statistic (robust):             13.830\n",
       "                                        P-value                           0.0000\n",
       "Time periods:                      28   Distribution:               F(14,766560)\n",
       "Avg Obs:                    3.491e+04                                           \n",
       "Min Obs:                    3.065e+04                                           \n",
       "Max Obs:                    3.602e+04                                           \n",
       "                                                                                \n",
       "                                             Parameter Estimates                                             \n",
       "=============================================================================================================\n",
       "                                           Parameter  Std. Err.     T-stat    P-value    Lower CI    Upper CI\n",
       "-------------------------------------------------------------------------------------------------------------\n",
       "A004.Preta                                   -0.0025     0.0041    -0.6094     0.5422     -0.0106      0.0056\n",
       "A004.Amarela                                 -0.0119     0.0079    -1.5065     0.1319     -0.0275      0.0036\n",
       "A004.Parda                                   -0.0018     0.0025    -0.7426     0.4578     -0.0067      0.0030\n",
       "A004.Indígena                                -0.0036     0.0115    -0.3141     0.7534     -0.0262      0.0190\n",
       "A004.Ignorado                                -0.0109     0.0207    -0.5260     0.5989     -0.0516      0.0297\n",
       "A005.Fundamental incompleto                  -0.0004     0.0053    -0.0707     0.9436     -0.0107      0.0100\n",
       "A005.Fundamental completa                    -0.0001     0.0058    -0.0218     0.9826     -0.0115      0.0112\n",
       "A005.Médio incompleto                         0.0039     0.0059     0.6634     0.5071     -0.0076      0.0154\n",
       "A005.Médio completo                           0.0078     0.0058     1.3401     0.1802     -0.0036      0.0192\n",
       "A005.Superior incompleto                      0.0227     0.0064     3.5244     0.0004      0.0101      0.0353\n",
       "A005.Superior completo                        0.0257     0.0064     4.0281     0.0001      0.0132      0.0382\n",
       "A005.Pós-graduação, mestrado ou doutorado     0.0381     0.0070     5.4565     0.0000      0.0244      0.0517\n",
       "formalidade.Informal                         -0.0089     0.0014    -6.3193     0.0000     -0.0116     -0.0061\n",
       "formalidade.Fora do mercado de trabalho      -0.0274     0.0027    -10.148     0.0000     -0.0326     -0.0221\n",
       "=============================================================================================================\n",
       "\n",
       "F-test for Poolability: 10.225\n",
       "P-value: 0.0000\n",
       "Distribution: F(210869,766560)\n",
       "\n",
       "Included effects: Entity, Time\n",
       "\"\"\""
      ]
     },
     "execution_count": 23,
     "metadata": {},
     "output_type": "execute_result"
    }
   ],
   "source": [
    "f_effects_results.summary"
   ]
  },
  {
   "cell_type": "markdown",
   "metadata": {},
   "source": [
    "---"
   ]
  },
  {
   "cell_type": "markdown",
   "metadata": {},
   "source": [
    "Efeito do 2º choque - Flexibilização"
   ]
  }
 ],
 "metadata": {
  "kernelspec": {
   "display_name": "Python 3",
   "language": "python",
   "name": "python3"
  },
  "language_info": {
   "codemirror_mode": {
    "name": "ipython",
    "version": 3
   },
   "file_extension": ".py",
   "mimetype": "text/x-python",
   "name": "python",
   "nbconvert_exporter": "python",
   "pygments_lexer": "ipython3",
   "version": "3.11.4"
  },
  "orig_nbformat": 4
 },
 "nbformat": 4,
 "nbformat_minor": 2
}
