{
 "cells": [
  {
   "attachments": {},
   "cell_type": "markdown",
   "metadata": {},
   "source": [
    "### Estimação de um Probit sobre o Trabalho Remoto Efetivo\n",
    "\n",
    "Verificar as variáveis que mais afetam o trabalho remoto efetivamente adotado no país.\n",
    "\n",
    "Utilizamos as seguintes variáveis da PNAD Contínua: \n",
    "- a variável V4010, que classifica as diversas ocupações, \n",
    "- a unidade da federação (UF), \n",
    "- gênero (V2007), \n",
    "- raça (V2010), \n",
    "- renda em todos os trabalhos (VD4019), \n",
    "- Setor Público (V4013), \n",
    "- educação (VD3004), \n",
    "- formal/informal (combinação da variável VD4009 com a variável V4019) e \n",
    "- o peso amostral (V1032).\n",
    "\n"
   ]
  },
  {
   "cell_type": "code",
   "execution_count": 2,
   "metadata": {},
   "outputs": [],
   "source": [
    "import pandas as pd\n",
    "import numpy as np"
   ]
  },
  {
   "cell_type": "code",
   "execution_count": 3,
   "metadata": {},
   "outputs": [
    {
     "name": "stdout",
     "output_type": "stream",
     "text": [
      "Importando PNAD COVID 05 2020\n",
      "Importando PNAD COVID 06 2020\n",
      "Importando PNAD COVID 07 2020\n",
      "Importando PNAD COVID 08 2020\n",
      "Importando PNAD COVID 09 2020\n",
      "Importando PNAD COVID 10 2020\n",
      "Importando PNAD COVID 11 2020\n",
      "Fim da importação\n"
     ]
    }
   ],
   "source": [
    "#Importação dos dados da PNAD COVID\n",
    "\n",
    "#determina qual diretório usar para cada sistema operacional.\n",
    "import os\n",
    "if os.name == 'nt': #windows\n",
    "    diretorio = 'C:\\\\Users\\\\est.matheus.brasil\\\\Documents\\\\Microdados PNAD Contínua\\\\feather_covid\\\\'\n",
    "\n",
    "else: #linux(ou mac)\n",
    "    diretorio = '/home/matheus/Microdados PNAD/PNAD_COVID/'\n",
    "\n",
    "#Leitura de todas as bases com as variáveis selecionadas e criação de variáveis dinamicamente.\n",
    "\n",
    "filtro_pnad_covid = ['Ano', 'V1013', 'V1012', 'UF', 'C007C', 'A003', 'A004', 'A005', 'C007D', 'C01012', 'C007', 'V1032']\n",
    "\n",
    "\n",
    "for i in range(5, 12):\n",
    "    if i < 10:\n",
    "        mes = '0' + str(i)\n",
    "    else:\n",
    "        mes = i\n",
    "    print(f'Importando PNAD COVID {mes} 2020')\n",
    "    globals()[f'pnad_covid_{mes}2020'] = pd.read_feather(fr'{diretorio}PNAD_COVID_{mes}2020.feather', columns=filtro_pnad_covid)\n",
    "\n",
    "print('Fim da importação')"
   ]
  },
  {
   "cell_type": "code",
   "execution_count": null,
   "metadata": {},
   "outputs": [],
   "source": [
    "#probit para estimar impacto das características do trabalhador na probabilidade de estar trabalhando em home office\n",
    "\n",
    "#cria um dataframe com todas as bases\n",
    "\n",
    "pnad_covid = pd.concat([pnad_covid_052020, pnad_covid_062020, pnad_covid_072020, pnad_covid_082020, pnad_covid_092020, pnad_covid_102020], ignore_index=True)\n",
    "\n",
    "#cria uma variável binária para indicar se o trabalhador está trabalhando em home office\n",
    "\n"
   ]
  }
 ],
 "metadata": {
  "kernelspec": {
   "display_name": "econometria",
   "language": "python",
   "name": "python3"
  },
  "language_info": {
   "codemirror_mode": {
    "name": "ipython",
    "version": 3
   },
   "file_extension": ".py",
   "mimetype": "text/x-python",
   "name": "python",
   "nbconvert_exporter": "python",
   "pygments_lexer": "ipython3",
   "version": "3.9.12"
  },
  "orig_nbformat": 4
 },
 "nbformat": 4,
 "nbformat_minor": 2
}
