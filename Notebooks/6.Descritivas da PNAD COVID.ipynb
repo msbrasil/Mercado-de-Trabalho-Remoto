{
 "cells": [
  {
   "cell_type": "markdown",
   "metadata": {},
   "source": [
    "## Análise descritiva da PNAD COVID"
   ]
  },
  {
   "cell_type": "code",
   "execution_count": 2,
   "metadata": {},
   "outputs": [],
   "source": [
    "import pandas as pd\n",
    "import numpy as np\n",
    "import matplotlib.pyplot as plt\n",
    "import seaborn as sns"
   ]
  },
  {
   "cell_type": "code",
   "execution_count": 3,
   "metadata": {},
   "outputs": [],
   "source": [
    "covid = pd.read_parquet('../Dados/pnad_covid/pnad_covid_filtrada.parquet')"
   ]
  },
  {
   "cell_type": "markdown",
   "metadata": {},
   "source": [
    "### Variáveis da PNAD Covid-19 utilizadas no estudo:\n",
    "- Gênero (A003)\n",
    "- Cor-raça (A004)\n",
    "- Faixa etária (A002)\n",
    "- Escolaridade (A005)\n",
    "- Região (UF)\n",
    "- Formalidade (C007)\n",
    "- Atividade (C007)\n",
    "- Ocupação (C001, C002, C003)\n",
    "- Trabalho remoto (C001 e C013)\n"
   ]
  },
  {
   "cell_type": "code",
   "execution_count": 13,
   "metadata": {},
   "outputs": [
    {
     "data": {
      "text/plain": [
       "Mes  Ocupado\n",
       "5    Sim        104559\n",
       "     Não        167799\n",
       "6    Sim        118161\n",
       "     Não        179018\n",
       "7    Sim        123239\n",
       "     Não        176294\n",
       "8    Sim        129988\n",
       "     Não        171505\n",
       "9    Sim        133498\n",
       "     Não        169272\n",
       "10   Sim        134187\n",
       "     Não        163821\n",
       "11   Sim        135860\n",
       "     Não        163480\n",
       "Name: Ocupado, dtype: int64"
      ]
     },
     "execution_count": 13,
     "metadata": {},
     "output_type": "execute_result"
    }
   ],
   "source": [
    "covid.groupby(['Mes','Ocupado'])['Ocupado'].count()"
   ]
  },
  {
   "cell_type": "code",
   "execution_count": 4,
   "metadata": {},
   "outputs": [],
   "source": [
    "covid.rename(columns={\n",
    "    'V1013':'Mes',\n",
    "    'A003':'Sexo',\n",
    "    'A004':'Cor',\n",
    "    'A005':'Escolaridade',\n",
    "    'C001':'Ocupado',\n",
    "    'C013':'Trabalho remoto'\n",
    "}, inplace=True\n",
    ")\n",
    "\n",
    "covid['Mes'] = covid['Mes'].astype(int)"
   ]
  },
  {
   "cell_type": "markdown",
   "metadata": {},
   "source": [
    "#### Distribuição do trabalho remoto por características individuais"
   ]
  },
  {
   "cell_type": "markdown",
   "metadata": {},
   "source": [
    "Ocupação"
   ]
  },
  {
   "cell_type": "code",
   "execution_count": 5,
   "metadata": {},
   "outputs": [
    {
     "name": "stdout",
     "output_type": "stream",
     "text": [
      "Total de indivíduos ocupados no mês de referência (Milhões de pessoas)\n"
     ]
    },
    {
     "data": {
      "text/html": [
       "<div>\n",
       "<style scoped>\n",
       "    .dataframe tbody tr th:only-of-type {\n",
       "        vertical-align: middle;\n",
       "    }\n",
       "\n",
       "    .dataframe tbody tr th {\n",
       "        vertical-align: top;\n",
       "    }\n",
       "\n",
       "    .dataframe thead th {\n",
       "        text-align: right;\n",
       "    }\n",
       "</style>\n",
       "<table border=\"1\" class=\"dataframe\">\n",
       "  <thead>\n",
       "    <tr style=\"text-align: right;\">\n",
       "      <th>Mes</th>\n",
       "      <th>5</th>\n",
       "      <th>6</th>\n",
       "      <th>7</th>\n",
       "      <th>8</th>\n",
       "      <th>9</th>\n",
       "      <th>10</th>\n",
       "      <th>11</th>\n",
       "    </tr>\n",
       "    <tr>\n",
       "      <th>Ocupado</th>\n",
       "      <th></th>\n",
       "      <th></th>\n",
       "      <th></th>\n",
       "      <th></th>\n",
       "      <th></th>\n",
       "      <th></th>\n",
       "      <th></th>\n",
       "    </tr>\n",
       "  </thead>\n",
       "  <tbody>\n",
       "    <tr>\n",
       "      <th>Sim</th>\n",
       "      <td>63.780851</td>\n",
       "      <td>67.070105</td>\n",
       "      <td>70.137901</td>\n",
       "      <td>73.840721</td>\n",
       "      <td>75.952550</td>\n",
       "      <td>77.819648</td>\n",
       "      <td>78.675024</td>\n",
       "    </tr>\n",
       "    <tr>\n",
       "      <th>Não</th>\n",
       "      <td>97.561933</td>\n",
       "      <td>94.717452</td>\n",
       "      <td>91.836620</td>\n",
       "      <td>88.385302</td>\n",
       "      <td>86.717227</td>\n",
       "      <td>84.972345</td>\n",
       "      <td>84.421591</td>\n",
       "    </tr>\n",
       "    <tr>\n",
       "      <th>Total (PEA)</th>\n",
       "      <td>161.342784</td>\n",
       "      <td>161.787557</td>\n",
       "      <td>161.974521</td>\n",
       "      <td>162.226022</td>\n",
       "      <td>162.669777</td>\n",
       "      <td>162.791993</td>\n",
       "      <td>163.096615</td>\n",
       "    </tr>\n",
       "  </tbody>\n",
       "</table>\n",
       "</div>"
      ],
      "text/plain": [
       "Mes                   5           6           7           8           9  \\\n",
       "Ocupado                                                                   \n",
       "Sim           63.780851   67.070105   70.137901   73.840721   75.952550   \n",
       "Não           97.561933   94.717452   91.836620   88.385302   86.717227   \n",
       "Total (PEA)  161.342784  161.787557  161.974521  162.226022  162.669777   \n",
       "\n",
       "Mes                  10          11  \n",
       "Ocupado                              \n",
       "Sim           77.819648   78.675024  \n",
       "Não           84.972345   84.421591  \n",
       "Total (PEA)  162.791993  163.096615  "
      ]
     },
     "execution_count": 5,
     "metadata": {},
     "output_type": "execute_result"
    }
   ],
   "source": [
    "print('Total de indivíduos ocupados no mês de referência (Milhões de pessoas)')\n",
    "\n",
    "pd.DataFrame(\n",
    "    pd.crosstab(\n",
    "        covid['Ocupado'], \n",
    "        covid['Mes'], \n",
    "        values=covid['V1032'], \n",
    "        aggfunc='sum',\n",
    "        margins=True,\n",
    "        margins_name='Total (PEA)'\n",
    "    )/1000000 #Divisão por 1 milhão para facilitar a visualização\n",
    ").drop('Total (PEA)', axis=1)"
   ]
  },
  {
   "cell_type": "markdown",
   "metadata": {},
   "source": [
    "Trabalho remoto por genêro ao longo dos meses"
   ]
  },
  {
   "cell_type": "code",
   "execution_count": 9,
   "metadata": {},
   "outputs": [
    {
     "name": "stdout",
     "output_type": "stream",
     "text": [
      "Total de indivíduos que realizaram ou não trabalho remoto segmentado por genêro (Milhões de pessoas)\n"
     ]
    },
    {
     "data": {
      "text/html": [
       "<div>\n",
       "<style scoped>\n",
       "    .dataframe tbody tr th:only-of-type {\n",
       "        vertical-align: middle;\n",
       "    }\n",
       "\n",
       "    .dataframe tbody tr th {\n",
       "        vertical-align: top;\n",
       "    }\n",
       "\n",
       "    .dataframe thead th {\n",
       "        text-align: right;\n",
       "    }\n",
       "</style>\n",
       "<table border=\"1\" class=\"dataframe\">\n",
       "  <thead>\n",
       "    <tr style=\"text-align: right;\">\n",
       "      <th></th>\n",
       "      <th>Mes</th>\n",
       "      <th>5</th>\n",
       "      <th>6</th>\n",
       "      <th>7</th>\n",
       "      <th>8</th>\n",
       "      <th>9</th>\n",
       "      <th>10</th>\n",
       "      <th>11</th>\n",
       "    </tr>\n",
       "    <tr>\n",
       "      <th>Sexo</th>\n",
       "      <th>Trabalho remoto</th>\n",
       "      <th></th>\n",
       "      <th></th>\n",
       "      <th></th>\n",
       "      <th></th>\n",
       "      <th></th>\n",
       "      <th></th>\n",
       "      <th></th>\n",
       "    </tr>\n",
       "  </thead>\n",
       "  <tbody>\n",
       "    <tr>\n",
       "      <th rowspan=\"2\" valign=\"top\">Homem</th>\n",
       "      <th>Sim</th>\n",
       "      <td>3.902975</td>\n",
       "      <td>3.755761</td>\n",
       "      <td>3.619534</td>\n",
       "      <td>3.512866</td>\n",
       "      <td>3.370069</td>\n",
       "      <td>3.179638</td>\n",
       "      <td>3.003605</td>\n",
       "    </tr>\n",
       "    <tr>\n",
       "      <th>Não</th>\n",
       "      <td>2.118613</td>\n",
       "      <td>2.017542</td>\n",
       "      <td>1.982421</td>\n",
       "      <td>2.005666</td>\n",
       "      <td>2.058747</td>\n",
       "      <td>2.065818</td>\n",
       "      <td>2.046403</td>\n",
       "    </tr>\n",
       "    <tr>\n",
       "      <th rowspan=\"2\" valign=\"top\">Mulher</th>\n",
       "      <th>Sim</th>\n",
       "      <td>4.500181</td>\n",
       "      <td>4.657520</td>\n",
       "      <td>4.530713</td>\n",
       "      <td>4.606107</td>\n",
       "      <td>4.454260</td>\n",
       "      <td>4.182982</td>\n",
       "      <td>4.102772</td>\n",
       "    </tr>\n",
       "    <tr>\n",
       "      <th>Não</th>\n",
       "      <td>0.719061</td>\n",
       "      <td>0.636421</td>\n",
       "      <td>0.560021</td>\n",
       "      <td>0.538248</td>\n",
       "      <td>0.519028</td>\n",
       "      <td>0.527442</td>\n",
       "      <td>0.524657</td>\n",
       "    </tr>\n",
       "    <tr>\n",
       "      <th>Total</th>\n",
       "      <th></th>\n",
       "      <td>11.240829</td>\n",
       "      <td>11.067245</td>\n",
       "      <td>10.692689</td>\n",
       "      <td>10.662888</td>\n",
       "      <td>10.402103</td>\n",
       "      <td>9.955881</td>\n",
       "      <td>9.677438</td>\n",
       "    </tr>\n",
       "  </tbody>\n",
       "</table>\n",
       "</div>"
      ],
      "text/plain": [
       "Mes                             5          6          7          8          9  \\\n",
       "Sexo   Trabalho remoto                                                          \n",
       "Homem  Sim               3.902975   3.755761   3.619534   3.512866   3.370069   \n",
       "       Não               2.118613   2.017542   1.982421   2.005666   2.058747   \n",
       "Mulher Sim               4.500181   4.657520   4.530713   4.606107   4.454260   \n",
       "       Não               0.719061   0.636421   0.560021   0.538248   0.519028   \n",
       "Total                   11.240829  11.067245  10.692689  10.662888  10.402103   \n",
       "\n",
       "Mes                           10        11  \n",
       "Sexo   Trabalho remoto                      \n",
       "Homem  Sim              3.179638  3.003605  \n",
       "       Não              2.065818  2.046403  \n",
       "Mulher Sim              4.182982  4.102772  \n",
       "       Não              0.527442  0.524657  \n",
       "Total                   9.955881  9.677438  "
      ]
     },
     "execution_count": 9,
     "metadata": {},
     "output_type": "execute_result"
    }
   ],
   "source": [
    "print('Total de indivíduos que realizaram ou não trabalho remoto segmentado por genêro (Milhões de pessoas)')\n",
    "\n",
    "pd.DataFrame(\n",
    "    pd.crosstab(\n",
    "        [covid['Sexo'], covid['Trabalho remoto']], \n",
    "        covid['Mes'], \n",
    "        values=covid['V1032'], \n",
    "        aggfunc='sum',\n",
    "        margins=True,\n",
    "        margins_name='Total'\n",
    "    )/1000000\n",
    ").drop('Total', axis=1)"
   ]
  },
  {
   "cell_type": "code",
   "execution_count": null,
   "metadata": {},
   "outputs": [],
   "source": []
  }
 ],
 "metadata": {
  "kernelspec": {
   "display_name": "monografia",
   "language": "python",
   "name": "python3"
  },
  "language_info": {
   "codemirror_mode": {
    "name": "ipython",
    "version": 3
   },
   "file_extension": ".py",
   "mimetype": "text/x-python",
   "name": "python",
   "nbconvert_exporter": "python",
   "pygments_lexer": "ipython3",
   "version": "3.11.4"
  },
  "orig_nbformat": 4
 },
 "nbformat": 4,
 "nbformat_minor": 2
}
