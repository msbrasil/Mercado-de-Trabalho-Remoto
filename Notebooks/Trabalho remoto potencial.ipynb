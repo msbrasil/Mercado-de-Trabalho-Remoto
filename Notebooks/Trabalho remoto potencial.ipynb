{
 "cells": [
  {
   "attachments": {},
   "cell_type": "markdown",
   "metadata": {},
   "source": [
    "# Estimação do potencial de trabalho remoto no Brasil em 2019 \n",
    "\n",
    "A estimação será feita usando, primeiramente, a base da PNAD Contínua suplementar de 2019 e, depois, a PNAD COVID\n",
    "\n",
    "Foi adotado a hipótese de que a perda de potencial de trabalho remoto devido à falta de infraestrutura é a mesma na PNAD-COVID que na PNAD Contínua de 2019.\n",
    "\n",
    "Trabalhar com as seguintes variáveis da PNAD Contínua: \n",
    "- V4010, que classifica as diversas ocupações, \n",
    "- a unidade da federação (UF), \n",
    "- gênero (V2007), \n",
    "- raça (V2010), \n",
    "- renda em todos os trabalhos (VD4019), \n",
    "- Setor Público (V4013, Código da principal atividade desse negócio/empresa),\n",
    "- educação (VD3004), \n",
    "- formal/informal (combinação da variável VD4009 com a variável V4019) e \n",
    "- o peso amostral (V1032).\n",
    "\n",
    "Da mesma forma, os equivalentes para a PNAD-COVID são:\n",
    "- V1013, mês da pesquisa,\n",
    "- V1012, semana da pesquisa,\n",
    "- UF, unidade da federação,\n",
    "- C007C, trabalho, cargo ou ocupação,\n",
    "- A003, gênero,\n",
    "- A004, raça,\n",
    "- A005, escolaridade,\n",
    "- C007D, setor público,\n",
    "- C01012, renda, \n",
    "- C007, formal informal e\n",
    "- o peso amostral, V1032.\n",
    "\n",
    "Não esquecer de filtrar a base para os registros que a 'dummy_infra' igual à 1."
   ]
  },
  {
   "cell_type": "code",
   "execution_count": 2,
   "metadata": {},
   "outputs": [],
   "source": [
    "#pacotes \n",
    "import pandas as pd\n",
    "import numpy as np\n",
    "import datetime as dt"
   ]
  },
  {
   "cell_type": "code",
   "execution_count": 24,
   "metadata": {},
   "outputs": [],
   "source": [
    "#Importação dos dados da PNAD Contínua 2019 (suplementar)\n",
    "\n",
    "#determina qual diretório usar para cada sistema operacional.\n",
    "import os\n",
    "if os.name == 'nt': #windows\n",
    "    diretorio = 'C:\\\\Users\\\\est.matheus.brasil\\\\Documents\\\\Microdados PNAD Contínua\\\\suplementar\\\\'\n",
    "\n",
    "else: #linux(ou mac)\n",
    "    diretorio = '/home/matheus/Microdados PNAD/feather/'\n",
    "\n",
    "filtro_pnadc = ['Trimestre','V4010', 'UF', 'V2007', 'V2010', 'VD4019', 'V4013', 'VD3004', 'VD4009', 'V4019', 'V1032', 'dummy_infra']\n",
    "\n",
    "pnadc_19 = pd.read_feather(fr'{diretorio}PNADC_2019_editado.feather', columns=filtro_pnadc)"
   ]
  },
  {
   "cell_type": "code",
   "execution_count": 25,
   "metadata": {},
   "outputs": [],
   "source": [
    "#Importação dos códigos de ocupação traduzidos\n",
    "\n",
    "ocupacoes = pd.read_excel('../Anexos/ocupacoes_traduzidas.xlsx')"
   ]
  },
  {
   "cell_type": "code",
   "execution_count": 2,
   "metadata": {},
   "outputs": [
    {
     "name": "stdout",
     "output_type": "stream",
     "text": [
      "Importando PNAD COVID 05 2020\n",
      "Importando PNAD COVID 06 2020\n",
      "Importando PNAD COVID 07 2020\n",
      "Importando PNAD COVID 08 2020\n",
      "Importando PNAD COVID 09 2020\n",
      "Importando PNAD COVID 10 2020\n",
      "Importando PNAD COVID 11 2020\n",
      "Fim da importação\n"
     ]
    }
   ],
   "source": [
    "#Importação dos dados da PNAD COVID\n",
    "\n",
    "#determina qual diretório usar para cada sistema operacional.\n",
    "import os\n",
    "if os.name == 'nt': #windows\n",
    "    diretorio = 'C:\\\\Users\\\\est.matheus.brasil\\\\Documents\\\\Microdados PNAD Contínua\\\\feather_covid\\\\'\n",
    "\n",
    "else: #linux(ou mac)\n",
    "    diretorio = '/home/matheus/Microdados PNAD/PNAD_COVID/'\n",
    "\n",
    "#Leitura de todas as bases com as variáveis selecionadas e criação de variáveis dinamicamente.\n",
    "\n",
    "filtro_pnad_covid = ['Ano', 'V1013', 'V1012', 'UF', 'C007C', 'A003', 'A004', 'A005', 'C007D', 'C01012', 'C007', 'V1032']\n",
    "\n",
    "for i in range(5, 12):\n",
    "    if i < 10:\n",
    "        mes = '0' + str(i)\n",
    "    else:\n",
    "        mes = i\n",
    "    print(f'Importando PNAD COVID {mes} 2020')\n",
    "    globals()[f'pnad_covid_{mes}2020'] = pd.read_feather(fr'{diretorio}PNAD_COVID_{mes}2020.feather', columns=filtro_pnad_covid)\n",
    "\n",
    "print('Fim da importação')"
   ]
  },
  {
   "attachments": {},
   "cell_type": "markdown",
   "metadata": {},
   "source": [
    "### Junção dos códigos de ocupação com os dados da PNAD Contínua 2019"
   ]
  },
  {
   "cell_type": "code",
   "execution_count": 26,
   "metadata": {},
   "outputs": [],
   "source": [
    "#Coluna com o código da ocupação Major das ocupações traduzidas\n",
    "pnadc_19['COD_OCUP_MAJ'] = pnadc_19['V4010'].astype(str).str[:1]"
   ]
  },
  {
   "cell_type": "code",
   "execution_count": 27,
   "metadata": {},
   "outputs": [],
   "source": [
    "ocupacoes['Cod'] = ocupacoes['Cod'].astype(str)"
   ]
  },
  {
   "cell_type": "code",
   "execution_count": 28,
   "metadata": {},
   "outputs": [],
   "source": [
    "pnadc_19_remoto = pd.merge(pnadc_19, ocupacoes, left_on='COD_OCUP_MAJ', right_on='Cod', how='left')"
   ]
  },
  {
   "cell_type": "code",
   "execution_count": 29,
   "metadata": {},
   "outputs": [
    {
     "data": {
      "text/html": [
       "<div>\n",
       "<style scoped>\n",
       "    .dataframe tbody tr th:only-of-type {\n",
       "        vertical-align: middle;\n",
       "    }\n",
       "\n",
       "    .dataframe tbody tr th {\n",
       "        vertical-align: top;\n",
       "    }\n",
       "\n",
       "    .dataframe thead th {\n",
       "        text-align: right;\n",
       "    }\n",
       "</style>\n",
       "<table border=\"1\" class=\"dataframe\">\n",
       "  <thead>\n",
       "    <tr style=\"text-align: right;\">\n",
       "      <th></th>\n",
       "      <th>Trimestre</th>\n",
       "      <th>V4010</th>\n",
       "      <th>UF</th>\n",
       "      <th>V2007</th>\n",
       "      <th>V2010</th>\n",
       "      <th>VD4019</th>\n",
       "      <th>V4013</th>\n",
       "      <th>VD3004</th>\n",
       "      <th>VD4009</th>\n",
       "      <th>V4019</th>\n",
       "      <th>V1032</th>\n",
       "      <th>dummy_infra</th>\n",
       "      <th>COD_OCUP_MAJ</th>\n",
       "      <th>code_ONET</th>\n",
       "      <th>Title_ONET</th>\n",
       "      <th>teleworkable</th>\n",
       "      <th>Cod</th>\n",
       "      <th>Titulação</th>\n",
       "    </tr>\n",
       "  </thead>\n",
       "  <tbody>\n",
       "    <tr>\n",
       "      <th>0</th>\n",
       "      <td>1</td>\n",
       "      <td>3221</td>\n",
       "      <td>Rondônia</td>\n",
       "      <td>Mulher</td>\n",
       "      <td>Parda</td>\n",
       "      <td>1583.0</td>\n",
       "      <td>86001</td>\n",
       "      <td>Superior completo</td>\n",
       "      <td>Empregado no setor privado com carteira de tra...</td>\n",
       "      <td>NaN</td>\n",
       "      <td>149.43857</td>\n",
       "      <td>0</td>\n",
       "      <td>3</td>\n",
       "      <td>11-9141</td>\n",
       "      <td>Property, Real Estate, and Community Associati...</td>\n",
       "      <td>1.0</td>\n",
       "      <td>3</td>\n",
       "      <td>TÉCNICOS E PROFISSIONAIS DE NÍVEL MÉDIO</td>\n",
       "    </tr>\n",
       "    <tr>\n",
       "      <th>1</th>\n",
       "      <td>1</td>\n",
       "      <td>3221</td>\n",
       "      <td>Rondônia</td>\n",
       "      <td>Mulher</td>\n",
       "      <td>Parda</td>\n",
       "      <td>1583.0</td>\n",
       "      <td>86001</td>\n",
       "      <td>Superior completo</td>\n",
       "      <td>Empregado no setor privado com carteira de tra...</td>\n",
       "      <td>NaN</td>\n",
       "      <td>149.43857</td>\n",
       "      <td>0</td>\n",
       "      <td>3</td>\n",
       "      <td>13-1021</td>\n",
       "      <td>Buyers and Purchasing Agents, Farm Products</td>\n",
       "      <td>1.0</td>\n",
       "      <td>3</td>\n",
       "      <td>TÉCNICOS E PROFISSIONAIS DE NÍVEL MÉDIO</td>\n",
       "    </tr>\n",
       "  </tbody>\n",
       "</table>\n",
       "</div>"
      ],
      "text/plain": [
       "  Trimestre V4010        UF   V2007  V2010  VD4019  V4013             VD3004  \\\n",
       "0         1  3221  Rondônia  Mulher  Parda  1583.0  86001  Superior completo   \n",
       "1         1  3221  Rondônia  Mulher  Parda  1583.0  86001  Superior completo   \n",
       "\n",
       "                                              VD4009 V4019      V1032  \\\n",
       "0  Empregado no setor privado com carteira de tra...   NaN  149.43857   \n",
       "1  Empregado no setor privado com carteira de tra...   NaN  149.43857   \n",
       "\n",
       "   dummy_infra COD_OCUP_MAJ code_ONET  \\\n",
       "0            0            3   11-9141   \n",
       "1            0            3   13-1021   \n",
       "\n",
       "                                          Title_ONET  teleworkable Cod  \\\n",
       "0  Property, Real Estate, and Community Associati...           1.0   3   \n",
       "1        Buyers and Purchasing Agents, Farm Products           1.0   3   \n",
       "\n",
       "                                 Titulação  \n",
       "0  TÉCNICOS E PROFISSIONAIS DE NÍVEL MÉDIO  \n",
       "1  TÉCNICOS E PROFISSIONAIS DE NÍVEL MÉDIO  "
      ]
     },
     "execution_count": 29,
     "metadata": {},
     "output_type": "execute_result"
    }
   ],
   "source": [
    "pnadc_19_remoto.head(2)"
   ]
  },
  {
   "attachments": {},
   "cell_type": "markdown",
   "metadata": {},
   "source": [
    "Até aqui, a PNAD Contínua com a dummy de infraestrutura e a base de ocupações traduzidas da O*NET para COD foram e unidas no dataframe <code>pnadc_19_remoto</code>."
   ]
  },
  {
   "attachments": {},
   "cell_type": "markdown",
   "metadata": {},
   "source": [
    "### Classificação das ocupações na PNAD COVID e junção com a base de ocupações traduzidas da O*NET para COD"
   ]
  },
  {
   "cell_type": "code",
   "execution_count": 6,
   "metadata": {},
   "outputs": [],
   "source": [
    "#Dicionário com ocupaçoes da pnad covid classificada pelo maior grupo da de ocupação da COD\n",
    "dict_ocupacoes_pnad_covid = {\n",
    "    'Técnico, profissional da saúde de nível médio':3,\n",
    "    'Secretária, recepcionista':4,\n",
    "    'Vendedor ambulante (feirante, camelô, comerciante de rua, quiosque)':9,\n",
    "    'Professor da educação infantil, de ensino fundamental, médio ou superior,':2,\n",
    "    'Pedreiro, servente de pedreiro, pintor, eletricista, marceneiro':7,\n",
    "    'Outros':0, \n",
    "    'Porteiro, zelador':5, \n",
    "    'Padeiro, açougueiro e doceiro':7,\n",
    "    'Motorista de caminhão (caminhoneiro),':8,\n",
    "    'Artesão, costureiro e sapateiro':7,\n",
    "    'Outra profissão de nível superior (advogado, engenheiro, contador, jornalista etc.)':2,\n",
    "    'Segurança, vigilante, outro trabalhador dos serviços de proteção':5,\n",
    "    'Faxineiro, auxiliar de limpeza etc. (em empresa pública ou privada),':9,\n",
    "    'Diretor, gerente, cargo político ou comissionado':1,\n",
    "    'Balconista, vendedor de loja':5,\n",
    "    'Operador de máquinas, montador na indústria;':8,\n",
    "    'Médico, enfermeiro, profissionais de saúde de nível superior':2,\n",
    "    'Cabeleireiro, manicure e afins':5,\n",
    "    'Auxiliar de escritório, escriturário':4,\n",
    "    'Mecânico de veículos, máquinas industriais etc.':7,\n",
    "    'Motorista (de aplicativo, de taxi, de van, de mototáxi, de ônibus)':8,\n",
    "    'Cozinheiro e garçom (de restaurantes, empresas)':5,\n",
    "    'Comerciante (dono do bar, da loja etc.)':5, \n",
    "    'Policial civil':5,\n",
    "    'Empregado doméstico, diarista, cozinheiro (em domicílios particulares),':9,\n",
    "    'Vendedor a domicílio, representante de vendas, vendedor de catálogo (Avon, Natura etc.)':5,\n",
    "    'Outro técnico ou profissional de nível médio':3,\n",
    "    'Agricultor, criador de animais, pescador, silvicultor e jardineiro':6,\n",
    "    'Entregador de mercadorias (de restaurante, de farmácia, de loja, Uber Eats, IFood, Rappy etc.)':9,\n",
    "    'Auxiliar de produção, de carga e descarga;':9,\n",
    "    'Pedagogo, professor de idiomas, música, arte e reforço escolar':2,\n",
    "    'Motoboy':9,\n",
    "    'Artista, religioso (padre, pastor etc.)':2,\n",
    "    'Operador de Telemarketing':4,\n",
    "    'Auxiliar da agropecuária (colhedor de frutas, boia fria, etc.)':9,\n",
    "    'Cuidador de crianças, doentes ou idosos':5,\n",
    "    'Entregador de mercadorias (de restaurante, de farmácia, de loja, Uber Esta, Iodo, Rapa etc.)':9\n",
    "    }"
   ]
  },
  {
   "cell_type": "code",
   "execution_count": 11,
   "metadata": {},
   "outputs": [
    {
     "name": "stdout",
     "output_type": "stream",
     "text": [
      "Classificando PNAD COVID 05 2020\n",
      "Classificando PNAD COVID 06 2020\n",
      "Classificando PNAD COVID 07 2020\n",
      "Classificando PNAD COVID 08 2020\n",
      "Classificando PNAD COVID 09 2020\n",
      "Classificando PNAD COVID 10 2020\n",
      "Classificando PNAD COVID 11 2020\n",
      "Fim da classificação\n"
     ]
    }
   ],
   "source": [
    "for i in range(5, 12):\n",
    "    if i < 10:\n",
    "        mes = '0' + str(i)\n",
    "    else:\n",
    "        mes = i\n",
    "    print(f'Classificando PNAD COVID {mes} 2020')\n",
    "    globals()[f'pnad_covid_{mes}2020']['COD_OCUP_MAJ'] = globals()[f'pnad_covid_{mes}2020']['C007C'].map(dict_ocupacoes_pnad_covid)\n",
    "    globals()[f'pnad_covid_{mes}2020']['COD_OCUP_MAJ'].fillna(999, inplace=True)\n",
    "    globals()[f'pnad_covid_{mes}2020']['COD_OCUP_MAJ'] = globals()[f'pnad_covid_{mes}2020']['COD_OCUP_MAJ'].astype(int)\n",
    "print('Fim da classificação')"
   ]
  },
  {
   "cell_type": "code",
   "execution_count": 25,
   "metadata": {},
   "outputs": [],
   "source": [
    "# #Nova coluna com o código da ocupação Major das ocupações traduzidas\n",
    "# pnad_covid['COD_OCUP_MAJ'] = pnad_covid['C007C'].map(dict_ocupacoes_pnad_covid)\n",
    "# #converter para inteiro\n",
    "# pnad_covid['COD_OCUP_MAJ'].fillna(999, inplace=True)\n",
    "# pnad_covid['COD_OCUP_MAJ'] = pnad_covid['COD_OCUP_MAJ'].astype(int)\n"
   ]
  },
  {
   "cell_type": "code",
   "execution_count": 10,
   "metadata": {},
   "outputs": [],
   "source": [
    "ocupacoes['Cod'] = ocupacoes['Cod'].astype(int)"
   ]
  },
  {
   "cell_type": "code",
   "execution_count": 12,
   "metadata": {},
   "outputs": [
    {
     "name": "stdout",
     "output_type": "stream",
     "text": [
      "Merge de ocupações com PNAD COVID 05 2020\n",
      "Merge de ocupações com PNAD COVID 06 2020\n",
      "Merge de ocupações com PNAD COVID 07 2020\n",
      "Merge de ocupações com PNAD COVID 08 2020\n",
      "Merge de ocupações com PNAD COVID 09 2020\n",
      "Merge de ocupações com PNAD COVID 10 2020\n",
      "Merge de ocupações com PNAD COVID 11 2020\n",
      "Fim do merge\n"
     ]
    }
   ],
   "source": [
    "for i in range(5, 12):\n",
    "    if i < 10:\n",
    "        mes = '0' + str(i)\n",
    "    else:\n",
    "        mes = i\n",
    "    print(f'Merge de ocupações com PNAD COVID {mes} 2020')\n",
    "    globals()[f'pnad_covid_{mes}2020'] = pd.merge(globals()[f'pnad_covid_{mes}2020'], ocupacoes, left_on='COD_OCUP_MAJ', right_on='Cod', how='left')\n",
    "print('Fim do merge')"
   ]
  },
  {
   "cell_type": "code",
   "execution_count": 27,
   "metadata": {},
   "outputs": [],
   "source": [
    "#pnad_covid_remoto = pd.merge(pnad_covid, ocupacoes, left_on='COD_OCUP_MAJ', right_on='Cod', how='left')"
   ]
  },
  {
   "cell_type": "code",
   "execution_count": 16,
   "metadata": {},
   "outputs": [
    {
     "name": "stdout",
     "output_type": "stream",
     "text": [
      "Criando PNAD COVID 05 2020 classificada\n",
      "Criando PNAD COVID 06 2020 classificada\n",
      "Criando PNAD COVID 07 2020 classificada\n",
      "Criando PNAD COVID 08 2020 classificada\n",
      "Criando PNAD COVID 09 2020 classificada\n",
      "Criando PNAD COVID 10 2020 classificada\n",
      "Criando PNAD COVID 11 2020 classificada\n",
      "Fim da criação\n"
     ]
    }
   ],
   "source": [
    "# Criação dos arquivos .feather para cada mês da PNAD COVID classificados\n",
    "# for i in range(5, 12):\n",
    "#     if i < 10:\n",
    "#         mes = '0' + str(i)\n",
    "#     else:\n",
    "#         mes = i\n",
    "#     print(f'Criando PNAD COVID {mes} 2020 classificada')\n",
    "#     globals()[f'pnad_covid_{mes}2020'].to_feather(f'C:\\\\Users\\\\est.matheus.brasil\\\\Documents\\\\Microdados PNAD Contínua\\\\suplementar\\\\pnad_covid_{mes}2020_classificada.feather')\n",
    "# print('Fim da criação')"
   ]
  },
  {
   "attachments": {},
   "cell_type": "markdown",
   "metadata": {},
   "source": [
    "### Ajuste do trabalho remoto potencial \n",
    "\n",
    "O ajuste deve ser realizada através da seguinte equação:\n",
    "\n",
    "$POT^K_{PNAD-COVID-INFRA} = POT^K_{PNAD-COVID} \\times \\frac{POT^K_{PNAD-INFRA}}{POT^K_{PNAD}}$\n",
    "\n",
    "Em que:\n",
    "\n",
    "- $POT^K_{PNAD-COVID-INFRA}$ é o trabalho remoto potencial da PNAD-COVID ajustado pela infraestrutura,\n",
    "\n",
    "- $POT^K_{PNAD-COVID}$ é o potencial de trabalho remoto da PNAD-COVID sem o ajuste da infraestrutura,\n",
    "\n",
    "- $POT^K_{PNAD-INFRA}$ é o potencial de trabalho remoto da PNAD Contínua de 2019 com ajuste de infraestrutura e \n",
    "\n",
    "- $POT^K_{PNAD}$ é o potencial de trabalho remoto calculado com base na PNAD Contínua de 2019 sem o ajuste de infraestrutura.\n"
   ]
  },
  {
   "cell_type": "code",
   "execution_count": 49,
   "metadata": {},
   "outputs": [],
   "source": [
    "pot_pnad_infra = pnadc_19_remoto[(pnadc_19_remoto['dummy_infra'] == 1)&(pnadc_19_remoto['teleworkable'] == 1)].groupby(['Titulação'])[['Titulação']].count().sort_index()"
   ]
  },
  {
   "cell_type": "code",
   "execution_count": 51,
   "metadata": {},
   "outputs": [],
   "source": [
    "pot_pnad = pnadc_19_remoto[(pnadc_19_remoto['teleworkable'] == 1)].groupby(['Titulação'])[['Titulação']].count().sort_index()"
   ]
  },
  {
   "cell_type": "code",
   "execution_count": 5,
   "metadata": {},
   "outputs": [
    {
     "name": "stdout",
     "output_type": "stream",
     "text": [
      "Importando PNAD COVID 05 2020\n",
      "Importando PNAD COVID 06 2020\n",
      "Importando PNAD COVID 07 2020\n",
      "Importando PNAD COVID 08 2020\n",
      "Importando PNAD COVID 09 2020\n",
      "Importando PNAD COVID 10 2020\n",
      "Importando PNAD COVID 11 2020\n",
      "Fim da importação\n"
     ]
    }
   ],
   "source": [
    "#Importação dos dados da PNAD COVID\n",
    "\n",
    "#determina qual diretório usar para cada sistema operacional.\n",
    "import os\n",
    "if os.name == 'nt': #windows\n",
    "    diretorio = 'C:\\\\Users\\\\est.matheus.brasil\\\\Documents\\\\Microdados PNAD Contínua\\\\feather_covid\\\\classificado\\\\'\n",
    "\n",
    "else: #linux(ou mac)\n",
    "    diretorio = '/home/matheus/Microdados PNAD/PNAD_COVID/'\n",
    "\n",
    "#Leitura de todas as bases com as variáveis selecionadas e criação de variáveis dinamicamente.\n",
    "\n",
    "filtro_pnad_covid = ['Ano', 'V1013', 'Titulação']\n",
    "\n",
    "for i in range(5, 12):\n",
    "    if i < 10:\n",
    "        mes = '0' + str(i)\n",
    "    else:\n",
    "        mes = i\n",
    "    print(f'Importando PNAD COVID {mes} 2020')\n",
    "    globals()[f'pnad_covid_{mes}2020'] = pd.read_feather(fr'{diretorio}pnad_covid_{mes}2020_classificada.feather', columns=filtro_pnad_covid)\n",
    "\n",
    "print('Fim da importação')"
   ]
  },
  {
   "cell_type": "code",
   "execution_count": 6,
   "metadata": {},
   "outputs": [],
   "source": [
    "pnad_covid = pd.concat([\n",
    "    pnad_covid_052020 ,#[(pnad_covid_052020['COD_OCUP_MAJ'] == 0)&(pnad_covid_052020['teleworkable'] == 1)] \n",
    "    pnad_covid_062020 ,#[(pnad_covid_062020['COD_OCUP_MAJ'] == 0)&(pnad_covid_062020['teleworkable'] == 1)] \n",
    "    pnad_covid_072020 ,#[(pnad_covid_072020['COD_OCUP_MAJ'] == 0)&(pnad_covid_072020['teleworkable'] == 1)] \n",
    "    pnad_covid_082020 ,#[(pnad_covid_082020['COD_OCUP_MAJ'] == 0)&(pnad_covid_082020['teleworkable'] == 1)] \n",
    "    pnad_covid_092020 ,#[(pnad_covid_092020['COD_OCUP_MAJ'] == 0)&(pnad_covid_092020['teleworkable'] == 1)] \n",
    "    pnad_covid_102020 ,#[(pnad_covid_102020['COD_OCUP_MAJ'] == 0)&(pnad_covid_102020['teleworkable'] == 1)] \n",
    "    pnad_covid_112020  #[(pnad_covid_112020['COD_OCUP_MAJ'] == 0)&(pnad_covid_112020['teleworkable'] == 1)]    \n",
    "    ])"
   ]
  },
  {
   "cell_type": "code",
   "execution_count": 10,
   "metadata": {},
   "outputs": [],
   "source": [
    "pnad_covid_total = pnad_covid.groupby(['Titulação'])[['Titulação']].count().sort_index()"
   ]
  },
  {
   "cell_type": "code",
   "execution_count": 13,
   "metadata": {},
   "outputs": [],
   "source": [
    "pot_pnad_covid = pd.read_excel('..\\\\Anexos\\\\pot_pnad_covid.xlsx')\n",
    "pot_pnad_infra = pd.read_excel('..\\\\Anexos\\\\pot_pnad_infra.xlsx')\n",
    "pot_pnad = pd.read_excel('..\\\\Anexos\\\\pot_pnad.xlsx')"
   ]
  },
  {
   "cell_type": "code",
   "execution_count": 20,
   "metadata": {},
   "outputs": [],
   "source": [
    "pot_pnad_covid.set_index('Titulação', inplace=True)\n",
    "pot_pnad_infra.set_index('Titulação', inplace=True)\n",
    "pot_pnad.set_index('Titulação', inplace=True)"
   ]
  },
  {
   "cell_type": "code",
   "execution_count": 21,
   "metadata": {},
   "outputs": [],
   "source": [
    "pot_pnad_covid.rename(columns={'Titulação.1':'Titulação'}, inplace=True)\n",
    "pot_pnad_infra.rename(columns={'Titulação.1':'Titulação'}, inplace=True)\n",
    "pot_pnad.rename(columns={'Titulação.1':'Titulação'}, inplace=True)"
   ]
  }
 ],
 "metadata": {
  "kernelspec": {
   "display_name": "boletim",
   "language": "python",
   "name": "python3"
  },
  "language_info": {
   "codemirror_mode": {
    "name": "ipython",
    "version": 3
   },
   "file_extension": ".py",
   "mimetype": "text/x-python",
   "name": "python",
   "nbconvert_exporter": "python",
   "pygments_lexer": "ipython3",
   "version": "3.10.4"
  },
  "orig_nbformat": 4
 },
 "nbformat": 4,
 "nbformat_minor": 2
}
