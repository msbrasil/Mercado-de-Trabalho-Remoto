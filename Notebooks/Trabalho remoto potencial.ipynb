{
 "cells": [
  {
   "attachments": {},
   "cell_type": "markdown",
   "metadata": {},
   "source": [
    "# Estimação do potencial de trabalho remoto no Brasil em 2019 \n",
    "\n",
    "A estimação será feita usando, primeiramente, a base da PNAD Contínua suplementar de 2019 e, depois, a PNAD COVID\n",
    "\n",
    "Foi adotado a hipótese de que a perda de potencial de trabalho remoto devido à falta de infraestrutura é a mesma na PNAD-COVID que na PNAD Contínua de 2019.\n",
    "\n",
    "Trabalhar com as seguintes variáveis da PNAD Contínua: \n",
    "- V4010, que classifica as diversas ocupações, \n",
    "- a unidade da federação (UF), \n",
    "- gênero (V2007), \n",
    "- raça (V2010), \n",
    "- renda em todos os trabalhos (VD4019), \n",
    "- Setor Público (V4013), \n",
    "- educação (VD3004), \n",
    "- formal/informal (combinação da variável VD4009 com a variável V4019) e \n",
    "- o peso amostral (V1032).\n",
    "\n",
    "Não esquecer de filtrar a base para os registros que a 'dummy_infra' igual à 1.\n",
    "\n"
   ]
  },
  {
   "cell_type": "code",
   "execution_count": 52,
   "metadata": {},
   "outputs": [],
   "source": [
    "#pacotes \n",
    "import pandas as pd\n",
    "import numpy as np\n",
    "import datetime as dt"
   ]
  },
  {
   "cell_type": "code",
   "execution_count": 53,
   "metadata": {},
   "outputs": [],
   "source": [
    "#Importação dos dados da PNAD Contínua 2019 (suplementar)\n",
    "\n",
    "#determina qual diretório usar para cada sistema operacional.\n",
    "import os\n",
    "if os.name == 'nt': #windows\n",
    "    diretorio = 'C:\\\\Users\\\\est.matheus.brasil\\\\Documents\\\\Microdados PNAD Contínua\\\\suplementar\\\\'\n",
    "\n",
    "else: #linux(ou mac)\n",
    "    diretorio = '/home/matheus/Microdados PNAD/feather/'\n",
    "\n",
    "filtro = ['Trimestre','V4010', 'UF', 'V2007', 'V2010', 'VD4019', 'V4013', 'VD3004', 'VD4009', 'V4019', 'V1032', 'dummy_infra']\n",
    "\n",
    "pnadc_19 = pd.read_feather(fr'{diretorio}PNADC_2019_editado.feather', columns=filtro)\n",
    "\n",
    "#Importação dos códigos de ocupação traduzidos\n",
    "\n",
    "ocupacoes = pd.read_excel('../Anexos/ocupacoes_traduzidas.xlsx')"
   ]
  },
  {
   "cell_type": "code",
   "execution_count": 54,
   "metadata": {},
   "outputs": [
    {
     "data": {
      "text/html": [
       "<div>\n",
       "<style scoped>\n",
       "    .dataframe tbody tr th:only-of-type {\n",
       "        vertical-align: middle;\n",
       "    }\n",
       "\n",
       "    .dataframe tbody tr th {\n",
       "        vertical-align: top;\n",
       "    }\n",
       "\n",
       "    .dataframe thead th {\n",
       "        text-align: right;\n",
       "    }\n",
       "</style>\n",
       "<table border=\"1\" class=\"dataframe\">\n",
       "  <thead>\n",
       "    <tr style=\"text-align: right;\">\n",
       "      <th></th>\n",
       "      <th>code_ONET</th>\n",
       "      <th>Title_ONET</th>\n",
       "      <th>teleworkable</th>\n",
       "      <th>Cod</th>\n",
       "      <th>Titulação</th>\n",
       "    </tr>\n",
       "  </thead>\n",
       "  <tbody>\n",
       "    <tr>\n",
       "      <th>0</th>\n",
       "      <td>11-1011</td>\n",
       "      <td>Chief Executives</td>\n",
       "      <td>1</td>\n",
       "      <td>1</td>\n",
       "      <td>DIRETORES E GERENTES</td>\n",
       "    </tr>\n",
       "    <tr>\n",
       "      <th>1</th>\n",
       "      <td>11-1011</td>\n",
       "      <td>Chief Executives</td>\n",
       "      <td>1</td>\n",
       "      <td>1</td>\n",
       "      <td>DIRETORES E GERENTES</td>\n",
       "    </tr>\n",
       "    <tr>\n",
       "      <th>2</th>\n",
       "      <td>11-1011</td>\n",
       "      <td>Chief Executives</td>\n",
       "      <td>1</td>\n",
       "      <td>1</td>\n",
       "      <td>DIRETORES E GERENTES</td>\n",
       "    </tr>\n",
       "  </tbody>\n",
       "</table>\n",
       "</div>"
      ],
      "text/plain": [
       "  code_ONET        Title_ONET  teleworkable  Cod             Titulação\n",
       "0   11-1011  Chief Executives             1    1  DIRETORES E GERENTES\n",
       "1   11-1011  Chief Executives             1    1  DIRETORES E GERENTES\n",
       "2   11-1011  Chief Executives             1    1  DIRETORES E GERENTES"
      ]
     },
     "execution_count": 54,
     "metadata": {},
     "output_type": "execute_result"
    }
   ],
   "source": [
    "ocupacoes.head(3)"
   ]
  },
  {
   "cell_type": "code",
   "execution_count": 55,
   "metadata": {},
   "outputs": [
    {
     "data": {
      "text/html": [
       "<div>\n",
       "<style scoped>\n",
       "    .dataframe tbody tr th:only-of-type {\n",
       "        vertical-align: middle;\n",
       "    }\n",
       "\n",
       "    .dataframe tbody tr th {\n",
       "        vertical-align: top;\n",
       "    }\n",
       "\n",
       "    .dataframe thead th {\n",
       "        text-align: right;\n",
       "    }\n",
       "</style>\n",
       "<table border=\"1\" class=\"dataframe\">\n",
       "  <thead>\n",
       "    <tr style=\"text-align: right;\">\n",
       "      <th></th>\n",
       "      <th>Trimestre</th>\n",
       "      <th>V4010</th>\n",
       "      <th>UF</th>\n",
       "      <th>V2007</th>\n",
       "      <th>V2010</th>\n",
       "      <th>VD4019</th>\n",
       "      <th>V4013</th>\n",
       "      <th>VD3004</th>\n",
       "      <th>VD4009</th>\n",
       "      <th>V4019</th>\n",
       "      <th>V1032</th>\n",
       "      <th>dummy_infra</th>\n",
       "    </tr>\n",
       "  </thead>\n",
       "  <tbody>\n",
       "    <tr>\n",
       "      <th>0</th>\n",
       "      <td>1</td>\n",
       "      <td>3221</td>\n",
       "      <td>Rondônia</td>\n",
       "      <td>Mulher</td>\n",
       "      <td>Parda</td>\n",
       "      <td>1583.0</td>\n",
       "      <td>86001</td>\n",
       "      <td>Superior completo</td>\n",
       "      <td>Empregado no setor privado com carteira de tra...</td>\n",
       "      <td>NaN</td>\n",
       "      <td>149.43857</td>\n",
       "      <td>0</td>\n",
       "    </tr>\n",
       "    <tr>\n",
       "      <th>1</th>\n",
       "      <td>1</td>\n",
       "      <td>None</td>\n",
       "      <td>Rondônia</td>\n",
       "      <td>Homem</td>\n",
       "      <td>Parda</td>\n",
       "      <td>NaN</td>\n",
       "      <td>None</td>\n",
       "      <td>Fundamental completo ou equivalente</td>\n",
       "      <td>NaN</td>\n",
       "      <td>NaN</td>\n",
       "      <td>149.43857</td>\n",
       "      <td>0</td>\n",
       "    </tr>\n",
       "    <tr>\n",
       "      <th>2</th>\n",
       "      <td>1</td>\n",
       "      <td>None</td>\n",
       "      <td>Rondônia</td>\n",
       "      <td>Mulher</td>\n",
       "      <td>Branca</td>\n",
       "      <td>NaN</td>\n",
       "      <td>None</td>\n",
       "      <td>Médio completo ou equivalente</td>\n",
       "      <td>NaN</td>\n",
       "      <td>NaN</td>\n",
       "      <td>149.43857</td>\n",
       "      <td>0</td>\n",
       "    </tr>\n",
       "  </tbody>\n",
       "</table>\n",
       "</div>"
      ],
      "text/plain": [
       "  Trimestre V4010        UF   V2007   V2010  VD4019  V4013  \\\n",
       "0         1  3221  Rondônia  Mulher   Parda  1583.0  86001   \n",
       "1         1  None  Rondônia   Homem   Parda     NaN   None   \n",
       "2         1  None  Rondônia  Mulher  Branca     NaN   None   \n",
       "\n",
       "                                VD3004  \\\n",
       "0                    Superior completo   \n",
       "1  Fundamental completo ou equivalente   \n",
       "2        Médio completo ou equivalente   \n",
       "\n",
       "                                              VD4009 V4019      V1032  \\\n",
       "0  Empregado no setor privado com carteira de tra...   NaN  149.43857   \n",
       "1                                                NaN   NaN  149.43857   \n",
       "2                                                NaN   NaN  149.43857   \n",
       "\n",
       "   dummy_infra  \n",
       "0            0  \n",
       "1            0  \n",
       "2            0  "
      ]
     },
     "execution_count": 55,
     "metadata": {},
     "output_type": "execute_result"
    }
   ],
   "source": [
    "pnadc_19.head(3)"
   ]
  },
  {
   "attachments": {},
   "cell_type": "markdown",
   "metadata": {},
   "source": [
    "### Junção dos códigos de ocupação com os dados da PNAD Contínua"
   ]
  },
  {
   "cell_type": "code",
   "execution_count": 56,
   "metadata": {},
   "outputs": [
    {
     "data": {
      "text/plain": [
       "0000     33\n",
       "0110    116\n",
       "0210    573\n",
       "0411     78\n",
       "0412    715\n",
       "       ... \n",
       "9621    457\n",
       "9622     25\n",
       "9623     36\n",
       "9624      9\n",
       "9629    507\n",
       "Name: V4010, Length: 427, dtype: int64"
      ]
     },
     "execution_count": 56,
     "metadata": {},
     "output_type": "execute_result"
    }
   ],
   "source": [
    "pnadc_19['V4010'].value_counts().sort_index()"
   ]
  },
  {
   "cell_type": "code",
   "execution_count": 57,
   "metadata": {},
   "outputs": [],
   "source": [
    "#Coluna com o código da ocupação Major das ocupações traduzidas\n",
    "pnadc_19['COD_OCUP_MAJ'] = pnadc_19['V4010'].astype(str).str[:1]"
   ]
  },
  {
   "cell_type": "code",
   "execution_count": 62,
   "metadata": {},
   "outputs": [],
   "source": [
    "ocupacoes['Cod'] = ocupacoes['Cod'].astype(str)"
   ]
  },
  {
   "cell_type": "code",
   "execution_count": 63,
   "metadata": {},
   "outputs": [],
   "source": [
    "pnadc_19_remoto = pd.merge(pnadc_19, ocupacoes, left_on='COD_OCUP_MAJ', right_on='Cod', how='left')"
   ]
  },
  {
   "cell_type": "code",
   "execution_count": 64,
   "metadata": {},
   "outputs": [
    {
     "data": {
      "text/html": [
       "<div>\n",
       "<style scoped>\n",
       "    .dataframe tbody tr th:only-of-type {\n",
       "        vertical-align: middle;\n",
       "    }\n",
       "\n",
       "    .dataframe tbody tr th {\n",
       "        vertical-align: top;\n",
       "    }\n",
       "\n",
       "    .dataframe thead th {\n",
       "        text-align: right;\n",
       "    }\n",
       "</style>\n",
       "<table border=\"1\" class=\"dataframe\">\n",
       "  <thead>\n",
       "    <tr style=\"text-align: right;\">\n",
       "      <th></th>\n",
       "      <th>Trimestre</th>\n",
       "      <th>V4010</th>\n",
       "      <th>UF</th>\n",
       "      <th>V2007</th>\n",
       "      <th>V2010</th>\n",
       "      <th>VD4019</th>\n",
       "      <th>V4013</th>\n",
       "      <th>VD3004</th>\n",
       "      <th>VD4009</th>\n",
       "      <th>V4019</th>\n",
       "      <th>V1032</th>\n",
       "      <th>dummy_infra</th>\n",
       "      <th>COD_OCUP_MAJ</th>\n",
       "      <th>code_ONET</th>\n",
       "      <th>Title_ONET</th>\n",
       "      <th>teleworkable</th>\n",
       "      <th>Cod</th>\n",
       "      <th>Titulação</th>\n",
       "    </tr>\n",
       "  </thead>\n",
       "  <tbody>\n",
       "    <tr>\n",
       "      <th>0</th>\n",
       "      <td>1</td>\n",
       "      <td>3221</td>\n",
       "      <td>Rondônia</td>\n",
       "      <td>Mulher</td>\n",
       "      <td>Parda</td>\n",
       "      <td>1583.0</td>\n",
       "      <td>86001</td>\n",
       "      <td>Superior completo</td>\n",
       "      <td>Empregado no setor privado com carteira de tra...</td>\n",
       "      <td>NaN</td>\n",
       "      <td>149.43857</td>\n",
       "      <td>0</td>\n",
       "      <td>3</td>\n",
       "      <td>11-9141</td>\n",
       "      <td>Property, Real Estate, and Community Associati...</td>\n",
       "      <td>1.0</td>\n",
       "      <td>3</td>\n",
       "      <td>TÉCNICOS E PROFISSIONAIS DE NÍVEL MÉDIO</td>\n",
       "    </tr>\n",
       "    <tr>\n",
       "      <th>1</th>\n",
       "      <td>1</td>\n",
       "      <td>3221</td>\n",
       "      <td>Rondônia</td>\n",
       "      <td>Mulher</td>\n",
       "      <td>Parda</td>\n",
       "      <td>1583.0</td>\n",
       "      <td>86001</td>\n",
       "      <td>Superior completo</td>\n",
       "      <td>Empregado no setor privado com carteira de tra...</td>\n",
       "      <td>NaN</td>\n",
       "      <td>149.43857</td>\n",
       "      <td>0</td>\n",
       "      <td>3</td>\n",
       "      <td>13-1021</td>\n",
       "      <td>Buyers and Purchasing Agents, Farm Products</td>\n",
       "      <td>1.0</td>\n",
       "      <td>3</td>\n",
       "      <td>TÉCNICOS E PROFISSIONAIS DE NÍVEL MÉDIO</td>\n",
       "    </tr>\n",
       "  </tbody>\n",
       "</table>\n",
       "</div>"
      ],
      "text/plain": [
       "  Trimestre V4010        UF   V2007  V2010  VD4019  V4013             VD3004  \\\n",
       "0         1  3221  Rondônia  Mulher  Parda  1583.0  86001  Superior completo   \n",
       "1         1  3221  Rondônia  Mulher  Parda  1583.0  86001  Superior completo   \n",
       "\n",
       "                                              VD4009 V4019      V1032  \\\n",
       "0  Empregado no setor privado com carteira de tra...   NaN  149.43857   \n",
       "1  Empregado no setor privado com carteira de tra...   NaN  149.43857   \n",
       "\n",
       "   dummy_infra COD_OCUP_MAJ code_ONET  \\\n",
       "0            0            3   11-9141   \n",
       "1            0            3   13-1021   \n",
       "\n",
       "                                          Title_ONET  teleworkable Cod  \\\n",
       "0  Property, Real Estate, and Community Associati...           1.0   3   \n",
       "1        Buyers and Purchasing Agents, Farm Products           1.0   3   \n",
       "\n",
       "                                 Titulação  \n",
       "0  TÉCNICOS E PROFISSIONAIS DE NÍVEL MÉDIO  \n",
       "1  TÉCNICOS E PROFISSIONAIS DE NÍVEL MÉDIO  "
      ]
     },
     "execution_count": 64,
     "metadata": {},
     "output_type": "execute_result"
    }
   ],
   "source": [
    "pnadc_19_remoto.head(2)"
   ]
  },
  {
   "cell_type": "markdown",
   "metadata": {},
   "source": [
    "### Trabalho remoto potencial "
   ]
  },
  {
   "cell_type": "code",
   "execution_count": 78,
   "metadata": {},
   "outputs": [
    {
     "data": {
      "text/plain": [
       "Titulação\n",
       "DIRETORES E GERENTES                                                                                     871542\n",
       "OCUPAÇÕES ELEMENTARES                                                                                   1950088\n",
       "OPERADORES DE INSTALAÇÕES E MÁQUINAS E MONTADORES                                                       1557504\n",
       "OUTROS                                                                                                   279384\n",
       "PROFISSIONAIS DAS CIÊNCIAS E INTELECTUAIS                                                               5116839\n",
       "TRABALHADORES DE APOIO ADMINISTRATIVO                                                                    502793\n",
       "TRABALHADORES DOS SERVIÇOS, VENDEDORES DOS COMÉRCIOS E MERCADOS                                         2828732\n",
       "TRABALHADORES QUALIFICADOS DA AGROPECUÁRIA, FLORESTAIS, DA CAÇA E DA PESCA                              1651179\n",
       "TRABALHADORES QUALIFICADOS, OPERÁRIOS E ARTESÃOS DA CONSTRUÇÃO, DAS ARTES MECÂNICAS E OUTROS OFÍCIOS    3897330\n",
       "TÉCNICOS E PROFISSIONAIS DE NÍVEL MÉDIO                                                                 3369475\n",
       "Name: V4010, dtype: int64"
      ]
     },
     "execution_count": 78,
     "metadata": {},
     "output_type": "execute_result"
    }
   ],
   "source": [
    "pnadc_19_remoto.groupby('Titulação')['V4010'].count()"
   ]
  },
  {
   "cell_type": "code",
   "execution_count": 79,
   "metadata": {},
   "outputs": [
    {
     "data": {
      "text/plain": [
       "Titulação\n",
       "DIRETORES E GERENTES                                                                                    0.769987\n",
       "OCUPAÇÕES ELEMENTARES                                                                                   0.205841\n",
       "OPERADORES DE INSTALAÇÕES E MÁQUINAS E MONTADORES                                                       0.386552\n",
       "OUTROS                                                                                                  0.755262\n",
       "PROFISSIONAIS DAS CIÊNCIAS E INTELECTUAIS                                                               0.841648\n",
       "TRABALHADORES DE APOIO ADMINISTRATIVO                                                                   0.643094\n",
       "TRABALHADORES DOS SERVIÇOS, VENDEDORES DOS COMÉRCIOS E MERCADOS                                         0.429938\n",
       "TRABALHADORES QUALIFICADOS DA AGROPECUÁRIA, FLORESTAIS, DA CAÇA E DA PESCA                              0.175733\n",
       "TRABALHADORES QUALIFICADOS, OPERÁRIOS E ARTESÃOS DA CONSTRUÇÃO, DAS ARTES MECÂNICAS E OUTROS OFÍCIOS    0.359264\n",
       "TÉCNICOS E PROFISSIONAIS DE NÍVEL MÉDIO                                                                 0.704286\n",
       "Name: V4010, dtype: float64"
      ]
     },
     "execution_count": 79,
     "metadata": {},
     "output_type": "execute_result"
    }
   ],
   "source": [
    "pnadc_19_remoto[pnadc_19_remoto['dummy_infra'] == 1].groupby('Titulação')['V4010'].count() / pnadc_19_remoto.groupby('Titulação')['V4010'].count()"
   ]
  }
 ],
 "metadata": {
  "kernelspec": {
   "display_name": "boletim",
   "language": "python",
   "name": "python3"
  },
  "language_info": {
   "codemirror_mode": {
    "name": "ipython",
    "version": 3
   },
   "file_extension": ".py",
   "mimetype": "text/x-python",
   "name": "python",
   "nbconvert_exporter": "python",
   "pygments_lexer": "ipython3",
   "version": "3.10.4"
  },
  "orig_nbformat": 4
 },
 "nbformat": 4,
 "nbformat_minor": 2
}
