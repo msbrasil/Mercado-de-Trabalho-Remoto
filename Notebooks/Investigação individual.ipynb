{
 "cells": [
  {
   "cell_type": "code",
   "execution_count": 1,
   "metadata": {},
   "outputs": [],
   "source": [
    "#pacotes necessários\n",
    "\n",
    "import pandas as pd\n",
    "import numpy as np\n",
    "import matplotlib.pyplot as plt\n",
    "import seaborn as sns\n",
    "import datetime as dt\n",
    "plt.style.use('fivethirtyeight')\n",
    "plt.rcParams['text.color'] = 'black'"
   ]
  },
  {
   "cell_type": "markdown",
   "metadata": {},
   "source": [
    "#### Dicionário de Variáveis utilizadas\n",
    "|Chave|Descrição|Função|\n",
    "|-----|-----|-----|\n",
    "|**Identificação**|\n",
    "|Ano| Ano de referência|Controle|\n",
    "|Trimestre| Trimestre de referência|Controle|\n",
    "|UF| Estado|Controle|\n",
    "|Capital| Capital da UF|Controle|\n",
    "|UPA| Unidade Primária de Amostragem (UF(2) + número squencial(6) + DV(1))|Controle|\n",
    "|V1008| Número do Domicílio|Controle|\n",
    "|V1014| Painel - Grupo de Controle|Controle|\n",
    "|V1016| Número de entrevista (1 a 5)|Controle|\n",
    "|V2003| Número de ordem|Controle|\n",
    "|**Características**|\n",
    "|V2007| Sexo|Característica|\n",
    "|V2008| Dia Nascimento|Característica|\n",
    "|V20081| Mês nascimento|Característica|\n",
    "|V20082| Ano nascimento|Característica|\n",
    "|V2010| Raça|Característica|\n",
    "|**Variáveis exploradas**|\n",
    "| VD4001 | Condição em relação à força de trabalho na semana de referência para pessoas de 14 anos ou mais de idade | Descrição |\n",
    "| VD4002 | Condição de ocupação na semana de referência para pessoas de 14 anos ou mais de idade | Descrição |\n",
    "| VD4003 | Força de trabalho potencial para pessoas de 14 anos ou mais de idade | Descrição |\n",
    "| VD4004A | Subocupação por insuficiência de horas efetivamente trabalhadas em todos os trabalhos | Descrição |\n",
    "| VD4005 | Pessoas desalentadas na semana de referência | Descrição |\n",
    "|**Auxiliares**|\n",
    "|V1028| Peso do domicílio e das pessoas sem calibração|Expansão|\n",
    "|V1029| Peso do domicílio e das pessoas com calibração|Expansão|\n",
    "|V1033| Projeção da população por sexo e idade|Expansão|\n",
    "|posest|Domínios de projeção geográficos|Expansão|\n",
    "\n",
    " Chave para pessoa: UPA + V1008 + V1014  + V2003 + V2007 + V2008 + V20081 + V20082\n",
    "\n",
    " **PARA ESTIMAÇÃO DA POPULAÇÃO, DEVE-SE USAR AS VARIÁVEIS: V1033 e posest.**\n",
    "\n"
   ]
  },
  {
   "cell_type": "markdown",
   "metadata": {},
   "source": [
    "Importação das bases"
   ]
  },
  {
   "cell_type": "code",
   "execution_count": 2,
   "metadata": {},
   "outputs": [
    {
     "name": "stdout",
     "output_type": "stream",
     "text": [
      "lendo PNAD2019 4\n",
      "lendo PNAD2020 1\n",
      "lendo PNAD2020 2\n",
      "lendo PNAD2020 3\n",
      "lendo PNAD2020 4\n",
      "lendo PNAD2021 1\n",
      "lendo PNAD2021 2\n",
      "lendo PNAD2021 3\n",
      "lendo PNAD2021 4\n",
      "lendo PNAD2022 1\n",
      "lendo PNAD2022 2\n"
     ]
    }
   ],
   "source": [
    "#determina qual diretório usar para cada sistema operacional.\n",
    "import os\n",
    "if os.name == 'nt': #windows\n",
    "    diretorio = 'C:\\\\Users\\\\est.matheus.brasil\\\\Documents\\\\Microdados PNAD Contínua\\\\feather\\\\'\n",
    "\n",
    "else: #linux(ou mac)\n",
    "    diretorio = '/home/matheus/Microdados PNAD/feather/'\n",
    "\n",
    "#Leitura de todas as bases com as variáveis selecionadas e criação de variáveis dinamicamente.\n",
    "\n",
    "colunas_selecionadas = ['Ano', 'Trimestre', 'UPA', 'UF', 'V1008', 'V1014', 'V2007', 'V2008', 'V20081', 'V20082', 'V2010', #Controle e chave ID\n",
    "                        'V1016', 'VD4001','VD4002', 'VD4003','VD4004A','VD4005', #Variáveis de interesse\n",
    "                        'V1027', 'V1028', 'V1029', 'V1033', 'posest', 'posest_sxi'] #expansão\n",
    "                    \n",
    "for ano in range(2019, 2023):\n",
    "    for tri in range(1, 5):\n",
    "        if ano == 2019  and tri > 3:\n",
    "                print(f'lendo PNAD{ano} {tri}')\n",
    "                globals()[f'pnad_{ano}_{tri}'] = pd.read_feather(fr'{diretorio}{ano}_{tri}.feather', columns=colunas_selecionadas)\n",
    "        if 2019 < ano < 2022:\n",
    "                print(f'lendo PNAD{ano} {tri}')\n",
    "                globals()[f'pnad_{ano}_{tri}'] = pd.read_feather(fr'{diretorio}{ano}_{tri}.feather', columns=colunas_selecionadas)\n",
    "        if ano == 2022 and tri < 3:\n",
    "            print(f'lendo PNAD{ano} {tri}')\n",
    "            globals()[f'pnad_{ano}_{tri}'] = pd.read_feather(fr'{diretorio}{ano}_{tri}.feather', columns=colunas_selecionadas)"
   ]
  },
  {
   "cell_type": "markdown",
   "metadata": {},
   "source": [
    "Tratamento dos dados"
   ]
  },
  {
   "cell_type": "code",
   "execution_count": 3,
   "metadata": {},
   "outputs": [],
   "source": [
    "pnadc_completa = pd.concat([pnad_2019_4, \n",
    "                            pnad_2020_1, \n",
    "                            pnad_2020_2, \n",
    "                            pnad_2020_3, \n",
    "                            pnad_2020_4, \n",
    "                            pnad_2021_1, \n",
    "                            pnad_2021_2, \n",
    "                            pnad_2021_3, \n",
    "                            pnad_2021_4, \n",
    "                            pnad_2022_1, \n",
    "                            pnad_2022_2])"
   ]
  },
  {
   "cell_type": "code",
   "execution_count": 4,
   "metadata": {},
   "outputs": [],
   "source": [
    "pnadc_completa = pnadc_completa[(pnadc_completa['V2008'] != 99)&(pnadc_completa['V20081'] != 99)&(pnadc_completa['V20082'] != 9999)]"
   ]
  },
  {
   "cell_type": "code",
   "execution_count": 5,
   "metadata": {},
   "outputs": [],
   "source": [
    "#Concatena todos os dataframes de cada ano e trimestre em uma unica tabela.\n",
    "\n",
    "# pnadc_completa = pd.concat([pnad_2019_4, \n",
    "#                             pnad_2020_1, \n",
    "#                             pnad_2020_2, \n",
    "#                             pnad_2020_3, \n",
    "#                             pnad_2020_4, \n",
    "#                             pnad_2021_1, \n",
    "#                             pnad_2021_2, \n",
    "#                             pnad_2021_3, \n",
    "#                             pnad_2021_4, \n",
    "#                             pnad_2022_1, \n",
    "#                             pnad_2022_2])\n",
    "#Converte variável para criar ID\n",
    "pnadc_completa['V2007'] = np.where(pnadc_completa['V2007'] == 'Homem', 0, 1)\n",
    "#Converte variáveis para numéricas\n",
    "pnadc_completa['UPA'] = pd.to_numeric(pnadc_completa['UPA'] , errors='coerce')\n",
    "pnadc_completa['V1008'] = pd.to_numeric(pnadc_completa['V1008'] , errors='coerce')\n",
    "pnadc_completa['V1014'] = pd.to_numeric(pnadc_completa['V1014'] , errors='coerce')\n",
    "pnadc_completa['V2007'] = pd.to_numeric(pnadc_completa['V2007'] , errors='coerce')\n",
    "pnadc_completa['V2008'] = pd.to_numeric(pnadc_completa['V2008'] , errors='coerce')\n",
    "pnadc_completa['V20081'] = pd.to_numeric(pnadc_completa['V20081'] , errors='coerce')\n",
    "pnadc_completa['V20082'] = pd.to_numeric(pnadc_completa['V20082'] , errors='coerce')\n",
    "\n",
    "#Cria chave ID e novo df\n",
    "pnadc_completa = pd.DataFrame({\n",
    "    #Controle\n",
    "    'Ano':pnadc_completa['Ano'], \n",
    "    'Trimestre':pnadc_completa['Trimestre'],\n",
    "    'UPA':pnadc_completa['UPA'],\n",
    "    'UF':pnadc_completa['UF'],\n",
    "    'V2007':pnadc_completa['V2007'],\n",
    "    #ID  \n",
    "    'ID': pnadc_completa['UPA'].map(str) + \n",
    "        pnadc_completa['V1008'].map(str) + \n",
    "        pnadc_completa['V1014'].map(str) + \n",
    "        pnadc_completa['V2007'].map(str) +\n",
    "        pnadc_completa['V2008'].map(str) +\n",
    "        pnadc_completa['V20081'].map(str) +\n",
    "        pnadc_completa['V20082'].map(str),\n",
    "    #Exploradas\n",
    "    'V2010': pnadc_completa['V2010'],\n",
    "    'VD4001': pnadc_completa['VD4001'],\n",
    "    'VD4002': pnadc_completa['VD4002'],\n",
    "    'VD4003': pnadc_completa['VD4003'],\n",
    "    'VD4004A': pnadc_completa['VD4004A'],\n",
    "    'VD4005': pnadc_completa['VD4005'],\n",
    "    'V1016': pnadc_completa['V1016'],\n",
    "    #Expansão\n",
    "    'V1027': pnadc_completa['V1027'],\n",
    "    'V1028': pnadc_completa['V1028'],\n",
    "    'V1029': pnadc_completa['V1029'],\n",
    "    'V1033': pnadc_completa['V1033'],\n",
    "    'posest': pnadc_completa['posest'],\n",
    "    'posest_sxi': pnadc_completa['posest_sxi']\n",
    "    })\n",
    "\n",
    "pnadc_completa['ID'] = pnadc_completa['ID'].map(int)\n",
    "\n",
    "#Reverte alteração da coluna V2007 para os rótulos anteiores\n",
    "pnadc_completa['V2007'] = pnadc_completa['V2007'].apply(lambda x: 'Homem' if x == 0 else 'Mulher')\n",
    "# Ordernação da série histórica por ano e trimestre.\n",
    "pnadc_completa.sort_values(by=['Ano', 'Trimestre'], inplace=True)\n",
    "#concatena a coluna 'Ano' e 'Trimestre' em uma única coluna.\n",
    "pnadc_completa['ano_tri'] = pnadc_completa['Ano'].astype(str) + 'Q' + pnadc_completa['Trimestre'].astype(str)\n",
    "#Conversão da coluna ano_tri para datetime.\n",
    "pnadc_completa['ano_tri'] = pd.to_datetime(pnadc_completa['ano_tri']).dt.to_period('Q')"
   ]
  },
  {
   "cell_type": "code",
   "execution_count": 6,
   "metadata": {},
   "outputs": [],
   "source": [
    "#1º Filtrada\n",
    "ids_lista = pnadc_completa['ID'].value_counts()\n",
    "ids_lista = ids_lista[pnadc_completa['ID'].value_counts() > 1].index\n",
    "\n",
    "pnadc_filtrada = pnadc_completa[pnadc_completa['ID'].isin(ids_lista)].drop_duplicates(subset=['ID', 'ano_tri'])\n",
    "\n",
    "#2º Filtrada\n",
    "ids_lista = pnadc_filtrada['ID'].value_counts()\n",
    "ids_lista = ids_lista[pnadc_filtrada['ID'].value_counts() > 1].index\n",
    "\n",
    "pnadc_filtrada = pnadc_filtrada[pnadc_filtrada['ID'].isin(ids_lista)]"
   ]
  },
  {
   "cell_type": "code",
   "execution_count": 7,
   "metadata": {},
   "outputs": [],
   "source": [
    "ids_lista_entrevistas_5 = pd.DataFrame(pnadc_filtrada['ID'].value_counts())\n",
    "ids_lista_entrevistas_5 = ids_lista_entrevistas_5[ids_lista_entrevistas_5['ID'] == 5].index"
   ]
  },
  {
   "cell_type": "code",
   "execution_count": 8,
   "metadata": {},
   "outputs": [],
   "source": [
    "pnadc_filtrada = pnadc_filtrada[pnadc_filtrada['ID'].isin(ids_lista_entrevistas_5)].sort_values(by=['ID','V1016','ano_tri'])"
   ]
  },
  {
   "cell_type": "code",
   "execution_count": 9,
   "metadata": {},
   "outputs": [
    {
     "data": {
      "text/plain": [
       "ano_tri\n",
       "2019Q4     379541640958\n",
       "2020Q1     687486059672\n",
       "2020Q2     859904458923\n",
       "2020Q3    1088574943180\n",
       "2020Q4    1285057059537\n",
       "2021Q1    1105413859271\n",
       "2021Q2    1046560265429\n",
       "2021Q3     873784850787\n",
       "2021Q4     645059639678\n",
       "2022Q1     447583766382\n",
       "2022Q2     248231388136\n",
       "Freq: Q-DEC, dtype: int64"
      ]
     },
     "execution_count": 9,
     "metadata": {},
     "output_type": "execute_result"
    }
   ],
   "source": [
    "pd.crosstab(pnadc_filtrada['ano_tri'], pnadc_filtrada['posest'], pnadc_filtrada['V1033'], aggfunc='sum').sum(axis=1)"
   ]
  },
  {
   "attachments": {},
   "cell_type": "markdown",
   "metadata": {},
   "source": [
    "### Características das pessoas que passaram por mudança de ocupação"
   ]
  },
  {
   "cell_type": "code",
   "execution_count": 10,
   "metadata": {},
   "outputs": [],
   "source": [
    "#TODO: Desenvolver visualização que mostre a mudança individual ao longo do tempo para a variável de ocupação (VD4002) e, posteriormente, local de trabalho"
   ]
  },
  {
   "cell_type": "code",
   "execution_count": 19,
   "metadata": {},
   "outputs": [],
   "source": [
    "#filtrar pnadc_completa para mostrar somente os individuos no ano_tri 2019Q4 e 2020Q1\n",
    "pnadc_completa_2019Q4_2020Q1 = pnadc_completa[(pnadc_completa['ano_tri'] < '2020Q2')]"
   ]
  },
  {
   "cell_type": "code",
   "execution_count": 26,
   "metadata": {},
   "outputs": [],
   "source": [
    "ids_em_2tri = pd.DataFrame({'tri':pnadc_completa_2019Q4_2020Q1.groupby(['ID'])['ano_tri'].count()})"
   ]
  },
  {
   "cell_type": "code",
   "execution_count": 30,
   "metadata": {},
   "outputs": [],
   "source": [
    "pnadc_completa_2019Q4_2020Q1_filtrado = pnadc_completa_2019Q4_2020Q1[pnadc_completa_2019Q4_2020Q1['ID'].isin(ids_em_2tri[ids_em_2tri['tri'] == 2].index)]"
   ]
  },
  {
   "cell_type": "code",
   "execution_count": 32,
   "metadata": {},
   "outputs": [
    {
     "data": {
      "text/plain": [
       "ano_tri\n",
       "2019Q4    348727\n",
       "2020Q1    348541\n",
       "Freq: Q-DEC, Name: ID, dtype: int64"
      ]
     },
     "execution_count": 32,
     "metadata": {},
     "output_type": "execute_result"
    }
   ],
   "source": [
    "pnadc_completa_2019Q4_2020Q1_filtrado.groupby(['ano_tri'])['ID'].count()"
   ]
  },
  {
   "cell_type": "code",
   "execution_count": 34,
   "metadata": {},
   "outputs": [
    {
     "data": {
      "text/html": [
       "<div>\n",
       "<style scoped>\n",
       "    .dataframe tbody tr th:only-of-type {\n",
       "        vertical-align: middle;\n",
       "    }\n",
       "\n",
       "    .dataframe tbody tr th {\n",
       "        vertical-align: top;\n",
       "    }\n",
       "\n",
       "    .dataframe thead th {\n",
       "        text-align: right;\n",
       "    }\n",
       "</style>\n",
       "<table border=\"1\" class=\"dataframe\">\n",
       "  <thead>\n",
       "    <tr style=\"text-align: right;\">\n",
       "      <th></th>\n",
       "      <th>Ano</th>\n",
       "      <th>Trimestre</th>\n",
       "      <th>UPA</th>\n",
       "      <th>UF</th>\n",
       "      <th>V2007</th>\n",
       "      <th>ID</th>\n",
       "      <th>V2010</th>\n",
       "      <th>VD4001</th>\n",
       "      <th>VD4002</th>\n",
       "      <th>VD4003</th>\n",
       "      <th>VD4004A</th>\n",
       "      <th>VD4005</th>\n",
       "      <th>V1016</th>\n",
       "      <th>V1027</th>\n",
       "      <th>V1028</th>\n",
       "      <th>V1029</th>\n",
       "      <th>V1033</th>\n",
       "      <th>posest</th>\n",
       "      <th>posest_sxi</th>\n",
       "      <th>ano_tri</th>\n",
       "    </tr>\n",
       "  </thead>\n",
       "  <tbody>\n",
       "    <tr>\n",
       "      <th>0</th>\n",
       "      <td>2019</td>\n",
       "      <td>4</td>\n",
       "      <td>110000016</td>\n",
       "      <td>Rondônia</td>\n",
       "      <td>Mulher</td>\n",
       "      <td>110000016171221974</td>\n",
       "      <td>Parda</td>\n",
       "      <td>Pessoas na força de trabalho</td>\n",
       "      <td>Pessoas ocupadas</td>\n",
       "      <td>None</td>\n",
       "      <td>Pessoas subocupadas</td>\n",
       "      <td>None</td>\n",
       "      <td>4</td>\n",
       "      <td>98.756636</td>\n",
       "      <td>145.62879</td>\n",
       "      <td>532471</td>\n",
       "      <td>6982307</td>\n",
       "      <td>111</td>\n",
       "      <td>210</td>\n",
       "      <td>2019Q4</td>\n",
       "    </tr>\n",
       "    <tr>\n",
       "      <th>1</th>\n",
       "      <td>2019</td>\n",
       "      <td>4</td>\n",
       "      <td>110000016</td>\n",
       "      <td>Rondônia</td>\n",
       "      <td>Mulher</td>\n",
       "      <td>1100000161711521992</td>\n",
       "      <td>Parda</td>\n",
       "      <td>Pessoas fora da força de trabalho</td>\n",
       "      <td>None</td>\n",
       "      <td>Pessoas fora da força de trabalho e fora da fo...</td>\n",
       "      <td>None</td>\n",
       "      <td>None</td>\n",
       "      <td>4</td>\n",
       "      <td>98.756636</td>\n",
       "      <td>145.62879</td>\n",
       "      <td>532471</td>\n",
       "      <td>8485527</td>\n",
       "      <td>111</td>\n",
       "      <td>206</td>\n",
       "      <td>2019Q4</td>\n",
       "    </tr>\n",
       "  </tbody>\n",
       "</table>\n",
       "</div>"
      ],
      "text/plain": [
       "    Ano  Trimestre        UPA        UF   V2007                   ID  V2010  \\\n",
       "0  2019          4  110000016  Rondônia  Mulher   110000016171221974  Parda   \n",
       "1  2019          4  110000016  Rondônia  Mulher  1100000161711521992  Parda   \n",
       "\n",
       "                              VD4001            VD4002  \\\n",
       "0       Pessoas na força de trabalho  Pessoas ocupadas   \n",
       "1  Pessoas fora da força de trabalho              None   \n",
       "\n",
       "                                              VD4003              VD4004A  \\\n",
       "0                                               None  Pessoas subocupadas   \n",
       "1  Pessoas fora da força de trabalho e fora da fo...                 None   \n",
       "\n",
       "  VD4005  V1016      V1027      V1028   V1029    V1033  posest  posest_sxi  \\\n",
       "0   None      4  98.756636  145.62879  532471  6982307     111         210   \n",
       "1   None      4  98.756636  145.62879  532471  8485527     111         206   \n",
       "\n",
       "  ano_tri  \n",
       "0  2019Q4  \n",
       "1  2019Q4  "
      ]
     },
     "execution_count": 34,
     "metadata": {},
     "output_type": "execute_result"
    }
   ],
   "source": [
    "pnadc_completa_2019Q4_2020Q1_filtrado.head(2)"
   ]
  },
  {
   "cell_type": "code",
   "execution_count": 79,
   "metadata": {},
   "outputs": [
    {
     "data": {
      "text/plain": [
       "<AxesSubplot:ylabel='ano_tri,V2010'>"
      ]
     },
     "execution_count": 79,
     "metadata": {},
     "output_type": "execute_result"
    },
    {
     "data": {
      "image/png": "[encoded data removed]",
      "text/plain": [
       "<Figure size 720x720 with 1 Axes>"
      ]
     },
     "metadata": {},
     "output_type": "display_data"
    }
   ],
   "source": [
    "pnadc_completa_2019Q4_2020Q1_filtrado[pnadc_completa_2019Q4_2020Q1_filtrado['VD4002']=='Pessoas ocupadas'].groupby(['ano_tri','V2010'])[['ID']].count().sort_values(by=['V2010','ano_tri'], ascending=[True,False]).plot(kind='barh', figsize=(10,10))"
   ]
  },
  {
   "cell_type": "code",
   "execution_count": 80,
   "metadata": {},
   "outputs": [
    {
     "data": {
      "text/plain": [
       "<AxesSubplot:ylabel='ano_tri,V2010'>"
      ]
     },
     "execution_count": 80,
     "metadata": {},
     "output_type": "execute_result"
    },
    {
     "data": {
      "image/png": "[encoded data removed]",
      "text/plain": [
       "<Figure size 720x720 with 1 Axes>"
      ]
     },
     "metadata": {},
     "output_type": "display_data"
    }
   ],
   "source": [
    "pnadc_completa_2019Q4_2020Q1_filtrado[pnadc_completa_2019Q4_2020Q1_filtrado['VD4002']=='Pessoas desocupadas'].groupby(['ano_tri','V2010'])[['ID']].count().sort_values(by=['V2010','ano_tri'], ascending=[True,False]).plot(kind='barh', figsize=(10,10))"
   ]
  },
  {
   "attachments": {},
   "cell_type": "markdown",
   "metadata": {},
   "source": [
    "Expansão da amostra: pessoas identificadas por ID que estão presente no 4T2019 e 1T2020, desagregado por situação de ocupação e etnia."
   ]
  },
  {
   "cell_type": "code",
   "execution_count": 89,
   "metadata": {},
   "outputs": [
    {
     "data": {
      "text/html": [
       "<div>\n",
       "<style scoped>\n",
       "    .dataframe tbody tr th:only-of-type {\n",
       "        vertical-align: middle;\n",
       "    }\n",
       "\n",
       "    .dataframe tbody tr th {\n",
       "        vertical-align: top;\n",
       "    }\n",
       "\n",
       "    .dataframe thead th {\n",
       "        text-align: right;\n",
       "    }\n",
       "</style>\n",
       "<table border=\"1\" class=\"dataframe\">\n",
       "  <thead>\n",
       "    <tr style=\"text-align: right;\">\n",
       "      <th></th>\n",
       "      <th></th>\n",
       "      <th>ano_tri</th>\n",
       "      <th>2019Q4</th>\n",
       "      <th>2020Q1</th>\n",
       "    </tr>\n",
       "    <tr>\n",
       "      <th>VD4002</th>\n",
       "      <th>V2010</th>\n",
       "      <th>V2007</th>\n",
       "      <th></th>\n",
       "      <th></th>\n",
       "    </tr>\n",
       "  </thead>\n",
       "  <tbody>\n",
       "    <tr>\n",
       "      <th rowspan=\"12\" valign=\"top\">Pessoas desocupadas</th>\n",
       "      <th rowspan=\"2\" valign=\"top\">Amarela</th>\n",
       "      <th>Homem</th>\n",
       "      <td>20.511527</td>\n",
       "      <td>22.270179</td>\n",
       "    </tr>\n",
       "    <tr>\n",
       "      <th>Mulher</th>\n",
       "      <td>23.302553</td>\n",
       "      <td>24.473805</td>\n",
       "    </tr>\n",
       "    <tr>\n",
       "      <th rowspan=\"2\" valign=\"top\">Branca</th>\n",
       "      <th>Homem</th>\n",
       "      <td>1189.258165</td>\n",
       "      <td>1512.442496</td>\n",
       "    </tr>\n",
       "    <tr>\n",
       "      <th>Mulher</th>\n",
       "      <td>1412.050035</td>\n",
       "      <td>1725.241238</td>\n",
       "    </tr>\n",
       "    <tr>\n",
       "      <th rowspan=\"2\" valign=\"top\">Ignorado</th>\n",
       "      <th>Homem</th>\n",
       "      <td>0.857295</td>\n",
       "      <td>NaN</td>\n",
       "    </tr>\n",
       "    <tr>\n",
       "      <th>Mulher</th>\n",
       "      <td>0.908751</td>\n",
       "      <td>2.035487</td>\n",
       "    </tr>\n",
       "    <tr>\n",
       "      <th rowspan=\"2\" valign=\"top\">Indígena</th>\n",
       "      <th>Homem</th>\n",
       "      <td>11.511644</td>\n",
       "      <td>12.367933</td>\n",
       "    </tr>\n",
       "    <tr>\n",
       "      <th>Mulher</th>\n",
       "      <td>15.125432</td>\n",
       "      <td>13.626508</td>\n",
       "    </tr>\n",
       "    <tr>\n",
       "      <th rowspan=\"2\" valign=\"top\">Parda</th>\n",
       "      <th>Homem</th>\n",
       "      <td>1804.296659</td>\n",
       "      <td>2270.873537</td>\n",
       "    </tr>\n",
       "    <tr>\n",
       "      <th>Mulher</th>\n",
       "      <td>2089.607649</td>\n",
       "      <td>2473.516132</td>\n",
       "    </tr>\n",
       "    <tr>\n",
       "      <th rowspan=\"2\" valign=\"top\">Preta</th>\n",
       "      <th>Homem</th>\n",
       "      <td>438.586030</td>\n",
       "      <td>471.841423</td>\n",
       "    </tr>\n",
       "    <tr>\n",
       "      <th>Mulher</th>\n",
       "      <td>570.046382</td>\n",
       "      <td>640.675331</td>\n",
       "    </tr>\n",
       "    <tr>\n",
       "      <th rowspan=\"12\" valign=\"top\">Pessoas ocupadas</th>\n",
       "      <th rowspan=\"2\" valign=\"top\">Amarela</th>\n",
       "      <th>Homem</th>\n",
       "      <td>249.122817</td>\n",
       "      <td>267.619662</td>\n",
       "    </tr>\n",
       "    <tr>\n",
       "      <th>Mulher</th>\n",
       "      <td>215.701414</td>\n",
       "      <td>203.603153</td>\n",
       "    </tr>\n",
       "    <tr>\n",
       "      <th rowspan=\"2\" valign=\"top\">Branca</th>\n",
       "      <th>Homem</th>\n",
       "      <td>15454.091630</td>\n",
       "      <td>16427.954970</td>\n",
       "    </tr>\n",
       "    <tr>\n",
       "      <th>Mulher</th>\n",
       "      <td>12770.781195</td>\n",
       "      <td>13372.919557</td>\n",
       "    </tr>\n",
       "    <tr>\n",
       "      <th rowspan=\"2\" valign=\"top\">Ignorado</th>\n",
       "      <th>Homem</th>\n",
       "      <td>3.814313</td>\n",
       "      <td>7.362135</td>\n",
       "    </tr>\n",
       "    <tr>\n",
       "      <th>Mulher</th>\n",
       "      <td>3.012540</td>\n",
       "      <td>1.750052</td>\n",
       "    </tr>\n",
       "    <tr>\n",
       "      <th rowspan=\"2\" valign=\"top\">Indígena</th>\n",
       "      <th>Homem</th>\n",
       "      <td>139.424386</td>\n",
       "      <td>117.936429</td>\n",
       "    </tr>\n",
       "    <tr>\n",
       "      <th>Mulher</th>\n",
       "      <td>81.759702</td>\n",
       "      <td>88.097507</td>\n",
       "    </tr>\n",
       "    <tr>\n",
       "      <th rowspan=\"2\" valign=\"top\">Parda</th>\n",
       "      <th>Homem</th>\n",
       "      <td>16160.252140</td>\n",
       "      <td>17240.569993</td>\n",
       "    </tr>\n",
       "    <tr>\n",
       "      <th>Mulher</th>\n",
       "      <td>11479.802352</td>\n",
       "      <td>12033.596252</td>\n",
       "    </tr>\n",
       "    <tr>\n",
       "      <th rowspan=\"2\" valign=\"top\">Preta</th>\n",
       "      <th>Homem</th>\n",
       "      <td>3704.409906</td>\n",
       "      <td>3760.069549</td>\n",
       "    </tr>\n",
       "    <tr>\n",
       "      <th>Mulher</th>\n",
       "      <td>2699.638423</td>\n",
       "      <td>2747.606338</td>\n",
       "    </tr>\n",
       "  </tbody>\n",
       "</table>\n",
       "</div>"
      ],
      "text/plain": [
       "ano_tri                                    2019Q4        2020Q1\n",
       "VD4002              V2010    V2007                             \n",
       "Pessoas desocupadas Amarela  Homem      20.511527     22.270179\n",
       "                             Mulher     23.302553     24.473805\n",
       "                    Branca   Homem    1189.258165   1512.442496\n",
       "                             Mulher   1412.050035   1725.241238\n",
       "                    Ignorado Homem       0.857295           NaN\n",
       "                             Mulher      0.908751      2.035487\n",
       "                    Indígena Homem      11.511644     12.367933\n",
       "                             Mulher     15.125432     13.626508\n",
       "                    Parda    Homem    1804.296659   2270.873537\n",
       "                             Mulher   2089.607649   2473.516132\n",
       "                    Preta    Homem     438.586030    471.841423\n",
       "                             Mulher    570.046382    640.675331\n",
       "Pessoas ocupadas    Amarela  Homem     249.122817    267.619662\n",
       "                             Mulher    215.701414    203.603153\n",
       "                    Branca   Homem   15454.091630  16427.954970\n",
       "                             Mulher  12770.781195  13372.919557\n",
       "                    Ignorado Homem       3.814313      7.362135\n",
       "                             Mulher      3.012540      1.750052\n",
       "                    Indígena Homem     139.424386    117.936429\n",
       "                             Mulher     81.759702     88.097507\n",
       "                    Parda    Homem   16160.252140  17240.569993\n",
       "                             Mulher  11479.802352  12033.596252\n",
       "                    Preta    Homem    3704.409906   3760.069549\n",
       "                             Mulher   2699.638423   2747.606338"
      ]
     },
     "execution_count": 89,
     "metadata": {},
     "output_type": "execute_result"
    }
   ],
   "source": [
    "pd.crosstab(pnadc_completa_2019Q4_2020Q1_filtrado['ano_tri'], [pnadc_completa_2019Q4_2020Q1_filtrado['VD4002'], pnadc_completa_2019Q4_2020Q1_filtrado['V2010'],  pnadc_completa_2019Q4_2020Q1_filtrado['V2007']], pnadc_completa_2019Q4_2020Q1_filtrado['V1028'], aggfunc='sum').T / 1000"
   ]
  },
  {
   "cell_type": "code",
   "execution_count": 97,
   "metadata": {},
   "outputs": [],
   "source": [
    "#Selecionar apenas os individuos que a situação de ocupação é diferente entre os trimestres\n",
    "pnadc_2019Q4_filtrado = pnadc_completa_2019Q4_2020Q1_filtrado[pnadc_completa_2019Q4_2020Q1_filtrado['ano_tri'] == '2019Q4']\n",
    "pnadc_2020Q1_filtrado = pnadc_completa_2019Q4_2020Q1_filtrado[pnadc_completa_2019Q4_2020Q1_filtrado['ano_tri'] == '2020Q1']"
   ]
  },
  {
   "cell_type": "code",
   "execution_count": 99,
   "metadata": {},
   "outputs": [],
   "source": [
    "filtrados_join =  pnadc_2019Q4_filtrado.join(pnadc_2020Q1_filtrado.set_index('ID'), on='ID', lsuffix='_2019Q4', rsuffix='_2020Q1', how='inner')"
   ]
  },
  {
   "cell_type": "code",
   "execution_count": 102,
   "metadata": {},
   "outputs": [],
   "source": [
    "filtrado_selecao = filtrados_join[['ID','VD4002_2019Q4','VD4002_2020Q1']]"
   ]
  },
  {
   "cell_type": "code",
   "execution_count": 103,
   "metadata": {},
   "outputs": [
    {
     "name": "stderr",
     "output_type": "stream",
     "text": [
      "C:\\Users\\est.matheus.brasil\\AppData\\Local\\Temp\\ipykernel_6984\\3183252017.py:1: SettingWithCopyWarning: \n",
      "A value is trying to be set on a copy of a slice from a DataFrame.\n",
      "Try using .loc[row_indexer,col_indexer] = value instead\n",
      "\n",
      "See the caveats in the documentation: https://pandas.pydata.org/pandas-docs/stable/user_guide/indexing.html#returning-a-view-versus-a-copy\n",
      "  filtrado_selecao['Comparativo'] = filtrado_selecao['VD4002_2019Q4'] == filtrado_selecao['VD4002_2020Q1']\n"
     ]
    }
   ],
   "source": [
    "filtrado_selecao['Comparativo'] = filtrado_selecao['VD4002_2019Q4'] == filtrado_selecao['VD4002_2020Q1']"
   ]
  },
  {
   "cell_type": "code",
   "execution_count": 117,
   "metadata": {},
   "outputs": [
    {
     "data": {
      "text/html": [
       "<div>\n",
       "<style scoped>\n",
       "    .dataframe tbody tr th:only-of-type {\n",
       "        vertical-align: middle;\n",
       "    }\n",
       "\n",
       "    .dataframe tbody tr th {\n",
       "        vertical-align: top;\n",
       "    }\n",
       "\n",
       "    .dataframe thead th {\n",
       "        text-align: right;\n",
       "    }\n",
       "</style>\n",
       "<table border=\"1\" class=\"dataframe\">\n",
       "  <thead>\n",
       "    <tr style=\"text-align: right;\">\n",
       "      <th></th>\n",
       "      <th>ID</th>\n",
       "      <th>VD4002_2019Q4</th>\n",
       "      <th>VD4002_2020Q1</th>\n",
       "      <th>Comparativo</th>\n",
       "    </tr>\n",
       "  </thead>\n",
       "  <tbody>\n",
       "    <tr>\n",
       "      <th>28</th>\n",
       "      <td>110000016970681986</td>\n",
       "      <td>Pessoas ocupadas</td>\n",
       "      <td>Pessoas desocupadas</td>\n",
       "      <td>False</td>\n",
       "    </tr>\n",
       "    <tr>\n",
       "      <th>29</th>\n",
       "      <td>11000001697010111997</td>\n",
       "      <td>Pessoas ocupadas</td>\n",
       "      <td>None</td>\n",
       "      <td>False</td>\n",
       "    </tr>\n",
       "    <tr>\n",
       "      <th>31</th>\n",
       "      <td>11000001610701861976</td>\n",
       "      <td>Pessoas ocupadas</td>\n",
       "      <td>None</td>\n",
       "      <td>False</td>\n",
       "    </tr>\n",
       "    <tr>\n",
       "      <th>53</th>\n",
       "      <td>1100000343812361993</td>\n",
       "      <td>Pessoas ocupadas</td>\n",
       "      <td>None</td>\n",
       "      <td>False</td>\n",
       "    </tr>\n",
       "    <tr>\n",
       "      <th>83</th>\n",
       "      <td>1100005841801231990</td>\n",
       "      <td>Pessoas ocupadas</td>\n",
       "      <td>Pessoas desocupadas</td>\n",
       "      <td>False</td>\n",
       "    </tr>\n",
       "    <tr>\n",
       "      <th>...</th>\n",
       "      <td>...</td>\n",
       "      <td>...</td>\n",
       "      <td>...</td>\n",
       "      <td>...</td>\n",
       "    </tr>\n",
       "    <tr>\n",
       "      <th>542533</th>\n",
       "      <td>53002980010706101998</td>\n",
       "      <td>Pessoas ocupadas</td>\n",
       "      <td>None</td>\n",
       "      <td>False</td>\n",
       "    </tr>\n",
       "    <tr>\n",
       "      <th>542538</th>\n",
       "      <td>530037924180111987</td>\n",
       "      <td>Pessoas ocupadas</td>\n",
       "      <td>Pessoas desocupadas</td>\n",
       "      <td>False</td>\n",
       "    </tr>\n",
       "    <tr>\n",
       "      <th>542578</th>\n",
       "      <td>53003792414802491989</td>\n",
       "      <td>Pessoas ocupadas</td>\n",
       "      <td>Pessoas desocupadas</td>\n",
       "      <td>False</td>\n",
       "    </tr>\n",
       "    <tr>\n",
       "      <th>542660</th>\n",
       "      <td>53004004214812941983</td>\n",
       "      <td>Pessoas ocupadas</td>\n",
       "      <td>None</td>\n",
       "      <td>False</td>\n",
       "    </tr>\n",
       "    <tr>\n",
       "      <th>542744</th>\n",
       "      <td>5300426629701841992</td>\n",
       "      <td>Pessoas ocupadas</td>\n",
       "      <td>Pessoas desocupadas</td>\n",
       "      <td>False</td>\n",
       "    </tr>\n",
       "  </tbody>\n",
       "</table>\n",
       "<p>18266 rows × 4 columns</p>\n",
       "</div>"
      ],
      "text/plain": [
       "                          ID     VD4002_2019Q4        VD4002_2020Q1  \\\n",
       "28        110000016970681986  Pessoas ocupadas  Pessoas desocupadas   \n",
       "29      11000001697010111997  Pessoas ocupadas                 None   \n",
       "31      11000001610701861976  Pessoas ocupadas                 None   \n",
       "53       1100000343812361993  Pessoas ocupadas                 None   \n",
       "83       1100005841801231990  Pessoas ocupadas  Pessoas desocupadas   \n",
       "...                      ...               ...                  ...   \n",
       "542533  53002980010706101998  Pessoas ocupadas                 None   \n",
       "542538    530037924180111987  Pessoas ocupadas  Pessoas desocupadas   \n",
       "542578  53003792414802491989  Pessoas ocupadas  Pessoas desocupadas   \n",
       "542660  53004004214812941983  Pessoas ocupadas                 None   \n",
       "542744   5300426629701841992  Pessoas ocupadas  Pessoas desocupadas   \n",
       "\n",
       "        Comparativo  \n",
       "28            False  \n",
       "29            False  \n",
       "31            False  \n",
       "53            False  \n",
       "83            False  \n",
       "...             ...  \n",
       "542533        False  \n",
       "542538        False  \n",
       "542578        False  \n",
       "542660        False  \n",
       "542744        False  \n",
       "\n",
       "[18266 rows x 4 columns]"
      ]
     },
     "execution_count": 117,
     "metadata": {},
     "output_type": "execute_result"
    }
   ],
   "source": [
    "filtrado_selecao[(filtrado_selecao['VD4002_2019Q4'] == 'Pessoas ocupadas') & (filtrado_selecao['VD4002_2020Q1'] != 'Pessoas ocupadas')]"
   ]
  },
  {
   "cell_type": "code",
   "execution_count": 119,
   "metadata": {},
   "outputs": [],
   "source": [
    "lista_id_mudanca = filtrado_selecao[(filtrado_selecao['VD4002_2019Q4'] == 'Pessoas ocupadas') & (filtrado_selecao['VD4002_2020Q1'] != 'Pessoas ocupadas')]['ID'].to_list()"
   ]
  },
  {
   "cell_type": "code",
   "execution_count": 127,
   "metadata": {},
   "outputs": [],
   "source": [
    "pnadc_identificados = pnadc_completa[(pnadc_completa['ID'].isin(lista_id_mudanca)) & (pnadc_completa['ano_tri']=='2020Q1')].drop_duplicates('ID')"
   ]
  },
  {
   "cell_type": "code",
   "execution_count": 168,
   "metadata": {},
   "outputs": [],
   "source": [
    "resultado_identificacao = pd.crosstab(pnadc_identificados['UF'], [pnadc_identificados['V2007'], pnadc_identificados['V2010']], pnadc_identificados['V1028'], aggfunc='sum')"
   ]
  },
  {
   "attachments": {},
   "cell_type": "markdown",
   "metadata": {},
   "source": [
    "O resultado encontrado é uma estimativa das características de localização, sexo e etnia das pessoas que estavam ocupadas e não se encontram mais nessa situação entre o período de 4T19 e 1T20.\n",
    "\n",
    "Entende-se que que o grupo composto de mulheres pardas representam o maior número de pessoas que ficaram desempregadas (ou outra situação) de um trimestre para outro. Logo em seguida veio o grupo de homens pardos, e mulheres brancas.\n",
    "\n",
    "No geral, as mulheres foram o grupo com o mais indivíduos que saíram da situação de ocupadas de 2019 para 2020."
   ]
  },
  {
   "cell_type": "code",
   "execution_count": 151,
   "metadata": {},
   "outputs": [
    {
     "data": {
      "text/plain": [
       "V2007   V2010   \n",
       "Homem   Amarela       23.896771\n",
       "        Branca      1214.834770\n",
       "        Ignorado       0.409385\n",
       "        Indígena      17.412209\n",
       "        Parda       1946.005120\n",
       "        Preta        385.239801\n",
       "Mulher  Amarela       26.158974\n",
       "        Branca      1457.578166\n",
       "        Ignorado       0.823057\n",
       "        Indígena      14.608150\n",
       "        Parda       1983.771384\n",
       "        Preta        420.741125\n",
       "dtype: float64"
      ]
     },
     "execution_count": 151,
     "metadata": {},
     "output_type": "execute_result"
    }
   ],
   "source": [
    "resultado_identificacao.sum(axis=0) / 1000"
   ]
  },
  {
   "cell_type": "code",
   "execution_count": 165,
   "metadata": {},
   "outputs": [
    {
     "data": {
      "text/plain": [
       "Ano\n",
       "2020    3.587798e+06\n",
       "dtype: float64"
      ]
     },
     "execution_count": 165,
     "metadata": {},
     "output_type": "execute_result"
    }
   ],
   "source": [
    "resultado_identificacao['Homem'].sum(axis=1)"
   ]
  },
  {
   "cell_type": "code",
   "execution_count": 166,
   "metadata": {},
   "outputs": [
    {
     "data": {
      "text/plain": [
       "Ano\n",
       "2020    3.903681e+06\n",
       "dtype: float64"
      ]
     },
     "execution_count": 166,
     "metadata": {},
     "output_type": "execute_result"
    }
   ],
   "source": [
    "resultado_identificacao['Mulher'].sum(axis=1)"
   ]
  },
  {
   "cell_type": "code",
   "execution_count": null,
   "metadata": {},
   "outputs": [],
   "source": [
    "#TODO: confirmar informação abaixo:\n",
    "#Entre as UF's que mais perderam ocupados, a maioria são do Nordeste e Norte. A maioria dos ocupados que perderam o emprego eram homens, com idade entre 25 e 34 anos, com ensino médio completo e que trabalhavam na área de serviços. (?)"
   ]
  },
  {
   "cell_type": "markdown",
   "metadata": {},
   "source": [
    "entre as UF que perderam mais pessoas ocupadas, São Paulo concentra o maior número, seguido por Minas Gerais e Bahia."
   ]
  },
  {
   "cell_type": "code",
   "execution_count": 172,
   "metadata": {},
   "outputs": [
    {
     "data": {
      "text/plain": [
       "UF\n",
       "São Paulo              1.419676e+06\n",
       "Minas Gerais           8.082498e+05\n",
       "Bahia                  6.666458e+05\n",
       "Rio de Janeiro         5.194357e+05\n",
       "Ceará                  4.150143e+05\n",
       "Paraná                 3.574926e+05\n",
       "Maranhão               3.566655e+05\n",
       "Rio Grande do Sul      3.545708e+05\n",
       "Pará                   3.315567e+05\n",
       "Pernambuco             2.575217e+05\n",
       "Goiás                  2.411214e+05\n",
       "Santa Catarina         2.306495e+05\n",
       "Piauí                  1.934640e+05\n",
       "Amazonas               1.695386e+05\n",
       "Paraíba                1.647827e+05\n",
       "Rio Grande do Norte    1.457705e+05\n",
       "Espírito Santo         1.340872e+05\n",
       "Mato Grosso            1.165142e+05\n",
       "Alagoas                1.086622e+05\n",
       "Sergipe                1.071431e+05\n",
       "Mato Grosso do Sul     1.020875e+05\n",
       "Distrito Federal       7.528230e+04\n",
       "Tocantins              6.979433e+04\n",
       "Rondônia               6.070550e+04\n",
       "Acre                   3.724928e+04\n",
       "Amapá                  2.494868e+04\n",
       "Roraima                2.284840e+04\n",
       "dtype: float64"
      ]
     },
     "execution_count": 172,
     "metadata": {},
     "output_type": "execute_result"
    }
   ],
   "source": [
    "resultado_identificacao.sum(axis=1).sort_values(ascending=False)"
   ]
  },
  {
   "cell_type": "code",
   "execution_count": 56,
   "metadata": {},
   "outputs": [
    {
     "name": "stdout",
     "output_type": "stream",
     "text": [
      "Tamanho da população estimado:  ano_tri  V2010   \n",
      "2019Q4   Amarela     9.036751e+10\n",
      "         Branca      1.398033e+09\n",
      "         Ignorado    4.002710e+12\n",
      "         Indígena    1.770828e+11\n",
      "         Parda       1.275901e+09\n",
      "         Preta       6.401894e+09\n",
      "2020Q1   Amarela     8.460609e+10\n",
      "         Branca      1.291800e+09\n",
      "         Ignorado    4.064858e+12\n",
      "         Indígena    1.739454e+11\n",
      "         Parda       1.161023e+09\n",
      "         Preta       6.065466e+09\n",
      "Name: V1028, dtype: float64\n"
     ]
    }
   ],
   "source": [
    "# calcular o tamanho da amostra\n",
    "sample_size = len(pnad_2022_1)\n",
    "\n",
    "# calcular a proporção da população para cada categoria de interesse\n",
    "population_proportions[\"Total\"] = pnad_2022_1.groupby(\"Ano\").sum()[\"V1028\"] / pnad_2022_1[\"V1028\"].sum()\n",
    "\n",
    "# calcular o tamanho da população total usando o tamanho da amostra e as proporções da população\n",
    "population_size = pnad_2022_1[\"V1028\"].sum() / population_proportions[\"Total\"]\n",
    "\n",
    "# imprimir o tamanho da população estimado\n",
    "print(\"Tamanho da população estimado: \", population_size)"
   ]
  },
  {
   "cell_type": "code",
   "execution_count": null,
   "metadata": {},
   "outputs": [
    {
     "data": {
      "text/plain": [
       "ano_tri\n",
       "2019Q4    2.257848e+07\n",
       "2020Q1    4.648891e+07\n",
       "2020Q2    7.529111e+07\n",
       "2020Q3    9.134497e+07\n",
       "2020Q4    1.126427e+08\n",
       "2021Q1    1.020547e+08\n",
       "2021Q2    8.784855e+07\n",
       "2021Q3    6.146946e+07\n",
       "2021Q4    4.276077e+07\n",
       "2022Q1    2.851745e+07\n",
       "2022Q2    1.583837e+07\n",
       "Freq: Q-DEC, Name: V1028, dtype: float64"
      ]
     },
     "execution_count": 39,
     "metadata": {},
     "output_type": "execute_result"
    }
   ],
   "source": [
    "pnadc_filtrada.groupby(\"ano_tri\").sum()[\"V1028\"]"
   ]
  }
 ],
 "metadata": {
  "kernelspec": {
   "display_name": "base",
   "language": "python",
   "name": "python3"
  },
  "language_info": {
   "codemirror_mode": {
    "name": "ipython",
    "version": 3
   },
   "file_extension": ".py",
   "mimetype": "text/x-python",
   "name": "python",
   "nbconvert_exporter": "python",
   "pygments_lexer": "ipython3",
   "version": "3.9.7 (default, Sep 16 2021, 16:59:28) [MSC v.1916 64 bit (AMD64)]"
  },
  "orig_nbformat": 4,
  "vscode": {
   "interpreter": {
    "hash": "08a400adeb6830322ec40344573c657b15a9eb2eef6e1c7ab2815bda50c98d3e"
   }
  }
 },
 "nbformat": 4,
 "nbformat_minor": 2
}
