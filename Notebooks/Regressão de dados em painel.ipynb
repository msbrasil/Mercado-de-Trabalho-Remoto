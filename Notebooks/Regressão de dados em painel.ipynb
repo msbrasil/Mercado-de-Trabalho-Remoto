{
 "cells": [
  {
   "attachments": {},
   "cell_type": "markdown",
   "metadata": {},
   "source": [
    "### Regressão dos microdados da PNAD COVID\n",
    "\n",
    "Regressão de dados em painel para estimadores de efeitos fixos.\n",
    "\n",
    "Variável depedente: Realização de teletrabalho\n",
    "\n",
    "Variáveis independentes: \n",
    "\n",
    "Variável t: maio a novembro de 2020."
   ]
  },
  {
   "cell_type": "markdown",
   "metadata": {},
   "source": [
    "Pacotes para manipulação e regressão"
   ]
  },
  {
   "cell_type": "code",
   "execution_count": 1,
   "metadata": {},
   "outputs": [],
   "source": [
    "import pandas as pd\n",
    "import numpy as np"
   ]
  },
  {
   "cell_type": "markdown",
   "metadata": {},
   "source": [
    "Dados utilizados"
   ]
  },
  {
   "cell_type": "code",
   "execution_count": 25,
   "metadata": {},
   "outputs": [],
   "source": [
    "pnad_covid_05 = pd.read_parquet('../Dados/Classificado/pnad_covid_052020_classificado.parquet')\n",
    "pnad_covid_06 = pd.read_parquet('../Dados/Classificado/pnad_covid_062020_classificado.parquet')\n",
    "pnad_covid_07 = pd.read_parquet('../Dados/Classificado/pnad_covid_072020_classificado.parquet')\n",
    "pnad_covid_08 = pd.read_parquet('../Dados/Classificado/pnad_covid_082020_classificado.parquet')\n",
    "pnad_covid_09 = pd.read_parquet('../Dados/Classificado/pnad_covid_092020_classificado.parquet')\n",
    "pnad_covid_10 = pd.read_parquet('../Dados/Classificado/pnad_covid_102020_classificado.parquet')\n",
    "pnad_covid_11 = pd.read_parquet('../Dados/Classificado/pnad_covid_112020_classificado.parquet')"
   ]
  },
  {
   "cell_type": "code",
   "execution_count": 26,
   "metadata": {},
   "outputs": [],
   "source": [
    "#juntar os dados\n",
    "pnad_covid = pd.concat([pnad_covid_05, pnad_covid_06, pnad_covid_07, pnad_covid_08, pnad_covid_09, pnad_covid_10, pnad_covid_11])\n"
   ]
  },
  {
   "cell_type": "code",
   "execution_count": 27,
   "metadata": {},
   "outputs": [],
   "source": [
    "del pnad_covid_05, pnad_covid_06, pnad_covid_07, pnad_covid_08, pnad_covid_09, pnad_covid_10, pnad_covid_11"
   ]
  },
  {
   "cell_type": "code",
   "execution_count": 28,
   "metadata": {},
   "outputs": [
    {
     "data": {
      "text/html": [
       "<div>\n",
       "<style scoped>\n",
       "    .dataframe tbody tr th:only-of-type {\n",
       "        vertical-align: middle;\n",
       "    }\n",
       "\n",
       "    .dataframe tbody tr th {\n",
       "        vertical-align: top;\n",
       "    }\n",
       "\n",
       "    .dataframe thead th {\n",
       "        text-align: right;\n",
       "    }\n",
       "</style>\n",
       "<table border=\"1\" class=\"dataframe\">\n",
       "  <thead>\n",
       "    <tr style=\"text-align: right;\">\n",
       "      <th></th>\n",
       "      <th>Ano</th>\n",
       "      <th>V1013</th>\n",
       "      <th>V1012</th>\n",
       "      <th>UF</th>\n",
       "      <th>C007C</th>\n",
       "      <th>A003</th>\n",
       "      <th>A004</th>\n",
       "      <th>A005</th>\n",
       "      <th>C007D</th>\n",
       "      <th>C01012</th>\n",
       "      <th>C007</th>\n",
       "      <th>V1032</th>\n",
       "      <th>Grandes Grupos</th>\n",
       "      <th>Grupos de Base</th>\n",
       "      <th>teleworkable</th>\n",
       "    </tr>\n",
       "  </thead>\n",
       "  <tbody>\n",
       "    <tr>\n",
       "      <th>0</th>\n",
       "      <td>2020</td>\n",
       "      <td>5</td>\n",
       "      <td>1</td>\n",
       "      <td>Rondônia</td>\n",
       "      <td>NaN</td>\n",
       "      <td>Mulher</td>\n",
       "      <td>Parda</td>\n",
       "      <td>Médio completo</td>\n",
       "      <td>Saúde humana e assistência social</td>\n",
       "      <td>1600.0</td>\n",
       "      <td>Empregado do setor privado</td>\n",
       "      <td>178.576054</td>\n",
       "      <td>NaN</td>\n",
       "      <td>NaN</td>\n",
       "      <td>NaN</td>\n",
       "    </tr>\n",
       "    <tr>\n",
       "      <th>1</th>\n",
       "      <td>2020</td>\n",
       "      <td>5</td>\n",
       "      <td>1</td>\n",
       "      <td>Rondônia</td>\n",
       "      <td>4120.0</td>\n",
       "      <td>Mulher</td>\n",
       "      <td>Parda</td>\n",
       "      <td>Médio completo</td>\n",
       "      <td>Saúde humana e assistência social</td>\n",
       "      <td>1200.0</td>\n",
       "      <td>Empregado do setor privado</td>\n",
       "      <td>203.139584</td>\n",
       "      <td>4.0</td>\n",
       "      <td>4120.0</td>\n",
       "      <td>1.0</td>\n",
       "    </tr>\n",
       "    <tr>\n",
       "      <th>2</th>\n",
       "      <td>2020</td>\n",
       "      <td>5</td>\n",
       "      <td>1</td>\n",
       "      <td>Rondônia</td>\n",
       "      <td>NaN</td>\n",
       "      <td>Mulher</td>\n",
       "      <td>Parda</td>\n",
       "      <td>Médio completo</td>\n",
       "      <td>NaN</td>\n",
       "      <td>NaN</td>\n",
       "      <td>NaN</td>\n",
       "      <td>203.495575</td>\n",
       "      <td>NaN</td>\n",
       "      <td>NaN</td>\n",
       "      <td>NaN</td>\n",
       "    </tr>\n",
       "    <tr>\n",
       "      <th>3</th>\n",
       "      <td>2020</td>\n",
       "      <td>5</td>\n",
       "      <td>1</td>\n",
       "      <td>Rondônia</td>\n",
       "      <td>NaN</td>\n",
       "      <td>Homem</td>\n",
       "      <td>Parda</td>\n",
       "      <td>Fundamental incompleto</td>\n",
       "      <td>NaN</td>\n",
       "      <td>NaN</td>\n",
       "      <td>NaN</td>\n",
       "      <td>235.484962</td>\n",
       "      <td>NaN</td>\n",
       "      <td>NaN</td>\n",
       "      <td>NaN</td>\n",
       "    </tr>\n",
       "    <tr>\n",
       "      <th>4</th>\n",
       "      <td>2020</td>\n",
       "      <td>5</td>\n",
       "      <td>4</td>\n",
       "      <td>Rondônia</td>\n",
       "      <td>9520.0</td>\n",
       "      <td>Homem</td>\n",
       "      <td>Parda</td>\n",
       "      <td>Fundamental incompleto</td>\n",
       "      <td>Serviço de alimentação (bares, restaurantes, a...</td>\n",
       "      <td>1300.0</td>\n",
       "      <td>Conta própria</td>\n",
       "      <td>222.234159</td>\n",
       "      <td>9.0</td>\n",
       "      <td>9520.0</td>\n",
       "      <td>0.0</td>\n",
       "    </tr>\n",
       "  </tbody>\n",
       "</table>\n",
       "</div>"
      ],
      "text/plain": [
       "    Ano V1013 V1012        UF   C007C    A003   A004                    A005   \n",
       "0  2020     5     1  Rondônia     NaN  Mulher  Parda          Médio completo  \\\n",
       "1  2020     5     1  Rondônia  4120.0  Mulher  Parda          Médio completo   \n",
       "2  2020     5     1  Rondônia     NaN  Mulher  Parda          Médio completo   \n",
       "3  2020     5     1  Rondônia     NaN   Homem  Parda  Fundamental incompleto   \n",
       "4  2020     5     4  Rondônia  9520.0   Homem  Parda  Fundamental incompleto   \n",
       "\n",
       "                                               C007D  C01012   \n",
       "0                  Saúde humana e assistência social  1600.0  \\\n",
       "1                  Saúde humana e assistência social  1200.0   \n",
       "2                                                NaN     NaN   \n",
       "3                                                NaN     NaN   \n",
       "4  Serviço de alimentação (bares, restaurantes, a...  1300.0   \n",
       "\n",
       "                         C007       V1032  Grandes Grupos  Grupos de Base   \n",
       "0  Empregado do setor privado  178.576054             NaN             NaN  \\\n",
       "1  Empregado do setor privado  203.139584             4.0          4120.0   \n",
       "2                         NaN  203.495575             NaN             NaN   \n",
       "3                         NaN  235.484962             NaN             NaN   \n",
       "4               Conta própria  222.234159             9.0          9520.0   \n",
       "\n",
       "   teleworkable  \n",
       "0           NaN  \n",
       "1           1.0  \n",
       "2           NaN  \n",
       "3           NaN  \n",
       "4           0.0  "
      ]
     },
     "execution_count": 28,
     "metadata": {},
     "output_type": "execute_result"
    }
   ],
   "source": [
    "pnad_covid.head()"
   ]
  },
  {
   "cell_type": "code",
   "execution_count": 43,
   "metadata": {},
   "outputs": [],
   "source": [
    "pnad_covid['data'] = pd.to_datetime(pnad_covid['Ano']+'-'+pnad_covid['V1013'], format='%Y-%m')"
   ]
  },
  {
   "cell_type": "code",
   "execution_count": 45,
   "metadata": {},
   "outputs": [],
   "source": [
    "pnad_covid.dropna(subset=['teleworkable'], inplace=True)"
   ]
  },
  {
   "cell_type": "code",
   "execution_count": null,
   "metadata": {},
   "outputs": [],
   "source": [
    "#TODO: Criar coluna ID para regredir os dados; acrescentar coluna de trabalho remoto"
   ]
  },
  {
   "attachments": {},
   "cell_type": "markdown",
   "metadata": {},
   "source": [
    "#### Modelo"
   ]
  },
  {
   "cell_type": "code",
   "execution_count": 46,
   "metadata": {},
   "outputs": [],
   "source": [
    "#Pacotes para modelagem\n",
    "import  statsmodels.api as sm \n",
    "from linearmodels.panel import PanelOLS"
   ]
  },
  {
   "cell_type": "code",
   "execution_count": 47,
   "metadata": {},
   "outputs": [
    {
     "ename": "ValueError",
     "evalue": "Series can only be used with a 2-level MultiIndex",
     "output_type": "error",
     "traceback": [
      "\u001b[0;31m---------------------------------------------------------------------------\u001b[0m",
      "\u001b[0;31mValueError\u001b[0m                                Traceback (most recent call last)",
      "Cell \u001b[0;32mIn[47], line 3\u001b[0m\n\u001b[1;32m      1\u001b[0m \u001b[39m# Calculating the alpha for each fund# adding the constant vector to the exogenous matrix\u001b[39;00m\n\u001b[1;32m      2\u001b[0m exog_variables \u001b[39m=\u001b[39m sm\u001b[39m.\u001b[39madd_constant(pnad_covid[[\u001b[39m'\u001b[39m\u001b[39mUF\u001b[39m\u001b[39m'\u001b[39m, \u001b[39m'\u001b[39m\u001b[39mA003\u001b[39m\u001b[39m'\u001b[39m, \u001b[39m'\u001b[39m\u001b[39mA004\u001b[39m\u001b[39m'\u001b[39m,\u001b[39m'\u001b[39m\u001b[39mA005\u001b[39m\u001b[39m'\u001b[39m,\u001b[39m'\u001b[39m\u001b[39mC01012\u001b[39m\u001b[39m'\u001b[39m,\u001b[39m'\u001b[39m\u001b[39mC007\u001b[39m\u001b[39m'\u001b[39m]])\u001b[39m# estimating the fixed effects model\u001b[39;00m\n\u001b[0;32m----> 3\u001b[0m f_effects_model \u001b[39m=\u001b[39m PanelOLS(\n\u001b[1;32m      4\u001b[0m     dependent \u001b[39m=\u001b[39;49m pnad_covid[\u001b[39m'\u001b[39;49m\u001b[39mteleworkable\u001b[39;49m\u001b[39m'\u001b[39;49m], \u001b[39m# endogenous variable (Y vector)\u001b[39;49;00m\n\u001b[1;32m      5\u001b[0m     exog \u001b[39m=\u001b[39;49m exog_variables, \u001b[39m# exogenous variables (X matrix)\u001b[39;49;00m\n\u001b[1;32m      6\u001b[0m     entity_effects \u001b[39m=\u001b[39;49m \u001b[39mTrue\u001b[39;49;00m, \u001b[39m# True -> Fixed Effects\u001b[39;49;00m\n\u001b[1;32m      7\u001b[0m     \u001b[39m#check_rank = False # True -> Balanced Panel\u001b[39;49;00m\n\u001b[1;32m      8\u001b[0m     )\n\u001b[1;32m     10\u001b[0m f_effects_results \u001b[39m=\u001b[39m f_effects_model\u001b[39m.\u001b[39mfit()\n",
      "File \u001b[0;32m~/.python/current/lib/python3.10/site-packages/linearmodels/panel/model.py:1216\u001b[0m, in \u001b[0;36mPanelOLS.__init__\u001b[0;34m(self, dependent, exog, weights, entity_effects, time_effects, other_effects, singletons, drop_absorbed, check_rank)\u001b[0m\n\u001b[1;32m   1203\u001b[0m \u001b[39mdef\u001b[39;00m \u001b[39m__init__\u001b[39m(\n\u001b[1;32m   1204\u001b[0m     \u001b[39mself\u001b[39m,\n\u001b[1;32m   1205\u001b[0m     dependent: PanelDataLike,\n\u001b[0;32m   (...)\u001b[0m\n\u001b[1;32m   1214\u001b[0m     check_rank: \u001b[39mbool\u001b[39m \u001b[39m=\u001b[39m \u001b[39mTrue\u001b[39;00m,\n\u001b[1;32m   1215\u001b[0m ) \u001b[39m-\u001b[39m\u001b[39m>\u001b[39m \u001b[39mNone\u001b[39;00m:\n\u001b[0;32m-> 1216\u001b[0m     \u001b[39msuper\u001b[39;49m()\u001b[39m.\u001b[39;49m\u001b[39m__init__\u001b[39;49m(dependent, exog, weights\u001b[39m=\u001b[39;49mweights, check_rank\u001b[39m=\u001b[39;49mcheck_rank)\n\u001b[1;32m   1218\u001b[0m     \u001b[39mself\u001b[39m\u001b[39m.\u001b[39m_entity_effects \u001b[39m=\u001b[39m entity_effects\n\u001b[1;32m   1219\u001b[0m     \u001b[39mself\u001b[39m\u001b[39m.\u001b[39m_time_effects \u001b[39m=\u001b[39m time_effects\n",
      "File \u001b[0;32m~/.python/current/lib/python3.10/site-packages/linearmodels/panel/model.py:312\u001b[0m, in \u001b[0;36m_PanelModelBase.__init__\u001b[0;34m(self, dependent, exog, weights, check_rank)\u001b[0m\n\u001b[1;32m    304\u001b[0m \u001b[39mdef\u001b[39;00m \u001b[39m__init__\u001b[39m(\n\u001b[1;32m    305\u001b[0m     \u001b[39mself\u001b[39m,\n\u001b[1;32m    306\u001b[0m     dependent: PanelDataLike,\n\u001b[0;32m   (...)\u001b[0m\n\u001b[1;32m    310\u001b[0m     check_rank: \u001b[39mbool\u001b[39m \u001b[39m=\u001b[39m \u001b[39mTrue\u001b[39;00m,\n\u001b[1;32m    311\u001b[0m ) \u001b[39m-\u001b[39m\u001b[39m>\u001b[39m \u001b[39mNone\u001b[39;00m:\n\u001b[0;32m--> 312\u001b[0m     \u001b[39mself\u001b[39m\u001b[39m.\u001b[39mdependent \u001b[39m=\u001b[39m PanelData(dependent, \u001b[39m\"\u001b[39;49m\u001b[39mDep\u001b[39;49m\u001b[39m\"\u001b[39;49m)\n\u001b[1;32m    313\u001b[0m     \u001b[39mself\u001b[39m\u001b[39m.\u001b[39mexog \u001b[39m=\u001b[39m PanelData(exog, \u001b[39m\"\u001b[39m\u001b[39mExog\u001b[39m\u001b[39m\"\u001b[39m)\n\u001b[1;32m    314\u001b[0m     \u001b[39mself\u001b[39m\u001b[39m.\u001b[39m_original_shape \u001b[39m=\u001b[39m \u001b[39mself\u001b[39m\u001b[39m.\u001b[39mdependent\u001b[39m.\u001b[39mshape\n",
      "File \u001b[0;32m~/.python/current/lib/python3.10/site-packages/linearmodels/panel/data.py:214\u001b[0m, in \u001b[0;36mPanelData.__init__\u001b[0;34m(self, x, var_name, convert_dummies, drop_first, copy)\u001b[0m\n\u001b[1;32m    212\u001b[0m     x \u001b[39m=\u001b[39m DataFrame(x)\n\u001b[1;32m    213\u001b[0m \u001b[39melif\u001b[39;00m \u001b[39misinstance\u001b[39m(x, Series):\n\u001b[0;32m--> 214\u001b[0m     \u001b[39mraise\u001b[39;00m \u001b[39mValueError\u001b[39;00m(\u001b[39m\"\u001b[39m\u001b[39mSeries can only be used with a 2-level MultiIndex\u001b[39m\u001b[39m\"\u001b[39m)\n\u001b[1;32m    216\u001b[0m \u001b[39mif\u001b[39;00m \u001b[39misinstance\u001b[39m(x, DataFrame):\n\u001b[1;32m    217\u001b[0m     \u001b[39mif\u001b[39;00m \u001b[39misinstance\u001b[39m(x\u001b[39m.\u001b[39mindex, MultiIndex):\n",
      "\u001b[0;31mValueError\u001b[0m: Series can only be used with a 2-level MultiIndex"
     ]
    }
   ],
   "source": [
    "# Calculating the alpha for each fund# adding the constant vector to the exogenous matrix\n",
    "exog_variables = sm.add_constant(pnad_covid[['UF', 'A003', 'A004','A005','C01012','C007']])# estimating the fixed effects model\n",
    "f_effects_model = PanelOLS(\n",
    "    dependent = pnad_covid['teleworkable'], # endogenous variable (Y vector)\n",
    "    exog = exog_variables, # exogenous variables (X matrix)\n",
    "    entity_effects = True, # True -> Fixed Effects\n",
    "    #check_rank = False # True -> Balanced Panel\n",
    "    )\n",
    "\n",
    "f_effects_results = f_effects_model.fit()"
   ]
  }
 ],
 "metadata": {
  "kernelspec": {
   "display_name": "Python 3",
   "language": "python",
   "name": "python3"
  },
  "language_info": {
   "codemirror_mode": {
    "name": "ipython",
    "version": 3
   },
   "file_extension": ".py",
   "mimetype": "text/x-python",
   "name": "python",
   "nbconvert_exporter": "python",
   "pygments_lexer": "ipython3",
   "version": "3.10.4"
  },
  "orig_nbformat": 4
 },
 "nbformat": 4,
 "nbformat_minor": 2
}
