{
 "cells": [
  {
   "attachments": {},
   "cell_type": "markdown",
   "metadata": {},
   "source": [
    "# **Tratamento** para estimação do potencial de trabalho remoto no Brasil em 2019 \n",
    "\n",
    "A estimação será feita usando, primeiramente, a base da PNAD Contínua suplementar de 2019 e, depois, a PNAD COVID\n",
    "\n",
    "Foi adotado a hipótese de que a perda de potencial de trabalho remoto devido à falta de infraestrutura é a mesma na PNAD-COVID que na PNAD Contínua de 2019.\n",
    "\n",
    "Trabalhar com as seguintes variáveis da PNAD Contínua: \n",
    "- V4010, que classifica as diversas ocupações, \n",
    "- a unidade da federação (UF), \n",
    "- gênero (V2007), \n",
    "- raça (V2010), \n",
    "- renda em todos os trabalhos (VD4019), \n",
    "- Setor Público (V4013, Código da principal atividade desse negócio/empresa),\n",
    "- educação (VD3004), \n",
    "- formal/informal (combinação da variável VD4009 com a variável V4019) e \n",
    "- o peso amostral (V1032).\n",
    "\n",
    "Da mesma forma, os equivalentes para a PNAD-COVID são:\n",
    "- V1013, mês da pesquisa,\n",
    "- V1012, semana da pesquisa,\n",
    "- UF, unidade da federação,\n",
    "- C007C, trabalho, cargo ou ocupação,\n",
    "- A003, gênero,\n",
    "- A004, raça,\n",
    "- A005, escolaridade,\n",
    "- C007D, setor público,\n",
    "- C01012, renda, \n",
    "- C007, formal informal e\n",
    "- o peso amostral, V1032.\n",
    "\n",
    "Não esquecer de filtrar a base para os registros que a 'dummy_infra' igual à 1."
   ]
  },
  {
   "cell_type": "code",
   "execution_count": 22,
   "metadata": {},
   "outputs": [],
   "source": [
    "#pacotes \n",
    "import pandas as pd\n",
    "import numpy as np\n",
    "import datetime as dt"
   ]
  },
  {
   "cell_type": "code",
   "execution_count": 2,
   "metadata": {},
   "outputs": [],
   "source": [
    "#Importação dos dados da PNAD Contínua 2019 (suplementar)\n",
    "\n",
    "#determina qual diretório usar para cada sistema operacional.\n",
    "# import os\n",
    "# if os.name == 'nt': #windows\n",
    "    # diretorio = 'C:\\\\Users\\\\est.matheus.brasil\\\\Documents\\\\Microdados PNAD Contínua\\\\suplementar\\\\'\n",
    "# \n",
    "# elif: #linux(ou mac)\n",
    "    # diretorio = '/home/matheus/Microdados PNAD/feather/'\n",
    "# \n",
    "\n",
    "filtro_pnadc = ['Trimestre','V4010', 'UF', 'V2007', 'V2010', 'VD4019', 'V4013', 'VD3004', 'VD4009', 'V4019', 'V1032', 'dummy_infra']\n",
    "pnadc_19 = pd.read_parquet('../Dados/pnad/PNADC_2019_editado.parquet', columns=filtro_pnadc)"
   ]
  },
  {
   "cell_type": "code",
   "execution_count": 8,
   "metadata": {},
   "outputs": [],
   "source": [
    "#Importação dos códigos de ocupação traduzidos\n",
    "\n",
    "ocupacoes = pd.read_excel('../Anexos/ocupacoes_traduzidas.xlsx')"
   ]
  },
  {
   "cell_type": "code",
   "execution_count": 23,
   "metadata": {},
   "outputs": [
    {
     "name": "stdout",
     "output_type": "stream",
     "text": [
      "Importando PNAD COVID 05 2020\n",
      "Importando PNAD COVID 06 2020\n",
      "Importando PNAD COVID 07 2020\n",
      "Importando PNAD COVID 08 2020\n",
      "Importando PNAD COVID 09 2020\n",
      "Importando PNAD COVID 10 2020\n",
      "Importando PNAD COVID 11 2020\n",
      "Fim da importação\n"
     ]
    }
   ],
   "source": [
    "#Importação dos dados da PNAD COVID\n",
    "\n",
    "#determina qual diretório usar para cada sistema operacional.\n",
    "# import os\n",
    "# if os.name == 'nt': #windows\n",
    "#     diretorio = 'C:\\\\Users\\\\est.matheus.brasil\\\\Documents\\\\Microdados PNAD Contínua\\\\feather_covid\\\\'\n",
    "\n",
    "# else: #linux(ou mac)\n",
    "#     diretorio = '/home/matheus/Microdados PNAD/PNAD_COVID/'\n",
    "\n",
    "# #Leitura de todas as bases com as variáveis selecionadas e criação de variáveis dinamicamente.\n",
    "\n",
    "filtro_pnad_covid = ['Ano', 'V1013', 'V1012', 'UF', 'C007C', 'A003', 'A004', 'A005', 'C007D', 'C01012', 'C007', 'V1032']\n",
    "\n",
    "diretorio = '../Dados/pnad_covid/'\n",
    "\n",
    "for i in range(5, 12):\n",
    "    if i < 10:\n",
    "        mes = '0' + str(i)\n",
    "    else:\n",
    "        mes = i\n",
    "    print(f'Importando PNAD COVID {mes} 2020')\n",
    "    globals()[f'pnad_covid_{mes}2020'] = pd.read_parquet(fr'{diretorio}PNAD_COVID_{mes}2020.parquet', columns=filtro_pnad_covid)\n",
    "\n",
    "print('Fim da importação')"
   ]
  },
  {
   "attachments": {},
   "cell_type": "markdown",
   "metadata": {},
   "source": [
    "### Junção dos códigos de ocupação com os dados da PNAD Contínua 2019"
   ]
  },
  {
   "cell_type": "code",
   "execution_count": 5,
   "metadata": {},
   "outputs": [],
   "source": [
    "#Coluna com o código da ocupação Major das ocupações traduzidas\n",
    "pnadc_19['COD_OCUP_MAJ'] = pnadc_19['V4010'].astype(str).str[:1]"
   ]
  },
  {
   "cell_type": "code",
   "execution_count": 6,
   "metadata": {},
   "outputs": [],
   "source": [
    "ocupacoes['Cod'] = ocupacoes['Cod'].astype(str)"
   ]
  },
  {
   "cell_type": "code",
   "execution_count": 7,
   "metadata": {},
   "outputs": [],
   "source": [
    "pnadc_19_remoto = pd.merge(pnadc_19, ocupacoes, left_on='COD_OCUP_MAJ', right_on='Cod', how='left')"
   ]
  },
  {
   "cell_type": "code",
   "execution_count": 8,
   "metadata": {},
   "outputs": [
    {
     "data": {
      "text/html": [
       "<div>\n",
       "<style scoped>\n",
       "    .dataframe tbody tr th:only-of-type {\n",
       "        vertical-align: middle;\n",
       "    }\n",
       "\n",
       "    .dataframe tbody tr th {\n",
       "        vertical-align: top;\n",
       "    }\n",
       "\n",
       "    .dataframe thead th {\n",
       "        text-align: right;\n",
       "    }\n",
       "</style>\n",
       "<table border=\"1\" class=\"dataframe\">\n",
       "  <thead>\n",
       "    <tr style=\"text-align: right;\">\n",
       "      <th></th>\n",
       "      <th>Trimestre</th>\n",
       "      <th>V4010</th>\n",
       "      <th>UF</th>\n",
       "      <th>V2007</th>\n",
       "      <th>V2010</th>\n",
       "      <th>VD4019</th>\n",
       "      <th>V4013</th>\n",
       "      <th>VD3004</th>\n",
       "      <th>VD4009</th>\n",
       "      <th>V4019</th>\n",
       "      <th>V1032</th>\n",
       "      <th>dummy_infra</th>\n",
       "      <th>COD_OCUP_MAJ</th>\n",
       "      <th>code_ONET</th>\n",
       "      <th>Title_ONET</th>\n",
       "      <th>teleworkable</th>\n",
       "      <th>Cod</th>\n",
       "      <th>Titulação</th>\n",
       "    </tr>\n",
       "  </thead>\n",
       "  <tbody>\n",
       "    <tr>\n",
       "      <th>0</th>\n",
       "      <td>1</td>\n",
       "      <td>3221</td>\n",
       "      <td>Rondônia</td>\n",
       "      <td>Mulher</td>\n",
       "      <td>Parda</td>\n",
       "      <td>1583.0</td>\n",
       "      <td>86001</td>\n",
       "      <td>Superior completo</td>\n",
       "      <td>Empregado no setor privado com carteira de tra...</td>\n",
       "      <td>NaN</td>\n",
       "      <td>149.43857</td>\n",
       "      <td>0</td>\n",
       "      <td>3</td>\n",
       "      <td>11-9141</td>\n",
       "      <td>Property, Real Estate, and Community Associati...</td>\n",
       "      <td>1.0</td>\n",
       "      <td>3</td>\n",
       "      <td>TÉCNICOS E PROFISSIONAIS DE NÍVEL MÉDIO</td>\n",
       "    </tr>\n",
       "    <tr>\n",
       "      <th>1</th>\n",
       "      <td>1</td>\n",
       "      <td>3221</td>\n",
       "      <td>Rondônia</td>\n",
       "      <td>Mulher</td>\n",
       "      <td>Parda</td>\n",
       "      <td>1583.0</td>\n",
       "      <td>86001</td>\n",
       "      <td>Superior completo</td>\n",
       "      <td>Empregado no setor privado com carteira de tra...</td>\n",
       "      <td>NaN</td>\n",
       "      <td>149.43857</td>\n",
       "      <td>0</td>\n",
       "      <td>3</td>\n",
       "      <td>13-1021</td>\n",
       "      <td>Buyers and Purchasing Agents, Farm Products</td>\n",
       "      <td>1.0</td>\n",
       "      <td>3</td>\n",
       "      <td>TÉCNICOS E PROFISSIONAIS DE NÍVEL MÉDIO</td>\n",
       "    </tr>\n",
       "  </tbody>\n",
       "</table>\n",
       "</div>"
      ],
      "text/plain": [
       "  Trimestre V4010        UF   V2007  V2010  VD4019  V4013             VD3004   \n",
       "0         1  3221  Rondônia  Mulher  Parda  1583.0  86001  Superior completo  \\\n",
       "1         1  3221  Rondônia  Mulher  Parda  1583.0  86001  Superior completo   \n",
       "\n",
       "                                              VD4009 V4019      V1032   \n",
       "0  Empregado no setor privado com carteira de tra...   NaN  149.43857  \\\n",
       "1  Empregado no setor privado com carteira de tra...   NaN  149.43857   \n",
       "\n",
       "   dummy_infra COD_OCUP_MAJ code_ONET   \n",
       "0            0            3   11-9141  \\\n",
       "1            0            3   13-1021   \n",
       "\n",
       "                                          Title_ONET  teleworkable Cod   \n",
       "0  Property, Real Estate, and Community Associati...           1.0   3  \\\n",
       "1        Buyers and Purchasing Agents, Farm Products           1.0   3   \n",
       "\n",
       "                                 Titulação  \n",
       "0  TÉCNICOS E PROFISSIONAIS DE NÍVEL MÉDIO  \n",
       "1  TÉCNICOS E PROFISSIONAIS DE NÍVEL MÉDIO  "
      ]
     },
     "execution_count": 8,
     "metadata": {},
     "output_type": "execute_result"
    }
   ],
   "source": [
    "pnadc_19_remoto.head(2)"
   ]
  },
  {
   "attachments": {},
   "cell_type": "markdown",
   "metadata": {},
   "source": [
    "Até aqui, a PNAD Contínua com a dummy de infraestrutura e a base de ocupações traduzidas da O*NET para COD foram e unidas no dataframe <code>pnadc_19_remoto</code>."
   ]
  },
  {
   "attachments": {},
   "cell_type": "markdown",
   "metadata": {},
   "source": [
    "### Classificação das ocupações na PNAD COVID e junção com a base de ocupações traduzidas da O*NET para COD"
   ]
  },
  {
   "cell_type": "code",
   "execution_count": 17,
   "metadata": {},
   "outputs": [],
   "source": [
    "dic_ocupacao_subgrupo = {\"Engenheiros e profissionais das ciências exatas e naturais (nível superior)\" : 21,\n",
    "\"Médicos, Enfermeiros e Profissionais de Saúde (nível superior)\" : 22,\n",
    "\"Professores, pedagogos\" : 23,\n",
    "\"profissionais de administração e negócios (nível superior)\" : 24,\n",
    "\"profissionais de tecnologia da informação e comunicação (nível superior)\" : 25,\n",
    "\"Profissionais de nível superior do direito e ciências sociais; religiosos e artistas\" : 26,\n",
    "\"Técnicos e profissionais de nível médio dadas ciências exatas e naturais e da Engenharia\" : 31,\n",
    "\"Técnicos e profissionais de nível médio da saúde \" : 32,\n",
    "\"Técnicos e profissionais de nível médio da administração, contabilidade e negócios\" : 33,\n",
    "\"Técnicos e profissionais de nível médio do direito, Ciências Sociais, Atividades Artísticas e Culturais e Afins\" : 34,\n",
    "\"Técnicos e profissionais de nível médio de Informática e Comunicação\" : 35,\n",
    "\"Auxiliares administrativos, secretários de escritório\" : 41,\n",
    "\"Recepcionistas, Atendentes de telemarketing e outros Funcionários de atendimento ao cliente\" : 42,\n",
    "\"Trabalhadores de contabilidade, controle de estoque, material\" : 43,\n",
    "\"Outros trabalhadores de apoio administrativo\" : 44,\n",
    "\"Cozinheiros, garçons, cabelereiros, porteiros e outros trabalhadores dos serviços pessoais\" : 51,\n",
    "\"Comerciantes e vendedores\" : 52,\n",
    "\"Cuidadores de crianças, doentes e idosos\" : 53,\n",
    "\"Seguranças, vigilantes, policiais civis e outros Trabalhadores dos serviços de proteção\" : 54,\n",
    "\"Agricultores, criadores de animais, pescadores, silvicultores e jardineiros\" : 60,\n",
    "\"Pedreiros, pintores, eletricistas, mecânicos, marceneiros, artesãos, costureiros, padeiros \" : 70,\n",
    "\"Operadores de máquinas e montadores indústria; condutores de veículos\" : 80,\n",
    "\"Empregados domésticos, auxiliares de limpeza, auxiliares de produção, carregadores, vendedores ambulantes e outras ocupações elementares na agropecuária, indústria, comércio e serviços\" : 90,}"
   ]
  },
  {
   "cell_type": "code",
   "execution_count": 73,
   "metadata": {},
   "outputs": [],
   "source": [
    "#Dicionário com ocupaçoes da pnad covid classificada pelo maior grupo da de ocupação da COD\n",
    "dict_ocupacoes_pnad_covid = {\n",
    "    'Técnico, profissional da saúde de nível médio':32,\n",
    "    'Secretária, recepcionista':42,\n",
    "    'Vendedor ambulante (feirante, camelô, comerciante de rua, quiosque)':90,\n",
    "    'Professor da educação infantil, de ensino fundamental, médio ou superior,':23,\n",
    "    'Pedreiro, servente de pedreiro, pintor, eletricista, marceneiro':70,\n",
    "    'Outros':0, \n",
    "    'Porteiro, zelador':51, \n",
    "    'Padeiro, açougueiro e doceiro':70,\n",
    "    'Motorista de caminhão (caminhoneiro),':80,\n",
    "    'Artesão, costureiro e sapateiro':70,\n",
    "    'Outra profissão de nível superior (advogado, engenheiro, contador, jornalista etc.)':25,\n",
    "    'Segurança, vigilante, outro trabalhador dos serviços de proteção':54,\n",
    "    'Faxineiro, auxiliar de limpeza etc. (em empresa pública ou privada),':90,\n",
    "    'Diretor, gerente, cargo político ou comissionado':24,\n",
    "    'Balconista, vendedor de loja':52,\n",
    "    'Operador de máquinas, montador na indústria;':80,\n",
    "    'Médico, enfermeiro, profissionais de saúde de nível superior':22,\n",
    "    'Cabeleireiro, manicure e afins':51,\n",
    "    'Auxiliar de escritório, escriturário':41,\n",
    "    'Mecânico de veículos, máquinas industriais etc.':70,\n",
    "    'Motorista (de aplicativo, de taxi, de van, de mototáxi, de ônibus)':80,\n",
    "    'Cozinheiro e garçom (de restaurantes, empresas)':51,\n",
    "    'Comerciante (dono do bar, da loja etc.)':52, \n",
    "    'Policial civil':54,\n",
    "    'Empregado doméstico, diarista, cozinheiro (em domicílios particulares),':90,\n",
    "    'Vendedor a domicílio, representante de vendas, vendedor de catálogo (Avon, Natura etc.)':52,\n",
    "    'Outro técnico ou profissional de nível médio':34,\n",
    "    'Agricultor, criador de animais, pescador, silvicultor e jardineiro':60,\n",
    "    'Entregador de mercadorias (de restaurante, de farmácia, de loja, Uber Eats, IFood, Rappy etc.)':90,\n",
    "    'Auxiliar de produção, de carga e descarga;':90,\n",
    "    'Pedagogo, professor de idiomas, música, arte e reforço escolar':23,\n",
    "    'Motoboy':9,\n",
    "    'Artista, religioso (padre, pastor etc.)':26,\n",
    "    'Operador de Telemarketing':42,\n",
    "    'Auxiliar da agropecuária (colhedor de frutas, boia fria, etc.)':90,\n",
    "    'Cuidador de crianças, doentes ou idosos':53,\n",
    "    'Entregador de mercadorias (de restaurante, de farmácia, de loja, Uber Esta, Iodo, Rapa etc.)':90\n",
    "    }"
   ]
  },
  {
   "cell_type": "code",
   "execution_count": 74,
   "metadata": {},
   "outputs": [
    {
     "name": "stdout",
     "output_type": "stream",
     "text": [
      "Classificando PNAD COVID 05 2020\n",
      "Classificando PNAD COVID 06 2020\n",
      "Classificando PNAD COVID 07 2020\n",
      "Classificando PNAD COVID 08 2020\n",
      "Classificando PNAD COVID 09 2020\n",
      "Classificando PNAD COVID 10 2020\n",
      "Classificando PNAD COVID 11 2020\n",
      "Fim da classificação\n"
     ]
    }
   ],
   "source": [
    "for i in range(5, 12):\n",
    "    if i < 10:\n",
    "        mes = '0' + str(i)\n",
    "    else:\n",
    "        mes = i\n",
    "    print(f'Classificando PNAD COVID {mes} 2020')\n",
    "    globals()[f'pnad_covid_{mes}2020']['COD_OCUP_MAJ'] = globals()[f'pnad_covid_{mes}2020']['C007C'].map(dict_ocupacoes_pnad_covid)\n",
    "    globals()[f'pnad_covid_{mes}2020']['COD_OCUP_MAJ'].fillna(999, inplace=True)\n",
    "    globals()[f'pnad_covid_{mes}2020']['COD_OCUP_MAJ'] = globals()[f'pnad_covid_{mes}2020']['COD_OCUP_MAJ'].astype(int)\n",
    "print('Fim da classificação')"
   ]
  },
  {
   "cell_type": "code",
   "execution_count": 5,
   "metadata": {},
   "outputs": [],
   "source": [
    "pnad_covid = pd.concat([pnad_covid_052020, pnad_covid_062020, pnad_covid_072020, pnad_covid_082020, pnad_covid_092020, pnad_covid_102020, pnad_covid_112020], ignore_index=True)"
   ]
  },
  {
   "cell_type": "code",
   "execution_count": 41,
   "metadata": {},
   "outputs": [],
   "source": [
    "subgrupo_filtrado = ocupacoes[(ocupacoes['Subgrupos Principal'] > 10)&(ocupacoes['Subgrupos Principal'] < 100)].drop_duplicates(subset=['Subgrupos Principal'], keep='first')"
   ]
  },
  {
   "cell_type": "code",
   "execution_count": 53,
   "metadata": {},
   "outputs": [],
   "source": [
    "subgrupo_filtrado = subgrupo_filtrado[['Grandes Grupos', 'Subgrupos Principal', 'teleworkable']]"
   ]
  },
  {
   "cell_type": "code",
   "execution_count": 10,
   "metadata": {},
   "outputs": [],
   "source": [
    "ocupacoes = ocupacoes[['Cod','teleworkable','Titulação']]"
   ]
  },
  {
   "cell_type": "code",
   "execution_count": 60,
   "metadata": {},
   "outputs": [
    {
     "name": "stderr",
     "output_type": "stream",
     "text": [
      "/tmp/ipykernel_14086/1236885171.py:3: SettingWithCopyWarning: \n",
      "A value is trying to be set on a copy of a slice from a DataFrame.\n",
      "Try using .loc[row_indexer,col_indexer] = value instead\n",
      "\n",
      "See the caveats in the documentation: https://pandas.pydata.org/pandas-docs/stable/user_guide/indexing.html#returning-a-view-versus-a-copy\n",
      "  subgrupo_filtrado['Subgrupos Principal'] = subgrupo_filtrado['Subgrupos Principal'].apply(lambda x: 90 if x > 90 else x)\n"
     ]
    }
   ],
   "source": [
    "#susbrecer valores de subgrupo principal maiores que 90 como 90\n",
    "\n",
    "subgrupo_filtrado['Subgrupos Principal'] = subgrupo_filtrado['Subgrupos Principal'].apply(lambda x: 90 if x > 90 else x)"
   ]
  },
  {
   "cell_type": "code",
   "execution_count": 65,
   "metadata": {},
   "outputs": [
    {
     "name": "stderr",
     "output_type": "stream",
     "text": [
      "/tmp/ipykernel_14086/526156553.py:1: SettingWithCopyWarning: \n",
      "A value is trying to be set on a copy of a slice from a DataFrame\n",
      "\n",
      "See the caveats in the documentation: https://pandas.pydata.org/pandas-docs/stable/user_guide/indexing.html#returning-a-view-versus-a-copy\n",
      "  subgrupo_filtrado.drop_duplicates(subset=['Subgrupos Principal'], keep='first', inplace=True)\n"
     ]
    }
   ],
   "source": [
    "subgrupo_filtrado.drop_duplicates(subset=['Subgrupos Principal'], keep='first', inplace=True)"
   ]
  },
  {
   "cell_type": "code",
   "execution_count": 25,
   "metadata": {},
   "outputs": [],
   "source": [
    "# #Nova coluna com o código da ocupação Major das ocupações traduzidas\n",
    "# pnad_covid['COD_OCUP_MAJ'] = pnad_covid['C007C'].map(dict_ocupacoes_pnad_covid)\n",
    "# #converter para inteiro\n",
    "# pnad_covid['COD_OCUP_MAJ'].fillna(999, inplace=True)\n",
    "# pnad_covid['COD_OCUP_MAJ'] = pnad_covid['COD_OCUP_MAJ'].astype(int)\n"
   ]
  },
  {
   "cell_type": "code",
   "execution_count": 11,
   "metadata": {},
   "outputs": [],
   "source": [
    "ocupacoes['Cod'] = ocupacoes['Cod'].astype(int)"
   ]
  },
  {
   "cell_type": "code",
   "execution_count": 76,
   "metadata": {},
   "outputs": [
    {
     "ename": "KeyError",
     "evalue": "'pnad_covid_052020'",
     "output_type": "error",
     "traceback": [
      "\u001b[0;31m---------------------------------------------------------------------------\u001b[0m",
      "\u001b[0;31mKeyError\u001b[0m                                  Traceback (most recent call last)",
      "Cell \u001b[0;32mIn[76], line 6\u001b[0m\n\u001b[1;32m      4\u001b[0m \u001b[39melse\u001b[39;00m:\n\u001b[1;32m      5\u001b[0m     mes \u001b[39m=\u001b[39m i\n\u001b[0;32m----> 6\u001b[0m \u001b[39mglobals\u001b[39m()[\u001b[39mf\u001b[39m\u001b[39m'\u001b[39m\u001b[39mpnad_covid_\u001b[39m\u001b[39m{\u001b[39;00mmes\u001b[39m}\u001b[39;00m\u001b[39m2020\u001b[39m\u001b[39m'\u001b[39m] \u001b[39m=\u001b[39m pd\u001b[39m.\u001b[39mmerge(\u001b[39mglobals\u001b[39;49m()[\u001b[39mf\u001b[39;49m\u001b[39m'\u001b[39;49m\u001b[39mpnad_covid_\u001b[39;49m\u001b[39m{\u001b[39;49;00mmes\u001b[39m}\u001b[39;49;00m\u001b[39m2020\u001b[39;49m\u001b[39m'\u001b[39;49m], subgrupo_filtrado, left_on\u001b[39m=\u001b[39m\u001b[39m'\u001b[39m\u001b[39mCOD_OCUP_MAJ\u001b[39m\u001b[39m'\u001b[39m, right_on\u001b[39m=\u001b[39m\u001b[39m'\u001b[39m\u001b[39mSubgrupos Principal\u001b[39m\u001b[39m'\u001b[39m, how\u001b[39m=\u001b[39m\u001b[39m'\u001b[39m\u001b[39mleft\u001b[39m\u001b[39m'\u001b[39m)\n\u001b[1;32m      7\u001b[0m \u001b[39mprint\u001b[39m(\u001b[39mf\u001b[39m\u001b[39m'\u001b[39m\u001b[39mMerge de ocupações com PNAD COVID \u001b[39m\u001b[39m{\u001b[39;00mmes\u001b[39m}\u001b[39;00m\u001b[39m 2020\u001b[39m\u001b[39m'\u001b[39m)\n\u001b[1;32m      8\u001b[0m \u001b[39mglobals\u001b[39m()[\u001b[39mf\u001b[39m\u001b[39m'\u001b[39m\u001b[39mpnad_covid_\u001b[39m\u001b[39m{\u001b[39;00mmes\u001b[39m}\u001b[39;00m\u001b[39m2020\u001b[39m\u001b[39m'\u001b[39m]\u001b[39m.\u001b[39mto_parquet(\u001b[39mf\u001b[39m\u001b[39m'\u001b[39m\u001b[39m../Dados/Classificado/pnad_covid_\u001b[39m\u001b[39m{\u001b[39;00mmes\u001b[39m}\u001b[39;00m\u001b[39m2020_classificado.parquet\u001b[39m\u001b[39m'\u001b[39m)\n",
      "\u001b[0;31mKeyError\u001b[0m: 'pnad_covid_052020'"
     ]
    }
   ],
   "source": [
    "for i in range(5, 12):\n",
    "    if i < 10:\n",
    "        mes = '0' + str(i)\n",
    "    else:\n",
    "        mes = i\n",
    "    globals()[f'pnad_covid_{mes}2020'] = pd.merge(globals()[f'pnad_covid_{mes}2020'], subgrupo_filtrado, left_on='COD_OCUP_MAJ', right_on='Subgrupos Principal', how='left')\n",
    "    print(f'Merge de ocupações com PNAD COVID {mes} 2020')\n",
    "    globals()[f'pnad_covid_{mes}2020'].to_parquet(f'../Dados/Classificado/pnad_covid_{mes}2020_classificado.parquet')\n",
    "    print(f'arquivo parquet pnad_covid_{mes} criado')\n",
    "    del globals()[f'pnad_covid_{mes}2020']\n",
    "    print(f'Variável pnad_covid_{mes} deletada')\n",
    "print('Fim do merge')"
   ]
  },
  {
   "cell_type": "code",
   "execution_count": 27,
   "metadata": {},
   "outputs": [],
   "source": [
    "pnad_covid_remoto = pd.merge(pnad_covid, ocupacoes, left_on='COD_OCUP_MAJ', right_on='Cod', how='left')"
   ]
  },
  {
   "cell_type": "code",
   "execution_count": null,
   "metadata": {},
   "outputs": [],
   "source": [
    "#Criação dos arquivos .feather para cada mês da PNAD COVID classificados\n",
    "for i in range(5, 12):\n",
    "    if i < 10:\n",
    "        mes = '0' + str(i)\n",
    "    else:\n",
    "        mes = i\n",
    "    print(f'Criando PNAD COVID {mes} 2020 classificada')\n",
    "    globals()[f'pnad_covid_{mes}2020'].to_feather(f'C:\\\\Users\\\\est.matheus.brasil\\\\Documents\\\\Microdados PNAD Contínua\\\\suplementar\\\\pnad_covid_{mes}2020_classificada.feather')\n",
    "print('Fim da criação')"
   ]
  },
  {
   "cell_type": "code",
   "execution_count": null,
   "metadata": {},
   "outputs": [],
   "source": [
    "#apenas o valor agregado\n",
    "pot_pnad_covid = pd.read_excel('..\\\\Anexos\\\\pot_pnad_covid.xlsx')\n",
    "pot_pnad_infra = pd.read_excel('..\\\\Anexos\\\\pot_pnad_infra.xlsx')\n",
    "pot_pnad = pd.read_excel('..\\\\Anexos\\\\pot_pnad.xlsx')"
   ]
  },
  {
   "cell_type": "markdown",
   "metadata": {},
   "source": [
    "### Classificação das ocupações na PNAD COVID"
   ]
  },
  {
   "cell_type": "code",
   "execution_count": 29,
   "metadata": {},
   "outputs": [],
   "source": [
    "classificao_pnad_covid = pd.read_excel('../Anexos/covid_ocupacoes_teleworkable.xlsx')"
   ]
  },
  {
   "cell_type": "code",
   "execution_count": 13,
   "metadata": {},
   "outputs": [],
   "source": [
    "classificao_pnad_covid['teleworkable'] = classificao_pnad_covid['teleworkable'].astype(int)"
   ]
  },
  {
   "cell_type": "markdown",
   "metadata": {},
   "source": [
    "### Classificação da pnad_covid"
   ]
  },
  {
   "cell_type": "code",
   "execution_count": 30,
   "metadata": {},
   "outputs": [],
   "source": [
    "#criar dicionario com as Ocupações e o valor de teleworkable\n",
    "\n",
    "dict_ocupacoes_pnad_covid = dict(zip(classificao_pnad_covid['Ocupação'], classificao_pnad_covid['Grupos de Base']))"
   ]
  },
  {
   "cell_type": "code",
   "execution_count": 32,
   "metadata": {},
   "outputs": [],
   "source": [
    "classificacao_filtrado = classificao_pnad_covid[['Grandes Grupos','Grupos de Base','teleworkable']]"
   ]
  },
  {
   "cell_type": "code",
   "execution_count": 33,
   "metadata": {},
   "outputs": [
    {
     "name": "stdout",
     "output_type": "stream",
     "text": [
      "Merge de ocupações com PNAD COVID 05 2020\n",
      "arquivo parquet pnad_covid_05 criado\n",
      "Variável pnad_covid_05 deletada\n",
      "Merge de ocupações com PNAD COVID 06 2020\n",
      "arquivo parquet pnad_covid_06 criado\n",
      "Variável pnad_covid_06 deletada\n",
      "Merge de ocupações com PNAD COVID 07 2020\n",
      "arquivo parquet pnad_covid_07 criado\n",
      "Variável pnad_covid_07 deletada\n",
      "Merge de ocupações com PNAD COVID 08 2020\n",
      "arquivo parquet pnad_covid_08 criado\n",
      "Variável pnad_covid_08 deletada\n",
      "Merge de ocupações com PNAD COVID 09 2020\n",
      "arquivo parquet pnad_covid_09 criado\n",
      "Variável pnad_covid_09 deletada\n",
      "Merge de ocupações com PNAD COVID 10 2020\n",
      "arquivo parquet pnad_covid_10 criado\n",
      "Variável pnad_covid_10 deletada\n",
      "Merge de ocupações com PNAD COVID 11 2020\n",
      "arquivo parquet pnad_covid_11 criado\n",
      "Variável pnad_covid_11 deletada\n",
      "Fim do merge\n"
     ]
    }
   ],
   "source": [
    "for i in range(5, 12):\n",
    "    if i < 10:\n",
    "        mes = '0' + str(i)\n",
    "    else:\n",
    "        mes = i\n",
    "    globals()[f'pnad_covid_{mes}2020']['C007C'] = globals()[f'pnad_covid_{mes}2020']['C007C'].map(dict_ocupacoes_pnad_covid)\n",
    "    globals()[f'pnad_covid_{mes}2020'] = pd.merge(globals()[f'pnad_covid_{mes}2020'], classificacao_filtrado, how='left', left_on='C007C', right_on='Grupos de Base')\n",
    "    print(f'Merge de ocupações com PNAD COVID {mes} 2020')\n",
    "    globals()[f'pnad_covid_{mes}2020'].to_parquet(f'../Dados/Classificado/pnad_covid_{mes}2020_classificado.parquet')\n",
    "    print(f'arquivo parquet pnad_covid_{mes} criado')\n",
    "    del globals()[f'pnad_covid_{mes}2020']\n",
    "    print(f'Variável pnad_covid_{mes} deletada')\n",
    "print('Fim do merge')"
   ]
  },
  {
   "cell_type": "code",
   "execution_count": null,
   "metadata": {},
   "outputs": [],
   "source": []
  }
 ],
 "metadata": {
  "kernelspec": {
   "display_name": "boletim",
   "language": "python",
   "name": "python3"
  },
  "language_info": {
   "codemirror_mode": {
    "name": "ipython",
    "version": 3
   },
   "file_extension": ".py",
   "mimetype": "text/x-python",
   "name": "python",
   "nbconvert_exporter": "python",
   "pygments_lexer": "ipython3",
   "version": "3.10.4"
  },
  "orig_nbformat": 4
 },
 "nbformat": 4,
 "nbformat_minor": 2
}
