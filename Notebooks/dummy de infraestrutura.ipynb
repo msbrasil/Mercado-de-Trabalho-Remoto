{
 "cells": [
  {
   "attachments": {},
   "cell_type": "markdown",
   "metadata": {},
   "source": [
    "# Criação da variável dummy de infraestrutura\n",
    "\n",
    "O artigo da FGV considera uma infraestrutura mínima para que um trabalhador possa executar as suas funções de casa.\n",
    "\n",
    "Considera-se como infraestrutura mínima a existência de energia elétrica de forma regular no domicílio, acesso domiciliar à internet e a presença de pelo menos um microcomputador para que o trabalhador possa executar as suas tarefas de casa.\n",
    "\n",
    "A variável dummy de infraestrutura foi construída utilizando as seguintes variáveis da **PNAD Contínua**: \n",
    "- S01015 sobre frequência da energia elétrica no domicílio; \n",
    "- S01028, que pergunta se existe um microcomputador no domicílio e \n",
    "- S01029 para a existência de internet no domicílio.\n",
    "\n",
    "A dummy terá valor 1 para os trabalhadores que possuem os três itens e zero para o trabalhador que não morar em domicílio com aquelas características.\n",
    "\n",
    "Foi adotado a hipótese de que a perda de potencial de trabalho remoto devido à falta de infraestrutura é a mesma na PNAD-COVID que na PNAD Contínua de 2019."
   ]
  },
  {
   "cell_type": "code",
   "execution_count": 1,
   "metadata": {},
   "outputs": [],
   "source": [
    "#pacotes \n",
    "import pandas as pd\n",
    "import numpy as np\n",
    "import datetime as dt"
   ]
  },
  {
   "cell_type": "code",
   "execution_count": 2,
   "metadata": {},
   "outputs": [],
   "source": [
    "#Importação dos dados da PNAD Contínua\n",
    "\n",
    "#determina qual diretório usar para cada sistema operacional.\n",
    "import os\n",
    "if os.name == 'nt': #windows\n",
    "    diretorio = 'C:\\\\Users\\\\est.matheus.brasil\\\\Documents\\\\Microdados PNAD Contínua\\\\suplementar\\\\'\n",
    "\n",
    "else: #linux(ou mac)\n",
    "    diretorio = '/home/matheus/Microdados PNAD/feather/'\n",
    "\n",
    "pnadc_19 = pd.read_feather(fr'{diretorio}PNADC_2019_sup.feather')\n"
   ]
  },
  {
   "cell_type": "code",
   "execution_count": 4,
   "metadata": {},
   "outputs": [],
   "source": [
    "pnadc_19.to_parquet('../Dados/pnad/PNADC_2019_SUP.parquet')"
   ]
  },
  {
   "cell_type": "code",
   "execution_count": 32,
   "metadata": {},
   "outputs": [
    {
     "data": {
      "text/html": [
       "<div>\n",
       "<style scoped>\n",
       "    .dataframe tbody tr th:only-of-type {\n",
       "        vertical-align: middle;\n",
       "    }\n",
       "\n",
       "    .dataframe tbody tr th {\n",
       "        vertical-align: top;\n",
       "    }\n",
       "\n",
       "    .dataframe thead th {\n",
       "        text-align: right;\n",
       "    }\n",
       "</style>\n",
       "<table border=\"1\" class=\"dataframe\">\n",
       "  <thead>\n",
       "    <tr style=\"text-align: right;\">\n",
       "      <th></th>\n",
       "      <th>Ano</th>\n",
       "      <th>Trimestre</th>\n",
       "      <th>UF</th>\n",
       "      <th>Capital</th>\n",
       "      <th>RM_RIDE</th>\n",
       "      <th>UPA</th>\n",
       "      <th>Estrato</th>\n",
       "      <th>V1008</th>\n",
       "      <th>V1014</th>\n",
       "      <th>V1022</th>\n",
       "      <th>...</th>\n",
       "      <th>V1032197</th>\n",
       "      <th>V1032198</th>\n",
       "      <th>V1032199</th>\n",
       "      <th>V1032200</th>\n",
       "      <th>ID_DOMICILIO</th>\n",
       "      <th>CO1</th>\n",
       "      <th>CO1e</th>\n",
       "      <th>CO2</th>\n",
       "      <th>CO2e</th>\n",
       "      <th>CO3</th>\n",
       "    </tr>\n",
       "  </thead>\n",
       "  <tbody>\n",
       "    <tr>\n",
       "      <th>0</th>\n",
       "      <td>2019</td>\n",
       "      <td>1</td>\n",
       "      <td>Rondônia</td>\n",
       "      <td>Município de Porto Velho (RO)</td>\n",
       "      <td>NaN</td>\n",
       "      <td>110000016</td>\n",
       "      <td>1110011</td>\n",
       "      <td>01</td>\n",
       "      <td>07</td>\n",
       "      <td>Urbana</td>\n",
       "      <td>...</td>\n",
       "      <td>0.0</td>\n",
       "      <td>161.124599</td>\n",
       "      <td>0.0</td>\n",
       "      <td>0.0</td>\n",
       "      <td>1100000160107</td>\n",
       "      <td>1.01385</td>\n",
       "      <td>1.019669</td>\n",
       "      <td>1.136946</td>\n",
       "      <td>1.143471</td>\n",
       "      <td>1.121414</td>\n",
       "    </tr>\n",
       "    <tr>\n",
       "      <th>1</th>\n",
       "      <td>2019</td>\n",
       "      <td>1</td>\n",
       "      <td>Rondônia</td>\n",
       "      <td>Município de Porto Velho (RO)</td>\n",
       "      <td>NaN</td>\n",
       "      <td>110000016</td>\n",
       "      <td>1110011</td>\n",
       "      <td>01</td>\n",
       "      <td>07</td>\n",
       "      <td>Urbana</td>\n",
       "      <td>...</td>\n",
       "      <td>0.0</td>\n",
       "      <td>161.124599</td>\n",
       "      <td>0.0</td>\n",
       "      <td>0.0</td>\n",
       "      <td>1100000160107</td>\n",
       "      <td>1.01385</td>\n",
       "      <td>1.019669</td>\n",
       "      <td>1.136946</td>\n",
       "      <td>1.143471</td>\n",
       "      <td>1.121414</td>\n",
       "    </tr>\n",
       "    <tr>\n",
       "      <th>2</th>\n",
       "      <td>2019</td>\n",
       "      <td>1</td>\n",
       "      <td>Rondônia</td>\n",
       "      <td>Município de Porto Velho (RO)</td>\n",
       "      <td>NaN</td>\n",
       "      <td>110000016</td>\n",
       "      <td>1110011</td>\n",
       "      <td>01</td>\n",
       "      <td>07</td>\n",
       "      <td>Urbana</td>\n",
       "      <td>...</td>\n",
       "      <td>0.0</td>\n",
       "      <td>161.124599</td>\n",
       "      <td>0.0</td>\n",
       "      <td>0.0</td>\n",
       "      <td>1100000160107</td>\n",
       "      <td>1.01385</td>\n",
       "      <td>1.019669</td>\n",
       "      <td>1.136946</td>\n",
       "      <td>1.143471</td>\n",
       "      <td>1.121414</td>\n",
       "    </tr>\n",
       "  </tbody>\n",
       "</table>\n",
       "<p>3 rows × 496 columns</p>\n",
       "</div>"
      ],
      "text/plain": [
       "    Ano Trimestre        UF                        Capital RM_RIDE        UPA  \\\n",
       "0  2019         1  Rondônia  Município de Porto Velho (RO)     NaN  110000016   \n",
       "1  2019         1  Rondônia  Município de Porto Velho (RO)     NaN  110000016   \n",
       "2  2019         1  Rondônia  Município de Porto Velho (RO)     NaN  110000016   \n",
       "\n",
       "   Estrato V1008 V1014   V1022  ... V1032197    V1032198  V1032199  V1032200  \\\n",
       "0  1110011    01    07  Urbana  ...      0.0  161.124599       0.0       0.0   \n",
       "1  1110011    01    07  Urbana  ...      0.0  161.124599       0.0       0.0   \n",
       "2  1110011    01    07  Urbana  ...      0.0  161.124599       0.0       0.0   \n",
       "\n",
       "    ID_DOMICILIO      CO1      CO1e       CO2      CO2e       CO3  \n",
       "0  1100000160107  1.01385  1.019669  1.136946  1.143471  1.121414  \n",
       "1  1100000160107  1.01385  1.019669  1.136946  1.143471  1.121414  \n",
       "2  1100000160107  1.01385  1.019669  1.136946  1.143471  1.121414  \n",
       "\n",
       "[3 rows x 496 columns]"
      ]
     },
     "execution_count": 32,
     "metadata": {},
     "output_type": "execute_result"
    }
   ],
   "source": [
    "pnadc_19.head(3)"
   ]
  },
  {
   "cell_type": "markdown",
   "metadata": {},
   "source": [
    "### Criação da dummy de infraestrutura"
   ]
  },
  {
   "cell_type": "code",
   "execution_count": 33,
   "metadata": {},
   "outputs": [
    {
     "data": {
      "text/plain": [
       "Diária, em tempo integral    433005\n",
       "Diária, por algumas horas      3129\n",
       "Outra frequência               2530\n",
       "Name: S01015, dtype: int64"
      ]
     },
     "execution_count": 33,
     "metadata": {},
     "output_type": "execute_result"
    }
   ],
   "source": [
    "pnadc_19['S01015'].value_counts()"
   ]
  },
  {
   "cell_type": "code",
   "execution_count": 34,
   "metadata": {},
   "outputs": [],
   "source": [
    "pnadc_19[['S01015','S01028','S01029']]\n",
    "\n",
    "#criar nova coluna chamada \"dummy_infraesrutura\" com valor 1 se as colunas S01015, S01028 e S01029 forem iguais \"Diária, em tempo integral\", sim e sim, respectivamente.\n",
    "\n",
    "pnadc_19['dummy_infra'] = np.where((pnadc_19['S01015'] == 'Diária, em tempo integral') & (pnadc_19['S01028'] == 'Sim') & (pnadc_19['S01029'] == 'Sim'), 1, 0)"
   ]
  },
  {
   "cell_type": "code",
   "execution_count": 35,
   "metadata": {},
   "outputs": [
    {
     "data": {
      "text/plain": [
       "0    285680\n",
       "1    158110\n",
       "Name: dummy_infra, dtype: int64"
      ]
     },
     "execution_count": 35,
     "metadata": {},
     "output_type": "execute_result"
    }
   ],
   "source": [
    "pnadc_19['dummy_infra'].value_counts()"
   ]
  },
  {
   "cell_type": "code",
   "execution_count": 37,
   "metadata": {},
   "outputs": [],
   "source": [
    "#Reescrever o arquivo com a nova coluna\n",
    "\n",
    "pnadc_19.to_feather(fr'{diretorio}PNADC_2019_editado.feather')"
   ]
  },
  {
   "cell_type": "code",
   "execution_count": 36,
   "metadata": {},
   "outputs": [],
   "source": [
    "#criar nova coluna que contenha o valor 1 se as colunas"
   ]
  }
 ],
 "metadata": {
  "kernelspec": {
   "display_name": "boletim",
   "language": "python",
   "name": "python3"
  },
  "language_info": {
   "codemirror_mode": {
    "name": "ipython",
    "version": 3
   },
   "file_extension": ".py",
   "mimetype": "text/x-python",
   "name": "python",
   "nbconvert_exporter": "python",
   "pygments_lexer": "ipython3",
   "version": "3.10.4"
  },
  "orig_nbformat": 4
 },
 "nbformat": 4,
 "nbformat_minor": 2
}
