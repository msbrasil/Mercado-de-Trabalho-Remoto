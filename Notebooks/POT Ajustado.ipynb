{
 "cells": [
  {
   "cell_type": "markdown",
   "metadata": {},
   "source": [
    "### Ajuste do trabalho remoto potencial \n",
    "\n",
    "O ajuste deve ser realizada através da seguinte equação:\n",
    "\n",
    "$POT^K_{PNAD-COVID-INFRA} = POT^K_{PNAD-COVID} \\times \\frac{POT^K_{PNAD-INFRA}}{POT^K_{PNAD}}$\n",
    "\n",
    "Em que:\n",
    "\n",
    "- $POT^K_{PNAD-COVID-INFRA}$ é o trabalho remoto potencial da PNAD-COVID ajustado pela infraestrutura,\n",
    "\n",
    "- $POT^K_{PNAD-COVID}$ é o potencial de trabalho remoto da PNAD-COVID sem o ajuste da infraestrutura,\n",
    "\n",
    "- $POT^K_{PNAD-INFRA}$ é o potencial de trabalho remoto da PNAD Contínua de 2019 com ajuste de infraestrutura e \n",
    "\n",
    "- $POT^K_{PNAD}$ é o potencial de trabalho remoto calculado com base na PNAD Contínua de 2019 sem o ajuste de infraestrutura.\n"
   ]
  },
  {
   "cell_type": "code",
   "execution_count": 3,
   "metadata": {},
   "outputs": [],
   "source": [
    "import pandas as pd\n",
    "import numpy as np"
   ]
  },
  {
   "cell_type": "code",
   "execution_count": 4,
   "metadata": {},
   "outputs": [
    {
     "name": "stdout",
     "output_type": "stream",
     "text": [
      "Importando PNAD COVID 05 2020\n",
      "Importando PNAD COVID 06 2020\n",
      "Importando PNAD COVID 07 2020\n",
      "Importando PNAD COVID 08 2020\n",
      "Importando PNAD COVID 09 2020\n",
      "Importando PNAD COVID 10 2020\n",
      "Importando PNAD COVID 11 2020\n",
      "Fim da importação\n"
     ]
    }
   ],
   "source": [
    "#Importação dos dados da PNAD COVID Classificada\n",
    "\n",
    "for i in range(5, 12):\n",
    "    if i < 10:\n",
    "        mes = '0' + str(i)\n",
    "    else:\n",
    "        mes = i\n",
    "    print(f'Importando PNAD COVID {mes} 2020')\n",
    "    globals()[f'pnad_covid_{mes}2020'] = pd.read_parquet(f'../Dados/Classificado/pnad_covid_{mes}2020_classificado.parquet')#, columns=filtro_pnad_covid)\n",
    "\n",
    "print('Fim da importação')"
   ]
  },
  {
   "cell_type": "code",
   "execution_count": 7,
   "metadata": {},
   "outputs": [
    {
     "data": {
      "text/html": [
       "<div>\n",
       "<style scoped>\n",
       "    .dataframe tbody tr th:only-of-type {\n",
       "        vertical-align: middle;\n",
       "    }\n",
       "\n",
       "    .dataframe tbody tr th {\n",
       "        vertical-align: top;\n",
       "    }\n",
       "\n",
       "    .dataframe thead th {\n",
       "        text-align: right;\n",
       "    }\n",
       "</style>\n",
       "<table border=\"1\" class=\"dataframe\">\n",
       "  <thead>\n",
       "    <tr style=\"text-align: right;\">\n",
       "      <th></th>\n",
       "      <th>Ano</th>\n",
       "      <th>V1013</th>\n",
       "      <th>V1012</th>\n",
       "      <th>UF</th>\n",
       "      <th>C007C</th>\n",
       "      <th>A003</th>\n",
       "      <th>A004</th>\n",
       "      <th>A005</th>\n",
       "      <th>C007D</th>\n",
       "      <th>C01012</th>\n",
       "      <th>C007</th>\n",
       "      <th>V1032</th>\n",
       "      <th>COD_OCUP_MAJ</th>\n",
       "      <th>Grandes Grupos</th>\n",
       "      <th>Subgrupos Principal</th>\n",
       "      <th>teleworkable</th>\n",
       "    </tr>\n",
       "  </thead>\n",
       "  <tbody>\n",
       "    <tr>\n",
       "      <th>0</th>\n",
       "      <td>2020</td>\n",
       "      <td>5</td>\n",
       "      <td>1</td>\n",
       "      <td>Rondônia</td>\n",
       "      <td>Técnico, profissional da saúde de nível médio</td>\n",
       "      <td>Mulher</td>\n",
       "      <td>Parda</td>\n",
       "      <td>Médio completo</td>\n",
       "      <td>Saúde humana e assistência social</td>\n",
       "      <td>1600.0</td>\n",
       "      <td>Empregado do setor privado</td>\n",
       "      <td>178.576054</td>\n",
       "      <td>32</td>\n",
       "      <td>3.0</td>\n",
       "      <td>32.0</td>\n",
       "      <td>0.0</td>\n",
       "    </tr>\n",
       "    <tr>\n",
       "      <th>1</th>\n",
       "      <td>2020</td>\n",
       "      <td>5</td>\n",
       "      <td>1</td>\n",
       "      <td>Rondônia</td>\n",
       "      <td>Secretária, recepcionista</td>\n",
       "      <td>Mulher</td>\n",
       "      <td>Parda</td>\n",
       "      <td>Médio completo</td>\n",
       "      <td>Saúde humana e assistência social</td>\n",
       "      <td>1200.0</td>\n",
       "      <td>Empregado do setor privado</td>\n",
       "      <td>203.139584</td>\n",
       "      <td>42</td>\n",
       "      <td>4.0</td>\n",
       "      <td>42.0</td>\n",
       "      <td>0.0</td>\n",
       "    </tr>\n",
       "    <tr>\n",
       "      <th>2</th>\n",
       "      <td>2020</td>\n",
       "      <td>5</td>\n",
       "      <td>1</td>\n",
       "      <td>Rondônia</td>\n",
       "      <td>NaN</td>\n",
       "      <td>Mulher</td>\n",
       "      <td>Parda</td>\n",
       "      <td>Médio completo</td>\n",
       "      <td>NaN</td>\n",
       "      <td>NaN</td>\n",
       "      <td>NaN</td>\n",
       "      <td>203.495575</td>\n",
       "      <td>999</td>\n",
       "      <td>NaN</td>\n",
       "      <td>NaN</td>\n",
       "      <td>NaN</td>\n",
       "    </tr>\n",
       "    <tr>\n",
       "      <th>3</th>\n",
       "      <td>2020</td>\n",
       "      <td>5</td>\n",
       "      <td>1</td>\n",
       "      <td>Rondônia</td>\n",
       "      <td>NaN</td>\n",
       "      <td>Homem</td>\n",
       "      <td>Parda</td>\n",
       "      <td>Fundamental incompleto</td>\n",
       "      <td>NaN</td>\n",
       "      <td>NaN</td>\n",
       "      <td>NaN</td>\n",
       "      <td>235.484962</td>\n",
       "      <td>999</td>\n",
       "      <td>NaN</td>\n",
       "      <td>NaN</td>\n",
       "      <td>NaN</td>\n",
       "    </tr>\n",
       "    <tr>\n",
       "      <th>4</th>\n",
       "      <td>2020</td>\n",
       "      <td>5</td>\n",
       "      <td>4</td>\n",
       "      <td>Rondônia</td>\n",
       "      <td>Vendedor ambulante (feirante, camelô, comercia...</td>\n",
       "      <td>Homem</td>\n",
       "      <td>Parda</td>\n",
       "      <td>Fundamental incompleto</td>\n",
       "      <td>Serviço de alimentação (bares, restaurantes, a...</td>\n",
       "      <td>1300.0</td>\n",
       "      <td>Conta própria</td>\n",
       "      <td>222.234159</td>\n",
       "      <td>90</td>\n",
       "      <td>9.0</td>\n",
       "      <td>90.0</td>\n",
       "      <td>0.0</td>\n",
       "    </tr>\n",
       "  </tbody>\n",
       "</table>\n",
       "</div>"
      ],
      "text/plain": [
       "    Ano V1013 V1012        UF   \n",
       "0  2020     5     1  Rondônia  \\\n",
       "1  2020     5     1  Rondônia   \n",
       "2  2020     5     1  Rondônia   \n",
       "3  2020     5     1  Rondônia   \n",
       "4  2020     5     4  Rondônia   \n",
       "\n",
       "                                               C007C    A003   A004   \n",
       "0      Técnico, profissional da saúde de nível médio  Mulher  Parda  \\\n",
       "1                          Secretária, recepcionista  Mulher  Parda   \n",
       "2                                                NaN  Mulher  Parda   \n",
       "3                                                NaN   Homem  Parda   \n",
       "4  Vendedor ambulante (feirante, camelô, comercia...   Homem  Parda   \n",
       "\n",
       "                     A005                                              C007D   \n",
       "0          Médio completo                  Saúde humana e assistência social  \\\n",
       "1          Médio completo                  Saúde humana e assistência social   \n",
       "2          Médio completo                                                NaN   \n",
       "3  Fundamental incompleto                                                NaN   \n",
       "4  Fundamental incompleto  Serviço de alimentação (bares, restaurantes, a...   \n",
       "\n",
       "   C01012                        C007       V1032  COD_OCUP_MAJ   \n",
       "0  1600.0  Empregado do setor privado  178.576054            32  \\\n",
       "1  1200.0  Empregado do setor privado  203.139584            42   \n",
       "2     NaN                         NaN  203.495575           999   \n",
       "3     NaN                         NaN  235.484962           999   \n",
       "4  1300.0               Conta própria  222.234159            90   \n",
       "\n",
       "   Grandes Grupos  Subgrupos Principal  teleworkable  \n",
       "0             3.0                 32.0           0.0  \n",
       "1             4.0                 42.0           0.0  \n",
       "2             NaN                  NaN           NaN  \n",
       "3             NaN                  NaN           NaN  \n",
       "4             9.0                 90.0           0.0  "
      ]
     },
     "execution_count": 7,
     "metadata": {},
     "output_type": "execute_result"
    }
   ],
   "source": [
    "pnad_covid_052020.head()"
   ]
  },
  {
   "cell_type": "code",
   "execution_count": 5,
   "metadata": {},
   "outputs": [
    {
     "data": {
      "text/plain": [
       "Grandes Grupos\n",
       "2.0    20357\n",
       "3.0     7083\n",
       "4.0     8028\n",
       "5.0    21817\n",
       "9.0    21225\n",
       "Name: Grandes Grupos, dtype: int64"
      ]
     },
     "execution_count": 5,
     "metadata": {},
     "output_type": "execute_result"
    }
   ],
   "source": [
    "pnad_covid_052020.groupby(['Grandes Grupos'])['Grandes Grupos'].count()"
   ]
  },
  {
   "cell_type": "code",
   "execution_count": null,
   "metadata": {},
   "outputs": [],
   "source": []
  },
  {
   "cell_type": "code",
   "execution_count": 6,
   "metadata": {},
   "outputs": [
    {
     "data": {
      "text/plain": [
       "Grandes Grupos\n",
       "2.0    22089\n",
       "3.0     7805\n",
       "4.0     8660\n",
       "5.0    23270\n",
       "9.0    22903\n",
       "Name: Grandes Grupos, dtype: int64"
      ]
     },
     "execution_count": 6,
     "metadata": {},
     "output_type": "execute_result"
    }
   ],
   "source": [
    "pnad_covid_062020.groupby(['Grandes Grupos'])['Grandes Grupos'].count()"
   ]
  },
  {
   "cell_type": "code",
   "execution_count": null,
   "metadata": {},
   "outputs": [],
   "source": [
    "pot_pnad_covid = pd.read_excel('..\\\\Anexos\\\\pot_pnad_covid.xlsx')\n",
    "pot_pnad_infra = pd.read_excel('..\\\\Anexos\\\\pot_pnad_infra.xlsx')\n",
    "pot_pnad = pd.read_excel('..\\\\Anexos\\\\pot_pnad.xlsx')"
   ]
  },
  {
   "cell_type": "code",
   "execution_count": null,
   "metadata": {},
   "outputs": [],
   "source": [
    "pot_pnad_covid.set_index('Titulação', inplace=True)\n",
    "pot_pnad_infra.set_index('Titulação', inplace=True)\n",
    "pot_pnad.set_index('Titulação', inplace=True)"
   ]
  },
  {
   "cell_type": "code",
   "execution_count": null,
   "metadata": {},
   "outputs": [],
   "source": [
    "pot_pnad_covid.rename(columns={'Titulação.1':'Titulação'}, inplace=True)\n",
    "pot_pnad_infra.rename(columns={'Titulação.1':'Titulação'}, inplace=True)\n",
    "pot_pnad.rename(columns={'Titulação.1':'Titulação'}, inplace=True)"
   ]
  },
  {
   "cell_type": "code",
   "execution_count": null,
   "metadata": {},
   "outputs": [],
   "source": [
    "pot_pnad_covid = pd.read_excel('..\\\\Anexos\\\\pot_pnad_covid.xlsx')\n",
    "pot_pnad_infra = pd.read_excel('..\\\\Anexos\\\\pot_pnad_infra.xlsx')\n",
    "pot_pnad = pd.read_excel('..\\\\Anexos\\\\pot_pnad.xlsx')"
   ]
  },
  {
   "cell_type": "code",
   "execution_count": null,
   "metadata": {},
   "outputs": [],
   "source": []
  },
  {
   "cell_type": "code",
   "execution_count": null,
   "metadata": {},
   "outputs": [],
   "source": []
  },
  {
   "cell_type": "code",
   "execution_count": null,
   "metadata": {},
   "outputs": [],
   "source": []
  },
  {
   "cell_type": "code",
   "execution_count": null,
   "metadata": {},
   "outputs": [],
   "source": [
    "pnad_covid_total = pnad_covid.groupby(['Titulação'])[['Titulação']].count().sort_index()"
   ]
  },
  {
   "cell_type": "code",
   "execution_count": null,
   "metadata": {},
   "outputs": [
    {
     "ename": "",
     "evalue": "",
     "output_type": "error",
     "traceback": [
      "\u001b[1;31mCanceled future for execute_request message before replies were done"
     ]
    },
    {
     "ename": "",
     "evalue": "",
     "output_type": "error",
     "traceback": [
      "\u001b[1;31mO Kernel falhou ao executar o código na célula atual ou em uma célula anterior. Examine o código nas células para identificar uma possível causa da falha. Clique <a href=\"https://aka.ms/vscodeJupyterKernelCrash\">aqui</a> para obter mais informações. Consulte o <a href='command:jupyter.viewOutput'>log</a> do Jupyter para obter mais detalhes."
     ]
    }
   ],
   "source": [
    "pot_pnad_infra = pnadc_19_remoto[(pnadc_19_remoto['dummy_infra'] == 1)&(pnadc_19_remoto['teleworkable'] == 1)].groupby(['Titulação'])[['Titulação']].count().sort_index()"
   ]
  },
  {
   "cell_type": "code",
   "execution_count": null,
   "metadata": {},
   "outputs": [],
   "source": [
    "pot_pnad = pnadc_19_remoto[(pnadc_19_remoto['teleworkable'] == 1)].groupby(['Titulação'])[['Titulação']].count().sort_index()"
   ]
  }
 ],
 "metadata": {
  "kernelspec": {
   "display_name": "econometria",
   "language": "python",
   "name": "python3"
  },
  "language_info": {
   "codemirror_mode": {
    "name": "ipython",
    "version": 3
   },
   "file_extension": ".py",
   "mimetype": "text/x-python",
   "name": "python",
   "nbconvert_exporter": "python",
   "pygments_lexer": "ipython3",
   "version": "3.10.4"
  },
  "orig_nbformat": 4
 },
 "nbformat": 4,
 "nbformat_minor": 2
}
