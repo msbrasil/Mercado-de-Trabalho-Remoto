{
 "cells": [
  {
   "attachments": {},
   "cell_type": "markdown",
   "metadata": {},
   "source": [
    "### Estimação de um Probit sobre as características que influenciam no trabalho remoto potencial\n",
    "\n",
    "Verificar as variáveis que mais afetam o trabalho remoto potencial no Brasil.\n",
    "\n",
    "A base de dados utilizada é a PNAD Contínua do IBGE, referente ao 4º trimestre de 2019."
   ]
  },
  {
   "cell_type": "code",
   "execution_count": 1,
   "metadata": {},
   "outputs": [],
   "source": [
    "import pandas as pd\n",
    "import numpy as np\n",
    "\n",
    "import statsmodels.api as sm\n",
    "from statsmodels.discrete.discrete_model import Probit"
   ]
  },
  {
   "cell_type": "code",
   "execution_count": 10,
   "metadata": {},
   "outputs": [],
   "source": [
    "pnad = pd.read_parquet('../Dados/pnad/pnad_2019_potencial.parquet')"
   ]
  },
  {
   "cell_type": "code",
   "execution_count": 12,
   "metadata": {},
   "outputs": [
    {
     "data": {
      "text/plain": [
       "(231285, 19)"
      ]
     },
     "execution_count": 12,
     "metadata": {},
     "output_type": "execute_result"
    }
   ],
   "source": [
    "pnad.shape"
   ]
  },
  {
   "cell_type": "code",
   "execution_count": 13,
   "metadata": {},
   "outputs": [],
   "source": [
    "pnad.dropna(inplace=True)"
   ]
  },
  {
   "attachments": {},
   "cell_type": "markdown",
   "metadata": {},
   "source": [
    "#### Variável \"UF\""
   ]
  },
  {
   "cell_type": "code",
   "execution_count": 4,
   "metadata": {},
   "outputs": [],
   "source": [
    "estados = pnad[[\"UF\",\"teletrabalho\"]].dropna()"
   ]
  },
  {
   "cell_type": "code",
   "execution_count": 5,
   "metadata": {},
   "outputs": [],
   "source": [
    "X_uf = pd.get_dummies(estados['UF'])\n",
    "y_uf = estados['teletrabalho']"
   ]
  },
  {
   "cell_type": "code",
   "execution_count": null,
   "metadata": {},
   "outputs": [],
   "source": []
  },
  {
   "cell_type": "code",
   "execution_count": 13,
   "metadata": {},
   "outputs": [
    {
     "name": "stdout",
     "output_type": "stream",
     "text": [
      "Optimization terminated successfully.\n",
      "         Current function value: 0.493229\n",
      "         Iterations 26\n",
      "                          Probit Regression Results                           \n",
      "==============================================================================\n",
      "Dep. Variable:           teletrabalho   No. Observations:               230130\n",
      "Model:                         Probit   Df Residuals:                   230102\n",
      "Method:                           MLE   Df Model:                           27\n",
      "Date:                Fri, 28 Apr 2023   Pseudo R-squ.:                0.007913\n",
      "Time:                        10:43:51   Log-Likelihood:            -1.1351e+05\n",
      "converged:                       True   LL-Null:                   -1.1441e+05\n",
      "Covariance Type:            nonrobust   LLR p-value:                     0.000\n",
      "=======================================================================================\n",
      "                          coef    std err          z      P>|z|      [0.025      0.975]\n",
      "---------------------------------------------------------------------------------------\n",
      "const                  -0.8392        nan        nan        nan         nan         nan\n",
      "Acre                    0.0096        nan        nan        nan         nan         nan\n",
      "Alagoas                -0.1261        nan        nan        nan         nan         nan\n",
      "Amapá                   0.1007        nan        nan        nan         nan         nan\n",
      "Amazonas               -0.1715        nan        nan        nan         nan         nan\n",
      "Bahia                  -0.2085        nan        nan        nan         nan         nan\n",
      "Ceará                  -0.0987        nan        nan        nan         nan         nan\n",
      "Distrito Federal        0.3771        nan        nan        nan         nan         nan\n",
      "Espírito Santo          0.0345        nan        nan        nan         nan         nan\n",
      "Goiás                  -0.0655        nan        nan        nan         nan         nan\n",
      "Maranhão               -0.1986        nan        nan        nan         nan         nan\n",
      "Mato Grosso            -0.0816        nan        nan        nan         nan         nan\n",
      "Mato Grosso do Sul     -0.0016        nan        nan        nan         nan         nan\n",
      "Minas Gerais           -0.0436        nan        nan        nan         nan         nan\n",
      "Paraná                  0.0196        nan        nan        nan         nan         nan\n",
      "Paraíba                -0.0206        nan        nan        nan         nan         nan\n",
      "Pará                   -0.2191        nan        nan        nan         nan         nan\n",
      "Pernambuco             -0.0876        nan        nan        nan         nan         nan\n",
      "Piauí                  -0.1150        nan        nan        nan         nan         nan\n",
      "Rio Grande do Norte    -0.0626        nan        nan        nan         nan         nan\n",
      "Rio Grande do Sul       0.0302        nan        nan        nan         nan         nan\n",
      "Rio de Janeiro          0.1662        nan        nan        nan         nan         nan\n",
      "Rondônia               -0.1024        nan        nan        nan         nan         nan\n",
      "Roraima                 0.0179        nan        nan        nan         nan         nan\n",
      "Santa Catarina          0.0608        nan        nan        nan         nan         nan\n",
      "Sergipe                -0.1714        nan        nan        nan         nan         nan\n",
      "São Paulo               0.1394        nan        nan        nan         nan         nan\n",
      "Tocantins              -0.0206        nan        nan        nan         nan         nan\n",
      "=======================================================================================\n"
     ]
    }
   ],
   "source": [
    "X_uf = sm.add_constant(X_uf)\n",
    "model = Probit(y_uf, X_uf)\n",
    "probit_model = model.fit()\n",
    "print(probit_model.summary())"
   ]
  },
  {
   "attachments": {},
   "cell_type": "markdown",
   "metadata": {},
   "source": [
    "#### Variável \"Sexo\""
   ]
  },
  {
   "cell_type": "code",
   "execution_count": 19,
   "metadata": {},
   "outputs": [],
   "source": [
    "sexo = pnad[[\"V2007\",\"teletrabalho\"]].dropna()"
   ]
  },
  {
   "cell_type": "code",
   "execution_count": 23,
   "metadata": {},
   "outputs": [],
   "source": [
    "X_sexo = pd.get_dummies(sexo['V2007'])\n",
    "y_sexo = sexo['teletrabalho']"
   ]
  },
  {
   "cell_type": "code",
   "execution_count": 25,
   "metadata": {},
   "outputs": [
    {
     "name": "stdout",
     "output_type": "stream",
     "text": [
      "Warning: Maximum number of iterations has been exceeded.\n",
      "         Current function value: 0.481989\n",
      "         Iterations: 35\n"
     ]
    },
    {
     "name": "stderr",
     "output_type": "stream",
     "text": [
      "c:\\Users\\est.matheus.brasil\\Anaconda3\\envs\\econometria\\lib\\site-packages\\statsmodels\\base\\model.py:604: ConvergenceWarning: Maximum Likelihood optimization failed to converge. Check mle_retvals\n",
      "  warnings.warn(\"Maximum Likelihood optimization failed to \"\n"
     ]
    },
    {
     "name": "stdout",
     "output_type": "stream",
     "text": [
      "                          Probit Regression Results                           \n",
      "==============================================================================\n",
      "Dep. Variable:           teletrabalho   No. Observations:               230130\n",
      "Model:                         Probit   Df Residuals:                   230127\n",
      "Method:                           MLE   Df Model:                            2\n",
      "Date:                Fri, 28 Apr 2023   Pseudo R-squ.:                 0.03052\n",
      "Time:                        10:47:34   Log-Likelihood:            -1.1092e+05\n",
      "converged:                      False   LL-Null:                   -1.1441e+05\n",
      "Covariance Type:            nonrobust   LLR p-value:                     0.000\n",
      "==============================================================================\n",
      "                 coef    std err          z      P>|z|      [0.025      0.975]\n",
      "------------------------------------------------------------------------------\n",
      "const         -0.5586        nan        nan        nan         nan         nan\n",
      "Homem         -0.5314        nan        nan        nan         nan         nan\n",
      "Mulher        -0.0273        nan        nan        nan         nan         nan\n",
      "==============================================================================\n"
     ]
    }
   ],
   "source": [
    "X_sexo = sm.add_constant(X_sexo)\n",
    "model = Probit(y_sexo, X_sexo)\n",
    "probit_model = model.fit()\n",
    "print(probit_model.summary())"
   ]
  },
  {
   "attachments": {},
   "cell_type": "markdown",
   "metadata": {},
   "source": [
    "#### Variável \"Cor ou Raça\""
   ]
  },
  {
   "cell_type": "code",
   "execution_count": 27,
   "metadata": {},
   "outputs": [],
   "source": [
    "cor_raca = pnad[[\"V2010\",\"teletrabalho\"]].dropna()"
   ]
  },
  {
   "cell_type": "code",
   "execution_count": 28,
   "metadata": {},
   "outputs": [],
   "source": [
    "X_cor_raca = pd.get_dummies(cor_raca['V2010'])\n",
    "y_cor_raca = cor_raca['teletrabalho']"
   ]
  },
  {
   "cell_type": "code",
   "execution_count": 30,
   "metadata": {},
   "outputs": [
    {
     "name": "stdout",
     "output_type": "stream",
     "text": [
      "Warning: Maximum number of iterations has been exceeded.\n",
      "         Current function value: 0.490284\n",
      "         Iterations: 35\n"
     ]
    },
    {
     "name": "stderr",
     "output_type": "stream",
     "text": [
      "c:\\Users\\est.matheus.brasil\\Anaconda3\\envs\\econometria\\lib\\site-packages\\statsmodels\\base\\model.py:604: ConvergenceWarning: Maximum Likelihood optimization failed to converge. Check mle_retvals\n",
      "  warnings.warn(\"Maximum Likelihood optimization failed to \"\n"
     ]
    },
    {
     "name": "stdout",
     "output_type": "stream",
     "text": [
      "                          Probit Regression Results                           \n",
      "==============================================================================\n",
      "Dep. Variable:           teletrabalho   No. Observations:               230130\n",
      "Model:                         Probit   Df Residuals:                   230123\n",
      "Method:                           MLE   Df Model:                            6\n",
      "Date:                Fri, 28 Apr 2023   Pseudo R-squ.:                 0.01384\n",
      "Time:                        10:49:47   Log-Likelihood:            -1.1283e+05\n",
      "converged:                      False   LL-Null:                   -1.1441e+05\n",
      "Covariance Type:            nonrobust   LLR p-value:                     0.000\n",
      "==============================================================================\n",
      "                 coef    std err          z      P>|z|      [0.025      0.975]\n",
      "------------------------------------------------------------------------------\n",
      "const         -0.6920   5.26e+04  -1.32e-05      1.000   -1.03e+05    1.03e+05\n",
      "Amarela        0.0758   5.26e+04   1.44e-06      1.000   -1.03e+05    1.03e+05\n",
      "Branca         0.0282   5.26e+04   5.36e-07      1.000   -1.03e+05    1.03e+05\n",
      "Ignorado       0.2125   5.26e+04   4.04e-06      1.000   -1.03e+05    1.03e+05\n",
      "Indígena      -0.3897   5.26e+04  -7.41e-06      1.000   -1.03e+05    1.03e+05\n",
      "Parda         -0.3091   5.26e+04  -5.88e-06      1.000   -1.03e+05    1.03e+05\n",
      "Preta         -0.3094   5.26e+04  -5.88e-06      1.000   -1.03e+05    1.03e+05\n",
      "==============================================================================\n"
     ]
    }
   ],
   "source": [
    "X_cor_raca = sm.add_constant(X_cor_raca)\n",
    "model = Probit(y_cor_raca, X_cor_raca)\n",
    "probit_model = model.fit()\n",
    "print(probit_model.summary())"
   ]
  },
  {
   "attachments": {},
   "cell_type": "markdown",
   "metadata": {},
   "source": [
    "#### Variável \"Educação\""
   ]
  },
  {
   "cell_type": "code",
   "execution_count": 32,
   "metadata": {},
   "outputs": [],
   "source": [
    "educacao = pnad[[\"V3009A\",\"teletrabalho\"]].dropna()"
   ]
  },
  {
   "cell_type": "code",
   "execution_count": 33,
   "metadata": {},
   "outputs": [],
   "source": [
    "X_educacao = pd.get_dummies(educacao['V3009A'])\n",
    "y_educacao = educacao['teletrabalho']"
   ]
  },
  {
   "cell_type": "code",
   "execution_count": 35,
   "metadata": {},
   "outputs": [
    {
     "name": "stdout",
     "output_type": "stream",
     "text": [
      "Optimization terminated successfully.\n",
      "         Current function value: 0.352202\n",
      "         Iterations 7\n",
      "                          Probit Regression Results                           \n",
      "==============================================================================\n",
      "Dep. Variable:           teletrabalho   No. Observations:               205058\n",
      "Model:                         Probit   Df Residuals:                   205043\n",
      "Method:                           MLE   Df Model:                           14\n",
      "Date:                Fri, 28 Apr 2023   Pseudo R-squ.:                  0.2584\n",
      "Time:                        10:51:22   Log-Likelihood:                -72222.\n",
      "converged:                       True   LL-Null:                       -97383.\n",
      "Covariance Type:            nonrobust   LLR p-value:                     0.000\n",
      "==============================================================================================================================\n",
      "                                                                 coef    std err          z      P>|z|      [0.025      0.975]\n",
      "------------------------------------------------------------------------------------------------------------------------------\n",
      "const                                                         -0.9764        nan        nan        nan         nan         nan\n",
      "Alfabetização de jovens e adultos                             -1.0993        nan        nan        nan         nan         nan\n",
      "Antigo científico, clássico, etc. (médio 2º ciclo)             0.1952        nan        nan        nan         nan         nan\n",
      "Antigo ginásio (médio 1º ciclo)                               -0.5054        nan        nan        nan         nan         nan\n",
      "Antigo primário (elementar)                                   -0.8573        nan        nan        nan         nan         nan\n",
      "Classe de alfabetização - CA                                  -0.9938        nan        nan        nan         nan         nan\n",
      "Doutorado                                                      1.7035        nan        nan        nan         nan         nan\n",
      "Educação de jovens e adultos (EJA) ou supletivo do 1º grau    -0.6967        nan        nan        nan         nan         nan\n",
      "Educação de jovens e adultos (EJA) ou supletivo do 2º grau    -0.3601        nan        nan        nan         nan         nan\n",
      "Especialização de nível superior                               1.4193        nan        nan        nan         nan         nan\n",
      "Mestrado                                                       1.4643        nan        nan        nan         nan         nan\n",
      "Pré-escola                                                    -1.1516        nan        nan        nan         nan         nan\n",
      "Regular do ensino fundamental ou do 1º grau                   -0.9031        nan        nan        nan         nan         nan\n",
      "Regular do ensino médio ou do 2º grau                         -0.1677        nan        nan        nan         nan         nan\n",
      "Superior - graduação                                           0.9766        nan        nan        nan         nan         nan\n",
      "==============================================================================================================================\n"
     ]
    }
   ],
   "source": [
    "X_educacao = sm.add_constant(X_educacao)\n",
    "model = Probit(y_educacao, X_educacao)\n",
    "probit_model = model.fit()\n",
    "print(probit_model.summary())"
   ]
  },
  {
   "attachments": {},
   "cell_type": "markdown",
   "metadata": {},
   "source": [
    "#### Variável \"Setor de ocupação\""
   ]
  },
  {
   "cell_type": "code",
   "execution_count": 38,
   "metadata": {},
   "outputs": [],
   "source": [
    "ocupacao = pnad[[\"V4012\",\"teletrabalho\"]].dropna()"
   ]
  },
  {
   "cell_type": "code",
   "execution_count": 39,
   "metadata": {},
   "outputs": [],
   "source": [
    "X_ocupacao = pd.get_dummies(ocupacao['V4012'])\n",
    "y_ocupacao = ocupacao['teletrabalho']"
   ]
  },
  {
   "cell_type": "code",
   "execution_count": 40,
   "metadata": {},
   "outputs": [
    {
     "name": "stdout",
     "output_type": "stream",
     "text": [
      "Warning: Maximum number of iterations has been exceeded.\n",
      "         Current function value: 0.439999\n",
      "         Iterations: 35\n"
     ]
    },
    {
     "name": "stderr",
     "output_type": "stream",
     "text": [
      "c:\\Users\\est.matheus.brasil\\Anaconda3\\envs\\econometria\\lib\\site-packages\\statsmodels\\base\\model.py:604: ConvergenceWarning: Maximum Likelihood optimization failed to converge. Check mle_retvals\n",
      "  warnings.warn(\"Maximum Likelihood optimization failed to \"\n"
     ]
    },
    {
     "name": "stdout",
     "output_type": "stream",
     "text": [
      "                          Probit Regression Results                           \n",
      "==============================================================================\n",
      "Dep. Variable:           teletrabalho   No. Observations:               230130\n",
      "Model:                         Probit   Df Residuals:                   230123\n",
      "Method:                           MLE   Df Model:                            6\n",
      "Date:                Fri, 28 Apr 2023   Pseudo R-squ.:                  0.1150\n",
      "Time:                        10:54:32   Log-Likelihood:            -1.0126e+05\n",
      "converged:                      False   LL-Null:                   -1.1441e+05\n",
      "Covariance Type:            nonrobust   LLR p-value:                     0.000\n",
      "========================================================================================================================================================================\n",
      "                                                                                                           coef    std err          z      P>|z|      [0.025      0.975]\n",
      "------------------------------------------------------------------------------------------------------------------------------------------------------------------------\n",
      "Conta própria                                                                                           -1.3316      0.007   -194.550      0.000      -1.345      -1.318\n",
      "Empregado do setor privado                                                                              -0.8600      0.004   -191.262      0.000      -0.869      -0.851\n",
      "Empregado do setor público (inclusive empresas de economia mista)                                        0.1275      0.008     16.991      0.000       0.113       0.142\n",
      "Empregador                                                                                              -0.7019      0.014    -51.142      0.000      -0.729      -0.675\n",
      "Militar do exército, da marinha, da aeronáutica, da polícia militar ou do corpo de bombeiros militar    -6.8053   2211.172     -0.003      0.998   -4340.624    4327.013\n",
      "Trabalhador doméstico                                                                                   -1.3190      0.014    -94.297      0.000      -1.346      -1.292\n",
      "Trabalhador familiar não remunerado                                                                     -1.8472      0.028    -67.127      0.000      -1.901      -1.793\n",
      "========================================================================================================================================================================\n"
     ]
    }
   ],
   "source": [
    "X_educacao = sm.add_constant(X_ocupacao)\n",
    "model = Probit(y_ocupacao, X_ocupacao)\n",
    "probit_model = model.fit()\n",
    "print(probit_model.summary())"
   ]
  },
  {
   "cell_type": "markdown",
   "metadata": {},
   "source": [
    "### Probit para mais de uma variável"
   ]
  },
  {
   "cell_type": "markdown",
   "metadata": {},
   "source": [
    "#### UF e Sexo"
   ]
  },
  {
   "cell_type": "code",
   "execution_count": 42,
   "metadata": {},
   "outputs": [],
   "source": [
    "estados_sexo = pnad[[\"UF\",\"V2007\",\"teletrabalho\"]].dropna()"
   ]
  },
  {
   "cell_type": "code",
   "execution_count": 50,
   "metadata": {},
   "outputs": [],
   "source": [
    "estados_sexo['UF_sexo'] = estados_sexo['UF'] + \"_\" + estados_sexo['V2007']"
   ]
  },
  {
   "cell_type": "code",
   "execution_count": 52,
   "metadata": {},
   "outputs": [],
   "source": [
    "X_uf_sexo = pd.get_dummies(estados_sexo[['UF_sexo']])\n",
    "y_uf_sexo = estados_sexo['teletrabalho']"
   ]
  },
  {
   "cell_type": "code",
   "execution_count": 53,
   "metadata": {},
   "outputs": [
    {
     "name": "stdout",
     "output_type": "stream",
     "text": [
      "Optimization terminated successfully.\n",
      "         Current function value: 0.477783\n",
      "         Iterations 18\n",
      "                          Probit Regression Results                           \n",
      "==============================================================================\n",
      "Dep. Variable:           teletrabalho   No. Observations:               230130\n",
      "Model:                         Probit   Df Residuals:                   230075\n",
      "Method:                           MLE   Df Model:                           54\n",
      "Date:                Fri, 28 Apr 2023   Pseudo R-squ.:                 0.03898\n",
      "Time:                        11:05:14   Log-Likelihood:            -1.0995e+05\n",
      "converged:                       True   LL-Null:                   -1.1441e+05\n",
      "Covariance Type:            nonrobust   LLR p-value:                     0.000\n",
      "======================================================================================================\n",
      "                                         coef    std err          z      P>|z|      [0.025      0.975]\n",
      "------------------------------------------------------------------------------------------------------\n",
      "const                                 -0.8418        nan        nan        nan         nan         nan\n",
      "UF_sexo_Acre_Homem                    -0.2734        nan        nan        nan         nan         nan\n",
      "UF_sexo_Acre_Mulher                    0.3332        nan        nan        nan         nan         nan\n",
      "UF_sexo_Alagoas_Homem                 -0.4000        nan        nan        nan         nan         nan\n",
      "UF_sexo_Alagoas_Mulher                 0.1851        nan        nan        nan         nan         nan\n",
      "UF_sexo_Amapá_Homem                   -0.0702        nan        nan        nan         nan         nan\n",
      "UF_sexo_Amapá_Mulher                   0.3083        nan        nan        nan         nan         nan\n",
      "UF_sexo_Amazonas_Homem                -0.3791        nan        nan        nan         nan         nan\n",
      "UF_sexo_Amazonas_Mulher                0.0940        nan        nan        nan         nan         nan\n",
      "UF_sexo_Bahia_Homem                   -0.5425        nan        nan        nan         nan         nan\n",
      "UF_sexo_Bahia_Mulher                   0.1362        nan        nan        nan         nan         nan\n",
      "UF_sexo_Ceará_Homem                   -0.3799        nan        nan        nan         nan         nan\n",
      "UF_sexo_Ceará_Mulher                   0.2018        nan        nan        nan         nan         nan\n",
      "UF_sexo_Distrito Federal_Homem         0.2310        nan        nan        nan         nan         nan\n",
      "UF_sexo_Distrito Federal_Mulher        0.5335        nan        nan        nan         nan         nan\n",
      "UF_sexo_Espírito Santo_Homem          -0.2095        nan        nan        nan         nan         nan\n",
      "UF_sexo_Espírito Santo_Mulher          0.2928        nan        nan        nan         nan         nan\n",
      "UF_sexo_Goiás_Homem                   -0.2887        nan        nan        nan         nan         nan\n",
      "UF_sexo_Goiás_Mulher                   0.1878        nan        nan        nan         nan         nan\n",
      "UF_sexo_Maranhão_Homem                -0.5147        nan        nan        nan         nan         nan\n",
      "UF_sexo_Maranhão_Mulher                0.1454        nan        nan        nan         nan         nan\n",
      "UF_sexo_Mato Grosso do Sul_Homem      -0.2642        nan        nan        nan         nan         nan\n",
      "UF_sexo_Mato Grosso do Sul_Mulher      0.2873        nan        nan        nan         nan         nan\n",
      "UF_sexo_Mato Grosso_Homem             -0.3477        nan        nan        nan         nan         nan\n",
      "UF_sexo_Mato Grosso_Mulher             0.2280        nan        nan        nan         nan         nan\n",
      "UF_sexo_Minas Gerais_Homem            -0.3210        nan        nan        nan         nan         nan\n",
      "UF_sexo_Minas Gerais_Mulher            0.2593        nan        nan        nan         nan         nan\n",
      "UF_sexo_Paraná_Homem                  -0.1693        nan        nan        nan         nan         nan\n",
      "UF_sexo_Paraná_Mulher                  0.2367        nan        nan        nan         nan         nan\n",
      "UF_sexo_Paraíba_Homem                 -0.2836        nan        nan        nan         nan         nan\n",
      "UF_sexo_Paraíba_Mulher                 0.2844        nan        nan        nan         nan         nan\n",
      "UF_sexo_Pará_Homem                    -0.4886        nan        nan        nan         nan         nan\n",
      "UF_sexo_Pará_Mulher                    0.1058        nan        nan        nan         nan         nan\n",
      "UF_sexo_Pernambuco_Homem              -0.3630        nan        nan        nan         nan         nan\n",
      "UF_sexo_Pernambuco_Mulher              0.2204        nan        nan        nan         nan         nan\n",
      "UF_sexo_Piauí_Homem                   -0.3341        nan        nan        nan         nan         nan\n",
      "UF_sexo_Piauí_Mulher                   0.1247        nan        nan        nan         nan         nan\n",
      "UF_sexo_Rio Grande do Norte_Homem     -0.2897        nan        nan        nan         nan         nan\n",
      "UF_sexo_Rio Grande do Norte_Mulher     0.2040        nan        nan        nan         nan         nan\n",
      "UF_sexo_Rio Grande do Sul_Homem       -0.1776        nan        nan        nan         nan         nan\n",
      "UF_sexo_Rio Grande do Sul_Mulher       0.2550        nan        nan        nan         nan         nan\n",
      "UF_sexo_Rio de Janeiro_Homem          -0.0300        nan        nan        nan         nan         nan\n",
      "UF_sexo_Rio de Janeiro_Mulher          0.3856        nan        nan        nan         nan         nan\n",
      "UF_sexo_Rondônia_Homem                -0.3616        nan        nan        nan         nan         nan\n",
      "UF_sexo_Rondônia_Mulher                0.2184        nan        nan        nan         nan         nan\n",
      "UF_sexo_Roraima_Homem                 -0.2599        nan        nan        nan         nan         nan\n",
      "UF_sexo_Roraima_Mulher                 0.3336        nan        nan        nan         nan         nan\n",
      "UF_sexo_Santa Catarina_Homem          -0.1257        nan        nan        nan         nan         nan\n",
      "UF_sexo_Santa Catarina_Mulher          0.2659        nan        nan        nan         nan         nan\n",
      "UF_sexo_Sergipe_Homem                 -0.4938        nan        nan        nan         nan         nan\n",
      "UF_sexo_Sergipe_Mulher                 0.1524        nan        nan        nan         nan         nan\n",
      "UF_sexo_São Paulo_Homem               -0.0534        nan        nan        nan         nan         nan\n",
      "UF_sexo_São Paulo_Mulher               0.3552        nan        nan        nan         nan         nan\n",
      "UF_sexo_Tocantins_Homem               -0.3249        nan        nan        nan         nan         nan\n",
      "UF_sexo_Tocantins_Mulher               0.3391        nan        nan        nan         nan         nan\n",
      "======================================================================================================\n"
     ]
    }
   ],
   "source": [
    "X_uf_sexo = sm.add_constant(X_uf_sexo)\n",
    "model = Probit(y_uf_sexo, X_uf_sexo)\n",
    "probit_model = model.fit()\n",
    "print(probit_model.summary())"
   ]
  },
  {
   "cell_type": "markdown",
   "metadata": {},
   "source": [
    "#### UF e Cor ou Raça"
   ]
  },
  {
   "cell_type": "code",
   "execution_count": 63,
   "metadata": {},
   "outputs": [],
   "source": [
    "estados_cor_raca = pnad[[\"UF\",\"V2010\",\"teletrabalho\"]].dropna()"
   ]
  },
  {
   "cell_type": "code",
   "execution_count": 64,
   "metadata": {},
   "outputs": [],
   "source": [
    "estados_cor_raca['UF_cor_raca'] = estados_cor_raca['UF'] + \"_\" + estados_cor_raca['V2010']"
   ]
  },
  {
   "cell_type": "code",
   "execution_count": 65,
   "metadata": {},
   "outputs": [],
   "source": [
    "X_uf_cor_raca = pd.get_dummies(estados_cor_raca[['UF_cor_raca']])\n",
    "y_uf_cor_raca = estados_cor_raca['teletrabalho']"
   ]
  },
  {
   "cell_type": "code",
   "execution_count": 66,
   "metadata": {},
   "outputs": [
    {
     "name": "stdout",
     "output_type": "stream",
     "text": [
      "Warning: Maximum number of iterations has been exceeded.\n",
      "         Current function value: 0.487065\n",
      "         Iterations: 35\n"
     ]
    },
    {
     "name": "stderr",
     "output_type": "stream",
     "text": [
      "c:\\Users\\est.matheus.brasil\\Anaconda3\\envs\\econometria\\lib\\site-packages\\statsmodels\\base\\model.py:604: ConvergenceWarning: Maximum Likelihood optimization failed to converge. Check mle_retvals\n",
      "  warnings.warn(\"Maximum Likelihood optimization failed to \"\n"
     ]
    },
    {
     "name": "stdout",
     "output_type": "stream",
     "text": [
      "                          Probit Regression Results                           \n",
      "==============================================================================\n",
      "Dep. Variable:           teletrabalho   No. Observations:               230130\n",
      "Model:                         Probit   Df Residuals:                   229981\n",
      "Method:                           MLE   Df Model:                          148\n",
      "Date:                Fri, 28 Apr 2023   Pseudo R-squ.:                 0.02031\n",
      "Time:                        11:16:23   Log-Likelihood:            -1.1209e+05\n",
      "converged:                      False   LL-Null:                   -1.1441e+05\n",
      "Covariance Type:            nonrobust   LLR p-value:                     0.000\n",
      "============================================================================================================\n",
      "                                               coef    std err          z      P>|z|      [0.025      0.975]\n",
      "------------------------------------------------------------------------------------------------------------\n",
      "const                                       -1.1002        nan        nan        nan         nan         nan\n",
      "UF_cor_raca_Acre_Amarela                     0.5107        nan        nan        nan         nan         nan\n",
      "UF_cor_raca_Acre_Branca                      0.5458        nan        nan        nan         nan         nan\n",
      "UF_cor_raca_Acre_Indígena                   -0.4339        nan        nan        nan         nan         nan\n",
      "UF_cor_raca_Acre_Parda                       0.2099        nan        nan        nan         nan         nan\n",
      "UF_cor_raca_Acre_Preta                       0.0708        nan        nan        nan         nan         nan\n",
      "UF_cor_raca_Alagoas_Amarela                  0.4713        nan        nan        nan         nan         nan\n",
      "UF_cor_raca_Alagoas_Branca                   0.3429        nan        nan        nan         nan         nan\n",
      "UF_cor_raca_Alagoas_Indígena                -0.4339        nan        nan        nan         nan         nan\n",
      "UF_cor_raca_Alagoas_Parda                    0.0530        nan        nan        nan         nan         nan\n",
      "UF_cor_raca_Alagoas_Preta                    0.0892        nan        nan        nan         nan         nan\n",
      "UF_cor_raca_Amapá_Amarela                   -0.2350        nan        nan        nan         nan         nan\n",
      "UF_cor_raca_Amapá_Branca                     0.6588        nan        nan        nan         nan         nan\n",
      "UF_cor_raca_Amapá_Indígena                   0.0326        nan        nan        nan         nan         nan\n",
      "UF_cor_raca_Amapá_Parda                      0.3072        nan        nan        nan         nan         nan\n",
      "UF_cor_raca_Amapá_Preta                      0.1381        nan        nan        nan         nan         nan\n",
      "UF_cor_raca_Amazonas_Amarela                 0.3639        nan        nan        nan         nan         nan\n",
      "UF_cor_raca_Amazonas_Branca                  0.4759        nan        nan        nan         nan         nan\n",
      "UF_cor_raca_Amazonas_Indígena               -0.3036        nan        nan        nan         nan         nan\n",
      "UF_cor_raca_Amazonas_Parda                   0.0245        nan        nan        nan         nan         nan\n",
      "UF_cor_raca_Amazonas_Preta                  -0.0990        nan        nan        nan         nan         nan\n",
      "UF_cor_raca_Bahia_Amarela                   -0.1205        nan        nan        nan         nan         nan\n",
      "UF_cor_raca_Bahia_Branca                     0.1557        nan        nan        nan         nan         nan\n",
      "UF_cor_raca_Bahia_Ignorado                   0.1328        nan        nan        nan         nan         nan\n",
      "UF_cor_raca_Bahia_Indígena                  -0.0502        nan        nan        nan         nan         nan\n",
      "UF_cor_raca_Bahia_Parda                      0.0270        nan        nan        nan         nan         nan\n",
      "UF_cor_raca_Bahia_Preta                      0.0432        nan        nan        nan         nan         nan\n",
      "UF_cor_raca_Ceará_Amarela                    0.1581        nan        nan        nan         nan         nan\n",
      "UF_cor_raca_Ceará_Branca                     0.3470        nan        nan        nan         nan         nan\n",
      "UF_cor_raca_Ceará_Indígena                   0.2076        nan        nan        nan         nan         nan\n",
      "UF_cor_raca_Ceará_Parda                      0.0915        nan        nan        nan         nan         nan\n",
      "UF_cor_raca_Ceará_Preta                      0.0581        nan        nan        nan         nan         nan\n",
      "UF_cor_raca_Distrito Federal_Amarela         0.9091        nan        nan        nan         nan         nan\n",
      "UF_cor_raca_Distrito Federal_Branca          0.8273        nan        nan        nan         nan         nan\n",
      "UF_cor_raca_Distrito Federal_Ignorado        1.1002        nan        nan        nan         nan         nan\n",
      "UF_cor_raca_Distrito Federal_Indígena        0.1917        nan        nan        nan         nan         nan\n",
      "UF_cor_raca_Distrito Federal_Parda           0.4978        nan        nan        nan         nan         nan\n",
      "UF_cor_raca_Distrito Federal_Preta           0.5978        nan        nan        nan         nan         nan\n",
      "UF_cor_raca_Espírito Santo_Amarela           0.7929        nan        nan        nan         nan         nan\n",
      "UF_cor_raca_Espírito Santo_Branca            0.4820        nan        nan        nan         nan         nan\n",
      "UF_cor_raca_Espírito Santo_Ignorado          0.6694        nan        nan        nan         nan         nan\n",
      "UF_cor_raca_Espírito Santo_Indígena          0.1146        nan        nan        nan         nan         nan\n",
      "UF_cor_raca_Espírito Santo_Parda             0.1741        nan        nan        nan         nan         nan\n",
      "UF_cor_raca_Espírito Santo_Preta             0.1104        nan        nan        nan         nan         nan\n",
      "UF_cor_raca_Goiás_Amarela                    0.2353        nan        nan        nan         nan         nan\n",
      "UF_cor_raca_Goiás_Branca                     0.3559        nan        nan        nan         nan         nan\n",
      "UF_cor_raca_Goiás_Indígena                   0.2880        nan        nan        nan         nan         nan\n",
      "UF_cor_raca_Goiás_Parda                      0.1229        nan        nan        nan         nan         nan\n",
      "UF_cor_raca_Goiás_Preta                     -0.0308        nan        nan        nan         nan         nan\n",
      "UF_cor_raca_Maranhão_Amarela                -0.2090        nan        nan        nan         nan         nan\n",
      "UF_cor_raca_Maranhão_Branca                  0.2772        nan        nan        nan         nan         nan\n",
      "UF_cor_raca_Maranhão_Ignorado               -4.9638        nan        nan        nan         nan         nan\n",
      "UF_cor_raca_Maranhão_Indígena                0.0558        nan        nan        nan         nan         nan\n",
      "UF_cor_raca_Maranhão_Parda                   0.0181        nan        nan        nan         nan         nan\n",
      "UF_cor_raca_Maranhão_Preta                  -0.0050        nan        nan        nan         nan         nan\n",
      "UF_cor_raca_Mato Grosso do Sul_Amarela       0.7149        nan        nan        nan         nan         nan\n",
      "UF_cor_raca_Mato Grosso do Sul_Branca        0.4293        nan        nan        nan         nan         nan\n",
      "UF_cor_raca_Mato Grosso do Sul_Indígena      0.2429        nan        nan        nan         nan         nan\n",
      "UF_cor_raca_Mato Grosso do Sul_Parda         0.1141        nan        nan        nan         nan         nan\n",
      "UF_cor_raca_Mato Grosso do Sul_Preta         0.0680        nan        nan        nan         nan         nan\n",
      "UF_cor_raca_Mato Grosso_Amarela              0.4081        nan        nan        nan         nan         nan\n",
      "UF_cor_raca_Mato Grosso_Branca               0.3428        nan        nan        nan         nan         nan\n",
      "UF_cor_raca_Mato Grosso_Indígena             0.2956        nan        nan        nan         nan         nan\n",
      "UF_cor_raca_Mato Grosso_Parda                0.0997        nan        nan        nan         nan         nan\n",
      "UF_cor_raca_Mato Grosso_Preta                0.0937        nan        nan        nan         nan         nan\n",
      "UF_cor_raca_Minas Gerais_Amarela             0.2586        nan        nan        nan         nan         nan\n",
      "UF_cor_raca_Minas Gerais_Branca              0.4068        nan        nan        nan         nan         nan\n",
      "UF_cor_raca_Minas Gerais_Ignorado           -4.9638        nan        nan        nan         nan         nan\n",
      "UF_cor_raca_Minas Gerais_Indígena           -0.3259        nan        nan        nan         nan         nan\n",
      "UF_cor_raca_Minas Gerais_Parda               0.0934        nan        nan        nan         nan         nan\n",
      "UF_cor_raca_Minas Gerais_Preta               0.0216        nan        nan        nan         nan         nan\n",
      "UF_cor_raca_Paraná_Amarela                   0.5288        nan        nan        nan         nan         nan\n",
      "UF_cor_raca_Paraná_Branca                    0.4135        nan        nan        nan         nan         nan\n",
      "UF_cor_raca_Paraná_Ignorado                 -4.4394        nan        nan        nan         nan         nan\n",
      "UF_cor_raca_Paraná_Indígena                  0.1713        nan        nan        nan         nan         nan\n",
      "UF_cor_raca_Paraná_Parda                    -0.0316        nan        nan        nan         nan         nan\n",
      "UF_cor_raca_Paraná_Preta                     0.0001        nan        nan        nan         nan         nan\n",
      "UF_cor_raca_Paraíba_Amarela                  0.5173        nan        nan        nan         nan         nan\n",
      "UF_cor_raca_Paraíba_Branca                   0.3909        nan        nan        nan         nan         nan\n",
      "UF_cor_raca_Paraíba_Indígena                 0.3191        nan        nan        nan         nan         nan\n",
      "UF_cor_raca_Paraíba_Parda                    0.1813        nan        nan        nan         nan         nan\n",
      "UF_cor_raca_Paraíba_Preta                   -0.0026        nan        nan        nan         nan         nan\n",
      "UF_cor_raca_Pará_Amarela                     0.2174        nan        nan        nan         nan         nan\n",
      "UF_cor_raca_Pará_Branca                      0.2970        nan        nan        nan         nan         nan\n",
      "UF_cor_raca_Pará_Ignorado                   -5.7120        nan        nan        nan         nan         nan\n",
      "UF_cor_raca_Pará_Indígena                    0.1917        nan        nan        nan         nan         nan\n",
      "UF_cor_raca_Pará_Parda                      -0.0340        nan        nan        nan         nan         nan\n",
      "UF_cor_raca_Pará_Preta                       0.0500        nan        nan        nan         nan         nan\n",
      "UF_cor_raca_Pernambuco_Amarela               0.7090        nan        nan        nan         nan         nan\n",
      "UF_cor_raca_Pernambuco_Branca                0.3899        nan        nan        nan         nan         nan\n",
      "UF_cor_raca_Pernambuco_Ignorado             -4.9638        nan        nan        nan         nan         nan\n",
      "UF_cor_raca_Pernambuco_Indígena              0.0970        nan        nan        nan         nan         nan\n",
      "UF_cor_raca_Pernambuco_Parda                 0.0570        nan        nan        nan         nan         nan\n",
      "UF_cor_raca_Pernambuco_Preta                 0.1140        nan        nan        nan         nan         nan\n",
      "UF_cor_raca_Piauí_Amarela                    0.2586        nan        nan        nan         nan         nan\n",
      "UF_cor_raca_Piauí_Branca                     0.3281        nan        nan        nan         nan         nan\n",
      "UF_cor_raca_Piauí_Indígena                  -0.0502        nan        nan        nan         nan         nan\n",
      "UF_cor_raca_Piauí_Parda                      0.1218        nan        nan        nan         nan         nan\n",
      "UF_cor_raca_Piauí_Preta                     -0.0257        nan        nan        nan         nan         nan\n",
      "UF_cor_raca_Rio Grande do Norte_Amarela      0.2586        nan        nan        nan         nan         nan\n",
      "UF_cor_raca_Rio Grande do Norte_Branca       0.3786        nan        nan        nan         nan         nan\n",
      "UF_cor_raca_Rio Grande do Norte_Ignorado    -4.4394        nan        nan        nan         nan         nan\n",
      "UF_cor_raca_Rio Grande do Norte_Indígena    -7.4588   1.62e+07   -4.6e-07      1.000   -3.18e+07    3.18e+07\n",
      "UF_cor_raca_Rio Grande do Norte_Parda        0.0991        nan        nan        nan         nan         nan\n",
      "UF_cor_raca_Rio Grande do Norte_Preta        0.0086        nan        nan        nan         nan         nan\n",
      "UF_cor_raca_Rio Grande do Sul_Amarela        0.8180        nan        nan        nan         nan         nan\n",
      "UF_cor_raca_Rio Grande do Sul_Branca         0.3431        nan        nan        nan         nan         nan\n",
      "UF_cor_raca_Rio Grande do Sul_Ignorado       6.5218        nan        nan        nan         nan         nan\n",
      "UF_cor_raca_Rio Grande do Sul_Indígena       0.2130        nan        nan        nan         nan         nan\n",
      "UF_cor_raca_Rio Grande do Sul_Parda         -0.0403        nan        nan        nan         nan         nan\n",
      "UF_cor_raca_Rio Grande do Sul_Preta          0.1285        nan        nan        nan         nan         nan\n",
      "UF_cor_raca_Rio de Janeiro_Amarela           0.5272        nan        nan        nan         nan         nan\n",
      "UF_cor_raca_Rio de Janeiro_Branca            0.6464        nan        nan        nan         nan         nan\n",
      "UF_cor_raca_Rio de Janeiro_Ignorado          0.8468        nan        nan        nan         nan         nan\n",
      "UF_cor_raca_Rio de Janeiro_Indígena          0.4480        nan        nan        nan         nan         nan\n",
      "UF_cor_raca_Rio de Janeiro_Parda             0.2446        nan        nan        nan         nan         nan\n",
      "UF_cor_raca_Rio de Janeiro_Preta             0.1460        nan        nan        nan         nan         nan\n",
      "UF_cor_raca_Rondônia_Amarela                 0.0034        nan        nan        nan         nan         nan\n",
      "UF_cor_raca_Rondônia_Branca                  0.3279        nan        nan        nan         nan         nan\n",
      "UF_cor_raca_Rondônia_Indígena                0.2130        nan        nan        nan         nan         nan\n",
      "UF_cor_raca_Rondônia_Parda                   0.0828        nan        nan        nan         nan         nan\n",
      "UF_cor_raca_Rondônia_Preta                   0.0643        nan        nan        nan         nan         nan\n",
      "UF_cor_raca_Roraima_Amarela                  0.4956        nan        nan        nan         nan         nan\n",
      "UF_cor_raca_Roraima_Branca                   0.5141        nan        nan        nan         nan         nan\n",
      "UF_cor_raca_Roraima_Indígena                -0.1322        nan        nan        nan         nan         nan\n",
      "UF_cor_raca_Roraima_Parda                    0.2260        nan        nan        nan         nan         nan\n",
      "UF_cor_raca_Roraima_Preta                    0.2370        nan        nan        nan         nan         nan\n",
      "UF_cor_raca_Santa Catarina_Amarela           0.2410        nan        nan        nan         nan         nan\n",
      "UF_cor_raca_Santa Catarina_Branca            0.3920        nan        nan        nan         nan         nan\n",
      "UF_cor_raca_Santa Catarina_Ignorado          6.5218        nan        nan        nan         nan         nan\n",
      "UF_cor_raca_Santa Catarina_Indígena         -0.1365        nan        nan        nan         nan         nan\n",
      "UF_cor_raca_Santa Catarina_Parda            -0.0985        nan        nan        nan         nan         nan\n",
      "UF_cor_raca_Santa Catarina_Preta             0.0861        nan        nan        nan         nan         nan\n",
      "UF_cor_raca_Sergipe_Amarela                 -0.1814        nan        nan        nan         nan         nan\n",
      "UF_cor_raca_Sergipe_Branca                   0.2696        nan        nan        nan         nan         nan\n",
      "UF_cor_raca_Sergipe_Indígena                -8.7747   5.62e+09  -1.56e-09      1.000    -1.1e+10     1.1e+10\n",
      "UF_cor_raca_Sergipe_Parda                    0.0241        nan        nan        nan         nan         nan\n",
      "UF_cor_raca_Sergipe_Preta                    0.1838        nan        nan        nan         nan         nan\n",
      "UF_cor_raca_São Paulo_Amarela                0.6722        nan        nan        nan         nan         nan\n",
      "UF_cor_raca_São Paulo_Branca                 0.5534        nan        nan        nan         nan         nan\n",
      "UF_cor_raca_São Paulo_Ignorado               1.1002        nan        nan        nan         nan         nan\n",
      "UF_cor_raca_São Paulo_Indígena               0.2586        nan        nan        nan         nan         nan\n",
      "UF_cor_raca_São Paulo_Parda                  0.0898        nan        nan        nan         nan         nan\n",
      "UF_cor_raca_São Paulo_Preta                  0.2464        nan        nan        nan         nan         nan\n",
      "UF_cor_raca_Tocantins_Amarela                0.5107        nan        nan        nan         nan         nan\n",
      "UF_cor_raca_Tocantins_Branca                 0.4582        nan        nan        nan         nan         nan\n",
      "UF_cor_raca_Tocantins_Indígena              -0.4339        nan        nan        nan         nan         nan\n",
      "UF_cor_raca_Tocantins_Parda                  0.1724        nan        nan        nan         nan         nan\n",
      "UF_cor_raca_Tocantins_Preta                  0.1761        nan        nan        nan         nan         nan\n",
      "============================================================================================================\n"
     ]
    }
   ],
   "source": [
    "X_uf_cor_raca = sm.add_constant(X_uf_cor_raca)\n",
    "model = Probit(y_uf_cor_raca, X_uf_cor_raca)\n",
    "probit_model = model.fit()\n",
    "print(probit_model.summary())"
   ]
  }
 ],
 "metadata": {
  "kernelspec": {
   "display_name": "econometria",
   "language": "python",
   "name": "python3"
  },
  "language_info": {
   "codemirror_mode": {
    "name": "ipython",
    "version": 3
   },
   "file_extension": ".py",
   "mimetype": "text/x-python",
   "name": "python",
   "nbconvert_exporter": "python",
   "pygments_lexer": "ipython3",
   "version": "3.10.4"
  },
  "orig_nbformat": 4
 },
 "nbformat": 4,
 "nbformat_minor": 2
}
