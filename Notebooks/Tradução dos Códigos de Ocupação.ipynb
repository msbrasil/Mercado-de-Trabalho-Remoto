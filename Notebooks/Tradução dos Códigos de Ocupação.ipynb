{
 "cells": [
  {
   "attachments": {},
   "cell_type": "markdown",
   "metadata": {},
   "source": [
    "# Tradução dos Códigos de Ocupação O*NET para ocupações do Brasil (COD 2010)\n",
    "\n",
    "Para aplicar a metodologia de Dingel e Neiman, é necessário realizar a tradução dos códigos de ocupações para ocupações do Brasil.\n",
    "\n",
    "**Passo-a-passo da tradução dos códigos de ocupação, segundo artigo da FGV:**\n",
    "\n",
    "1. Primeiro, realizamos uma tradução das 968 ocupações da O*NET para a Standard Occupational Classification de 2010 (SOC-2010), utilizada na pesquisa por domicílios americana (Current Population Survey - CPS);\n",
    "2. Em seguida, reclassificamos as ocupações da SOC-2010 para a ISCO-08, para então; \n",
    "3. traduzirmos para a COD utilizada na PNAD Contínua. \n",
    "\n",
    "As reclassificações foram realizadas conforme o diagrama abaixo.\n",
    "\n",
    "#### Diagrama para tradução dos códigos de ocupação (FGV, 2021)\n",
    "![Diagrama](../Anexos/diagrama_traducao.png)\n",
    "\n",
    "Link para base de ocupações da O*NET: [O*NET OnLine](https://www.onetonline.org/find/all)\n",
    "\n",
    "Link para base de ocupações da SOC-2010: [U.S. BUREAU OF LABOR STATISTICS](https://www.bls.gov/soc/2010/home.htm)\n",
    "\n",
    "Link para base de ocupações da ISCO-08: [International Labour Organization](https://isco-ilo.netlify.app/en/isco-08/)\n",
    "\n",
    "Repositório do estudo Work at Home (Dingel e Neiman): [Work at Home](https://github.com/jdingel)\n",
    "\n",
    "Arquivo CSV com as ocupações teletrabalháveis: [occupations_workathome.csv](https://raw.githubusercontent.com/jdingel/DingelNeiman-workathome/master/occ_onet_scores/output/occupations_workathome.csv)\n",
    "\n"
   ]
  },
  {
   "cell_type": "code",
   "execution_count": 41,
   "metadata": {},
   "outputs": [],
   "source": [
    "#TODO: refazer o código do SOC 2010 para traduzir para código da ISCO-08"
   ]
  },
  {
   "cell_type": "code",
   "execution_count": 42,
   "metadata": {},
   "outputs": [],
   "source": [
    "#pacotes\n",
    "import pandas as pd\n",
    "import numpy as np"
   ]
  },
  {
   "cell_type": "code",
   "execution_count": 43,
   "metadata": {},
   "outputs": [],
   "source": [
    "#Leitura das bases (tabelas de ocupação e de pessoas)\n",
    "\n",
    "onet = pd.read_excel('../Anexos/Occupations_ONET.xlsx') #Ocupações O*NET\n",
    "soc2010 = pd.read_excel('../Anexos/Occupations_SOC-2010.xlsx') #Ocupações SOC-2010\n",
    "isco08 = pd.read_excel('../Anexos/Occupations_ISCO-08.xlsx') #Ocupações ISCO-08\n",
    "#cod2010 = pd.read_excel('../Anexos/COD 2010.xlsx', ) #Ocupações COD 2010\n",
    "\n",
    "cod2010 = pd.read_excel('../Anexos/COD 2010.xlsx', dtype={'Cod': str}) #Ocupações COD 2010\n",
    "\n",
    "isco_soc_reclassificado = pd.read_excel('../Anexos/soc2010-ISCO08-crosswalk.xlsx', dtype={'ISCO-08 Code':str})\n",
    "\n",
    "onet_teleworkable = pd.read_csv('https://raw.githubusercontent.com/jdingel/DingelNeiman-workathome/master/occ_onet_scores/output/occupations_workathome.csv')"
   ]
  },
  {
   "cell_type": "code",
   "execution_count": 44,
   "metadata": {},
   "outputs": [],
   "source": [
    "isco_soc_reclassificado['major_isco'] = isco_soc_reclassificado['ISCO-08 Code'].apply(lambda x: x[:1])"
   ]
  },
  {
   "cell_type": "code",
   "execution_count": 45,
   "metadata": {},
   "outputs": [
    {
     "data": {
      "text/html": [
       "<div>\n",
       "<style scoped>\n",
       "    .dataframe tbody tr th:only-of-type {\n",
       "        vertical-align: middle;\n",
       "    }\n",
       "\n",
       "    .dataframe tbody tr th {\n",
       "        vertical-align: top;\n",
       "    }\n",
       "\n",
       "    .dataframe thead th {\n",
       "        text-align: right;\n",
       "    }\n",
       "</style>\n",
       "<table border=\"1\" class=\"dataframe\">\n",
       "  <thead>\n",
       "    <tr style=\"text-align: right;\">\n",
       "      <th></th>\n",
       "      <th>onetsoccode</th>\n",
       "      <th>title</th>\n",
       "      <th>teleworkable</th>\n",
       "    </tr>\n",
       "  </thead>\n",
       "  <tbody>\n",
       "    <tr>\n",
       "      <th>0</th>\n",
       "      <td>11-1011.00</td>\n",
       "      <td>Chief Executives</td>\n",
       "      <td>1</td>\n",
       "    </tr>\n",
       "    <tr>\n",
       "      <th>1</th>\n",
       "      <td>11-1011.03</td>\n",
       "      <td>Chief Sustainability Officers</td>\n",
       "      <td>1</td>\n",
       "    </tr>\n",
       "    <tr>\n",
       "      <th>2</th>\n",
       "      <td>11-1021.00</td>\n",
       "      <td>General and Operations Managers</td>\n",
       "      <td>1</td>\n",
       "    </tr>\n",
       "    <tr>\n",
       "      <th>3</th>\n",
       "      <td>11-2011.00</td>\n",
       "      <td>Advertising and Promotions Managers</td>\n",
       "      <td>1</td>\n",
       "    </tr>\n",
       "    <tr>\n",
       "      <th>4</th>\n",
       "      <td>11-2021.00</td>\n",
       "      <td>Marketing Managers</td>\n",
       "      <td>1</td>\n",
       "    </tr>\n",
       "  </tbody>\n",
       "</table>\n",
       "</div>"
      ],
      "text/plain": [
       "  onetsoccode                                title  teleworkable\n",
       "0  11-1011.00                     Chief Executives             1\n",
       "1  11-1011.03        Chief Sustainability Officers             1\n",
       "2  11-1021.00      General and Operations Managers             1\n",
       "3  11-2011.00  Advertising and Promotions Managers             1\n",
       "4  11-2021.00                   Marketing Managers             1"
      ]
     },
     "execution_count": 45,
     "metadata": {},
     "output_type": "execute_result"
    }
   ],
   "source": [
    "#Ocupações na base O*NET que podem ser realizadas em teletrabalho\n",
    "onet_teleworkable.head()"
   ]
  },
  {
   "attachments": {},
   "cell_type": "markdown",
   "metadata": {},
   "source": [
    "### Tradução do O\\*NET (filtrado por Dingel e Neiman) para o SOC-2010 \n",
    "\n",
    "A tradução deve ser feita usando como refência o código do Major Group e título da ocupação"
   ]
  },
  {
   "cell_type": "code",
   "execution_count": 46,
   "metadata": {},
   "outputs": [
    {
     "name": "stderr",
     "output_type": "stream",
     "text": [
      "C:\\Users\\est.matheus.brasil\\AppData\\Local\\Temp\\ipykernel_1760\\1001432072.py:3: SettingWithCopyWarning: \n",
      "A value is trying to be set on a copy of a slice from a DataFrame\n",
      "\n",
      "See the caveats in the documentation: https://pandas.pydata.org/pandas-docs/stable/user_guide/indexing.html#returning-a-view-versus-a-copy\n",
      "  soc2010filtrado.dropna(inplace=True)\n",
      "C:\\Users\\est.matheus.brasil\\AppData\\Local\\Temp\\ipykernel_1760\\1001432072.py:7: SettingWithCopyWarning: \n",
      "A value is trying to be set on a copy of a slice from a DataFrame.\n",
      "Try using .loc[row_indexer,col_indexer] = value instead\n",
      "\n",
      "See the caveats in the documentation: https://pandas.pydata.org/pandas-docs/stable/user_guide/indexing.html#returning-a-view-versus-a-copy\n",
      "  soc2010filtrado['MAJOR_SOC'] = soc2010filtrado['code_SOC'].apply(lambda x: x[:2])\n"
     ]
    }
   ],
   "source": [
    "soc2010filtrado = soc2010[['Detailed Occupation', 'Title']]\n",
    "soc2010filtrado.columns = ['code_SOC', 'Title_SOC']\n",
    "soc2010filtrado.dropna(inplace=True)\n",
    "\n",
    "soc2010['code_SOC'] = soc2010.iloc[:, :4].apply(lambda x: ''.join(x.dropna().astype(str)), axis=1)\n",
    "#Captura somente o codigo major\n",
    "soc2010filtrado['MAJOR_SOC'] = soc2010filtrado['code_SOC'].apply(lambda x: x[:2])"
   ]
  },
  {
   "cell_type": "code",
   "execution_count": 47,
   "metadata": {},
   "outputs": [],
   "source": [
    "onet_filtrado = onet_teleworkable.copy()\n",
    "onet_filtrado.columns = ['code_ONET', 'Title_ONET', 'teleworkable']\n",
    "\n",
    "#captura somente o codigo major\n",
    "onet_filtrado['code_ONET'] = onet_filtrado['code_ONET'].apply(lambda x: x[0:-3])"
   ]
  },
  {
   "cell_type": "code",
   "execution_count": 48,
   "metadata": {},
   "outputs": [],
   "source": [
    "#join onet_filtrado e soc2010filtrado by column Code_ONET and code_SOC\n",
    "\n",
    "onet_soc = pd.merge(onet_filtrado, isco_soc_reclassificado, how='left', left_on='code_ONET', right_on='2010 SOC Code')"
   ]
  },
  {
   "attachments": {},
   "cell_type": "markdown",
   "metadata": {},
   "source": [
    "Até aqui, ONET e SOC-2010 foram agregados com sucesso. Agora, vamos fazer o mesmo com ISCO-08 e COD-2010."
   ]
  },
  {
   "cell_type": "markdown",
   "metadata": {},
   "source": [
    "### Tradução de ISC08 para COD 2010"
   ]
  },
  {
   "cell_type": "code",
   "execution_count": 49,
   "metadata": {},
   "outputs": [
    {
     "name": "stderr",
     "output_type": "stream",
     "text": [
      "C:\\Users\\est.matheus.brasil\\AppData\\Local\\Temp\\ipykernel_1760\\2247216232.py:4: SettingWithCopyWarning: \n",
      "A value is trying to be set on a copy of a slice from a DataFrame.\n",
      "Try using .loc[row_indexer,col_indexer] = value instead\n",
      "\n",
      "See the caveats in the documentation: https://pandas.pydata.org/pandas-docs/stable/user_guide/indexing.html#returning-a-view-versus-a-copy\n",
      "  cod2010_filtrado['code_COD'] = cod2010_filtrado['code_COD'].astype(str)\n"
     ]
    }
   ],
   "source": [
    "cod2010_filtrado = cod2010[['Cod', 'Titulação']]\n",
    "cod2010_filtrado.columns = ['code_COD', 'Title_COD']\n",
    "\n",
    "cod2010_filtrado['code_COD'] = cod2010_filtrado['code_COD'].astype(str)"
   ]
  },
  {
   "cell_type": "code",
   "execution_count": 50,
   "metadata": {},
   "outputs": [],
   "source": [
    "onet_soc['major_isco'].fillna(0, inplace=True)"
   ]
  },
  {
   "cell_type": "code",
   "execution_count": 51,
   "metadata": {},
   "outputs": [
    {
     "name": "stderr",
     "output_type": "stream",
     "text": [
      "C:\\Users\\est.matheus.brasil\\AppData\\Local\\Temp\\ipykernel_1760\\127245518.py:4: SettingWithCopyWarning: \n",
      "A value is trying to be set on a copy of a slice from a DataFrame.\n",
      "Try using .loc[row_indexer,col_indexer] = value instead\n",
      "\n",
      "See the caveats in the documentation: https://pandas.pydata.org/pandas-docs/stable/user_guide/indexing.html#returning-a-view-versus-a-copy\n",
      "  isco08_filtrado['code_ISCO'] = isco08_filtrado['code_ISCO'].astype(str)\n",
      "C:\\Users\\est.matheus.brasil\\AppData\\Local\\Temp\\ipykernel_1760\\127245518.py:5: SettingWithCopyWarning: \n",
      "A value is trying to be set on a copy of a slice from a DataFrame.\n",
      "Try using .loc[row_indexer,col_indexer] = value instead\n",
      "\n",
      "See the caveats in the documentation: https://pandas.pydata.org/pandas-docs/stable/user_guide/indexing.html#returning-a-view-versus-a-copy\n",
      "  isco08_filtrado['major_ISCO'] = isco08_filtrado['major_ISCO'].astype(str)\n"
     ]
    }
   ],
   "source": [
    "isco08_filtrado = isco08[['ISCO 08 Code', 'Major', 'Title EN']]\n",
    "isco08_filtrado.columns = ['code_ISCO', 'major_ISCO', 'Title_ISCO']\n",
    "\n",
    "isco08_filtrado['code_ISCO'] = isco08_filtrado['code_ISCO'].astype(str) \n",
    "isco08_filtrado['major_ISCO'] = isco08_filtrado['major_ISCO'].astype(str) "
   ]
  },
  {
   "cell_type": "code",
   "execution_count": 52,
   "metadata": {},
   "outputs": [],
   "source": [
    "isco_cod = pd.merge(onet_soc, cod2010, how='left', left_on='major_isco', right_on='Cod')"
   ]
  },
  {
   "attachments": {},
   "cell_type": "markdown",
   "metadata": {},
   "source": [
    "Até aqui, temos ISCO-08 e COD 2010 agregados. Agora, vamos fazer o join com as ocupações agregadas."
   ]
  },
  {
   "cell_type": "code",
   "execution_count": 53,
   "metadata": {},
   "outputs": [
    {
     "data": {
      "text/html": [
       "<div>\n",
       "<style scoped>\n",
       "    .dataframe tbody tr th:only-of-type {\n",
       "        vertical-align: middle;\n",
       "    }\n",
       "\n",
       "    .dataframe tbody tr th {\n",
       "        vertical-align: top;\n",
       "    }\n",
       "\n",
       "    .dataframe thead th {\n",
       "        text-align: right;\n",
       "    }\n",
       "</style>\n",
       "<table border=\"1\" class=\"dataframe\">\n",
       "  <thead>\n",
       "    <tr style=\"text-align: right;\">\n",
       "      <th></th>\n",
       "      <th>code_ONET</th>\n",
       "      <th>Title_ONET</th>\n",
       "      <th>teleworkable</th>\n",
       "      <th>2010 SOC Code</th>\n",
       "      <th>2010 SOC Title</th>\n",
       "      <th>part</th>\n",
       "      <th>ISCO-08 Code</th>\n",
       "      <th>ISCO-08 Title EN</th>\n",
       "      <th>major_isco</th>\n",
       "      <th>Cod</th>\n",
       "      <th>Grandes Grupos</th>\n",
       "      <th>Subgrupos Principal</th>\n",
       "      <th>Subgrupos</th>\n",
       "      <th>Grupos de Base</th>\n",
       "      <th>Titulação</th>\n",
       "    </tr>\n",
       "  </thead>\n",
       "  <tbody>\n",
       "    <tr>\n",
       "      <th>0</th>\n",
       "      <td>11-1011</td>\n",
       "      <td>Chief Executives</td>\n",
       "      <td>1</td>\n",
       "      <td>11-1011</td>\n",
       "      <td>Chief Executives</td>\n",
       "      <td>*</td>\n",
       "      <td>1112</td>\n",
       "      <td>Senior government officials</td>\n",
       "      <td>1</td>\n",
       "      <td>1</td>\n",
       "      <td>1.0</td>\n",
       "      <td>NaN</td>\n",
       "      <td>NaN</td>\n",
       "      <td>NaN</td>\n",
       "      <td>DIRETORES E GERENTES</td>\n",
       "    </tr>\n",
       "    <tr>\n",
       "      <th>1</th>\n",
       "      <td>11-1011</td>\n",
       "      <td>Chief Executives</td>\n",
       "      <td>1</td>\n",
       "      <td>11-1011</td>\n",
       "      <td>Chief Executives</td>\n",
       "      <td>*</td>\n",
       "      <td>1113</td>\n",
       "      <td>Traditional chiefs and heads of villages</td>\n",
       "      <td>1</td>\n",
       "      <td>1</td>\n",
       "      <td>1.0</td>\n",
       "      <td>NaN</td>\n",
       "      <td>NaN</td>\n",
       "      <td>NaN</td>\n",
       "      <td>DIRETORES E GERENTES</td>\n",
       "    </tr>\n",
       "    <tr>\n",
       "      <th>2</th>\n",
       "      <td>11-1011</td>\n",
       "      <td>Chief Executives</td>\n",
       "      <td>1</td>\n",
       "      <td>11-1011</td>\n",
       "      <td>Chief Executives</td>\n",
       "      <td>*</td>\n",
       "      <td>1120</td>\n",
       "      <td>Managing directors and chief executives</td>\n",
       "      <td>1</td>\n",
       "      <td>1</td>\n",
       "      <td>1.0</td>\n",
       "      <td>NaN</td>\n",
       "      <td>NaN</td>\n",
       "      <td>NaN</td>\n",
       "      <td>DIRETORES E GERENTES</td>\n",
       "    </tr>\n",
       "    <tr>\n",
       "      <th>3</th>\n",
       "      <td>11-1011</td>\n",
       "      <td>Chief Sustainability Officers</td>\n",
       "      <td>1</td>\n",
       "      <td>11-1011</td>\n",
       "      <td>Chief Executives</td>\n",
       "      <td>*</td>\n",
       "      <td>1112</td>\n",
       "      <td>Senior government officials</td>\n",
       "      <td>1</td>\n",
       "      <td>1</td>\n",
       "      <td>1.0</td>\n",
       "      <td>NaN</td>\n",
       "      <td>NaN</td>\n",
       "      <td>NaN</td>\n",
       "      <td>DIRETORES E GERENTES</td>\n",
       "    </tr>\n",
       "    <tr>\n",
       "      <th>4</th>\n",
       "      <td>11-1011</td>\n",
       "      <td>Chief Sustainability Officers</td>\n",
       "      <td>1</td>\n",
       "      <td>11-1011</td>\n",
       "      <td>Chief Executives</td>\n",
       "      <td>*</td>\n",
       "      <td>1113</td>\n",
       "      <td>Traditional chiefs and heads of villages</td>\n",
       "      <td>1</td>\n",
       "      <td>1</td>\n",
       "      <td>1.0</td>\n",
       "      <td>NaN</td>\n",
       "      <td>NaN</td>\n",
       "      <td>NaN</td>\n",
       "      <td>DIRETORES E GERENTES</td>\n",
       "    </tr>\n",
       "  </tbody>\n",
       "</table>\n",
       "</div>"
      ],
      "text/plain": [
       "  code_ONET                     Title_ONET  teleworkable 2010 SOC Code  \\\n",
       "0   11-1011               Chief Executives             1       11-1011   \n",
       "1   11-1011               Chief Executives             1       11-1011   \n",
       "2   11-1011               Chief Executives             1       11-1011   \n",
       "3   11-1011  Chief Sustainability Officers             1       11-1011   \n",
       "4   11-1011  Chief Sustainability Officers             1       11-1011   \n",
       "\n",
       "     2010 SOC Title part ISCO-08 Code  \\\n",
       "0  Chief Executives    *         1112   \n",
       "1  Chief Executives    *         1113   \n",
       "2  Chief Executives    *         1120   \n",
       "3  Chief Executives    *         1112   \n",
       "4  Chief Executives    *         1113   \n",
       "\n",
       "                           ISCO-08 Title EN major_isco Cod  Grandes Grupos  \\\n",
       "0               Senior government officials          1   1             1.0   \n",
       "1  Traditional chiefs and heads of villages          1   1             1.0   \n",
       "2   Managing directors and chief executives          1   1             1.0   \n",
       "3               Senior government officials          1   1             1.0   \n",
       "4  Traditional chiefs and heads of villages          1   1             1.0   \n",
       "\n",
       "   Subgrupos Principal  Subgrupos  Grupos de Base             Titulação  \n",
       "0                  NaN        NaN             NaN  DIRETORES E GERENTES  \n",
       "1                  NaN        NaN             NaN  DIRETORES E GERENTES  \n",
       "2                  NaN        NaN             NaN  DIRETORES E GERENTES  \n",
       "3                  NaN        NaN             NaN  DIRETORES E GERENTES  \n",
       "4                  NaN        NaN             NaN  DIRETORES E GERENTES  "
      ]
     },
     "execution_count": 53,
     "metadata": {},
     "output_type": "execute_result"
    }
   ],
   "source": [
    "isco_cod.head()"
   ]
  },
  {
   "cell_type": "code",
   "execution_count": 54,
   "metadata": {},
   "outputs": [],
   "source": [
    "isco_cod['Titulação'].fillna('OUTROS', inplace=True)\n",
    "isco_cod['Cod'].fillna(0, inplace=True)"
   ]
  },
  {
   "cell_type": "code",
   "execution_count": null,
   "metadata": {},
   "outputs": [],
   "source": []
  },
  {
   "attachments": {},
   "cell_type": "markdown",
   "metadata": {},
   "source": [
    "### Tradução de SOC-2010 para ISCO-08"
   ]
  },
  {
   "cell_type": "code",
   "execution_count": 55,
   "metadata": {},
   "outputs": [],
   "source": [
    "onet_soc['ISCO-08 Code'] = onet_soc['ISCO-08 Code'].astype(str)"
   ]
  },
  {
   "cell_type": "code",
   "execution_count": 56,
   "metadata": {},
   "outputs": [],
   "source": [
    "onet_soc['isco_major'] = onet_soc['ISCO-08 Code'].apply(lambda x: x[:1])"
   ]
  },
  {
   "cell_type": "code",
   "execution_count": 57,
   "metadata": {},
   "outputs": [
    {
     "data": {
      "text/plain": [
       "0       1\n",
       "94      1\n",
       "93      1\n",
       "92      1\n",
       "91      1\n",
       "       ..\n",
       "249     n\n",
       "253     n\n",
       "1221    n\n",
       "801     n\n",
       "524     n\n",
       "Name: isco_major, Length: 1339, dtype: object"
      ]
     },
     "execution_count": 57,
     "metadata": {},
     "output_type": "execute_result"
    }
   ],
   "source": [
    "onet_soc['isco_major'].sort_values()"
   ]
  },
  {
   "cell_type": "code",
   "execution_count": 58,
   "metadata": {},
   "outputs": [],
   "source": [
    "ocupacoes_agregado = pd.merge(onet_soc, cod2010_filtrado, how='left', left_on='isco_major', right_on='code_COD')"
   ]
  },
  {
   "cell_type": "markdown",
   "metadata": {},
   "source": [
    "#### trabalhos teletrabalháveis"
   ]
  },
  {
   "cell_type": "code",
   "execution_count": 59,
   "metadata": {},
   "outputs": [],
   "source": [
    "ocupacoes_agregado = isco_cod[['code_ONET', 'Title_ONET', 'teleworkable', 'Cod', 'Titulação']]"
   ]
  },
  {
   "cell_type": "code",
   "execution_count": 60,
   "metadata": {},
   "outputs": [
    {
     "data": {
      "text/html": [
       "<div>\n",
       "<style scoped>\n",
       "    .dataframe tbody tr th:only-of-type {\n",
       "        vertical-align: middle;\n",
       "    }\n",
       "\n",
       "    .dataframe tbody tr th {\n",
       "        vertical-align: top;\n",
       "    }\n",
       "\n",
       "    .dataframe thead th {\n",
       "        text-align: right;\n",
       "    }\n",
       "</style>\n",
       "<table border=\"1\" class=\"dataframe\">\n",
       "  <thead>\n",
       "    <tr style=\"text-align: right;\">\n",
       "      <th></th>\n",
       "      <th>code_ONET</th>\n",
       "      <th>Title_ONET</th>\n",
       "      <th>teleworkable</th>\n",
       "      <th>Cod</th>\n",
       "      <th>Titulação</th>\n",
       "    </tr>\n",
       "  </thead>\n",
       "  <tbody>\n",
       "    <tr>\n",
       "      <th>0</th>\n",
       "      <td>11-1011</td>\n",
       "      <td>Chief Executives</td>\n",
       "      <td>1</td>\n",
       "      <td>1</td>\n",
       "      <td>DIRETORES E GERENTES</td>\n",
       "    </tr>\n",
       "    <tr>\n",
       "      <th>1</th>\n",
       "      <td>11-1011</td>\n",
       "      <td>Chief Executives</td>\n",
       "      <td>1</td>\n",
       "      <td>1</td>\n",
       "      <td>DIRETORES E GERENTES</td>\n",
       "    </tr>\n",
       "    <tr>\n",
       "      <th>2</th>\n",
       "      <td>11-1011</td>\n",
       "      <td>Chief Executives</td>\n",
       "      <td>1</td>\n",
       "      <td>1</td>\n",
       "      <td>DIRETORES E GERENTES</td>\n",
       "    </tr>\n",
       "    <tr>\n",
       "      <th>3</th>\n",
       "      <td>11-1011</td>\n",
       "      <td>Chief Sustainability Officers</td>\n",
       "      <td>1</td>\n",
       "      <td>1</td>\n",
       "      <td>DIRETORES E GERENTES</td>\n",
       "    </tr>\n",
       "    <tr>\n",
       "      <th>4</th>\n",
       "      <td>11-1011</td>\n",
       "      <td>Chief Sustainability Officers</td>\n",
       "      <td>1</td>\n",
       "      <td>1</td>\n",
       "      <td>DIRETORES E GERENTES</td>\n",
       "    </tr>\n",
       "    <tr>\n",
       "      <th>...</th>\n",
       "      <td>...</td>\n",
       "      <td>...</td>\n",
       "      <td>...</td>\n",
       "      <td>...</td>\n",
       "      <td>...</td>\n",
       "    </tr>\n",
       "    <tr>\n",
       "      <th>1278</th>\n",
       "      <td>53-1031</td>\n",
       "      <td>First-Line Supervisors of Transportation and M...</td>\n",
       "      <td>1</td>\n",
       "      <td>8</td>\n",
       "      <td>OPERADORES DE INSTALAÇÕES E MÁQUINAS E MONTADORES</td>\n",
       "    </tr>\n",
       "    <tr>\n",
       "      <th>1279</th>\n",
       "      <td>53-1031</td>\n",
       "      <td>First-Line Supervisors of Transportation and M...</td>\n",
       "      <td>1</td>\n",
       "      <td>8</td>\n",
       "      <td>OPERADORES DE INSTALAÇÕES E MÁQUINAS E MONTADORES</td>\n",
       "    </tr>\n",
       "    <tr>\n",
       "      <th>1280</th>\n",
       "      <td>53-1031</td>\n",
       "      <td>First-Line Supervisors of Transportation and M...</td>\n",
       "      <td>1</td>\n",
       "      <td>8</td>\n",
       "      <td>OPERADORES DE INSTALAÇÕES E MÁQUINAS E MONTADORES</td>\n",
       "    </tr>\n",
       "    <tr>\n",
       "      <th>1281</th>\n",
       "      <td>53-1031</td>\n",
       "      <td>First-Line Supervisors of Transportation and M...</td>\n",
       "      <td>1</td>\n",
       "      <td>9</td>\n",
       "      <td>OCUPAÇÕES ELEMENTARES</td>\n",
       "    </tr>\n",
       "    <tr>\n",
       "      <th>1284</th>\n",
       "      <td>53-2021</td>\n",
       "      <td>Air Traffic Controllers</td>\n",
       "      <td>1</td>\n",
       "      <td>3</td>\n",
       "      <td>TÉCNICOS E PROFISSIONAIS DE NÍVEL MÉDIO</td>\n",
       "    </tr>\n",
       "  </tbody>\n",
       "</table>\n",
       "<p>503 rows × 5 columns</p>\n",
       "</div>"
      ],
      "text/plain": [
       "     code_ONET                                         Title_ONET  \\\n",
       "0      11-1011                                   Chief Executives   \n",
       "1      11-1011                                   Chief Executives   \n",
       "2      11-1011                                   Chief Executives   \n",
       "3      11-1011                      Chief Sustainability Officers   \n",
       "4      11-1011                      Chief Sustainability Officers   \n",
       "...        ...                                                ...   \n",
       "1278   53-1031  First-Line Supervisors of Transportation and M...   \n",
       "1279   53-1031  First-Line Supervisors of Transportation and M...   \n",
       "1280   53-1031  First-Line Supervisors of Transportation and M...   \n",
       "1281   53-1031  First-Line Supervisors of Transportation and M...   \n",
       "1284   53-2021                            Air Traffic Controllers   \n",
       "\n",
       "      teleworkable Cod                                          Titulação  \n",
       "0                1   1                               DIRETORES E GERENTES  \n",
       "1                1   1                               DIRETORES E GERENTES  \n",
       "2                1   1                               DIRETORES E GERENTES  \n",
       "3                1   1                               DIRETORES E GERENTES  \n",
       "4                1   1                               DIRETORES E GERENTES  \n",
       "...            ...  ..                                                ...  \n",
       "1278             1   8  OPERADORES DE INSTALAÇÕES E MÁQUINAS E MONTADORES  \n",
       "1279             1   8  OPERADORES DE INSTALAÇÕES E MÁQUINAS E MONTADORES  \n",
       "1280             1   8  OPERADORES DE INSTALAÇÕES E MÁQUINAS E MONTADORES  \n",
       "1281             1   9                              OCUPAÇÕES ELEMENTARES  \n",
       "1284             1   3            TÉCNICOS E PROFISSIONAIS DE NÍVEL MÉDIO  \n",
       "\n",
       "[503 rows x 5 columns]"
      ]
     },
     "execution_count": 60,
     "metadata": {},
     "output_type": "execute_result"
    }
   ],
   "source": [
    "ocupacoes_agregado[ocupacoes_agregado['teleworkable'] == 1]"
   ]
  },
  {
   "cell_type": "code",
   "execution_count": 61,
   "metadata": {},
   "outputs": [
    {
     "data": {
      "text/plain": [
       "PROFISSIONAIS DAS CIÊNCIAS E INTELECTUAIS                                                               273\n",
       "TÉCNICOS E PROFISSIONAIS DE NÍVEL MÉDIO                                                                 265\n",
       "OUTROS                                                                                                  168\n",
       "TRABALHADORES QUALIFICADOS, OPERÁRIOS E ARTESÃOS DA CONSTRUÇÃO, DAS ARTES MECÂNICAS E OUTROS OFÍCIOS    163\n",
       "DIRETORES E GERENTES                                                                                    126\n",
       "OPERADORES DE INSTALAÇÕES E MÁQUINAS E MONTADORES                                                       104\n",
       "TRABALHADORES QUALIFICADOS DA AGROPECUÁRIA, FLORESTAIS, DA CAÇA E DA PESCA                               79\n",
       "TRABALHADORES DOS SERVIÇOS, VENDEDORES DOS COMÉRCIOS E MERCADOS                                          68\n",
       "OCUPAÇÕES ELEMENTARES                                                                                    56\n",
       "TRABALHADORES DE APOIO ADMINISTRATIVO                                                                    37\n",
       "Name: Titulação, dtype: int64"
      ]
     },
     "execution_count": 61,
     "metadata": {},
     "output_type": "execute_result"
    }
   ],
   "source": [
    "ocupacoes_agregado['Titulação'].value_counts().sort_values(ascending=False) "
   ]
  },
  {
   "cell_type": "code",
   "execution_count": 64,
   "metadata": {},
   "outputs": [
    {
     "data": {
      "text/html": [
       "<div>\n",
       "<style scoped>\n",
       "    .dataframe tbody tr th:only-of-type {\n",
       "        vertical-align: middle;\n",
       "    }\n",
       "\n",
       "    .dataframe tbody tr th {\n",
       "        vertical-align: top;\n",
       "    }\n",
       "\n",
       "    .dataframe thead th {\n",
       "        text-align: right;\n",
       "    }\n",
       "</style>\n",
       "<table border=\"1\" class=\"dataframe\">\n",
       "  <thead>\n",
       "    <tr style=\"text-align: right;\">\n",
       "      <th></th>\n",
       "      <th>Titulação</th>\n",
       "    </tr>\n",
       "    <tr>\n",
       "      <th>Titulação</th>\n",
       "      <th></th>\n",
       "    </tr>\n",
       "  </thead>\n",
       "  <tbody>\n",
       "    <tr>\n",
       "      <th>DIRETORES E GERENTES</th>\n",
       "      <td>0.777778</td>\n",
       "    </tr>\n",
       "    <tr>\n",
       "      <th>OCUPAÇÕES ELEMENTARES</th>\n",
       "      <td>0.107143</td>\n",
       "    </tr>\n",
       "    <tr>\n",
       "      <th>OPERADORES DE INSTALAÇÕES E MÁQUINAS E MONTADORES</th>\n",
       "      <td>0.086538</td>\n",
       "    </tr>\n",
       "    <tr>\n",
       "      <th>OUTROS</th>\n",
       "      <td>0.398810</td>\n",
       "    </tr>\n",
       "    <tr>\n",
       "      <th>PROFISSIONAIS DAS CIÊNCIAS E INTELECTUAIS</th>\n",
       "      <td>0.673993</td>\n",
       "    </tr>\n",
       "    <tr>\n",
       "      <th>TRABALHADORES DE APOIO ADMINISTRATIVO</th>\n",
       "      <td>0.513514</td>\n",
       "    </tr>\n",
       "    <tr>\n",
       "      <th>TRABALHADORES DOS SERVIÇOS, VENDEDORES DOS COMÉRCIOS E MERCADOS</th>\n",
       "      <td>0.220588</td>\n",
       "    </tr>\n",
       "    <tr>\n",
       "      <th>TRABALHADORES QUALIFICADOS DA AGROPECUÁRIA, FLORESTAIS, DA CAÇA E DA PESCA</th>\n",
       "      <td>0.164557</td>\n",
       "    </tr>\n",
       "    <tr>\n",
       "      <th>TRABALHADORES QUALIFICADOS, OPERÁRIOS E ARTESÃOS DA CONSTRUÇÃO, DAS ARTES MECÂNICAS E OUTROS OFÍCIOS</th>\n",
       "      <td>0.030675</td>\n",
       "    </tr>\n",
       "    <tr>\n",
       "      <th>TÉCNICOS E PROFISSIONAIS DE NÍVEL MÉDIO</th>\n",
       "      <td>0.328302</td>\n",
       "    </tr>\n",
       "  </tbody>\n",
       "</table>\n",
       "</div>"
      ],
      "text/plain": [
       "                                                    Titulação\n",
       "Titulação                                                    \n",
       "DIRETORES E GERENTES                                 0.777778\n",
       "OCUPAÇÕES ELEMENTARES                                0.107143\n",
       "OPERADORES DE INSTALAÇÕES E MÁQUINAS E MONTADORES    0.086538\n",
       "OUTROS                                               0.398810\n",
       "PROFISSIONAIS DAS CIÊNCIAS E INTELECTUAIS            0.673993\n",
       "TRABALHADORES DE APOIO ADMINISTRATIVO                0.513514\n",
       "TRABALHADORES DOS SERVIÇOS, VENDEDORES DOS COMÉ...   0.220588\n",
       "TRABALHADORES QUALIFICADOS DA AGROPECUÁRIA, FLO...   0.164557\n",
       "TRABALHADORES QUALIFICADOS, OPERÁRIOS E ARTESÃO...   0.030675\n",
       "TÉCNICOS E PROFISSIONAIS DE NÍVEL MÉDIO              0.328302"
      ]
     },
     "execution_count": 64,
     "metadata": {},
     "output_type": "execute_result"
    }
   ],
   "source": [
    "ocupacoes_agregado[ocupacoes_agregado['teleworkable'] == 1].groupby(['Titulação'])[['Titulação']].count() / ocupacoes_agregado.groupby(['Titulação'])[['Titulação']].count()"
   ]
  },
  {
   "cell_type": "code",
   "execution_count": 63,
   "metadata": {},
   "outputs": [],
   "source": [
    "ocupacoes_agregado.to_excel('../Anexos/ocupacoes_traduzidas.xlsx', index=False)"
   ]
  }
 ],
 "metadata": {
  "kernelspec": {
   "display_name": "econometria",
   "language": "python",
   "name": "python3"
  },
  "language_info": {
   "codemirror_mode": {
    "name": "ipython",
    "version": 3
   },
   "file_extension": ".py",
   "mimetype": "text/x-python",
   "name": "python",
   "nbconvert_exporter": "python",
   "pygments_lexer": "ipython3",
   "version": "3.10.4"
  },
  "orig_nbformat": 4,
  "vscode": {
   "interpreter": {
    "hash": "2d77b586cfa25f3cadafc2a7d9d2ffb1689fffb3b5bbb5f99a0b413248eba82d"
   }
  }
 },
 "nbformat": 4,
 "nbformat_minor": 2
}
