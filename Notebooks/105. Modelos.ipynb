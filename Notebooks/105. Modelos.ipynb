{
 "cells": [
  {
   "attachments": {},
   "cell_type": "markdown",
   "metadata": {},
   "source": [
    "### Modelos\n",
    "\n",
    "- Excecução de cross section\n",
    "- Efeitos fixos\n",
    "- Efeitos aleatórios\n",
    "\n"
   ]
  },
  {
   "cell_type": "code",
   "execution_count": 1,
   "metadata": {},
   "outputs": [
    {
     "ename": "NameError",
     "evalue": "name 'pd' is not defined",
     "output_type": "error",
     "traceback": [
      "\u001b[0;31m---------------------------------------------------------------------------\u001b[0m",
      "\u001b[0;31mNameError\u001b[0m                                 Traceback (most recent call last)",
      "Cell \u001b[0;32mIn[1], line 1\u001b[0m\n\u001b[0;32m----> 1\u001b[0m df \u001b[39m=\u001b[39m pd\u001b[39m.\u001b[39mread_parquet(\u001b[39m'\u001b[39m\u001b[39m../Dados/pnad_covid/pnad_covid_tratada.parquet\u001b[39m\u001b[39m'\u001b[39m)\n",
      "\u001b[0;31mNameError\u001b[0m: name 'pd' is not defined"
     ]
    }
   ],
   "source": [
    "df = pd.read_parquet('../Dados/pnad_covid/pnad_covid_tratada.parquet')"
   ]
  },
  {
   "cell_type": "code",
   "execution_count": 11,
   "metadata": {},
   "outputs": [
    {
     "data": {
      "text/plain": [
       "(2508686, 42)"
      ]
     },
     "execution_count": 11,
     "metadata": {},
     "output_type": "execute_result"
    }
   ],
   "source": [
    "df.shape"
   ]
  },
  {
   "cell_type": "code",
   "execution_count": 1,
   "metadata": {},
   "outputs": [],
   "source": [
    "import pandas as pd\n",
    "import numpy as np\n",
    "\n",
    "# Modelo\n",
    "import  statsmodels.api as sm \n",
    "from linearmodels.panel import PanelOLS"
   ]
  },
  {
   "cell_type": "code",
   "execution_count": 11,
   "metadata": {},
   "outputs": [],
   "source": [
    "panel_data = pd.read_parquet('../Dados/pnad_covid/pnad_covid_balanced.parquet')"
   ]
  },
  {
   "cell_type": "code",
   "execution_count": 12,
   "metadata": {},
   "outputs": [],
   "source": [
    "panel_data.dropna(inplace=True)"
   ]
  },
  {
   "cell_type": "code",
   "execution_count": 6,
   "metadata": {},
   "outputs": [],
   "source": [
    "panel_data.reset_index(inplace=True)"
   ]
  },
  {
   "cell_type": "code",
   "execution_count": 7,
   "metadata": {},
   "outputs": [],
   "source": [
    "#for every portfolio, fill mising values with first value of sigla_uf\n",
    "\n",
    "\n",
    "\n",
    "panel_data['C013'] = panel_data['C013'].fillna(method='bfill')\n",
    "\n",
    "panel_data['A003'] = panel_data['A003'].fillna(method='bfill')\n",
    "\n",
    "panel_data['A004'] = panel_data['A004'].fillna(method='bfill')\n",
    "\n",
    "panel_data['A005'] = panel_data['A005'].fillna(method='bfill')\n",
    "\n"
   ]
  },
  {
   "cell_type": "code",
   "execution_count": 17,
   "metadata": {},
   "outputs": [
    {
     "ename": "",
     "evalue": "",
     "output_type": "error",
     "traceback": [
      "\u001b[1;31mCanceled future for execute_request message before replies were done"
     ]
    },
    {
     "ename": "",
     "evalue": "",
     "output_type": "error",
     "traceback": [
      "\u001b[1;31mThe Kernel crashed while executing code in the the current cell or a previous cell. Please review the code in the cell(s) to identify a possible cause of the failure. Click <a href='https://aka.ms/vscodeJupyterKernelCrash'>here</a> for more info. View Jupyter <a href='command:jupyter.viewOutput'>log</a> for further details."
     ]
    }
   ],
   "source": [
    "#for each domicilio_id fill missing values with first value diferent of NaN in column\n",
    "\n",
    "panel_data['A003'] = panel_data.groupby('domicilio_id')['A003'].transform(lambda x: x.fillna(method='bfill'))"
   ]
  },
  {
   "cell_type": "markdown",
   "metadata": {},
   "source": [
    "### Regressão"
   ]
  },
  {
   "cell_type": "code",
   "execution_count": 8,
   "metadata": {},
   "outputs": [],
   "source": [
    "panel_data.set_index(['domicilio_id', 'semana_dt'], inplace=True)"
   ]
  },
  {
   "cell_type": "code",
   "execution_count": 9,
   "metadata": {},
   "outputs": [],
   "source": [
    "#Variáveis explicativas do modelo\n",
    "# Adicionando uma constante\n",
    "exog_variables = panel_data.drop('C013', axis=1)"
   ]
  },
  {
   "cell_type": "code",
   "execution_count": 15,
   "metadata": {},
   "outputs": [
    {
     "data": {
      "text/html": [
       "<div>\n",
       "<style scoped>\n",
       "    .dataframe tbody tr th:only-of-type {\n",
       "        vertical-align: middle;\n",
       "    }\n",
       "\n",
       "    .dataframe tbody tr th {\n",
       "        vertical-align: top;\n",
       "    }\n",
       "\n",
       "    .dataframe thead th {\n",
       "        text-align: right;\n",
       "    }\n",
       "</style>\n",
       "<table border=\"1\" class=\"dataframe\">\n",
       "  <thead>\n",
       "    <tr style=\"text-align: right;\">\n",
       "      <th></th>\n",
       "      <th></th>\n",
       "      <th>C013</th>\n",
       "      <th>A003</th>\n",
       "      <th>A004</th>\n",
       "      <th>A005</th>\n",
       "      <th>formalidade</th>\n",
       "      <th>semana</th>\n",
       "    </tr>\n",
       "    <tr>\n",
       "      <th>domicilio_id</th>\n",
       "      <th>semana_dt</th>\n",
       "      <th></th>\n",
       "      <th></th>\n",
       "      <th></th>\n",
       "      <th></th>\n",
       "      <th></th>\n",
       "      <th></th>\n",
       "    </tr>\n",
       "  </thead>\n",
       "  <tbody>\n",
       "    <tr>\n",
       "      <th rowspan=\"5\" valign=\"top\">1100000161Mulher221974</th>\n",
       "      <th>18</th>\n",
       "      <td>Não</td>\n",
       "      <td>Mulher</td>\n",
       "      <td>Parda</td>\n",
       "      <td>Médio completo</td>\n",
       "      <td>Formal</td>\n",
       "      <td>24</td>\n",
       "    </tr>\n",
       "    <tr>\n",
       "      <th>22</th>\n",
       "      <td>Não</td>\n",
       "      <td>Mulher</td>\n",
       "      <td>Parda</td>\n",
       "      <td>Médio completo</td>\n",
       "      <td>Formal</td>\n",
       "      <td>24</td>\n",
       "    </tr>\n",
       "    <tr>\n",
       "      <th>26</th>\n",
       "      <td>Não</td>\n",
       "      <td>Mulher</td>\n",
       "      <td>Parda</td>\n",
       "      <td>Médio completo</td>\n",
       "      <td>Formal</td>\n",
       "      <td>24</td>\n",
       "    </tr>\n",
       "    <tr>\n",
       "      <th>30</th>\n",
       "      <td>Não</td>\n",
       "      <td>Mulher</td>\n",
       "      <td>Parda</td>\n",
       "      <td>Médio completo</td>\n",
       "      <td>Formal</td>\n",
       "      <td>24</td>\n",
       "    </tr>\n",
       "    <tr>\n",
       "      <th>34</th>\n",
       "      <td>Não</td>\n",
       "      <td>Mulher</td>\n",
       "      <td>Parda</td>\n",
       "      <td>Médio completo</td>\n",
       "      <td>Formal</td>\n",
       "      <td>24</td>\n",
       "    </tr>\n",
       "    <tr>\n",
       "      <th>...</th>\n",
       "      <th>...</th>\n",
       "      <td>...</td>\n",
       "      <td>...</td>\n",
       "      <td>...</td>\n",
       "      <td>...</td>\n",
       "      <td>...</td>\n",
       "      <td>...</td>\n",
       "    </tr>\n",
       "    <tr>\n",
       "      <th>53001448813Homem2331978</th>\n",
       "      <th>42</th>\n",
       "      <td>Sim</td>\n",
       "      <td>Homem</td>\n",
       "      <td>Branca</td>\n",
       "      <td>Pós-graduação, mestrado ou doutorado</td>\n",
       "      <td>Formal</td>\n",
       "      <td>20</td>\n",
       "    </tr>\n",
       "    <tr>\n",
       "      <th>53001448813Mulher721980</th>\n",
       "      <th>42</th>\n",
       "      <td>Não</td>\n",
       "      <td>Mulher</td>\n",
       "      <td>Branca</td>\n",
       "      <td>Pós-graduação, mestrado ou doutorado</td>\n",
       "      <td>Formal</td>\n",
       "      <td>20</td>\n",
       "    </tr>\n",
       "    <tr>\n",
       "      <th>5300193734Mulher2081982</th>\n",
       "      <th>44</th>\n",
       "      <td>Sim</td>\n",
       "      <td>Mulher</td>\n",
       "      <td>Parda</td>\n",
       "      <td>Superior completo</td>\n",
       "      <td>Formal</td>\n",
       "      <td>20</td>\n",
       "    </tr>\n",
       "    <tr>\n",
       "      <th>5300317391Homem18112000</th>\n",
       "      <th>44</th>\n",
       "      <td>Sim</td>\n",
       "      <td>Homem</td>\n",
       "      <td>Parda</td>\n",
       "      <td>Superior incompleto</td>\n",
       "      <td>Informal</td>\n",
       "      <td>20</td>\n",
       "    </tr>\n",
       "    <tr>\n",
       "      <th>5300317391Homem4111997</th>\n",
       "      <th>44</th>\n",
       "      <td>Não</td>\n",
       "      <td>Homem</td>\n",
       "      <td>Parda</td>\n",
       "      <td>Médio completo</td>\n",
       "      <td>Informal</td>\n",
       "      <td>20</td>\n",
       "    </tr>\n",
       "  </tbody>\n",
       "</table>\n",
       "<p>977444 rows × 6 columns</p>\n",
       "</div>"
      ],
      "text/plain": [
       "                                  C013    A003    A004   \n",
       "domicilio_id            semana_dt                        \n",
       "1100000161Mulher221974  18         Não  Mulher   Parda  \\\n",
       "                        22         Não  Mulher   Parda   \n",
       "                        26         Não  Mulher   Parda   \n",
       "                        30         Não  Mulher   Parda   \n",
       "                        34         Não  Mulher   Parda   \n",
       "...                                ...     ...     ...   \n",
       "53001448813Homem2331978 42         Sim   Homem  Branca   \n",
       "53001448813Mulher721980 42         Não  Mulher  Branca   \n",
       "5300193734Mulher2081982 44         Sim  Mulher   Parda   \n",
       "5300317391Homem18112000 44         Sim   Homem   Parda   \n",
       "5300317391Homem4111997  44         Não   Homem   Parda   \n",
       "\n",
       "                                                                   A005   \n",
       "domicilio_id            semana_dt                                         \n",
       "1100000161Mulher221974  18                               Médio completo  \\\n",
       "                        22                               Médio completo   \n",
       "                        26                               Médio completo   \n",
       "                        30                               Médio completo   \n",
       "                        34                               Médio completo   \n",
       "...                                                                 ...   \n",
       "53001448813Homem2331978 42         Pós-graduação, mestrado ou doutorado   \n",
       "53001448813Mulher721980 42         Pós-graduação, mestrado ou doutorado   \n",
       "5300193734Mulher2081982 44                            Superior completo   \n",
       "5300317391Homem18112000 44                          Superior incompleto   \n",
       "5300317391Homem4111997  44                               Médio completo   \n",
       "\n",
       "                                  formalidade semana  \n",
       "domicilio_id            semana_dt                     \n",
       "1100000161Mulher221974  18             Formal     24  \n",
       "                        22             Formal     24  \n",
       "                        26             Formal     24  \n",
       "                        30             Formal     24  \n",
       "                        34             Formal     24  \n",
       "...                                       ...    ...  \n",
       "53001448813Homem2331978 42             Formal     20  \n",
       "53001448813Mulher721980 42             Formal     20  \n",
       "5300193734Mulher2081982 44             Formal     20  \n",
       "5300317391Homem18112000 44           Informal     20  \n",
       "5300317391Homem4111997  44           Informal     20  \n",
       "\n",
       "[977444 rows x 6 columns]"
      ]
     },
     "execution_count": 15,
     "metadata": {},
     "output_type": "execute_result"
    }
   ],
   "source": [
    "panel_data"
   ]
  },
  {
   "cell_type": "code",
   "execution_count": 14,
   "metadata": {},
   "outputs": [
    {
     "ename": "KeyError",
     "evalue": "\"['A004_Brancas e Amarelas'] not found in axis\"",
     "output_type": "error",
     "traceback": [
      "\u001b[0;31m---------------------------------------------------------------------------\u001b[0m",
      "\u001b[0;31mKeyError\u001b[0m                                  Traceback (most recent call last)",
      "Cell \u001b[0;32mIn[14], line 1\u001b[0m\n\u001b[0;32m----> 1\u001b[0m pd\u001b[39m.\u001b[39;49mget_dummies(exog_variables[[\u001b[39m'\u001b[39;49m\u001b[39mA003\u001b[39;49m\u001b[39m'\u001b[39;49m,\u001b[39m'\u001b[39;49m\u001b[39mA004\u001b[39;49m\u001b[39m'\u001b[39;49m, \u001b[39m'\u001b[39;49m\u001b[39mA005\u001b[39;49m\u001b[39m'\u001b[39;49m, \u001b[39m'\u001b[39;49m\u001b[39mformalidade\u001b[39;49m\u001b[39m'\u001b[39;49m, \u001b[39m'\u001b[39;49m\u001b[39msemana\u001b[39;49m\u001b[39m'\u001b[39;49m]])\u001b[39m.\u001b[39;49mdrop([\u001b[39m'\u001b[39;49m\u001b[39mA003_Homem\u001b[39;49m\u001b[39m'\u001b[39;49m, \u001b[39m'\u001b[39;49m\u001b[39mA004_Brancas e Amarelas\u001b[39;49m\u001b[39m'\u001b[39;49m, \u001b[39m'\u001b[39;49m\u001b[39mA005_Sem instrução\u001b[39;49m\u001b[39m'\u001b[39;49m, \u001b[39m'\u001b[39;49m\u001b[39mformalidade_Informal\u001b[39;49m\u001b[39m'\u001b[39;49m], axis\u001b[39m=\u001b[39;49m\u001b[39m1\u001b[39;49m)\n",
      "File \u001b[0;32m~/.local/lib/python3.10/site-packages/pandas/core/frame.py:5268\u001b[0m, in \u001b[0;36mDataFrame.drop\u001b[0;34m(self, labels, axis, index, columns, level, inplace, errors)\u001b[0m\n\u001b[1;32m   5120\u001b[0m \u001b[39mdef\u001b[39;00m \u001b[39mdrop\u001b[39m(\n\u001b[1;32m   5121\u001b[0m     \u001b[39mself\u001b[39m,\n\u001b[1;32m   5122\u001b[0m     labels: IndexLabel \u001b[39m=\u001b[39m \u001b[39mNone\u001b[39;00m,\n\u001b[0;32m   (...)\u001b[0m\n\u001b[1;32m   5129\u001b[0m     errors: IgnoreRaise \u001b[39m=\u001b[39m \u001b[39m\"\u001b[39m\u001b[39mraise\u001b[39m\u001b[39m\"\u001b[39m,\n\u001b[1;32m   5130\u001b[0m ) \u001b[39m-\u001b[39m\u001b[39m>\u001b[39m DataFrame \u001b[39m|\u001b[39m \u001b[39mNone\u001b[39;00m:\n\u001b[1;32m   5131\u001b[0m \u001b[39m    \u001b[39m\u001b[39m\"\"\"\u001b[39;00m\n\u001b[1;32m   5132\u001b[0m \u001b[39m    Drop specified labels from rows or columns.\u001b[39;00m\n\u001b[1;32m   5133\u001b[0m \n\u001b[0;32m   (...)\u001b[0m\n\u001b[1;32m   5266\u001b[0m \u001b[39m            weight  1.0     0.8\u001b[39;00m\n\u001b[1;32m   5267\u001b[0m \u001b[39m    \"\"\"\u001b[39;00m\n\u001b[0;32m-> 5268\u001b[0m     \u001b[39mreturn\u001b[39;00m \u001b[39msuper\u001b[39;49m()\u001b[39m.\u001b[39;49mdrop(\n\u001b[1;32m   5269\u001b[0m         labels\u001b[39m=\u001b[39;49mlabels,\n\u001b[1;32m   5270\u001b[0m         axis\u001b[39m=\u001b[39;49maxis,\n\u001b[1;32m   5271\u001b[0m         index\u001b[39m=\u001b[39;49mindex,\n\u001b[1;32m   5272\u001b[0m         columns\u001b[39m=\u001b[39;49mcolumns,\n\u001b[1;32m   5273\u001b[0m         level\u001b[39m=\u001b[39;49mlevel,\n\u001b[1;32m   5274\u001b[0m         inplace\u001b[39m=\u001b[39;49minplace,\n\u001b[1;32m   5275\u001b[0m         errors\u001b[39m=\u001b[39;49merrors,\n\u001b[1;32m   5276\u001b[0m     )\n",
      "File \u001b[0;32m~/.local/lib/python3.10/site-packages/pandas/core/generic.py:4549\u001b[0m, in \u001b[0;36mNDFrame.drop\u001b[0;34m(self, labels, axis, index, columns, level, inplace, errors)\u001b[0m\n\u001b[1;32m   4547\u001b[0m \u001b[39mfor\u001b[39;00m axis, labels \u001b[39min\u001b[39;00m axes\u001b[39m.\u001b[39mitems():\n\u001b[1;32m   4548\u001b[0m     \u001b[39mif\u001b[39;00m labels \u001b[39mis\u001b[39;00m \u001b[39mnot\u001b[39;00m \u001b[39mNone\u001b[39;00m:\n\u001b[0;32m-> 4549\u001b[0m         obj \u001b[39m=\u001b[39m obj\u001b[39m.\u001b[39;49m_drop_axis(labels, axis, level\u001b[39m=\u001b[39;49mlevel, errors\u001b[39m=\u001b[39;49merrors)\n\u001b[1;32m   4551\u001b[0m \u001b[39mif\u001b[39;00m inplace:\n\u001b[1;32m   4552\u001b[0m     \u001b[39mself\u001b[39m\u001b[39m.\u001b[39m_update_inplace(obj)\n",
      "File \u001b[0;32m~/.local/lib/python3.10/site-packages/pandas/core/generic.py:4591\u001b[0m, in \u001b[0;36mNDFrame._drop_axis\u001b[0;34m(self, labels, axis, level, errors, only_slice)\u001b[0m\n\u001b[1;32m   4589\u001b[0m         new_axis \u001b[39m=\u001b[39m axis\u001b[39m.\u001b[39mdrop(labels, level\u001b[39m=\u001b[39mlevel, errors\u001b[39m=\u001b[39merrors)\n\u001b[1;32m   4590\u001b[0m     \u001b[39melse\u001b[39;00m:\n\u001b[0;32m-> 4591\u001b[0m         new_axis \u001b[39m=\u001b[39m axis\u001b[39m.\u001b[39;49mdrop(labels, errors\u001b[39m=\u001b[39;49merrors)\n\u001b[1;32m   4592\u001b[0m     indexer \u001b[39m=\u001b[39m axis\u001b[39m.\u001b[39mget_indexer(new_axis)\n\u001b[1;32m   4594\u001b[0m \u001b[39m# Case for non-unique axis\u001b[39;00m\n\u001b[1;32m   4595\u001b[0m \u001b[39melse\u001b[39;00m:\n",
      "File \u001b[0;32m~/.local/lib/python3.10/site-packages/pandas/core/indexes/base.py:6696\u001b[0m, in \u001b[0;36mIndex.drop\u001b[0;34m(self, labels, errors)\u001b[0m\n\u001b[1;32m   6694\u001b[0m \u001b[39mif\u001b[39;00m mask\u001b[39m.\u001b[39many():\n\u001b[1;32m   6695\u001b[0m     \u001b[39mif\u001b[39;00m errors \u001b[39m!=\u001b[39m \u001b[39m\"\u001b[39m\u001b[39mignore\u001b[39m\u001b[39m\"\u001b[39m:\n\u001b[0;32m-> 6696\u001b[0m         \u001b[39mraise\u001b[39;00m \u001b[39mKeyError\u001b[39;00m(\u001b[39mf\u001b[39m\u001b[39m\"\u001b[39m\u001b[39m{\u001b[39;00m\u001b[39mlist\u001b[39m(labels[mask])\u001b[39m}\u001b[39;00m\u001b[39m not found in axis\u001b[39m\u001b[39m\"\u001b[39m)\n\u001b[1;32m   6697\u001b[0m     indexer \u001b[39m=\u001b[39m indexer[\u001b[39m~\u001b[39mmask]\n\u001b[1;32m   6698\u001b[0m \u001b[39mreturn\u001b[39;00m \u001b[39mself\u001b[39m\u001b[39m.\u001b[39mdelete(indexer)\n",
      "\u001b[0;31mKeyError\u001b[0m: \"['A004_Brancas e Amarelas'] not found in axis\""
     ]
    }
   ],
   "source": [
    "pd.get_dummies(exog_variables[['A003','A004', 'A005', 'formalidade', 'semana']]).drop(['A003_Homem', 'A004_Brancas e Amarelas', 'A005_Sem instrução', 'formalidade_Informal'], axis=1)"
   ]
  },
  {
   "cell_type": "code",
   "execution_count": 6,
   "metadata": {},
   "outputs": [
    {
     "data": {
      "text/html": [
       "<div>\n",
       "<style scoped>\n",
       "    .dataframe tbody tr th:only-of-type {\n",
       "        vertical-align: middle;\n",
       "    }\n",
       "\n",
       "    .dataframe tbody tr th {\n",
       "        vertical-align: top;\n",
       "    }\n",
       "\n",
       "    .dataframe thead th {\n",
       "        text-align: right;\n",
       "    }\n",
       "</style>\n",
       "<table border=\"1\" class=\"dataframe\">\n",
       "  <thead>\n",
       "    <tr style=\"text-align: right;\">\n",
       "      <th></th>\n",
       "      <th></th>\n",
       "      <th>A003_Mulher</th>\n",
       "      <th>A004_Pretas e Pardas</th>\n",
       "      <th>formalidade_Formal</th>\n",
       "      <th>A005_Fundamental completo e Médio incompleto</th>\n",
       "      <th>A005_Médio completo e Superior incompleto</th>\n",
       "    </tr>\n",
       "    <tr>\n",
       "      <th>domicilio_id</th>\n",
       "      <th>semana_dt</th>\n",
       "      <th></th>\n",
       "      <th></th>\n",
       "      <th></th>\n",
       "      <th></th>\n",
       "      <th></th>\n",
       "    </tr>\n",
       "  </thead>\n",
       "  <tbody>\n",
       "    <tr>\n",
       "      <th rowspan=\"5\" valign=\"top\">1100000161Mulher221974</th>\n",
       "      <th>18</th>\n",
       "      <td>True</td>\n",
       "      <td>True</td>\n",
       "      <td>True</td>\n",
       "      <td>False</td>\n",
       "      <td>True</td>\n",
       "    </tr>\n",
       "    <tr>\n",
       "      <th>19</th>\n",
       "      <td>False</td>\n",
       "      <td>False</td>\n",
       "      <td>False</td>\n",
       "      <td>False</td>\n",
       "      <td>False</td>\n",
       "    </tr>\n",
       "    <tr>\n",
       "      <th>20</th>\n",
       "      <td>False</td>\n",
       "      <td>False</td>\n",
       "      <td>False</td>\n",
       "      <td>False</td>\n",
       "      <td>False</td>\n",
       "    </tr>\n",
       "    <tr>\n",
       "      <th>21</th>\n",
       "      <td>False</td>\n",
       "      <td>False</td>\n",
       "      <td>False</td>\n",
       "      <td>False</td>\n",
       "      <td>False</td>\n",
       "    </tr>\n",
       "    <tr>\n",
       "      <th>22</th>\n",
       "      <td>True</td>\n",
       "      <td>True</td>\n",
       "      <td>True</td>\n",
       "      <td>False</td>\n",
       "      <td>True</td>\n",
       "    </tr>\n",
       "    <tr>\n",
       "      <th>...</th>\n",
       "      <th>...</th>\n",
       "      <td>...</td>\n",
       "      <td>...</td>\n",
       "      <td>...</td>\n",
       "      <td>...</td>\n",
       "      <td>...</td>\n",
       "    </tr>\n",
       "    <tr>\n",
       "      <th rowspan=\"5\" valign=\"top\">5300269062Homem17122010</th>\n",
       "      <th>41</th>\n",
       "      <td>False</td>\n",
       "      <td>False</td>\n",
       "      <td>False</td>\n",
       "      <td>False</td>\n",
       "      <td>False</td>\n",
       "    </tr>\n",
       "    <tr>\n",
       "      <th>42</th>\n",
       "      <td>False</td>\n",
       "      <td>False</td>\n",
       "      <td>False</td>\n",
       "      <td>False</td>\n",
       "      <td>False</td>\n",
       "    </tr>\n",
       "    <tr>\n",
       "      <th>43</th>\n",
       "      <td>False</td>\n",
       "      <td>True</td>\n",
       "      <td>False</td>\n",
       "      <td>False</td>\n",
       "      <td>False</td>\n",
       "    </tr>\n",
       "    <tr>\n",
       "      <th>44</th>\n",
       "      <td>False</td>\n",
       "      <td>False</td>\n",
       "      <td>False</td>\n",
       "      <td>False</td>\n",
       "      <td>False</td>\n",
       "    </tr>\n",
       "    <tr>\n",
       "      <th>45</th>\n",
       "      <td>False</td>\n",
       "      <td>False</td>\n",
       "      <td>False</td>\n",
       "      <td>False</td>\n",
       "      <td>False</td>\n",
       "    </tr>\n",
       "  </tbody>\n",
       "</table>\n",
       "<p>13080125 rows × 5 columns</p>\n",
       "</div>"
      ],
      "text/plain": [
       "                                   A003_Mulher  A004_Pretas e Pardas   \n",
       "domicilio_id            semana_dt                                      \n",
       "1100000161Mulher221974  18                True                  True  \\\n",
       "                        19               False                 False   \n",
       "                        20               False                 False   \n",
       "                        21               False                 False   \n",
       "                        22                True                  True   \n",
       "...                                        ...                   ...   \n",
       "5300269062Homem17122010 41               False                 False   \n",
       "                        42               False                 False   \n",
       "                        43               False                  True   \n",
       "                        44               False                 False   \n",
       "                        45               False                 False   \n",
       "\n",
       "                                   formalidade_Formal   \n",
       "domicilio_id            semana_dt                       \n",
       "1100000161Mulher221974  18                       True  \\\n",
       "                        19                      False   \n",
       "                        20                      False   \n",
       "                        21                      False   \n",
       "                        22                       True   \n",
       "...                                               ...   \n",
       "5300269062Homem17122010 41                      False   \n",
       "                        42                      False   \n",
       "                        43                      False   \n",
       "                        44                      False   \n",
       "                        45                      False   \n",
       "\n",
       "                                   A005_Fundamental completo e Médio incompleto   \n",
       "domicilio_id            semana_dt                                                 \n",
       "1100000161Mulher221974  18                                                False  \\\n",
       "                        19                                                False   \n",
       "                        20                                                False   \n",
       "                        21                                                False   \n",
       "                        22                                                False   \n",
       "...                                                                         ...   \n",
       "5300269062Homem17122010 41                                                False   \n",
       "                        42                                                False   \n",
       "                        43                                                False   \n",
       "                        44                                                False   \n",
       "                        45                                                False   \n",
       "\n",
       "                                   A005_Médio completo e Superior incompleto  \n",
       "domicilio_id            semana_dt                                             \n",
       "1100000161Mulher221974  18                                              True  \n",
       "                        19                                             False  \n",
       "                        20                                             False  \n",
       "                        21                                             False  \n",
       "                        22                                              True  \n",
       "...                                                                      ...  \n",
       "5300269062Homem17122010 41                                             False  \n",
       "                        42                                             False  \n",
       "                        43                                             False  \n",
       "                        44                                             False  \n",
       "                        45                                             False  \n",
       "\n",
       "[13080125 rows x 5 columns]"
      ]
     },
     "execution_count": 6,
     "metadata": {},
     "output_type": "execute_result"
    }
   ],
   "source": [
    "pd.get_dummies(exog_variables[['A003','A004', 'A005', 'formalidade']])[['A003_Mulher', 'A004_Pretas e Pardas', 'formalidade_Formal', 'A005_Fundamental completo e Médio incompleto', 'A005_Médio completo e Superior incompleto']]"
   ]
  },
  {
   "cell_type": "code",
   "execution_count": 7,
   "metadata": {},
   "outputs": [],
   "source": [
    "exog_variables = pd.get_dummies(exog_variables).drop(['A003_Homem', 'A004_Brancas e Amarelas', 'A005_Sem instrução', 'formalidade_Informal'], axis=1)"
   ]
  },
  {
   "cell_type": "code",
   "execution_count": 8,
   "metadata": {},
   "outputs": [
    {
     "data": {
      "text/plain": [
       "(13080125, 19)"
      ]
     },
     "execution_count": 8,
     "metadata": {},
     "output_type": "execute_result"
    }
   ],
   "source": [
    "exog_variables.shape"
   ]
  },
  {
   "cell_type": "code",
   "execution_count": 9,
   "metadata": {},
   "outputs": [],
   "source": [
    "endog_variable = pd.get_dummies(panel_data['C013'])['Sim']"
   ]
  },
  {
   "cell_type": "code",
   "execution_count": 10,
   "metadata": {},
   "outputs": [
    {
     "name": "stdout",
     "output_type": "stream",
     "text": [
      "Empty DataFrame\n",
      "Columns: [Variável, VIF]\n",
      "Index: []\n"
     ]
    }
   ],
   "source": [
    "from statsmodels.stats.outliers_influence import variance_inflation_factor\n",
    "\n",
    "# Selecionar apenas as variáveis explicativas numéricas\n",
    "exog_numeric = exog_variables.select_dtypes(include=np.number)\n",
    "\n",
    "# Calcular os VIFs\n",
    "vifs = pd.DataFrame()\n",
    "vifs[\"Variável\"] = exog_numeric.columns\n",
    "vifs[\"VIF\"] = [variance_inflation_factor(exog_numeric.values, i) for i in range(exog_numeric.shape[1])]\n",
    "\n",
    "print(vifs)"
   ]
  },
  {
   "cell_type": "code",
   "execution_count": 11,
   "metadata": {},
   "outputs": [
    {
     "ename": "",
     "evalue": "",
     "output_type": "error",
     "traceback": [
      "\u001b[1;31mCanceled future for execute_request message before replies were done"
     ]
    },
    {
     "ename": "",
     "evalue": "",
     "output_type": "error",
     "traceback": [
      "\u001b[1;31mThe Kernel crashed while executing code in the the current cell or a previous cell. Please review the code in the cell(s) to identify a possible cause of the failure. Click <a href='https://aka.ms/vscodeJupyterKernelCrash'>here</a> for more info. View Jupyter <a href='command:jupyter.viewOutput'>log</a> for further details."
     ]
    }
   ],
   "source": [
    "# Estimating the fixed effects model\n",
    "f_effects_model = PanelOLS(dependent = endog_variable,  # Variável endógena (Y)\n",
    "                           exog = exog_variables,  # Variáveis exógenas (X matrix)\n",
    "                           check_rank=False,  # Checar se a matriz X é de posto completo\n",
    "                           entity_effects = True,  # True -> Efeitos fixos\n",
    "                           drop_absorbed = True,# Remover variáveis absorvidas\n",
    "                           time_effects=True)  \n",
    "\n",
    "# Ajustar o modelo aos dados\n",
    "f_effects_results = f_effects_model.fit()"
   ]
  },
  {
   "cell_type": "code",
   "execution_count": null,
   "metadata": {},
   "outputs": [],
   "source": [
    "f_effects_results = f_effects_model.fit()"
   ]
  },
  {
   "cell_type": "code",
   "execution_count": null,
   "metadata": {},
   "outputs": [
    {
     "data": {
      "text/html": [
       "<table class=\"simpletable\">\n",
       "<caption>PanelOLS Estimation Summary</caption>\n",
       "<tr>\n",
       "  <th>Dep. Variable:</th>           <td>Sim</td>       <th>  R-squared:         </th>      <td>0.8433</td>   \n",
       "</tr>\n",
       "<tr>\n",
       "  <th>Estimator:</th>            <td>PanelOLS</td>     <th>  R-squared (Between):</th>     <td>0.8934</td>   \n",
       "</tr>\n",
       "<tr>\n",
       "  <th>No. Observations:</th>      <td>1023662</td>     <th>  R-squared (Within):</th>      <td>0.8433</td>   \n",
       "</tr>\n",
       "<tr>\n",
       "  <th>Date:</th>             <td>Sat, Jun 17 2023</td> <th>  R-squared (Overall):</th>     <td>0.8521</td>   \n",
       "</tr>\n",
       "<tr>\n",
       "  <th>Time:</th>                 <td>14:03:44</td>     <th>  Log-likelihood     </th>     <td>8.959e+05</td> \n",
       "</tr>\n",
       "<tr>\n",
       "  <th>Cov. Estimator:</th>      <td>Unadjusted</td>    <th>                     </th>         <td></td>      \n",
       "</tr>\n",
       "<tr>\n",
       "  <th></th>                          <td></td>         <th>  F-statistic:       </th>     <td>2.951e+05</td> \n",
       "</tr>\n",
       "<tr>\n",
       "  <th>Entities:</th>               <td>36558</td>      <th>  P-value            </th>      <td>0.0000</td>   \n",
       "</tr>\n",
       "<tr>\n",
       "  <th>Avg Obs:</th>               <td>28.001</td>      <th>  Distribution:      </th>   <td>F(18,987059)</td>\n",
       "</tr>\n",
       "<tr>\n",
       "  <th>Min Obs:</th>               <td>28.000</td>      <th>                     </th>         <td></td>      \n",
       "</tr>\n",
       "<tr>\n",
       "  <th>Max Obs:</th>               <td>35.000</td>      <th>  F-statistic (robust):</th>   <td>2.951e+05</td> \n",
       "</tr>\n",
       "<tr>\n",
       "  <th></th>                          <td></td>         <th>  P-value            </th>      <td>0.0000</td>   \n",
       "</tr>\n",
       "<tr>\n",
       "  <th>Time periods:</th>            <td>28</td>        <th>  Distribution:      </th>   <td>F(18,987059)</td>\n",
       "</tr>\n",
       "<tr>\n",
       "  <th>Avg Obs:</th>              <td>3.656e+04</td>    <th>                     </th>         <td></td>      \n",
       "</tr>\n",
       "<tr>\n",
       "  <th>Min Obs:</th>              <td>3.656e+04</td>    <th>                     </th>         <td></td>      \n",
       "</tr>\n",
       "<tr>\n",
       "  <th>Max Obs:</th>              <td>3.656e+04</td>    <th>                     </th>         <td></td>      \n",
       "</tr>\n",
       "<tr>\n",
       "  <th></th>                          <td></td>         <th>                     </th>         <td></td>      \n",
       "</tr>\n",
       "</table>\n",
       "<table class=\"simpletable\">\n",
       "<caption>Parameter Estimates</caption>\n",
       "<tr>\n",
       "                        <td></td>                       <th>Parameter</th> <th>Std. Err.</th> <th>T-stat</th>  <th>P-value</th> <th>Lower CI</th> <th>Upper CI</th>\n",
       "</tr>\n",
       "<tr>\n",
       "  <th>A003_Mulher</th>                                   <td>0.1129</td>    <td>0.0007</td>   <td>159.23</td>  <td>0.0000</td>   <td>0.1115</td>   <td>0.1142</td> \n",
       "</tr>\n",
       "<tr>\n",
       "  <th>A004_Pretas e Pardas</th>                          <td>-0.0589</td>   <td>0.0007</td>   <td>-82.168</td> <td>0.0000</td>   <td>-0.0603</td>  <td>-0.0575</td>\n",
       "</tr>\n",
       "<tr>\n",
       "  <th>A005_Fundamental completo e Médio incompleto</th>  <td>0.1039</td>    <td>0.0016</td>   <td>64.750</td>  <td>0.0000</td>   <td>0.1008</td>   <td>0.1071</td> \n",
       "</tr>\n",
       "<tr>\n",
       "  <th>A005_Médio completo e Superior incompleto</th>     <td>0.4289</td>    <td>0.0012</td>   <td>345.78</td>  <td>0.0000</td>   <td>0.4265</td>   <td>0.4313</td> \n",
       "</tr>\n",
       "<tr>\n",
       "  <th>A005_Superior completo</th>                        <td>0.7288</td>    <td>0.0012</td>   <td>587.02</td>  <td>0.0000</td>   <td>0.7263</td>   <td>0.7312</td> \n",
       "</tr>\n",
       "<tr>\n",
       "  <th>formalidade_Formal</th>                            <td>0.1195</td>    <td>0.0007</td>   <td>162.18</td>  <td>0.0000</td>   <td>0.1181</td>   <td>0.1210</td> \n",
       "</tr>\n",
       "<tr>\n",
       "  <th>semana_12</th>                                     <td>0.0286</td>    <td>0.0017</td>   <td>16.882</td>  <td>0.0000</td>   <td>0.0253</td>   <td>0.0319</td> \n",
       "</tr>\n",
       "<tr>\n",
       "  <th>semana_15</th>                                    <td>6.422e-05</td>  <td>0.0031</td>   <td>0.0211</td>  <td>0.9832</td>   <td>-0.0059</td>  <td>0.0060</td> \n",
       "</tr>\n",
       "<tr>\n",
       "  <th>semana_17</th>                                     <td>0.0871</td>    <td>0.0016</td>   <td>55.194</td>  <td>0.0000</td>   <td>0.0840</td>   <td>0.0902</td> \n",
       "</tr>\n",
       "<tr>\n",
       "  <th>semana_19</th>                                     <td>0.0985</td>    <td>0.0017</td>   <td>59.323</td>  <td>0.0000</td>   <td>0.0953</td>   <td>0.1018</td> \n",
       "</tr>\n",
       "<tr>\n",
       "  <th>semana_20</th>                                     <td>0.0732</td>    <td>0.0017</td>   <td>43.985</td>  <td>0.0000</td>   <td>0.0700</td>   <td>0.0765</td> \n",
       "</tr>\n",
       "<tr>\n",
       "  <th>semana_21</th>                                     <td>0.0417</td>    <td>0.0020</td>   <td>21.196</td>  <td>0.0000</td>   <td>0.0379</td>   <td>0.0456</td> \n",
       "</tr>\n",
       "<tr>\n",
       "  <th>semana_22</th>                                     <td>0.0791</td>    <td>0.0013</td>   <td>63.220</td>  <td>0.0000</td>   <td>0.0766</td>   <td>0.0815</td> \n",
       "</tr>\n",
       "<tr>\n",
       "  <th>semana_23</th>                                     <td>0.0024</td>    <td>0.0018</td>   <td>1.3022</td>  <td>0.1928</td>   <td>-0.0012</td>  <td>0.0060</td> \n",
       "</tr>\n",
       "<tr>\n",
       "  <th>semana_24</th>                                     <td>0.0872</td>    <td>0.0016</td>   <td>55.933</td>  <td>0.0000</td>   <td>0.0842</td>   <td>0.0903</td> \n",
       "</tr>\n",
       "<tr>\n",
       "  <th>semana_25</th>                                     <td>0.0484</td>    <td>0.0018</td>   <td>26.842</td>  <td>0.0000</td>   <td>0.0448</td>   <td>0.0519</td> \n",
       "</tr>\n",
       "<tr>\n",
       "  <th>semana_27</th>                                     <td>0.1118</td>    <td>0.0014</td>   <td>80.194</td>  <td>0.0000</td>   <td>0.1091</td>   <td>0.1145</td> \n",
       "</tr>\n",
       "<tr>\n",
       "  <th>semana_28</th>                                     <td>0.0869</td>    <td>0.0017</td>   <td>50.487</td>  <td>0.0000</td>   <td>0.0836</td>   <td>0.0903</td> \n",
       "</tr>\n",
       "</table><br/><br/>F-test for Poolability: 3.8825<br/>P-value: 0.0000<br/>Distribution: F(36584,987059)<br/><br/>Included effects: Entity, Time"
      ],
      "text/plain": [
       "<class 'linearmodels.compat.statsmodels.Summary'>\n",
       "\"\"\"\n",
       "                          PanelOLS Estimation Summary                           \n",
       "================================================================================\n",
       "Dep. Variable:                    Sim   R-squared:                        0.8433\n",
       "Estimator:                   PanelOLS   R-squared (Between):              0.8934\n",
       "No. Observations:             1023662   R-squared (Within):               0.8433\n",
       "Date:                Sat, Jun 17 2023   R-squared (Overall):              0.8521\n",
       "Time:                        14:03:44   Log-likelihood                 8.959e+05\n",
       "Cov. Estimator:            Unadjusted                                           \n",
       "                                        F-statistic:                   2.951e+05\n",
       "Entities:                       36558   P-value                           0.0000\n",
       "Avg Obs:                       28.001   Distribution:               F(18,987059)\n",
       "Min Obs:                       28.000                                           \n",
       "Max Obs:                       35.000   F-statistic (robust):          2.951e+05\n",
       "                                        P-value                           0.0000\n",
       "Time periods:                      28   Distribution:               F(18,987059)\n",
       "Avg Obs:                    3.656e+04                                           \n",
       "Min Obs:                    3.656e+04                                           \n",
       "Max Obs:                    3.656e+04                                           \n",
       "                                                                                \n",
       "                                              Parameter Estimates                                               \n",
       "================================================================================================================\n",
       "                                              Parameter  Std. Err.     T-stat    P-value    Lower CI    Upper CI\n",
       "----------------------------------------------------------------------------------------------------------------\n",
       "A003_Mulher                                      0.1129     0.0007     159.23     0.0000      0.1115      0.1142\n",
       "A004_Pretas e Pardas                            -0.0589     0.0007    -82.168     0.0000     -0.0603     -0.0575\n",
       "A005_Fundamental completo e Médio incompleto     0.1039     0.0016     64.750     0.0000      0.1008      0.1071\n",
       "A005_Médio completo e Superior incompleto        0.4289     0.0012     345.78     0.0000      0.4265      0.4313\n",
       "A005_Superior completo                           0.7288     0.0012     587.02     0.0000      0.7263      0.7312\n",
       "formalidade_Formal                               0.1195     0.0007     162.18     0.0000      0.1181      0.1210\n",
       "semana_12                                        0.0286     0.0017     16.882     0.0000      0.0253      0.0319\n",
       "semana_15                                     6.422e-05     0.0031     0.0211     0.9832     -0.0059      0.0060\n",
       "semana_17                                        0.0871     0.0016     55.194     0.0000      0.0840      0.0902\n",
       "semana_19                                        0.0985     0.0017     59.323     0.0000      0.0953      0.1018\n",
       "semana_20                                        0.0732     0.0017     43.985     0.0000      0.0700      0.0765\n",
       "semana_21                                        0.0417     0.0020     21.196     0.0000      0.0379      0.0456\n",
       "semana_22                                        0.0791     0.0013     63.220     0.0000      0.0766      0.0815\n",
       "semana_23                                        0.0024     0.0018     1.3022     0.1928     -0.0012      0.0060\n",
       "semana_24                                        0.0872     0.0016     55.933     0.0000      0.0842      0.0903\n",
       "semana_25                                        0.0484     0.0018     26.842     0.0000      0.0448      0.0519\n",
       "semana_27                                        0.1118     0.0014     80.194     0.0000      0.1091      0.1145\n",
       "semana_28                                        0.0869     0.0017     50.487     0.0000      0.0836      0.0903\n",
       "================================================================================================================\n",
       "\n",
       "F-test for Poolability: 3.8825\n",
       "P-value: 0.0000\n",
       "Distribution: F(36584,987059)\n",
       "\n",
       "Included effects: Entity, Time\n",
       "\"\"\""
      ]
     },
     "metadata": {},
     "output_type": "display_data"
    }
   ],
   "source": [
    "f_effects_results.summary"
   ]
  },
  {
   "cell_type": "markdown",
   "metadata": {},
   "source": [
    "---"
   ]
  },
  {
   "cell_type": "markdown",
   "metadata": {},
   "source": [
    "Efeito do 2º choque - Flexibilização"
   ]
  }
 ],
 "metadata": {
  "kernelspec": {
   "display_name": "Python 3",
   "language": "python",
   "name": "python3"
  },
  "language_info": {
   "codemirror_mode": {
    "name": "ipython",
    "version": 3
   },
   "file_extension": ".py",
   "mimetype": "text/x-python",
   "name": "python",
   "nbconvert_exporter": "python",
   "pygments_lexer": "ipython3",
   "version": "3.10.4"
  },
  "orig_nbformat": 4
 },
 "nbformat": 4,
 "nbformat_minor": 2
}
