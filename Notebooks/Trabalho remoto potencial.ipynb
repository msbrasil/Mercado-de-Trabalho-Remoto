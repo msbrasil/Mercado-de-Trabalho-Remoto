{
 "cells": [
  {
   "attachments": {},
   "cell_type": "markdown",
   "metadata": {},
   "source": [
    "# Estimação do potencial de trabalho remoto no Brasil em 2019 \n",
    "\n",
    "A estimação será feita usando, primeiramente, a base da PNAD Contínua suplementar de 2019 e, depois, a PNAD COVID\n",
    "\n",
    "Foi adotado a hipótese de que a perda de potencial de trabalho remoto devido à falta de infraestrutura é a mesma na PNAD-COVID que na PNAD Contínua de 2019.\n",
    "\n",
    "Trabalhar com as seguintes variáveis da PNAD Contínua: \n",
    "- V4010, que classifica as diversas ocupações, \n",
    "- a unidade da federação (UF), \n",
    "- gênero (V2007), \n",
    "- raça (V2010), \n",
    "- renda em todos os trabalhos (VD4019), \n",
    "- Setor Público (V4013, Código da principal atividade desse negócio/empresa),\n",
    "- educação (VD3004), \n",
    "- formal/informal (combinação da variável VD4009 com a variável V4019) e \n",
    "- o peso amostral (V1032).\n",
    "\n",
    "Da mesma forma, os equivalentes para a PNAD-COVID são:\n",
    "- V1013, mês da pesquisa,\n",
    "- V1012, semana da pesquisa,\n",
    "- UF, unidade da federação,\n",
    "- C007C, trabalho, cargo ou ocupação,\n",
    "- A003, gênero,\n",
    "- A004, raça,\n",
    "- A005, escolaridade,\n",
    "- C007D, setor público,\n",
    "- C01012, renda, \n",
    "- C007, formal informal e\n",
    "- o peso amostral, V1032.\n",
    "\n",
    "Não esquecer de filtrar a base para os registros que a 'dummy_infra' igual à 1."
   ]
  },
  {
   "cell_type": "code",
   "execution_count": 1,
   "metadata": {},
   "outputs": [],
   "source": [
    "#pacotes \n",
    "import pandas as pd\n",
    "import numpy as np\n",
    "import datetime as dt"
   ]
  },
  {
   "cell_type": "code",
   "execution_count": 2,
   "metadata": {},
   "outputs": [],
   "source": [
    "#Importação dos dados da PNAD Contínua 2019 (suplementar)\n",
    "\n",
    "#determina qual diretório usar para cada sistema operacional.\n",
    "import os\n",
    "if os.name == 'nt': #windows\n",
    "    diretorio = 'C:\\\\Users\\\\est.matheus.brasil\\\\Documents\\\\Microdados PNAD Contínua\\\\suplementar\\\\'\n",
    "\n",
    "else: #linux(ou mac)\n",
    "    diretorio = '/home/matheus/Microdados PNAD/feather/'\n",
    "\n",
    "filtro_pnadc = ['Trimestre','V4010', 'UF', 'V2007', 'V2010', 'VD4019', 'V4013', 'VD3004', 'VD4009', 'V4019', 'V1032']\n",
    "\n",
    "pnadc_19 = pd.read_feather(fr'{diretorio}PNADC_2019_editado.feather', columns=filtro_pnadc)\n",
    "\n",
    "\n",
    "#Importação dos códigos de ocupação traduzidos\n",
    "\n",
    "ocupacoes = pd.read_excel('../Anexos/ocupacoes_traduzidas.xlsx')"
   ]
  },
  {
   "cell_type": "code",
   "execution_count": 3,
   "metadata": {},
   "outputs": [
    {
     "name": "stdout",
     "output_type": "stream",
     "text": [
      "Importando PNAD COVID 05 2020\n",
      "Importando PNAD COVID 06 2020\n",
      "Importando PNAD COVID 07 2020\n",
      "Importando PNAD COVID 08 2020\n",
      "Importando PNAD COVID 09 2020\n",
      "Importando PNAD COVID 10 2020\n",
      "Importando PNAD COVID 11 2020\n",
      "Fim da importação\n"
     ]
    }
   ],
   "source": [
    "#Importação dos dados da PNAD COVID\n",
    "\n",
    "#determina qual diretório usar para cada sistema operacional.\n",
    "import os\n",
    "if os.name == 'nt': #windows\n",
    "    diretorio = 'C:\\\\Users\\\\est.matheus.brasil\\\\Documents\\\\Microdados PNAD Contínua\\\\feather_covid\\\\'\n",
    "\n",
    "else: #linux(ou mac)\n",
    "    diretorio = '/home/matheus/Microdados PNAD/PNAD_COVID/'\n",
    "\n",
    "#Leitura de todas as bases com as variáveis selecionadas e criação de variáveis dinamicamente.\n",
    "\n",
    "filtro_pnad_covid = ['Ano', 'V1013', 'V1012', 'UF', 'C007C', 'A003', 'A004', 'A005', 'C007D', 'C01012', 'C007', 'V1032']\n",
    "\n",
    "for i in range(5, 12):\n",
    "    if i < 10:\n",
    "        mes = '0' + str(i)\n",
    "    else:\n",
    "        mes = i\n",
    "    print(f'Importando PNAD COVID {mes} 2020')\n",
    "    globals()[f'pnad_covid_{mes}2020'] = pd.read_feather(fr'{diretorio}PNAD_COVID_{mes}2020.feather', columns=filtro_pnad_covid)\n",
    "\n",
    "print('Fim da importação')"
   ]
  },
  {
   "cell_type": "code",
   "execution_count": 4,
   "metadata": {},
   "outputs": [],
   "source": [
    "#Concatena todas os dataframes da PNAD COVID\n",
    "\n",
    "pnad_covid = pd.concat([\n",
    "    pnad_covid_052020,\n",
    "    pnad_covid_062020,\n",
    "    pnad_covid_072020,\n",
    "    pnad_covid_082020,\n",
    "    pnad_covid_092020,\n",
    "    pnad_covid_102020,\n",
    "    pnad_covid_112020\n",
    "    ])"
   ]
  },
  {
   "attachments": {},
   "cell_type": "markdown",
   "metadata": {},
   "source": [
    "### Junção dos códigos de ocupação com os dados da PNAD Contínua 2019"
   ]
  },
  {
   "cell_type": "code",
   "execution_count": 5,
   "metadata": {},
   "outputs": [],
   "source": [
    "#Coluna com o código da ocupação Major das ocupações traduzidas\n",
    "pnadc_19['COD_OCUP_MAJ'] = pnadc_19['V4010'].astype(str).str[:1]"
   ]
  },
  {
   "cell_type": "code",
   "execution_count": 6,
   "metadata": {},
   "outputs": [],
   "source": [
    "ocupacoes['Cod'] = ocupacoes['Cod'].astype(str)"
   ]
  },
  {
   "cell_type": "code",
   "execution_count": 7,
   "metadata": {},
   "outputs": [],
   "source": [
    "pnadc_19_remoto = pd.merge(pnadc_19, ocupacoes, left_on='COD_OCUP_MAJ', right_on='Cod', how='left')"
   ]
  },
  {
   "cell_type": "code",
   "execution_count": 8,
   "metadata": {},
   "outputs": [
    {
     "data": {
      "text/html": [
       "<div>\n",
       "<style scoped>\n",
       "    .dataframe tbody tr th:only-of-type {\n",
       "        vertical-align: middle;\n",
       "    }\n",
       "\n",
       "    .dataframe tbody tr th {\n",
       "        vertical-align: top;\n",
       "    }\n",
       "\n",
       "    .dataframe thead th {\n",
       "        text-align: right;\n",
       "    }\n",
       "</style>\n",
       "<table border=\"1\" class=\"dataframe\">\n",
       "  <thead>\n",
       "    <tr style=\"text-align: right;\">\n",
       "      <th></th>\n",
       "      <th>Trimestre</th>\n",
       "      <th>V4010</th>\n",
       "      <th>UF</th>\n",
       "      <th>V2007</th>\n",
       "      <th>V2010</th>\n",
       "      <th>VD4019</th>\n",
       "      <th>V4013</th>\n",
       "      <th>VD3004</th>\n",
       "      <th>VD4009</th>\n",
       "      <th>V4019</th>\n",
       "      <th>V1032</th>\n",
       "      <th>COD_OCUP_MAJ</th>\n",
       "      <th>code_ONET</th>\n",
       "      <th>Title_ONET</th>\n",
       "      <th>teleworkable</th>\n",
       "      <th>Cod</th>\n",
       "      <th>Titulação</th>\n",
       "    </tr>\n",
       "  </thead>\n",
       "  <tbody>\n",
       "    <tr>\n",
       "      <th>0</th>\n",
       "      <td>1</td>\n",
       "      <td>3221</td>\n",
       "      <td>Rondônia</td>\n",
       "      <td>Mulher</td>\n",
       "      <td>Parda</td>\n",
       "      <td>1583.0</td>\n",
       "      <td>86001</td>\n",
       "      <td>Superior completo</td>\n",
       "      <td>Empregado no setor privado com carteira de tra...</td>\n",
       "      <td>NaN</td>\n",
       "      <td>149.43857</td>\n",
       "      <td>3</td>\n",
       "      <td>11-9141</td>\n",
       "      <td>Property, Real Estate, and Community Associati...</td>\n",
       "      <td>1.0</td>\n",
       "      <td>3</td>\n",
       "      <td>TÉCNICOS E PROFISSIONAIS DE NÍVEL MÉDIO</td>\n",
       "    </tr>\n",
       "    <tr>\n",
       "      <th>1</th>\n",
       "      <td>1</td>\n",
       "      <td>3221</td>\n",
       "      <td>Rondônia</td>\n",
       "      <td>Mulher</td>\n",
       "      <td>Parda</td>\n",
       "      <td>1583.0</td>\n",
       "      <td>86001</td>\n",
       "      <td>Superior completo</td>\n",
       "      <td>Empregado no setor privado com carteira de tra...</td>\n",
       "      <td>NaN</td>\n",
       "      <td>149.43857</td>\n",
       "      <td>3</td>\n",
       "      <td>13-1021</td>\n",
       "      <td>Buyers and Purchasing Agents, Farm Products</td>\n",
       "      <td>1.0</td>\n",
       "      <td>3</td>\n",
       "      <td>TÉCNICOS E PROFISSIONAIS DE NÍVEL MÉDIO</td>\n",
       "    </tr>\n",
       "  </tbody>\n",
       "</table>\n",
       "</div>"
      ],
      "text/plain": [
       "  Trimestre V4010        UF   V2007  V2010  VD4019  V4013             VD3004  \\\n",
       "0         1  3221  Rondônia  Mulher  Parda  1583.0  86001  Superior completo   \n",
       "1         1  3221  Rondônia  Mulher  Parda  1583.0  86001  Superior completo   \n",
       "\n",
       "                                              VD4009 V4019      V1032  \\\n",
       "0  Empregado no setor privado com carteira de tra...   NaN  149.43857   \n",
       "1  Empregado no setor privado com carteira de tra...   NaN  149.43857   \n",
       "\n",
       "  COD_OCUP_MAJ code_ONET                                         Title_ONET  \\\n",
       "0            3   11-9141  Property, Real Estate, and Community Associati...   \n",
       "1            3   13-1021        Buyers and Purchasing Agents, Farm Products   \n",
       "\n",
       "   teleworkable Cod                                Titulação  \n",
       "0           1.0   3  TÉCNICOS E PROFISSIONAIS DE NÍVEL MÉDIO  \n",
       "1           1.0   3  TÉCNICOS E PROFISSIONAIS DE NÍVEL MÉDIO  "
      ]
     },
     "execution_count": 8,
     "metadata": {},
     "output_type": "execute_result"
    }
   ],
   "source": [
    "pnadc_19_remoto.head(2)"
   ]
  },
  {
   "attachments": {},
   "cell_type": "markdown",
   "metadata": {},
   "source": [
    "Até aqui, a PNAD Contínua com a dummy de infraestrutura e a base de ocupações traduzidas da O*NET para COD foram e unidas no dataframe <code>pnadc_19_remoto</code>."
   ]
  },
  {
   "attachments": {},
   "cell_type": "markdown",
   "metadata": {},
   "source": [
    "### Classificação das ocupações na PNAD COVID e junção com a base de ocupações traduzidas da O*NET para COD"
   ]
  },
  {
   "cell_type": "code",
   "execution_count": 9,
   "metadata": {},
   "outputs": [],
   "source": [
    "#Dicionário com ocupaçoes da pnad covid classificada pelo maior grupo da de ocupação da COD\n",
    "dict_ocupacoes_pnad_covid = {\n",
    "    'Técnico, profissional da saúde de nível médio':3,\n",
    "    'Secretária, recepcionista':4,\n",
    "    'Vendedor ambulante (feirante, camelô, comerciante de rua, quiosque)':9,\n",
    "    'Professor da educação infantil, de ensino fundamental, médio ou superior,':2,\n",
    "    'Pedreiro, servente de pedreiro, pintor, eletricista, marceneiro':7,\n",
    "    'Outros':9, \n",
    "    'Porteiro, zelador':5, \n",
    "    'Padeiro, açougueiro e doceiro':7,\n",
    "    'Motorista de caminhão (caminhoneiro),':8,\n",
    "    'Artesão, costureiro e sapateiro':7,\n",
    "    'Outra profissão de nível superior (advogado, engenheiro, contador, jornalista etc.)':2,\n",
    "    'Segurança, vigilante, outro trabalhador dos serviços de proteção':5,\n",
    "    'Faxineiro, auxiliar de limpeza etc. (em empresa pública ou privada),':9,\n",
    "    'Diretor, gerente, cargo político ou comissionado':1,\n",
    "    'Balconista, vendedor de loja':5,\n",
    "    'Operador de máquinas, montador na indústria;':8,\n",
    "    'Médico, enfermeiro, profissionais de saúde de nível superior':2,\n",
    "    'Cabeleireiro, manicure e afins':5,\n",
    "    'Auxiliar de escritório, escriturário':4,\n",
    "    'Mecânico de veículos, máquinas industriais etc.':7,\n",
    "    'Motorista (de aplicativo, de taxi, de van, de mototáxi, de ônibus)':8,\n",
    "    'Cozinheiro e garçom (de restaurantes, empresas)':5,\n",
    "    'Comerciante (dono do bar, da loja etc.)':5, \n",
    "    'Policial civil':5,\n",
    "    'Empregado doméstico, diarista, cozinheiro (em domicílios particulares),':9,\n",
    "    'Vendedor a domicílio, representante de vendas, vendedor de catálogo (Avon, Natura etc.)':5,\n",
    "    'Outro técnico ou profissional de nível médio':3,\n",
    "    'Agricultor, criador de animais, pescador, silvicultor e jardineiro':6,\n",
    "    'Entregador de mercadorias (de restaurante, de farmácia, de loja, Uber Eats, IFood, Rappy etc.)':9,\n",
    "    'Auxiliar de produção, de carga e descarga;':9,\n",
    "    'Pedagogo, professor de idiomas, música, arte e reforço escolar':2,\n",
    "    'Motoboy':9,\n",
    "    'Artista, religioso (padre, pastor etc.)':2,\n",
    "    'Operador de Telemarketing':4,\n",
    "    'Auxiliar da agropecuária (colhedor de frutas, boia fria, etc.)':9,\n",
    "    'Cuidador de crianças, doentes ou idosos':5,\n",
    "    'Entregador de mercadorias (de restaurante, de farmácia, de loja, Uber Esta, Iodo, Rapa etc.)':9\n",
    "    }"
   ]
  },
  {
   "cell_type": "code",
   "execution_count": 19,
   "metadata": {},
   "outputs": [
    {
     "data": {
      "text/html": [
       "<div>\n",
       "<style scoped>\n",
       "    .dataframe tbody tr th:only-of-type {\n",
       "        vertical-align: middle;\n",
       "    }\n",
       "\n",
       "    .dataframe tbody tr th {\n",
       "        vertical-align: top;\n",
       "    }\n",
       "\n",
       "    .dataframe thead th {\n",
       "        text-align: right;\n",
       "    }\n",
       "</style>\n",
       "<table border=\"1\" class=\"dataframe\">\n",
       "  <thead>\n",
       "    <tr style=\"text-align: right;\">\n",
       "      <th></th>\n",
       "      <th>Cod</th>\n",
       "      <th>Titulação</th>\n",
       "    </tr>\n",
       "  </thead>\n",
       "  <tbody>\n",
       "    <tr>\n",
       "      <th>841</th>\n",
       "      <td>0</td>\n",
       "      <td>OUTROS</td>\n",
       "    </tr>\n",
       "    <tr>\n",
       "      <th>85</th>\n",
       "      <td>1</td>\n",
       "      <td>DIRETORES E GERENTES</td>\n",
       "    </tr>\n",
       "    <tr>\n",
       "      <th>499</th>\n",
       "      <td>2</td>\n",
       "      <td>PROFISSIONAIS DAS CIÊNCIAS E INTELECTUAIS</td>\n",
       "    </tr>\n",
       "    <tr>\n",
       "      <th>662</th>\n",
       "      <td>3</td>\n",
       "      <td>TÉCNICOS E PROFISSIONAIS DE NÍVEL MÉDIO</td>\n",
       "    </tr>\n",
       "    <tr>\n",
       "      <th>852</th>\n",
       "      <td>4</td>\n",
       "      <td>TRABALHADORES DE APOIO ADMINISTRATIVO</td>\n",
       "    </tr>\n",
       "    <tr>\n",
       "      <th>1270</th>\n",
       "      <td>5</td>\n",
       "      <td>TRABALHADORES DOS SERVIÇOS, VENDEDORES DOS COM...</td>\n",
       "    </tr>\n",
       "    <tr>\n",
       "      <th>905</th>\n",
       "      <td>6</td>\n",
       "      <td>TRABALHADORES QUALIFICADOS DA AGROPECUÁRIA, FL...</td>\n",
       "    </tr>\n",
       "    <tr>\n",
       "      <th>1134</th>\n",
       "      <td>7</td>\n",
       "      <td>TRABALHADORES QUALIFICADOS, OPERÁRIOS E ARTESÃ...</td>\n",
       "    </tr>\n",
       "    <tr>\n",
       "      <th>1317</th>\n",
       "      <td>8</td>\n",
       "      <td>OPERADORES DE INSTALAÇÕES E MÁQUINAS E MONTADORES</td>\n",
       "    </tr>\n",
       "    <tr>\n",
       "      <th>1335</th>\n",
       "      <td>9</td>\n",
       "      <td>OCUPAÇÕES ELEMENTARES</td>\n",
       "    </tr>\n",
       "  </tbody>\n",
       "</table>\n",
       "</div>"
      ],
      "text/plain": [
       "     Cod                                          Titulação\n",
       "841    0                                             OUTROS\n",
       "85     1                               DIRETORES E GERENTES\n",
       "499    2          PROFISSIONAIS DAS CIÊNCIAS E INTELECTUAIS\n",
       "662    3            TÉCNICOS E PROFISSIONAIS DE NÍVEL MÉDIO\n",
       "852    4              TRABALHADORES DE APOIO ADMINISTRATIVO\n",
       "1270   5  TRABALHADORES DOS SERVIÇOS, VENDEDORES DOS COM...\n",
       "905    6  TRABALHADORES QUALIFICADOS DA AGROPECUÁRIA, FL...\n",
       "1134   7  TRABALHADORES QUALIFICADOS, OPERÁRIOS E ARTESÃ...\n",
       "1317   8  OPERADORES DE INSTALAÇÕES E MÁQUINAS E MONTADORES\n",
       "1335   9                              OCUPAÇÕES ELEMENTARES"
      ]
     },
     "execution_count": 19,
     "metadata": {},
     "output_type": "execute_result"
    }
   ],
   "source": [
    "ocupacoes[['Cod','Titulação']].sort_values('Cod').drop_duplicates()"
   ]
  },
  {
   "cell_type": "code",
   "execution_count": 20,
   "metadata": {},
   "outputs": [],
   "source": [
    "#Nova coluna com o código da ocupação Major das ocupações traduzidas\n",
    "pnad_covid['COD_OCUP_MAJ'] = pnad_covid['C007C'].map(dict_ocupacoes_pnad_covid)\n",
    "#converter para inteiro\n",
    "pnad_covid['COD_OCUP_MAJ'].fillna(999, inplace=True)\n",
    "pnad_covid['COD_OCUP_MAJ'] = pnad_covid['COD_OCUP_MAJ'].astype(int)\n"
   ]
  },
  {
   "cell_type": "code",
   "execution_count": 25,
   "metadata": {},
   "outputs": [],
   "source": [
    "ocupacoes['Cod'] = ocupacoes['Cod'].astype(int)"
   ]
  },
  {
   "cell_type": "code",
   "execution_count": 26,
   "metadata": {},
   "outputs": [
    {
     "ename": "",
     "evalue": "",
     "output_type": "error",
     "traceback": [
      "\u001b[1;31mCanceled future for execute_request message before replies were done"
     ]
    },
    {
     "ename": "",
     "evalue": "",
     "output_type": "error",
     "traceback": [
      "\u001b[1;31mO Kernel falhou ao executar o código na célula atual ou em uma célula anterior. Examine o código nas células para identificar uma possível causa da falha. Clique <a href=\"https://aka.ms/vscodeJupyterKernelCrash\">aqui</a> para obter mais informações. Consulte o <a href='command:jupyter.viewOutput'>log</a> do Jupyter para obter mais detalhes."
     ]
    }
   ],
   "source": [
    "#TODO: verificar pq não está funcionando\n",
    "#pnad_covid_remoto = pd.merge(pnad_covid, ocupacoes, left_on='COD_OCUP_MAJ', right_on='Cod', how='left')"
   ]
  },
  {
   "attachments": {},
   "cell_type": "markdown",
   "metadata": {},
   "source": [
    "### Ajuste do trabalho remoto potencial \n",
    "\n",
    "O ajuste deve ser realizada através da seguinte equação:\n",
    "\n",
    "$POT^K_{PNAD-COVID-INFRA} = POT^K_{PNAD-COVID} \\times \\frac{POT^K_{PNAD-INFRA}}{POT^K_{PNAD}}$\n",
    "\n",
    "Em que:\n",
    "\n",
    "- $POT^K_{PNAD-COVID-INFRA}$ é o trabalho remoto potencial da PNAD-COVID ajustado pela infraestrutura,\n",
    "\n",
    "- $POT^K_{PNAD-COVID}$ é o potencial de trabalho remoto da PNAD-COVID sem o ajuste da infraestrutura,\n",
    "\n",
    "- $POT^K_{PNAD-INFRA}$ é o potencial de trabalho remoto da PNAD Contínua de 2019 com ajuste de infraestrutura e \n",
    "\n",
    "- $POT^K_{PNAD}$ é o potencial de trabalho remoto calculado com base na PNAD Contínua de 2019 sem o ajuste de infraestrutura.\n"
   ]
  },
  {
   "cell_type": "code",
   "execution_count": null,
   "metadata": {},
   "outputs": [
    {
     "data": {
      "text/html": [
       "<div>\n",
       "<style scoped>\n",
       "    .dataframe tbody tr th:only-of-type {\n",
       "        vertical-align: middle;\n",
       "    }\n",
       "\n",
       "    .dataframe tbody tr th {\n",
       "        vertical-align: top;\n",
       "    }\n",
       "\n",
       "    .dataframe thead th {\n",
       "        text-align: right;\n",
       "    }\n",
       "</style>\n",
       "<table border=\"1\" class=\"dataframe\">\n",
       "  <thead>\n",
       "    <tr style=\"text-align: right;\">\n",
       "      <th></th>\n",
       "      <th>V4010</th>\n",
       "    </tr>\n",
       "    <tr>\n",
       "      <th>Titulação</th>\n",
       "      <th></th>\n",
       "    </tr>\n",
       "  </thead>\n",
       "  <tbody>\n",
       "    <tr>\n",
       "      <th>DIRETORES E GERENTES</th>\n",
       "      <td>871542</td>\n",
       "    </tr>\n",
       "    <tr>\n",
       "      <th>OCUPAÇÕES ELEMENTARES</th>\n",
       "      <td>1950088</td>\n",
       "    </tr>\n",
       "    <tr>\n",
       "      <th>OPERADORES DE INSTALAÇÕES E MÁQUINAS E MONTADORES</th>\n",
       "      <td>1557504</td>\n",
       "    </tr>\n",
       "    <tr>\n",
       "      <th>OUTROS</th>\n",
       "      <td>279384</td>\n",
       "    </tr>\n",
       "    <tr>\n",
       "      <th>PROFISSIONAIS DAS CIÊNCIAS E INTELECTUAIS</th>\n",
       "      <td>5116839</td>\n",
       "    </tr>\n",
       "    <tr>\n",
       "      <th>TRABALHADORES DE APOIO ADMINISTRATIVO</th>\n",
       "      <td>502793</td>\n",
       "    </tr>\n",
       "    <tr>\n",
       "      <th>TRABALHADORES DOS SERVIÇOS, VENDEDORES DOS COMÉRCIOS E MERCADOS</th>\n",
       "      <td>2828732</td>\n",
       "    </tr>\n",
       "    <tr>\n",
       "      <th>TRABALHADORES QUALIFICADOS DA AGROPECUÁRIA, FLORESTAIS, DA CAÇA E DA PESCA</th>\n",
       "      <td>1651179</td>\n",
       "    </tr>\n",
       "    <tr>\n",
       "      <th>TRABALHADORES QUALIFICADOS, OPERÁRIOS E ARTESÃOS DA CONSTRUÇÃO, DAS ARTES MECÂNICAS E OUTROS OFÍCIOS</th>\n",
       "      <td>3897330</td>\n",
       "    </tr>\n",
       "    <tr>\n",
       "      <th>TÉCNICOS E PROFISSIONAIS DE NÍVEL MÉDIO</th>\n",
       "      <td>3369475</td>\n",
       "    </tr>\n",
       "  </tbody>\n",
       "</table>\n",
       "</div>"
      ],
      "text/plain": [
       "                                                      V4010\n",
       "Titulação                                                  \n",
       "DIRETORES E GERENTES                                 871542\n",
       "OCUPAÇÕES ELEMENTARES                               1950088\n",
       "OPERADORES DE INSTALAÇÕES E MÁQUINAS E MONTADORES   1557504\n",
       "OUTROS                                               279384\n",
       "PROFISSIONAIS DAS CIÊNCIAS E INTELECTUAIS           5116839\n",
       "TRABALHADORES DE APOIO ADMINISTRATIVO                502793\n",
       "TRABALHADORES DOS SERVIÇOS, VENDEDORES DOS COMÉ...  2828732\n",
       "TRABALHADORES QUALIFICADOS DA AGROPECUÁRIA, FLO...  1651179\n",
       "TRABALHADORES QUALIFICADOS, OPERÁRIOS E ARTESÃO...  3897330\n",
       "TÉCNICOS E PROFISSIONAIS DE NÍVEL MÉDIO             3369475"
      ]
     },
     "execution_count": 12,
     "metadata": {},
     "output_type": "execute_result"
    }
   ],
   "source": [
    "pnadc_19_remoto.groupby('Titulação')[['V4010']].count()"
   ]
  },
  {
   "cell_type": "code",
   "execution_count": null,
   "metadata": {},
   "outputs": [
    {
     "data": {
      "text/plain": [
       "Titulação\n",
       "DIRETORES E GERENTES                                                                                    0.769987\n",
       "OCUPAÇÕES ELEMENTARES                                                                                   0.205841\n",
       "OPERADORES DE INSTALAÇÕES E MÁQUINAS E MONTADORES                                                       0.386552\n",
       "OUTROS                                                                                                  0.755262\n",
       "PROFISSIONAIS DAS CIÊNCIAS E INTELECTUAIS                                                               0.841648\n",
       "TRABALHADORES DE APOIO ADMINISTRATIVO                                                                   0.643094\n",
       "TRABALHADORES DOS SERVIÇOS, VENDEDORES DOS COMÉRCIOS E MERCADOS                                         0.429938\n",
       "TRABALHADORES QUALIFICADOS DA AGROPECUÁRIA, FLORESTAIS, DA CAÇA E DA PESCA                              0.175733\n",
       "TRABALHADORES QUALIFICADOS, OPERÁRIOS E ARTESÃOS DA CONSTRUÇÃO, DAS ARTES MECÂNICAS E OUTROS OFÍCIOS    0.359264\n",
       "TÉCNICOS E PROFISSIONAIS DE NÍVEL MÉDIO                                                                 0.704286\n",
       "Name: V4010, dtype: float64"
      ]
     },
     "execution_count": 11,
     "metadata": {},
     "output_type": "execute_result"
    }
   ],
   "source": [
    "pnadc_19_remoto[pnadc_19_remoto['dummy_infra'] == 1].groupby('Titulação')['V4010'].count() / pnadc_19_remoto.groupby('Titulação')['V4010'].count()"
   ]
  }
 ],
 "metadata": {
  "kernelspec": {
   "display_name": "boletim",
   "language": "python",
   "name": "python3"
  },
  "language_info": {
   "codemirror_mode": {
    "name": "ipython",
    "version": 3
   },
   "file_extension": ".py",
   "mimetype": "text/x-python",
   "name": "python",
   "nbconvert_exporter": "python",
   "pygments_lexer": "ipython3",
   "version": "3.9.12"
  },
  "orig_nbformat": 4
 },
 "nbformat": 4,
 "nbformat_minor": 2
}
