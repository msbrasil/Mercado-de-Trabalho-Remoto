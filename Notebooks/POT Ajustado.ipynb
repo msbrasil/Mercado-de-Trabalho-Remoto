{
 "cells": [
  {
   "cell_type": "markdown",
   "metadata": {},
   "source": [
    "### Ajuste do trabalho remoto potencial \n",
    "\n",
    "O ajuste deve ser realizada através da seguinte equação:\n",
    "\n",
    "$POT^K_{PNAD-COVID-INFRA} = POT^K_{PNAD-COVID} \\times \\frac{POT^K_{PNAD-INFRA}}{POT^K_{PNAD}}$\n",
    "\n",
    "Em que:\n",
    "\n",
    "- $POT^K_{PNAD-COVID-INFRA}$ é o trabalho remoto potencial da PNAD-COVID ajustado pela infraestrutura,\n",
    "\n",
    "- $POT^K_{PNAD-COVID}$ é o potencial de trabalho remoto da PNAD-COVID sem o ajuste da infraestrutura,\n",
    "\n",
    "- $POT^K_{PNAD-INFRA}$ é o potencial de trabalho remoto da PNAD Contínua de 2019 com ajuste de infraestrutura e \n",
    "\n",
    "- $POT^K_{PNAD}$ é o potencial de trabalho remoto calculado com base na PNAD Contínua de 2019 sem o ajuste de infraestrutura.\n"
   ]
  },
  {
   "cell_type": "code",
   "execution_count": null,
   "metadata": {},
   "outputs": [],
   "source": [
    "import pandas as pd\n",
    "import numpy as np"
   ]
  },
  {
   "cell_type": "code",
   "execution_count": 33,
   "metadata": {},
   "outputs": [],
   "source": [
    "#PNAD Contínua 2019 com dummy de infraestrutura\n",
    "\n",
    "pnadc_19 = pd.read_parquet('../Dados/pnad/PNADC_2019_editado.parquet')"
   ]
  },
  {
   "cell_type": "code",
   "execution_count": 23,
   "metadata": {},
   "outputs": [
    {
     "name": "stdout",
     "output_type": "stream",
     "text": [
      "Importando PNAD COVID 05 2020\n",
      "Importando PNAD COVID 06 2020\n",
      "Importando PNAD COVID 07 2020\n",
      "Importando PNAD COVID 08 2020\n",
      "Importando PNAD COVID 09 2020\n",
      "Importando PNAD COVID 10 2020\n",
      "Importando PNAD COVID 11 2020\n",
      "Fim da importação\n"
     ]
    }
   ],
   "source": [
    "#Importação dos dados da PNAD COVID Classificada\n",
    "\n",
    "for i in range(5, 12):\n",
    "    if i < 10:\n",
    "        mes = '0' + str(i)\n",
    "    else:\n",
    "        mes = i\n",
    "    print(f'Importando PNAD COVID {mes} 2020')\n",
    "    globals()[f'pnad_covid_{mes}2020'] = pd.read_parquet(f'../Dados/Classificado/pnad_covid_{mes}2020_classificado.parquet')#, columns=filtro_pnad_covid)\n",
    "\n",
    "print('Fim da importação')"
   ]
  },
  {
   "cell_type": "code",
   "execution_count": 26,
   "metadata": {},
   "outputs": [],
   "source": [
    "pnad_covid = pd.concat([pnad_covid_052020, pnad_covid_062020, pnad_covid_072020, pnad_covid_082020, pnad_covid_092020, pnad_covid_102020], ignore_index=True)"
   ]
  },
  {
   "cell_type": "code",
   "execution_count": 51,
   "metadata": {},
   "outputs": [
    {
     "data": {
      "text/plain": [
       "13859.771733"
      ]
     },
     "execution_count": 51,
     "metadata": {},
     "output_type": "execute_result"
    }
   ],
   "source": [
    "17261 *  0.802953"
   ]
  },
  {
   "cell_type": "code",
   "execution_count": 53,
   "metadata": {},
   "outputs": [
    {
     "data": {
      "text/plain": [
       "47440"
      ]
     },
     "execution_count": 53,
     "metadata": {},
     "output_type": "execute_result"
    }
   ],
   "source": [
    "pnad_covid_052020[pnad_covid_052020['teleworkable'] == 1].groupby('Grandes Grupos')['Grandes Grupos'].count().sum()"
   ]
  },
  {
   "cell_type": "code",
   "execution_count": 54,
   "metadata": {},
   "outputs": [
    {
     "data": {
      "text/plain": [
       "0.2921537043212479"
      ]
     },
     "execution_count": 54,
     "metadata": {},
     "output_type": "execute_result"
    }
   ],
   "source": [
    "13859.771733 / 47440"
   ]
  },
  {
   "cell_type": "code",
   "execution_count": null,
   "metadata": {},
   "outputs": [],
   "source": [
    "pot_pnad_covid = pd.read_excel('..\\\\Anexos\\\\pot_pnad_covid.xlsx')\n",
    "pot_pnad_infra = pd.read_excel('..\\\\Anexos\\\\pot_pnad_infra.xlsx')\n",
    "pot_pnad = pd.read_excel('..\\\\Anexos\\\\pot_pnad.xlsx')"
   ]
  },
  {
   "cell_type": "code",
   "execution_count": null,
   "metadata": {},
   "outputs": [],
   "source": [
    "pot_pnad_covid.set_index('Titulação', inplace=True)\n",
    "pot_pnad_infra.set_index('Titulação', inplace=True)\n",
    "pot_pnad.set_index('Titulação', inplace=True)"
   ]
  },
  {
   "cell_type": "code",
   "execution_count": null,
   "metadata": {},
   "outputs": [],
   "source": [
    "pot_pnad_covid.rename(columns={'Titulação.1':'Titulação'}, inplace=True)\n",
    "pot_pnad_infra.rename(columns={'Titulação.1':'Titulação'}, inplace=True)\n",
    "pot_pnad.rename(columns={'Titulação.1':'Titulação'}, inplace=True)"
   ]
  },
  {
   "cell_type": "code",
   "execution_count": null,
   "metadata": {},
   "outputs": [],
   "source": [
    "pot_pnad_covid = pd.read_excel('..\\\\Anexos\\\\pot_pnad_covid.xlsx')\n",
    "pot_pnad_infra = pd.read_excel('..\\\\Anexos\\\\pot_pnad_infra.xlsx')\n",
    "pot_pnad = pd.read_excel('..\\\\Anexos\\\\pot_pnad.xlsx')"
   ]
  },
  {
   "cell_type": "code",
   "execution_count": null,
   "metadata": {},
   "outputs": [],
   "source": []
  },
  {
   "cell_type": "code",
   "execution_count": null,
   "metadata": {},
   "outputs": [],
   "source": []
  },
  {
   "cell_type": "code",
   "execution_count": null,
   "metadata": {},
   "outputs": [],
   "source": []
  },
  {
   "cell_type": "code",
   "execution_count": null,
   "metadata": {},
   "outputs": [],
   "source": [
    "pnad_covid_total = pnad_covid.groupby(['Titulação'])[['Titulação']].count().sort_index()"
   ]
  },
  {
   "cell_type": "code",
   "execution_count": null,
   "metadata": {},
   "outputs": [
    {
     "ename": "",
     "evalue": "",
     "output_type": "error",
     "traceback": [
      "\u001b[1;31mCanceled future for execute_request message before replies were done"
     ]
    },
    {
     "ename": "",
     "evalue": "",
     "output_type": "error",
     "traceback": [
      "\u001b[1;31mO Kernel falhou ao executar o código na célula atual ou em uma célula anterior. Examine o código nas células para identificar uma possível causa da falha. Clique <a href=\"https://aka.ms/vscodeJupyterKernelCrash\">aqui</a> para obter mais informações. Consulte o <a href='command:jupyter.viewOutput'>log</a> do Jupyter para obter mais detalhes."
     ]
    }
   ],
   "source": [
    "pot_pnad_infra = pnadc_19_remoto[(pnadc_19_remoto['dummy_infra'] == 1)&(pnadc_19_remoto['teleworkable'] == 1)].groupby(['Titulação'])[['Titulação']].count().sort_index()"
   ]
  },
  {
   "cell_type": "code",
   "execution_count": null,
   "metadata": {},
   "outputs": [],
   "source": [
    "pot_pnad = pnadc_19_remoto[(pnadc_19_remoto['teleworkable'] == 1)].groupby(['Titulação'])[['Titulação']].count().sort_index()"
   ]
  }
 ],
 "metadata": {
  "kernelspec": {
   "display_name": "econometria",
   "language": "python",
   "name": "python3"
  },
  "language_info": {
   "codemirror_mode": {
    "name": "ipython",
    "version": 3
   },
   "file_extension": ".py",
   "mimetype": "text/x-python",
   "name": "python",
   "nbconvert_exporter": "python",
   "pygments_lexer": "ipython3",
   "version": "3.10.4"
  },
  "orig_nbformat": 4
 },
 "nbformat": 4,
 "nbformat_minor": 2
}
