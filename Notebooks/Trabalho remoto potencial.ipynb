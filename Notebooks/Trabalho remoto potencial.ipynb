{
 "cells": [
  {
   "attachments": {},
   "cell_type": "markdown",
   "metadata": {},
   "source": [
    "# Estimação do potencial de trabalho remoto no Brasil em 2019 \n",
    "\n",
    "A estimação será feita usando, primeiramente, a base da PNAD Contínua suplementar de 2019 e, depois, a PNAD COVID\n",
    "\n",
    "Foi adotado a hipótese de que a perda de potencial de trabalho remoto devido à falta de infraestrutura é a mesma na PNAD-COVID que na PNAD Contínua de 2019.\n",
    "\n",
    "Trabalhar com as seguintes variáveis da PNAD Contínua: \n",
    "- V4010, que classifica as diversas ocupações, \n",
    "- a unidade da federação (UF), \n",
    "- gênero (V2007), \n",
    "- raça (V2010), \n",
    "- renda em todos os trabalhos (VD4019), \n",
    "- Setor Público (V4013), \n",
    "- educação (VD3004), \n",
    "- formal/informal (combinação da variável VD4009 com a variável V4019) e \n",
    "- o peso amostral (V1032).\n",
    "\n",
    "Não esquecer de filtrar a base para os registros que a 'dummy_infra' igual à 1.\n",
    "\n"
   ]
  },
  {
   "cell_type": "code",
   "execution_count": 1,
   "metadata": {},
   "outputs": [],
   "source": [
    "#pacotes \n",
    "import pandas as pd\n",
    "import numpy as np\n",
    "import datetime as dt"
   ]
  },
  {
   "cell_type": "code",
   "execution_count": 13,
   "metadata": {},
   "outputs": [],
   "source": [
    "#Importação dos dados da PNAD Contínua 2019 (suplementar)\n",
    "\n",
    "#determina qual diretório usar para cada sistema operacional.\n",
    "import os\n",
    "if os.name == 'nt': #windows\n",
    "    diretorio = 'C:\\\\Users\\\\est.matheus.brasil\\\\Documents\\\\Microdados PNAD Contínua\\\\suplementar\\\\'\n",
    "\n",
    "else: #linux(ou mac)\n",
    "    diretorio = '/home/matheus/Microdados PNAD/feather/'\n",
    "\n",
    "filtro_pnadc = ['Trimestre','V4010', 'UF', 'V2007', 'V2010', 'VD4019', 'V4013', 'VD3004', 'VD4009', 'V4019', 'V1032', 'dummy_infra']\n",
    "\n",
    "pnadc_19 = pd.read_feather(fr'{diretorio}PNADC_2019_editado.feather', columns=filtro_pnadc)\n",
    "\n",
    "\n",
    "\n",
    "#Importação dos códigos de ocupação traduzidos\n",
    "\n",
    "ocupacoes = pd.read_excel('../Anexos/ocupacoes_traduzidas.xlsx')"
   ]
  },
  {
   "cell_type": "code",
   "execution_count": 16,
   "metadata": {},
   "outputs": [
    {
     "name": "stdout",
     "output_type": "stream",
     "text": [
      "Importando PNAD COVID 05 2020\n"
     ]
    },
    {
     "ename": "ArrowInvalid",
     "evalue": "Field named Trimestre is not found",
     "output_type": "error",
     "traceback": [
      "\u001b[1;31m---------------------------------------------------------------------------\u001b[0m",
      "\u001b[1;31mArrowInvalid\u001b[0m                              Traceback (most recent call last)",
      "\u001b[1;32mc:\\Github\\Pessoal\\Mercado-de-Trabalho\\Notebooks\\Trabalho remoto potencial.ipynb Cell 4\u001b[0m in \u001b[0;36m<cell line: 16>\u001b[1;34m()\u001b[0m\n\u001b[0;32m     <a href='vscode-notebook-cell:/c%3A/Github/Pessoal/Mercado-de-Trabalho/Notebooks/Trabalho%20remoto%20potencial.ipynb#X25sZmlsZQ%3D%3D?line=19'>20</a>\u001b[0m         mes \u001b[39m=\u001b[39m i\n\u001b[0;32m     <a href='vscode-notebook-cell:/c%3A/Github/Pessoal/Mercado-de-Trabalho/Notebooks/Trabalho%20remoto%20potencial.ipynb#X25sZmlsZQ%3D%3D?line=20'>21</a>\u001b[0m     \u001b[39mprint\u001b[39m(\u001b[39mf\u001b[39m\u001b[39m'\u001b[39m\u001b[39mImportando PNAD COVID \u001b[39m\u001b[39m{\u001b[39;00mmes\u001b[39m}\u001b[39;00m\u001b[39m 2020\u001b[39m\u001b[39m'\u001b[39m)\n\u001b[1;32m---> <a href='vscode-notebook-cell:/c%3A/Github/Pessoal/Mercado-de-Trabalho/Notebooks/Trabalho%20remoto%20potencial.ipynb#X25sZmlsZQ%3D%3D?line=21'>22</a>\u001b[0m     \u001b[39mglobals\u001b[39m()[\u001b[39mf\u001b[39m\u001b[39m'\u001b[39m\u001b[39mpnad_covid_\u001b[39m\u001b[39m{\u001b[39;00mmes\u001b[39m}\u001b[39;00m\u001b[39m2020\u001b[39m\u001b[39m'\u001b[39m] \u001b[39m=\u001b[39m pd\u001b[39m.\u001b[39;49mread_feather(\u001b[39mfr\u001b[39;49m\u001b[39m'\u001b[39;49m\u001b[39m{\u001b[39;49;00mdiretorio\u001b[39m}\u001b[39;49;00m\u001b[39mPNAD_COVID_\u001b[39;49m\u001b[39m{\u001b[39;49;00mmes\u001b[39m}\u001b[39;49;00m\u001b[39m2020.feather\u001b[39;49m\u001b[39m'\u001b[39;49m, columns\u001b[39m=\u001b[39;49mfiltro_pnad_covid)\n\u001b[0;32m     <a href='vscode-notebook-cell:/c%3A/Github/Pessoal/Mercado-de-Trabalho/Notebooks/Trabalho%20remoto%20potencial.ipynb#X25sZmlsZQ%3D%3D?line=23'>24</a>\u001b[0m \u001b[39mprint\u001b[39m(\u001b[39m'\u001b[39m\u001b[39mFim da importação\u001b[39m\u001b[39m'\u001b[39m)\n",
      "File \u001b[1;32mc:\\Users\\est.matheus.brasil\\Anaconda3\\envs\\boletim\\lib\\site-packages\\pandas\\io\\feather_format.py:132\u001b[0m, in \u001b[0;36mread_feather\u001b[1;34m(path, columns, use_threads, storage_options)\u001b[0m\n\u001b[0;32m    126\u001b[0m \u001b[39mfrom\u001b[39;00m \u001b[39mpyarrow\u001b[39;00m \u001b[39mimport\u001b[39;00m feather\n\u001b[0;32m    128\u001b[0m \u001b[39mwith\u001b[39;00m get_handle(\n\u001b[0;32m    129\u001b[0m     path, \u001b[39m\"\u001b[39m\u001b[39mrb\u001b[39m\u001b[39m\"\u001b[39m, storage_options\u001b[39m=\u001b[39mstorage_options, is_text\u001b[39m=\u001b[39m\u001b[39mFalse\u001b[39;00m\n\u001b[0;32m    130\u001b[0m ) \u001b[39mas\u001b[39;00m handles:\n\u001b[1;32m--> 132\u001b[0m     \u001b[39mreturn\u001b[39;00m feather\u001b[39m.\u001b[39;49mread_feather(\n\u001b[0;32m    133\u001b[0m         handles\u001b[39m.\u001b[39;49mhandle, columns\u001b[39m=\u001b[39;49mcolumns, use_threads\u001b[39m=\u001b[39;49m\u001b[39mbool\u001b[39;49m(use_threads)\n\u001b[0;32m    134\u001b[0m     )\n",
      "File \u001b[1;32mc:\\Users\\est.matheus.brasil\\Anaconda3\\envs\\boletim\\lib\\site-packages\\pyarrow\\feather.py:226\u001b[0m, in \u001b[0;36mread_feather\u001b[1;34m(source, columns, use_threads, memory_map, **kwargs)\u001b[0m\n\u001b[0;32m    199\u001b[0m \u001b[39mdef\u001b[39;00m \u001b[39mread_feather\u001b[39m(source, columns\u001b[39m=\u001b[39m\u001b[39mNone\u001b[39;00m, use_threads\u001b[39m=\u001b[39m\u001b[39mTrue\u001b[39;00m,\n\u001b[0;32m    200\u001b[0m                  memory_map\u001b[39m=\u001b[39m\u001b[39mFalse\u001b[39;00m, \u001b[39m*\u001b[39m\u001b[39m*\u001b[39mkwargs):\n\u001b[0;32m    201\u001b[0m     \u001b[39m\"\"\"\u001b[39;00m\n\u001b[0;32m    202\u001b[0m \u001b[39m    Read a pandas.DataFrame from Feather format. To read as pyarrow.Table use\u001b[39;00m\n\u001b[0;32m    203\u001b[0m \u001b[39m    feather.read_table.\u001b[39;00m\n\u001b[1;32m   (...)\u001b[0m\n\u001b[0;32m    224\u001b[0m \u001b[39m        The contents of the Feather file as a pandas.DataFrame\u001b[39;00m\n\u001b[0;32m    225\u001b[0m \u001b[39m    \"\"\"\u001b[39;00m\n\u001b[1;32m--> 226\u001b[0m     \u001b[39mreturn\u001b[39;00m (read_table(\n\u001b[0;32m    227\u001b[0m         source, columns\u001b[39m=\u001b[39;49mcolumns, memory_map\u001b[39m=\u001b[39;49mmemory_map,\n\u001b[0;32m    228\u001b[0m         use_threads\u001b[39m=\u001b[39;49muse_threads)\u001b[39m.\u001b[39mto_pandas(use_threads\u001b[39m=\u001b[39muse_threads, \u001b[39m*\u001b[39m\u001b[39m*\u001b[39mkwargs))\n",
      "File \u001b[1;32mc:\\Users\\est.matheus.brasil\\Anaconda3\\envs\\boletim\\lib\\site-packages\\pyarrow\\feather.py:262\u001b[0m, in \u001b[0;36mread_table\u001b[1;34m(source, columns, memory_map, use_threads)\u001b[0m\n\u001b[0;32m    260\u001b[0m     table \u001b[39m=\u001b[39m reader\u001b[39m.\u001b[39mread_indices(columns)\n\u001b[0;32m    261\u001b[0m \u001b[39melif\u001b[39;00m \u001b[39mall\u001b[39m(\u001b[39mmap\u001b[39m(\u001b[39mlambda\u001b[39;00m t: t \u001b[39m==\u001b[39m \u001b[39mstr\u001b[39m, column_types)):\n\u001b[1;32m--> 262\u001b[0m     table \u001b[39m=\u001b[39m reader\u001b[39m.\u001b[39;49mread_names(columns)\n\u001b[0;32m    263\u001b[0m \u001b[39melse\u001b[39;00m:\n\u001b[0;32m    264\u001b[0m     column_type_names \u001b[39m=\u001b[39m [t\u001b[39m.\u001b[39m\u001b[39m__name__\u001b[39m \u001b[39mfor\u001b[39;00m t \u001b[39min\u001b[39;00m column_types]\n",
      "File \u001b[1;32mc:\\Users\\est.matheus.brasil\\Anaconda3\\envs\\boletim\\lib\\site-packages\\pyarrow\\_feather.pyx:114\u001b[0m, in \u001b[0;36mpyarrow._feather.FeatherReader.read_names\u001b[1;34m()\u001b[0m\n",
      "File \u001b[1;32mc:\\Users\\est.matheus.brasil\\Anaconda3\\envs\\boletim\\lib\\site-packages\\pyarrow\\error.pxi:100\u001b[0m, in \u001b[0;36mpyarrow.lib.check_status\u001b[1;34m()\u001b[0m\n",
      "\u001b[1;31mArrowInvalid\u001b[0m: Field named Trimestre is not found"
     ]
    }
   ],
   "source": [
    "#Importação dos dados da PNAD COVID\n",
    "\n",
    "#determina qual diretório usar para cada sistema operacional.\n",
    "import os\n",
    "if os.name == 'nt': #windows\n",
    "    diretorio = 'C:\\\\Users\\\\est.matheus.brasil\\\\Documents\\\\Microdados PNAD Contínua\\\\feather_covid\\\\'\n",
    "\n",
    "else: #linux(ou mac)\n",
    "    diretorio = '/home/matheus/Microdados PNAD/feather/'\n",
    "\n",
    "#Leitura de todas as bases com as variáveis selecionadas e criação de variáveis dinamicamente.\n",
    "\n",
    "filtro_pnad_covid = ['Trimestre','V4010', 'UF', 'V2007', 'V2010', 'VD4019', 'V4013', 'VD3004', 'VD4009', 'V4019', 'V1032', 'dummy_infra']\n",
    "\n",
    "\n",
    "for i in range(5, 12):\n",
    "    if i < 10:\n",
    "        mes = '0' + str(i)\n",
    "    else:\n",
    "        mes = i\n",
    "    print(f'Importando PNAD COVID {mes} 2020')\n",
    "    globals()[f'pnad_covid_{mes}2020'] = pd.read_feather(fr'{diretorio}PNAD_COVID_{mes}2020.feather', columns=filtro_pnad_covid)\n",
    "\n",
    "print('Fim da importação')"
   ]
  },
  {
   "cell_type": "code",
   "execution_count": 18,
   "metadata": {},
   "outputs": [
    {
     "data": {
      "text/plain": [
       "Agricultor, criador de animais, pescador, silvicultor e jardineiro                                14975\n",
       "Outros                                                                                            13752\n",
       "Pedreiro, servente de pedreiro, pintor, eletricista, marceneiro                                   10469\n",
       "Empregado doméstico, diarista, cozinheiro (em domicílios particulares),                            7514\n",
       "Outra profissão de nível superior (advogado, engenheiro, contador, jornalista etc.)                7447\n",
       "Professor da educação infantil, de ensino fundamental, médio ou superior,                          6319\n",
       "Balconista, vendedor de loja                                                                       6017\n",
       "Auxiliar de escritório, escriturário                                                               5832\n",
       "Outro técnico ou profissional de nível médio                                                       5675\n",
       "Comerciante (dono do bar, da loja etc.)                                                            5056\n",
       "Diretor, gerente, cargo político ou comissionado                                                   4561\n",
       "Faxineiro, auxiliar de limpeza etc. (em empresa pública ou privada),                               4384\n",
       "Auxiliar da agropecuária (colhedor de frutas, boia fria, etc.)                                     4009\n",
       "Auxiliar de produção, de carga e descarga;                                                         3931\n",
       "Vendedor a domicílio, representante de vendas, vendedor de catálogo (Avon, Natura etc.)            3434\n",
       "Motorista (de aplicativo, de taxi, de van, de mototáxi, de ônibus)                                 3352\n",
       "Mecânico de veículos, máquinas industriais etc.                                                    3332\n",
       "Operador de máquinas, montador na indústria;                                                       3105\n",
       "Artesão, costureiro e sapateiro                                                                    3050\n",
       "Técnico, profissional da saúde de nível médio                                                      2978\n",
       "Médico, enfermeiro, profissionais de saúde de nível superior                                       2946\n",
       "Secretária, recepcionista                                                                          2863\n",
       "Cabeleireiro, manicure e afins                                                                     2772\n",
       "Motorista de caminhão (caminhoneiro),                                                              2746\n",
       "Cozinheiro e garçom (de restaurantes, empresas)                                                    2602\n",
       "Segurança, vigilante, outro trabalhador dos serviços de proteção                                   2541\n",
       "Vendedor ambulante (feirante, camelô, comerciante de rua, quiosque)                                2167\n",
       "Padeiro, açougueiro e doceiro                                                                      1532\n",
       "Porteiro, zelador                                                                                  1052\n",
       "Entregador de mercadorias (de restaurante, de farmácia, de loja, Uber Eats, IFood, Rappy etc.)     1022\n",
       "Pedagogo, professor de idiomas, música, arte e reforço escolar                                      917\n",
       "Operador de Telemarketing                                                                           677\n",
       "Cuidador de crianças, doentes ou idosos                                                             510\n",
       "Motoboy,                                                                                            392\n",
       "Artista, religioso (padre, pastor etc.)                                                             366\n",
       "Policial civil                                                                                      225\n",
       "Name: C007C, dtype: int64"
      ]
     },
     "execution_count": 18,
     "metadata": {},
     "output_type": "execute_result"
    }
   ],
   "source": [
    "pnad_covid_112020['C007C'].value_counts()"
   ]
  },
  {
   "cell_type": "code",
   "execution_count": 3,
   "metadata": {},
   "outputs": [
    {
     "data": {
      "text/html": [
       "<div>\n",
       "<style scoped>\n",
       "    .dataframe tbody tr th:only-of-type {\n",
       "        vertical-align: middle;\n",
       "    }\n",
       "\n",
       "    .dataframe tbody tr th {\n",
       "        vertical-align: top;\n",
       "    }\n",
       "\n",
       "    .dataframe thead th {\n",
       "        text-align: right;\n",
       "    }\n",
       "</style>\n",
       "<table border=\"1\" class=\"dataframe\">\n",
       "  <thead>\n",
       "    <tr style=\"text-align: right;\">\n",
       "      <th></th>\n",
       "      <th>code_ONET</th>\n",
       "      <th>Title_ONET</th>\n",
       "      <th>teleworkable</th>\n",
       "      <th>Cod</th>\n",
       "      <th>Titulação</th>\n",
       "    </tr>\n",
       "  </thead>\n",
       "  <tbody>\n",
       "    <tr>\n",
       "      <th>0</th>\n",
       "      <td>11-1011</td>\n",
       "      <td>Chief Executives</td>\n",
       "      <td>1</td>\n",
       "      <td>1</td>\n",
       "      <td>DIRETORES E GERENTES</td>\n",
       "    </tr>\n",
       "    <tr>\n",
       "      <th>1</th>\n",
       "      <td>11-1011</td>\n",
       "      <td>Chief Executives</td>\n",
       "      <td>1</td>\n",
       "      <td>1</td>\n",
       "      <td>DIRETORES E GERENTES</td>\n",
       "    </tr>\n",
       "    <tr>\n",
       "      <th>2</th>\n",
       "      <td>11-1011</td>\n",
       "      <td>Chief Executives</td>\n",
       "      <td>1</td>\n",
       "      <td>1</td>\n",
       "      <td>DIRETORES E GERENTES</td>\n",
       "    </tr>\n",
       "  </tbody>\n",
       "</table>\n",
       "</div>"
      ],
      "text/plain": [
       "  code_ONET        Title_ONET  teleworkable  Cod             Titulação\n",
       "0   11-1011  Chief Executives             1    1  DIRETORES E GERENTES\n",
       "1   11-1011  Chief Executives             1    1  DIRETORES E GERENTES\n",
       "2   11-1011  Chief Executives             1    1  DIRETORES E GERENTES"
      ]
     },
     "execution_count": 3,
     "metadata": {},
     "output_type": "execute_result"
    }
   ],
   "source": [
    "ocupacoes.head(3)"
   ]
  },
  {
   "cell_type": "code",
   "execution_count": 4,
   "metadata": {},
   "outputs": [
    {
     "data": {
      "text/html": [
       "<div>\n",
       "<style scoped>\n",
       "    .dataframe tbody tr th:only-of-type {\n",
       "        vertical-align: middle;\n",
       "    }\n",
       "\n",
       "    .dataframe tbody tr th {\n",
       "        vertical-align: top;\n",
       "    }\n",
       "\n",
       "    .dataframe thead th {\n",
       "        text-align: right;\n",
       "    }\n",
       "</style>\n",
       "<table border=\"1\" class=\"dataframe\">\n",
       "  <thead>\n",
       "    <tr style=\"text-align: right;\">\n",
       "      <th></th>\n",
       "      <th>Trimestre</th>\n",
       "      <th>V4010</th>\n",
       "      <th>UF</th>\n",
       "      <th>V2007</th>\n",
       "      <th>V2010</th>\n",
       "      <th>VD4019</th>\n",
       "      <th>V4013</th>\n",
       "      <th>VD3004</th>\n",
       "      <th>VD4009</th>\n",
       "      <th>V4019</th>\n",
       "      <th>V1032</th>\n",
       "      <th>dummy_infra</th>\n",
       "    </tr>\n",
       "  </thead>\n",
       "  <tbody>\n",
       "    <tr>\n",
       "      <th>0</th>\n",
       "      <td>1</td>\n",
       "      <td>3221</td>\n",
       "      <td>Rondônia</td>\n",
       "      <td>Mulher</td>\n",
       "      <td>Parda</td>\n",
       "      <td>1583.0</td>\n",
       "      <td>86001</td>\n",
       "      <td>Superior completo</td>\n",
       "      <td>Empregado no setor privado com carteira de tra...</td>\n",
       "      <td>NaN</td>\n",
       "      <td>149.43857</td>\n",
       "      <td>0</td>\n",
       "    </tr>\n",
       "    <tr>\n",
       "      <th>1</th>\n",
       "      <td>1</td>\n",
       "      <td>None</td>\n",
       "      <td>Rondônia</td>\n",
       "      <td>Homem</td>\n",
       "      <td>Parda</td>\n",
       "      <td>NaN</td>\n",
       "      <td>None</td>\n",
       "      <td>Fundamental completo ou equivalente</td>\n",
       "      <td>NaN</td>\n",
       "      <td>NaN</td>\n",
       "      <td>149.43857</td>\n",
       "      <td>0</td>\n",
       "    </tr>\n",
       "    <tr>\n",
       "      <th>2</th>\n",
       "      <td>1</td>\n",
       "      <td>None</td>\n",
       "      <td>Rondônia</td>\n",
       "      <td>Mulher</td>\n",
       "      <td>Branca</td>\n",
       "      <td>NaN</td>\n",
       "      <td>None</td>\n",
       "      <td>Médio completo ou equivalente</td>\n",
       "      <td>NaN</td>\n",
       "      <td>NaN</td>\n",
       "      <td>149.43857</td>\n",
       "      <td>0</td>\n",
       "    </tr>\n",
       "  </tbody>\n",
       "</table>\n",
       "</div>"
      ],
      "text/plain": [
       "  Trimestre V4010        UF   V2007   V2010  VD4019  V4013  \\\n",
       "0         1  3221  Rondônia  Mulher   Parda  1583.0  86001   \n",
       "1         1  None  Rondônia   Homem   Parda     NaN   None   \n",
       "2         1  None  Rondônia  Mulher  Branca     NaN   None   \n",
       "\n",
       "                                VD3004  \\\n",
       "0                    Superior completo   \n",
       "1  Fundamental completo ou equivalente   \n",
       "2        Médio completo ou equivalente   \n",
       "\n",
       "                                              VD4009 V4019      V1032  \\\n",
       "0  Empregado no setor privado com carteira de tra...   NaN  149.43857   \n",
       "1                                                NaN   NaN  149.43857   \n",
       "2                                                NaN   NaN  149.43857   \n",
       "\n",
       "   dummy_infra  \n",
       "0            0  \n",
       "1            0  \n",
       "2            0  "
      ]
     },
     "execution_count": 4,
     "metadata": {},
     "output_type": "execute_result"
    }
   ],
   "source": [
    "pnadc_19.head(3)"
   ]
  },
  {
   "attachments": {},
   "cell_type": "markdown",
   "metadata": {},
   "source": [
    "### Junção dos códigos de ocupação com os dados da PNAD Contínua 2019"
   ]
  },
  {
   "cell_type": "code",
   "execution_count": 5,
   "metadata": {},
   "outputs": [
    {
     "data": {
      "text/plain": [
       "0000     33\n",
       "0110    116\n",
       "0210    573\n",
       "0411     78\n",
       "0412    715\n",
       "       ... \n",
       "9621    457\n",
       "9622     25\n",
       "9623     36\n",
       "9624      9\n",
       "9629    507\n",
       "Name: V4010, Length: 427, dtype: int64"
      ]
     },
     "execution_count": 5,
     "metadata": {},
     "output_type": "execute_result"
    }
   ],
   "source": [
    "pnadc_19['V4010'].value_counts().sort_index()"
   ]
  },
  {
   "cell_type": "code",
   "execution_count": 6,
   "metadata": {},
   "outputs": [],
   "source": [
    "#Coluna com o código da ocupação Major das ocupações traduzidas\n",
    "pnadc_19['COD_OCUP_MAJ'] = pnadc_19['V4010'].astype(str).str[:1]"
   ]
  },
  {
   "cell_type": "code",
   "execution_count": 7,
   "metadata": {},
   "outputs": [],
   "source": [
    "ocupacoes['Cod'] = ocupacoes['Cod'].astype(str)"
   ]
  },
  {
   "cell_type": "code",
   "execution_count": 8,
   "metadata": {},
   "outputs": [],
   "source": [
    "pnadc_19_remoto = pd.merge(pnadc_19, ocupacoes, left_on='COD_OCUP_MAJ', right_on='Cod', how='left')"
   ]
  },
  {
   "cell_type": "code",
   "execution_count": 9,
   "metadata": {},
   "outputs": [
    {
     "data": {
      "text/html": [
       "<div>\n",
       "<style scoped>\n",
       "    .dataframe tbody tr th:only-of-type {\n",
       "        vertical-align: middle;\n",
       "    }\n",
       "\n",
       "    .dataframe tbody tr th {\n",
       "        vertical-align: top;\n",
       "    }\n",
       "\n",
       "    .dataframe thead th {\n",
       "        text-align: right;\n",
       "    }\n",
       "</style>\n",
       "<table border=\"1\" class=\"dataframe\">\n",
       "  <thead>\n",
       "    <tr style=\"text-align: right;\">\n",
       "      <th></th>\n",
       "      <th>Trimestre</th>\n",
       "      <th>V4010</th>\n",
       "      <th>UF</th>\n",
       "      <th>V2007</th>\n",
       "      <th>V2010</th>\n",
       "      <th>VD4019</th>\n",
       "      <th>V4013</th>\n",
       "      <th>VD3004</th>\n",
       "      <th>VD4009</th>\n",
       "      <th>V4019</th>\n",
       "      <th>V1032</th>\n",
       "      <th>dummy_infra</th>\n",
       "      <th>COD_OCUP_MAJ</th>\n",
       "      <th>code_ONET</th>\n",
       "      <th>Title_ONET</th>\n",
       "      <th>teleworkable</th>\n",
       "      <th>Cod</th>\n",
       "      <th>Titulação</th>\n",
       "    </tr>\n",
       "  </thead>\n",
       "  <tbody>\n",
       "    <tr>\n",
       "      <th>0</th>\n",
       "      <td>1</td>\n",
       "      <td>3221</td>\n",
       "      <td>Rondônia</td>\n",
       "      <td>Mulher</td>\n",
       "      <td>Parda</td>\n",
       "      <td>1583.0</td>\n",
       "      <td>86001</td>\n",
       "      <td>Superior completo</td>\n",
       "      <td>Empregado no setor privado com carteira de tra...</td>\n",
       "      <td>NaN</td>\n",
       "      <td>149.43857</td>\n",
       "      <td>0</td>\n",
       "      <td>3</td>\n",
       "      <td>11-9141</td>\n",
       "      <td>Property, Real Estate, and Community Associati...</td>\n",
       "      <td>1.0</td>\n",
       "      <td>3</td>\n",
       "      <td>TÉCNICOS E PROFISSIONAIS DE NÍVEL MÉDIO</td>\n",
       "    </tr>\n",
       "    <tr>\n",
       "      <th>1</th>\n",
       "      <td>1</td>\n",
       "      <td>3221</td>\n",
       "      <td>Rondônia</td>\n",
       "      <td>Mulher</td>\n",
       "      <td>Parda</td>\n",
       "      <td>1583.0</td>\n",
       "      <td>86001</td>\n",
       "      <td>Superior completo</td>\n",
       "      <td>Empregado no setor privado com carteira de tra...</td>\n",
       "      <td>NaN</td>\n",
       "      <td>149.43857</td>\n",
       "      <td>0</td>\n",
       "      <td>3</td>\n",
       "      <td>13-1021</td>\n",
       "      <td>Buyers and Purchasing Agents, Farm Products</td>\n",
       "      <td>1.0</td>\n",
       "      <td>3</td>\n",
       "      <td>TÉCNICOS E PROFISSIONAIS DE NÍVEL MÉDIO</td>\n",
       "    </tr>\n",
       "  </tbody>\n",
       "</table>\n",
       "</div>"
      ],
      "text/plain": [
       "  Trimestre V4010        UF   V2007  V2010  VD4019  V4013             VD3004  \\\n",
       "0         1  3221  Rondônia  Mulher  Parda  1583.0  86001  Superior completo   \n",
       "1         1  3221  Rondônia  Mulher  Parda  1583.0  86001  Superior completo   \n",
       "\n",
       "                                              VD4009 V4019      V1032  \\\n",
       "0  Empregado no setor privado com carteira de tra...   NaN  149.43857   \n",
       "1  Empregado no setor privado com carteira de tra...   NaN  149.43857   \n",
       "\n",
       "   dummy_infra COD_OCUP_MAJ code_ONET  \\\n",
       "0            0            3   11-9141   \n",
       "1            0            3   13-1021   \n",
       "\n",
       "                                          Title_ONET  teleworkable Cod  \\\n",
       "0  Property, Real Estate, and Community Associati...           1.0   3   \n",
       "1        Buyers and Purchasing Agents, Farm Products           1.0   3   \n",
       "\n",
       "                                 Titulação  \n",
       "0  TÉCNICOS E PROFISSIONAIS DE NÍVEL MÉDIO  \n",
       "1  TÉCNICOS E PROFISSIONAIS DE NÍVEL MÉDIO  "
      ]
     },
     "execution_count": 9,
     "metadata": {},
     "output_type": "execute_result"
    }
   ],
   "source": [
    "pnadc_19_remoto.head(2)"
   ]
  },
  {
   "attachments": {},
   "cell_type": "markdown",
   "metadata": {},
   "source": [
    "Até aqui, a PNAD Contínua com a dummy de infraestrutura e a base de ocupações traduzidas da O*NET para COD foram e unidas no dataframe <code>pnadc_19_remoto</code>."
   ]
  },
  {
   "cell_type": "markdown",
   "metadata": {},
   "source": [
    "### Junção dos códigos de ocupação com os dados da PNAD Contínua 2019"
   ]
  },
  {
   "cell_type": "code",
   "execution_count": null,
   "metadata": {},
   "outputs": [],
   "source": []
  },
  {
   "attachments": {},
   "cell_type": "markdown",
   "metadata": {},
   "source": [
    "### Ajuste do trabalho remoto potencial \n",
    "\n",
    "O ajuste deve ser realizada através da seguinte equação:\n",
    "\n",
    "$POT^K_{PNAD-COVID-INFRA} = POT^K_{PNAD-COVID} \\times \\frac{POT^K_{PNAD-INFRA}}{POT^K_{PNAD}}$\n",
    "\n",
    "Em que:\n",
    "\n",
    "- $POT^K_{PNAD-COVID-INFRA}$ é o trabalho remoto potencial da PNAD-COVID ajustado pela infraestrutura,\n",
    "\n",
    "- $POT^K_{PNAD-COVID}$ é o potencial de trabalho remoto da PNAD-COVID sem o ajuste da infraestrutura,\n",
    "\n",
    "- $POT^K_{PNAD-INFRA}$ é o potencial de trabalho remoto da PNAD Contínua de 2019 com ajuste de infraestrutura e \n",
    "\n",
    "- $POT^K_{PNAD}$ é o potencial de trabalho remoto calculado com base na PNAD Contínua de 2019 sem o ajuste de infraestrutura.\n"
   ]
  },
  {
   "cell_type": "code",
   "execution_count": 12,
   "metadata": {},
   "outputs": [
    {
     "data": {
      "text/html": [
       "<div>\n",
       "<style scoped>\n",
       "    .dataframe tbody tr th:only-of-type {\n",
       "        vertical-align: middle;\n",
       "    }\n",
       "\n",
       "    .dataframe tbody tr th {\n",
       "        vertical-align: top;\n",
       "    }\n",
       "\n",
       "    .dataframe thead th {\n",
       "        text-align: right;\n",
       "    }\n",
       "</style>\n",
       "<table border=\"1\" class=\"dataframe\">\n",
       "  <thead>\n",
       "    <tr style=\"text-align: right;\">\n",
       "      <th></th>\n",
       "      <th>V4010</th>\n",
       "    </tr>\n",
       "    <tr>\n",
       "      <th>Titulação</th>\n",
       "      <th></th>\n",
       "    </tr>\n",
       "  </thead>\n",
       "  <tbody>\n",
       "    <tr>\n",
       "      <th>DIRETORES E GERENTES</th>\n",
       "      <td>871542</td>\n",
       "    </tr>\n",
       "    <tr>\n",
       "      <th>OCUPAÇÕES ELEMENTARES</th>\n",
       "      <td>1950088</td>\n",
       "    </tr>\n",
       "    <tr>\n",
       "      <th>OPERADORES DE INSTALAÇÕES E MÁQUINAS E MONTADORES</th>\n",
       "      <td>1557504</td>\n",
       "    </tr>\n",
       "    <tr>\n",
       "      <th>OUTROS</th>\n",
       "      <td>279384</td>\n",
       "    </tr>\n",
       "    <tr>\n",
       "      <th>PROFISSIONAIS DAS CIÊNCIAS E INTELECTUAIS</th>\n",
       "      <td>5116839</td>\n",
       "    </tr>\n",
       "    <tr>\n",
       "      <th>TRABALHADORES DE APOIO ADMINISTRATIVO</th>\n",
       "      <td>502793</td>\n",
       "    </tr>\n",
       "    <tr>\n",
       "      <th>TRABALHADORES DOS SERVIÇOS, VENDEDORES DOS COMÉRCIOS E MERCADOS</th>\n",
       "      <td>2828732</td>\n",
       "    </tr>\n",
       "    <tr>\n",
       "      <th>TRABALHADORES QUALIFICADOS DA AGROPECUÁRIA, FLORESTAIS, DA CAÇA E DA PESCA</th>\n",
       "      <td>1651179</td>\n",
       "    </tr>\n",
       "    <tr>\n",
       "      <th>TRABALHADORES QUALIFICADOS, OPERÁRIOS E ARTESÃOS DA CONSTRUÇÃO, DAS ARTES MECÂNICAS E OUTROS OFÍCIOS</th>\n",
       "      <td>3897330</td>\n",
       "    </tr>\n",
       "    <tr>\n",
       "      <th>TÉCNICOS E PROFISSIONAIS DE NÍVEL MÉDIO</th>\n",
       "      <td>3369475</td>\n",
       "    </tr>\n",
       "  </tbody>\n",
       "</table>\n",
       "</div>"
      ],
      "text/plain": [
       "                                                      V4010\n",
       "Titulação                                                  \n",
       "DIRETORES E GERENTES                                 871542\n",
       "OCUPAÇÕES ELEMENTARES                               1950088\n",
       "OPERADORES DE INSTALAÇÕES E MÁQUINAS E MONTADORES   1557504\n",
       "OUTROS                                               279384\n",
       "PROFISSIONAIS DAS CIÊNCIAS E INTELECTUAIS           5116839\n",
       "TRABALHADORES DE APOIO ADMINISTRATIVO                502793\n",
       "TRABALHADORES DOS SERVIÇOS, VENDEDORES DOS COMÉ...  2828732\n",
       "TRABALHADORES QUALIFICADOS DA AGROPECUÁRIA, FLO...  1651179\n",
       "TRABALHADORES QUALIFICADOS, OPERÁRIOS E ARTESÃO...  3897330\n",
       "TÉCNICOS E PROFISSIONAIS DE NÍVEL MÉDIO             3369475"
      ]
     },
     "execution_count": 12,
     "metadata": {},
     "output_type": "execute_result"
    }
   ],
   "source": [
    "pnadc_19_remoto.groupby('Titulação')[['V4010']].count()"
   ]
  },
  {
   "cell_type": "code",
   "execution_count": 11,
   "metadata": {},
   "outputs": [
    {
     "data": {
      "text/plain": [
       "Titulação\n",
       "DIRETORES E GERENTES                                                                                    0.769987\n",
       "OCUPAÇÕES ELEMENTARES                                                                                   0.205841\n",
       "OPERADORES DE INSTALAÇÕES E MÁQUINAS E MONTADORES                                                       0.386552\n",
       "OUTROS                                                                                                  0.755262\n",
       "PROFISSIONAIS DAS CIÊNCIAS E INTELECTUAIS                                                               0.841648\n",
       "TRABALHADORES DE APOIO ADMINISTRATIVO                                                                   0.643094\n",
       "TRABALHADORES DOS SERVIÇOS, VENDEDORES DOS COMÉRCIOS E MERCADOS                                         0.429938\n",
       "TRABALHADORES QUALIFICADOS DA AGROPECUÁRIA, FLORESTAIS, DA CAÇA E DA PESCA                              0.175733\n",
       "TRABALHADORES QUALIFICADOS, OPERÁRIOS E ARTESÃOS DA CONSTRUÇÃO, DAS ARTES MECÂNICAS E OUTROS OFÍCIOS    0.359264\n",
       "TÉCNICOS E PROFISSIONAIS DE NÍVEL MÉDIO                                                                 0.704286\n",
       "Name: V4010, dtype: float64"
      ]
     },
     "execution_count": 11,
     "metadata": {},
     "output_type": "execute_result"
    }
   ],
   "source": [
    "pnadc_19_remoto[pnadc_19_remoto['dummy_infra'] == 1].groupby('Titulação')['V4010'].count() / pnadc_19_remoto.groupby('Titulação')['V4010'].count()"
   ]
  }
 ],
 "metadata": {
  "kernelspec": {
   "display_name": "boletim",
   "language": "python",
   "name": "python3"
  },
  "language_info": {
   "codemirror_mode": {
    "name": "ipython",
    "version": 3
   },
   "file_extension": ".py",
   "mimetype": "text/x-python",
   "name": "python",
   "nbconvert_exporter": "python",
   "pygments_lexer": "ipython3",
   "version": "3.10.4"
  },
  "orig_nbformat": 4
 },
 "nbformat": 4,
 "nbformat_minor": 2
}
