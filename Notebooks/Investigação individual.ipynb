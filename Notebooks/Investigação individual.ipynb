{
 "cells": [
  {
   "cell_type": "code",
   "execution_count": 1,
   "metadata": {},
   "outputs": [],
   "source": [
    "#pacotes necessários\n",
    "\n",
    "import pandas as pd\n",
    "import numpy as np\n",
    "import matplotlib.pyplot as plt\n",
    "import seaborn as sns\n",
    "import datetime as dt\n",
    "plt.style.use('fivethirtyeight')\n",
    "plt.rcParams['text.color'] = 'black'"
   ]
  },
  {
   "cell_type": "markdown",
   "metadata": {},
   "source": [
    "#### Dicionário de Variáveis utilizadas\n",
    "|Chave|Descrição|Função|\n",
    "|-----|-----|-----|\n",
    "|**Identificação**|\n",
    "|Ano| Ano de referência|Controle|\n",
    "|Trimestre| Trimestre de referência|Controle|\n",
    "|UF| Estado|Controle|\n",
    "|Capital| Capital da UF|Controle|\n",
    "|UPA| Unidade Primária de Amostragem (UF(2) + número squencial(6) + DV(1))|Controle|\n",
    "|V1008| Número do Domicílio|Controle|\n",
    "|V1014| Painel - Grupo de Controle|Controle|\n",
    "|V1016| Número de entrevista (1 a 5)|Controle|\n",
    "|V2003| Número de ordem|Controle|\n",
    "|**Características**|\n",
    "|V2007| Sexo|Característica|\n",
    "|V2008| Dia Nascimento|Característica|\n",
    "|V20081| Mês nascimento|Característica|\n",
    "|V20082| Ano nascimento|Característica|\n",
    "|V2010| Raça|Característica|\n",
    "|**Variáveis exploradas**|\n",
    "| VD4001 | Condição em relação à força de trabalho na semana de referência para pessoas de 14 anos ou mais de idade | Descrição |\n",
    "| VD4002 | Condição de ocupação na semana de referência para pessoas de 14 anos ou mais de idade | Descrição |\n",
    "| VD4003 | Força de trabalho potencial para pessoas de 14 anos ou mais de idade | Descrição |\n",
    "| VD4004A | Subocupação por insuficiência de horas efetivamente trabalhadas em todos os trabalhos | Descrição |\n",
    "| VD4005 | Pessoas desalentadas na semana de referência | Descrição |\n",
    "|**Auxiliares**|\n",
    "|V1028| Peso do domicílio e das pessoas sem calibração|Expansão|\n",
    "|V1029| Peso do domicílio e das pessoas com calibração|Expansão|\n",
    "|V1033| Projeção da população por sexo e idade|Expansão|\n",
    "|posest|Domínios de projeção geográficos|Expansão|\n",
    "\n",
    " Chave para pessoa: UPA + V1008 + V1014  + V2003 + V2007 + V2008 + V20081 + V20082\n",
    "\n",
    " **PARA ESTIMAÇÃO DA POPULAÇÃO, DEVE-SE USAR AS VARIÁVEIS: V1033 e posest.**\n",
    "\n"
   ]
  },
  {
   "cell_type": "markdown",
   "metadata": {},
   "source": [
    "Importação das bases"
   ]
  },
  {
   "cell_type": "code",
   "execution_count": 2,
   "metadata": {},
   "outputs": [
    {
     "name": "stdout",
     "output_type": "stream",
     "text": [
      "lendo PNAD2019 4\n",
      "lendo PNAD2020 1\n",
      "lendo PNAD2020 2\n",
      "lendo PNAD2020 3\n",
      "lendo PNAD2020 4\n",
      "lendo PNAD2021 1\n",
      "lendo PNAD2021 2\n",
      "lendo PNAD2021 3\n",
      "lendo PNAD2021 4\n",
      "lendo PNAD2022 1\n",
      "lendo PNAD2022 2\n"
     ]
    }
   ],
   "source": [
    "#determina qual diretório usar para cada sistema operacional.\n",
    "import os\n",
    "if os.name == 'nt': #windows\n",
    "    diretorio = 'C:\\\\Users\\\\est.matheus.brasil\\\\Documents\\\\Microdados PNAD Contínua\\\\feather\\\\'\n",
    "\n",
    "else: #linux(ou mac)\n",
    "    diretorio = '/home/matheus/Microdados PNAD/feather/'\n",
    "\n",
    "#Leitura de todas as bases com as variáveis selecionadas e criação de variáveis dinamicamente.\n",
    "\n",
    "colunas_selecionadas = ['Ano', 'Trimestre', 'UPA', 'UF', 'V1008', 'V1014', 'V2007', 'V2008', 'V20081', 'V20082', 'V2010', #Controle e chave ID\n",
    "                        'V1016', 'VD4001','VD4002', 'VD4003','VD4004A','VD4005', #Variáveis de interesse\n",
    "                        'V1027', 'V1028', 'V1029', 'V1033', 'posest', 'posest_sxi'] #expansão\n",
    "                    \n",
    "for ano in range(2019, 2023):\n",
    "    for tri in range(1, 5):\n",
    "        if ano == 2019  and tri > 3:\n",
    "                print(f'lendo PNAD{ano} {tri}')\n",
    "                globals()[f'pnad_{ano}_{tri}'] = pd.read_feather(fr'{diretorio}{ano}_{tri}.feather', columns=colunas_selecionadas)\n",
    "        if 2019 < ano < 2022:\n",
    "                print(f'lendo PNAD{ano} {tri}')\n",
    "                globals()[f'pnad_{ano}_{tri}'] = pd.read_feather(fr'{diretorio}{ano}_{tri}.feather', columns=colunas_selecionadas)\n",
    "        if ano == 2022 and tri < 3:\n",
    "            print(f'lendo PNAD{ano} {tri}')\n",
    "            globals()[f'pnad_{ano}_{tri}'] = pd.read_feather(fr'{diretorio}{ano}_{tri}.feather', columns=colunas_selecionadas)"
   ]
  },
  {
   "cell_type": "markdown",
   "metadata": {},
   "source": [
    "Tratamento dos dados"
   ]
  },
  {
   "cell_type": "code",
   "execution_count": 3,
   "metadata": {},
   "outputs": [],
   "source": [
    "pnadc_completa = pd.concat([pnad_2019_4, \n",
    "                            pnad_2020_1, \n",
    "                            pnad_2020_2, \n",
    "                            pnad_2020_3, \n",
    "                            pnad_2020_4, \n",
    "                            pnad_2021_1, \n",
    "                            pnad_2021_2, \n",
    "                            pnad_2021_3, \n",
    "                            pnad_2021_4, \n",
    "                            pnad_2022_1, \n",
    "                            pnad_2022_2])"
   ]
  },
  {
   "cell_type": "code",
   "execution_count": 4,
   "metadata": {},
   "outputs": [],
   "source": [
    "pnadc_completa = pnadc_completa[(pnadc_completa['V2008'] != 99)&(pnadc_completa['V20081'] != 99)&(pnadc_completa['V20082'] != 9999)]"
   ]
  },
  {
   "cell_type": "code",
   "execution_count": 5,
   "metadata": {},
   "outputs": [],
   "source": [
    "#Concatena todos os dataframes de cada ano e trimestre em uma unica tabela.\n",
    "\n",
    "# pnadc_completa = pd.concat([pnad_2019_4, \n",
    "#                             pnad_2020_1, \n",
    "#                             pnad_2020_2, \n",
    "#                             pnad_2020_3, \n",
    "#                             pnad_2020_4, \n",
    "#                             pnad_2021_1, \n",
    "#                             pnad_2021_2, \n",
    "#                             pnad_2021_3, \n",
    "#                             pnad_2021_4, \n",
    "#                             pnad_2022_1, \n",
    "#                             pnad_2022_2])\n",
    "#Converte variável para criar ID\n",
    "pnadc_completa['V2007'] = np.where(pnadc_completa['V2007'] == 'Homem', 0, 1)\n",
    "#Converte variáveis para numéricas\n",
    "pnadc_completa['UPA'] = pd.to_numeric(pnadc_completa['UPA'] , errors='coerce')\n",
    "pnadc_completa['V1008'] = pd.to_numeric(pnadc_completa['V1008'] , errors='coerce')\n",
    "pnadc_completa['V1014'] = pd.to_numeric(pnadc_completa['V1014'] , errors='coerce')\n",
    "pnadc_completa['V2007'] = pd.to_numeric(pnadc_completa['V2007'] , errors='coerce')\n",
    "pnadc_completa['V2008'] = pd.to_numeric(pnadc_completa['V2008'] , errors='coerce')\n",
    "pnadc_completa['V20081'] = pd.to_numeric(pnadc_completa['V20081'] , errors='coerce')\n",
    "pnadc_completa['V20082'] = pd.to_numeric(pnadc_completa['V20082'] , errors='coerce')\n",
    "\n",
    "#Cria chave ID e novo df\n",
    "pnadc_completa = pd.DataFrame({\n",
    "    #Controle\n",
    "    'Ano':pnadc_completa['Ano'], \n",
    "    'Trimestre':pnadc_completa['Trimestre'],\n",
    "    'UPA':pnadc_completa['UPA'],\n",
    "    'UF':pnadc_completa['UF'],\n",
    "    'V2007':pnadc_completa['V2007'],\n",
    "    #ID  \n",
    "    'ID': pnadc_completa['UPA'].map(str) + \n",
    "        pnadc_completa['V1008'].map(str) + \n",
    "        pnadc_completa['V1014'].map(str) + \n",
    "        pnadc_completa['V2007'].map(str) +\n",
    "        pnadc_completa['V2008'].map(str) +\n",
    "        pnadc_completa['V20081'].map(str) +\n",
    "        pnadc_completa['V20082'].map(str),\n",
    "    #Exploradas\n",
    "    'V2010': pnadc_completa['V2010'],\n",
    "    'VD4001': pnadc_completa['VD4001'],\n",
    "    'VD4002': pnadc_completa['VD4002'],\n",
    "    'VD4003': pnadc_completa['VD4003'],\n",
    "    'VD4004A': pnadc_completa['VD4004A'],\n",
    "    'VD4005': pnadc_completa['VD4005'],\n",
    "    'V1016': pnadc_completa['V1016'],\n",
    "    #Expansão\n",
    "    'V1027': pnadc_completa['V1027'],\n",
    "    'V1028': pnadc_completa['V1028'],\n",
    "    'V1029': pnadc_completa['V1029'],\n",
    "    'V1033': pnadc_completa['V1033'],\n",
    "    'posest': pnadc_completa['posest'],\n",
    "    'posest_sxi': pnadc_completa['posest_sxi']\n",
    "    })\n",
    "\n",
    "pnadc_completa['ID'] = pnadc_completa['ID'].map(int)\n",
    "\n",
    "#Reverte alteração da coluna V2007 para os rótulos anteiores\n",
    "pnadc_completa['V2007'] = pnadc_completa['V2007'].apply(lambda x: 'Homem' if x == 0 else 'Mulher')\n",
    "# Ordernação da série histórica por ano e trimestre.\n",
    "pnadc_completa.sort_values(by=['Ano', 'Trimestre'], inplace=True)\n",
    "#concatena a coluna 'Ano' e 'Trimestre' em uma única coluna.\n",
    "pnadc_completa['ano_tri'] = pnadc_completa['Ano'].astype(str) + 'Q' + pnadc_completa['Trimestre'].astype(str)\n",
    "#Conversão da coluna ano_tri para datetime.\n",
    "pnadc_completa['ano_tri'] = pd.to_datetime(pnadc_completa['ano_tri']).dt.to_period('Q')"
   ]
  },
  {
   "cell_type": "code",
   "execution_count": 58,
   "metadata": {},
   "outputs": [],
   "source": [
    "#1º Filtrada\n",
    "ids_lista = pnadc_completa['ID'].value_counts()\n",
    "ids_lista = ids_lista[pnadc_completa['ID'].value_counts() > 1].index\n",
    "\n",
    "pnadc_filtrada = pnadc_completa[pnadc_completa['ID'].isin(ids_lista)].drop_duplicates(subset=['ID', 'ano_tri'])\n",
    "\n",
    "#2º Filtrada\n",
    "ids_lista = pnadc_filtrada['ID'].value_counts()\n",
    "ids_lista = ids_lista[pnadc_filtrada['ID'].value_counts() > 1].index\n",
    "\n",
    "pnadc_filtrada = pnadc_filtrada[pnadc_filtrada['ID'].isin(ids_lista)]"
   ]
  },
  {
   "cell_type": "code",
   "execution_count": 92,
   "metadata": {},
   "outputs": [],
   "source": [
    "ids_lista_entrevistas_5 = pd.DataFrame(pnadc_filtrada['ID'].value_counts())\n",
    "ids_lista_entrevistas_5 = ids_lista_entrevistas_5[ids_lista_entrevistas_5['ID'] == 5].index"
   ]
  },
  {
   "cell_type": "code",
   "execution_count": 97,
   "metadata": {},
   "outputs": [],
   "source": [
    "pnadc_filtrada = pnadc_filtrada[pnadc_filtrada['ID'].isin(ids_lista_entrevistas_5)].sort_values(by=['ID','V1016','ano_tri'])"
   ]
  },
  {
   "attachments": {},
   "cell_type": "markdown",
   "metadata": {},
   "source": [
    "### Características das pessoas que muda de ocupado para desocupado"
   ]
  },
  {
   "cell_type": "code",
   "execution_count": null,
   "metadata": {},
   "outputs": [],
   "source": [
    "#TODO: Desenvolver visualização que mostre a mudança individual ao longo do tempo para a variável de ocupação (VD4002) e, posteriormente, local de trabalho"
   ]
  }
 ],
 "metadata": {
  "kernelspec": {
   "display_name": "base",
   "language": "python",
   "name": "python3"
  },
  "language_info": {
   "codemirror_mode": {
    "name": "ipython",
    "version": 3
   },
   "file_extension": ".py",
   "mimetype": "text/x-python",
   "name": "python",
   "nbconvert_exporter": "python",
   "pygments_lexer": "ipython3",
   "version": "3.9.7 (default, Sep 16 2021, 16:59:28) [MSC v.1916 64 bit (AMD64)]"
  },
  "orig_nbformat": 4,
  "vscode": {
   "interpreter": {
    "hash": "08a400adeb6830322ec40344573c657b15a9eb2eef6e1c7ab2815bda50c98d3e"
   }
  }
 },
 "nbformat": 4,
 "nbformat_minor": 2
}
