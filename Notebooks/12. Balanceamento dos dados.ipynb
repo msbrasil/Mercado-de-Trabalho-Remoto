{
 "cells": [
  {
   "cell_type": "markdown",
   "metadata": {},
   "source": [
    "### Regressão de dados em painel "
   ]
  },
  {
   "cell_type": "markdown",
   "metadata": {},
   "source": [
    "Pacotes"
   ]
  },
  {
   "cell_type": "code",
   "execution_count": 2,
   "metadata": {},
   "outputs": [],
   "source": [
    "import pandas as pd\n",
    "import numpy as np\n",
    "from itertools import product"
   ]
  },
  {
   "cell_type": "code",
   "execution_count": 3,
   "metadata": {},
   "outputs": [],
   "source": [
    "panel_data = pd.read_parquet('../Dados/pnad_covid/pnad_covid_tratada.parquet', columns=['semana_dt',\n",
    "                                                                                        'domicilio_id', \n",
    "                                                                                        'UF', \n",
    "                                                                                        'A003',\n",
    "                                                                                        'A004',\n",
    "                                                                                        'A005', \n",
    "                                                                                        'formalidade', \n",
    "                                                                                        'setor', \n",
    "                                                                                        'Ocupação',\n",
    "                                                                                        'C013'\n",
    "                                                                                        ])"
   ]
  },
  {
   "cell_type": "code",
   "execution_count": 4,
   "metadata": {},
   "outputs": [
    {
     "data": {
      "text/html": [
       "<div>\n",
       "<style scoped>\n",
       "    .dataframe tbody tr th:only-of-type {\n",
       "        vertical-align: middle;\n",
       "    }\n",
       "\n",
       "    .dataframe tbody tr th {\n",
       "        vertical-align: top;\n",
       "    }\n",
       "\n",
       "    .dataframe thead th {\n",
       "        text-align: right;\n",
       "    }\n",
       "</style>\n",
       "<table border=\"1\" class=\"dataframe\">\n",
       "  <thead>\n",
       "    <tr style=\"text-align: right;\">\n",
       "      <th></th>\n",
       "      <th>semana_dt</th>\n",
       "      <th>domicilio_id</th>\n",
       "      <th>UF</th>\n",
       "      <th>A003</th>\n",
       "      <th>A004</th>\n",
       "      <th>A005</th>\n",
       "      <th>formalidade</th>\n",
       "      <th>setor</th>\n",
       "      <th>Ocupação</th>\n",
       "      <th>C013</th>\n",
       "    </tr>\n",
       "  </thead>\n",
       "  <tbody>\n",
       "    <tr>\n",
       "      <th>0</th>\n",
       "      <td>18</td>\n",
       "      <td>1100000161Mulher221974</td>\n",
       "      <td>Rondônia</td>\n",
       "      <td>Mulher</td>\n",
       "      <td>Parda</td>\n",
       "      <td>Médio completo</td>\n",
       "      <td>Formal</td>\n",
       "      <td>Serviços</td>\n",
       "      <td>NaN</td>\n",
       "      <td>NaN</td>\n",
       "    </tr>\n",
       "    <tr>\n",
       "      <th>1</th>\n",
       "      <td>18</td>\n",
       "      <td>1100000161Mulher1521992</td>\n",
       "      <td>Rondônia</td>\n",
       "      <td>Mulher</td>\n",
       "      <td>Parda</td>\n",
       "      <td>Médio completo</td>\n",
       "      <td>Formal</td>\n",
       "      <td>Serviços</td>\n",
       "      <td>NaN</td>\n",
       "      <td>NaN</td>\n",
       "    </tr>\n",
       "    <tr>\n",
       "      <th>2</th>\n",
       "      <td>18</td>\n",
       "      <td>1100000161Mulher2412001</td>\n",
       "      <td>Rondônia</td>\n",
       "      <td>Mulher</td>\n",
       "      <td>Parda</td>\n",
       "      <td>Médio completo</td>\n",
       "      <td>NaN</td>\n",
       "      <td>NaN</td>\n",
       "      <td>NaN</td>\n",
       "      <td>NaN</td>\n",
       "    </tr>\n",
       "    <tr>\n",
       "      <th>3</th>\n",
       "      <td>18</td>\n",
       "      <td>1100000161Homem29122012</td>\n",
       "      <td>Rondônia</td>\n",
       "      <td>Homem</td>\n",
       "      <td>Parda</td>\n",
       "      <td>Fundamental incompleto</td>\n",
       "      <td>NaN</td>\n",
       "      <td>NaN</td>\n",
       "      <td>NaN</td>\n",
       "      <td>NaN</td>\n",
       "    </tr>\n",
       "    <tr>\n",
       "      <th>4</th>\n",
       "      <td>21</td>\n",
       "      <td>11000001610Homem1861976</td>\n",
       "      <td>Rondônia</td>\n",
       "      <td>Homem</td>\n",
       "      <td>Parda</td>\n",
       "      <td>Fundamental incompleto</td>\n",
       "      <td>Informal</td>\n",
       "      <td>Serviços</td>\n",
       "      <td>NaN</td>\n",
       "      <td>NaN</td>\n",
       "    </tr>\n",
       "    <tr>\n",
       "      <th>...</th>\n",
       "      <td>...</td>\n",
       "      <td>...</td>\n",
       "      <td>...</td>\n",
       "      <td>...</td>\n",
       "      <td>...</td>\n",
       "      <td>...</td>\n",
       "      <td>...</td>\n",
       "      <td>...</td>\n",
       "      <td>...</td>\n",
       "      <td>...</td>\n",
       "    </tr>\n",
       "    <tr>\n",
       "      <th>381433</th>\n",
       "      <td>45</td>\n",
       "      <td>5300444346Homem2291962</td>\n",
       "      <td>Distrito Federal</td>\n",
       "      <td>Homem</td>\n",
       "      <td>Parda</td>\n",
       "      <td>Fundamental incompleto</td>\n",
       "      <td>Informal</td>\n",
       "      <td>Agricultura</td>\n",
       "      <td>NaN</td>\n",
       "      <td>NaN</td>\n",
       "    </tr>\n",
       "    <tr>\n",
       "      <th>381434</th>\n",
       "      <td>45</td>\n",
       "      <td>5300444346Mulher261965</td>\n",
       "      <td>Distrito Federal</td>\n",
       "      <td>Mulher</td>\n",
       "      <td>Branca</td>\n",
       "      <td>Fundamental incompleto</td>\n",
       "      <td>Informal</td>\n",
       "      <td>Agricultura</td>\n",
       "      <td>NaN</td>\n",
       "      <td>NaN</td>\n",
       "    </tr>\n",
       "    <tr>\n",
       "      <th>381435</th>\n",
       "      <td>45</td>\n",
       "      <td>5300444349Homem25121973</td>\n",
       "      <td>Distrito Federal</td>\n",
       "      <td>Homem</td>\n",
       "      <td>Parda</td>\n",
       "      <td>Fundamental incompleto</td>\n",
       "      <td>Informal</td>\n",
       "      <td>Agricultura</td>\n",
       "      <td>NaN</td>\n",
       "      <td>NaN</td>\n",
       "    </tr>\n",
       "    <tr>\n",
       "      <th>381436</th>\n",
       "      <td>45</td>\n",
       "      <td>5300444349Mulher2681980</td>\n",
       "      <td>Distrito Federal</td>\n",
       "      <td>Mulher</td>\n",
       "      <td>Parda</td>\n",
       "      <td>Fundamental incompleto</td>\n",
       "      <td>Informal</td>\n",
       "      <td>Agricultura</td>\n",
       "      <td>NaN</td>\n",
       "      <td>NaN</td>\n",
       "    </tr>\n",
       "    <tr>\n",
       "      <th>381437</th>\n",
       "      <td>45</td>\n",
       "      <td>5300444349Mulher1252007</td>\n",
       "      <td>Distrito Federal</td>\n",
       "      <td>Mulher</td>\n",
       "      <td>Parda</td>\n",
       "      <td>Fundamental incompleto</td>\n",
       "      <td>NaN</td>\n",
       "      <td>NaN</td>\n",
       "      <td>NaN</td>\n",
       "      <td>NaN</td>\n",
       "    </tr>\n",
       "  </tbody>\n",
       "</table>\n",
       "<p>2508686 rows × 10 columns</p>\n",
       "</div>"
      ],
      "text/plain": [
       "        semana_dt             domicilio_id                UF    A003    A004  \\\n",
       "0              18   1100000161Mulher221974          Rondônia  Mulher   Parda   \n",
       "1              18  1100000161Mulher1521992          Rondônia  Mulher   Parda   \n",
       "2              18  1100000161Mulher2412001          Rondônia  Mulher   Parda   \n",
       "3              18  1100000161Homem29122012          Rondônia   Homem   Parda   \n",
       "4              21  11000001610Homem1861976          Rondônia   Homem   Parda   \n",
       "...           ...                      ...               ...     ...     ...   \n",
       "381433         45   5300444346Homem2291962  Distrito Federal   Homem   Parda   \n",
       "381434         45   5300444346Mulher261965  Distrito Federal  Mulher  Branca   \n",
       "381435         45  5300444349Homem25121973  Distrito Federal   Homem   Parda   \n",
       "381436         45  5300444349Mulher2681980  Distrito Federal  Mulher   Parda   \n",
       "381437         45  5300444349Mulher1252007  Distrito Federal  Mulher   Parda   \n",
       "\n",
       "                          A005 formalidade        setor Ocupação C013  \n",
       "0               Médio completo      Formal     Serviços      NaN  NaN  \n",
       "1               Médio completo      Formal     Serviços      NaN  NaN  \n",
       "2               Médio completo         NaN          NaN      NaN  NaN  \n",
       "3       Fundamental incompleto         NaN          NaN      NaN  NaN  \n",
       "4       Fundamental incompleto    Informal     Serviços      NaN  NaN  \n",
       "...                        ...         ...          ...      ...  ...  \n",
       "381433  Fundamental incompleto    Informal  Agricultura      NaN  NaN  \n",
       "381434  Fundamental incompleto    Informal  Agricultura      NaN  NaN  \n",
       "381435  Fundamental incompleto    Informal  Agricultura      NaN  NaN  \n",
       "381436  Fundamental incompleto    Informal  Agricultura      NaN  NaN  \n",
       "381437  Fundamental incompleto         NaN          NaN      NaN  NaN  \n",
       "\n",
       "[2508686 rows x 10 columns]"
      ]
     },
     "execution_count": 4,
     "metadata": {},
     "output_type": "execute_result"
    }
   ],
   "source": [
    "panel_data"
   ]
  },
  {
   "cell_type": "code",
   "execution_count": 3,
   "metadata": {},
   "outputs": [],
   "source": [
    "uf_dict = {\n",
    "    'Acre': 'AC',\n",
    "    'Alagoas': 'AL',\n",
    "    'Amapá': 'AP',\n",
    "    'Amazonas': 'AM',\n",
    "    'Bahia': 'BA',\n",
    "    'Ceará': 'CE',\n",
    "    'Distrito Federal': 'DF',\n",
    "    'Espírito Santo': 'ES',\n",
    "    'Goiás': 'GO',\n",
    "    'Maranhão': 'MA',\n",
    "    'Mato Grosso': 'MT',\n",
    "    'Mato Grosso do Sul': 'MS',\n",
    "    'Minas Gerais': 'MG',\n",
    "    'Pará': 'PA',\n",
    "    'Paraíba': 'PB',\n",
    "    'Paraná': 'PR',\n",
    "    'Pernambuco': 'PE',\n",
    "    'Piauí': 'PI',\n",
    "    'Rio de Janeiro': 'RJ',\n",
    "    'Rio Grande do Norte': 'RN',\n",
    "    'Rio Grande do Sul': 'RS',\n",
    "    'Rondônia': 'RO',\n",
    "    'Roraima': 'RR',\n",
    "    'Santa Catarina': 'SC',\n",
    "    'São Paulo': 'SP',\n",
    "    'Sergipe': 'SE',\n",
    "    'Tocantins': 'TO'\n",
    "}"
   ]
  },
  {
   "cell_type": "code",
   "execution_count": 4,
   "metadata": {},
   "outputs": [],
   "source": [
    "panel_data['sigla_uf'] = panel_data['UF'].map(uf_dict)"
   ]
  },
  {
   "cell_type": "code",
   "execution_count": 5,
   "metadata": {},
   "outputs": [],
   "source": [
    "df_datas_flex = pd.read_excel('../Anexos/datas_flexibilização.xlsx')\n",
    "\n",
    "df_datas_flex['semana'] = pd.to_datetime(df_datas_flex['Data'].values, format='%d/%m/%Y').strftime('%U')\n",
    "\n",
    "df_datas_flex.head()\n",
    "\n",
    "\n",
    "\n",
    "\n",
    "#df_datas_flex.set_index('UF', inplace=True)\n",
    "panel_data = pd.merge(panel_data, df_datas_flex, left_on='sigla_uf', right_on='UF', suffixes=('', '_flex'))\n",
    "#dummy_flex = pd.get_dummies(pnad_covid_flex['semana'])"
   ]
  },
  {
   "cell_type": "code",
   "execution_count": 6,
   "metadata": {},
   "outputs": [
    {
     "data": {
      "text/plain": [
       "(2508686, 14)"
      ]
     },
     "execution_count": 6,
     "metadata": {},
     "output_type": "execute_result"
    }
   ],
   "source": [
    "panel_data.shape"
   ]
  },
  {
   "attachments": {},
   "cell_type": "markdown",
   "metadata": {},
   "source": [
    "variáveis de identificação:\n",
    "- semana_dt = semana de referencia\n",
    "- domicilio_id = identificação do domicilio\n",
    "\n",
    "variáveis exógenas:\n",
    "- A003, sexo\n",
    "- A004, cor\n",
    "- A005, escolaridade\n",
    "- formalidade\n",
    "- semana (semana de flexibilização em formato dummy)\n",
    "\n",
    "variável endógena:\n",
    "C013, trabalho remoto"
   ]
  },
  {
   "cell_type": "code",
   "execution_count": 7,
   "metadata": {},
   "outputs": [],
   "source": [
    "panel_data = panel_data[['semana_dt', 'domicilio_id', #identificadores\n",
    "                         'C013', #endógena\n",
    "                         'A003', 'A004', 'A005', 'formalidade', 'semana']]#exógenas"
   ]
  },
  {
   "cell_type": "code",
   "execution_count": 8,
   "metadata": {},
   "outputs": [
    {
     "data": {
      "text/plain": [
       "(2508686, 8)"
      ]
     },
     "execution_count": 8,
     "metadata": {},
     "output_type": "execute_result"
    }
   ],
   "source": [
    "panel_data.shape"
   ]
  },
  {
   "cell_type": "code",
   "execution_count": 9,
   "metadata": {},
   "outputs": [],
   "source": [
    "panel_data['C013'].fillna('Não', inplace=True)"
   ]
  },
  {
   "cell_type": "code",
   "execution_count": 10,
   "metadata": {},
   "outputs": [],
   "source": [
    "#panel_data.dropna(subset='C013', inplace=True)"
   ]
  },
  {
   "cell_type": "code",
   "execution_count": 11,
   "metadata": {},
   "outputs": [
    {
     "data": {
      "text/plain": [
       "(2508686, 8)"
      ]
     },
     "execution_count": 11,
     "metadata": {},
     "output_type": "execute_result"
    }
   ],
   "source": [
    "panel_data.shape"
   ]
  },
  {
   "attachments": {},
   "cell_type": "markdown",
   "metadata": {},
   "source": [
    "### Balanceamento do modelo"
   ]
  },
  {
   "cell_type": "code",
   "execution_count": 11,
   "metadata": {},
   "outputs": [],
   "source": [
    "# correcting unbalanced data (like ids missing dates along the dataset)\n",
    " \n",
    "ids = list(panel_data['domicilio_id'].unique())\n",
    "dates = list(panel_data['semana_dt'].sort_values().unique())"
   ]
  },
  {
   "cell_type": "code",
   "execution_count": 12,
   "metadata": {},
   "outputs": [],
   "source": [
    "indexes = pd.MultiIndex.from_product(iterables = [ids, dates],names = ['id', 'time'])"
   ]
  },
  {
   "cell_type": "code",
   "execution_count": 13,
   "metadata": {},
   "outputs": [],
   "source": [
    "balanced_panel = product(ids, dates)"
   ]
  },
  {
   "cell_type": "code",
   "execution_count": 14,
   "metadata": {},
   "outputs": [],
   "source": [
    "df_aux = pd.DataFrame(data = balanced_panel, columns = ['domicilio_id', 'semana_dt'],index=indexes)"
   ]
  },
  {
   "cell_type": "code",
   "execution_count": 15,
   "metadata": {},
   "outputs": [],
   "source": [
    "#merge the balanced panel with the original dataset\n",
    "\n",
    "panel_data = pd.merge(df_aux, panel_data, how = 'left', left_on = ['domicilio_id', 'semana_dt'], right_on = ['domicilio_id', 'semana_dt'])"
   ]
  },
  {
   "cell_type": "code",
   "execution_count": 16,
   "metadata": {},
   "outputs": [],
   "source": [
    "#set multiindex to the dataset with portfolio_id and date\n",
    "\n",
    "panel_data.set_index(['domicilio_id', 'semana_dt'], inplace=True)"
   ]
  },
  {
   "cell_type": "markdown",
   "metadata": {},
   "source": [
    "---"
   ]
  },
  {
   "cell_type": "markdown",
   "metadata": {},
   "source": [
    "#### Output"
   ]
  },
  {
   "cell_type": "code",
   "execution_count": 18,
   "metadata": {},
   "outputs": [],
   "source": [
    "#exportar para parquet\n",
    "\n",
    "panel_data.to_parquet('../Dados/pnad_covid/pnad_covid_balanced.parquet')"
   ]
  },
  {
   "cell_type": "markdown",
   "metadata": {},
   "source": [
    "---"
   ]
  }
 ],
 "metadata": {
  "kernelspec": {
   "display_name": "Python 3",
   "language": "python",
   "name": "python3"
  },
  "language_info": {
   "codemirror_mode": {
    "name": "ipython",
    "version": 3
   },
   "file_extension": ".py",
   "mimetype": "text/x-python",
   "name": "python",
   "nbconvert_exporter": "python",
   "pygments_lexer": "ipython3",
   "version": "3.11.4"
  },
  "orig_nbformat": 4
 },
 "nbformat": 4,
 "nbformat_minor": 2
}
