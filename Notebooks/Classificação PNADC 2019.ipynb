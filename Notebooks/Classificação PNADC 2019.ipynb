{
 "cells": [
  {
   "attachments": {},
   "cell_type": "markdown",
   "metadata": {},
   "source": [
    "### Classificação de ocupações da PNADC 2019 com ocupações traduzidas\n",
    "\n",
    "Classificar as ocupações segundo a tabela de ocupações traduzidas para a COD.\n",
    "\n",
    "Verificar se o percentual de ocupações da tabela 1 do artigo diz respeito a base da PNAD Contínua, em vez da COVID."
   ]
  },
  {
   "cell_type": "code",
   "execution_count": 2,
   "metadata": {},
   "outputs": [],
   "source": [
    "import pandas as pd"
   ]
  },
  {
   "cell_type": "code",
   "execution_count": 29,
   "metadata": {},
   "outputs": [],
   "source": [
    "#Importação dos dados da PNAD Contínua\n",
    "\n",
    "pnadc_19 = pd.read_parquet('../Dados/pnad/PNADC_2019_editado.parquet')"
   ]
  },
  {
   "cell_type": "code",
   "execution_count": 6,
   "metadata": {},
   "outputs": [],
   "source": [
    "ocupacoes = pd.read_excel('../Anexos/ocupacoes_traduzidas.xlsx')"
   ]
  },
  {
   "cell_type": "code",
   "execution_count": 27,
   "metadata": {},
   "outputs": [],
   "source": [
    "ocupacoes_filtrado = ocupacoes[['Grupos de Base', 'Grandes Grupos', 'teleworkable']]"
   ]
  },
  {
   "cell_type": "code",
   "execution_count": 28,
   "metadata": {},
   "outputs": [
    {
     "name": "stderr",
     "output_type": "stream",
     "text": [
      "C:\\Users\\est.matheus.brasil\\AppData\\Local\\Temp\\ipykernel_11784\\2860122554.py:1: SettingWithCopyWarning: \n",
      "A value is trying to be set on a copy of a slice from a DataFrame.\n",
      "Try using .loc[row_indexer,col_indexer] = value instead\n",
      "\n",
      "See the caveats in the documentation: https://pandas.pydata.org/pandas-docs/stable/user_guide/indexing.html#returning-a-view-versus-a-copy\n",
      "  ocupacoes_filtrado['Grupos de Base'] = ocupacoes_filtrado['Grupos de Base'].astype(str).apply(lambda x: x[0:4])\n"
     ]
    }
   ],
   "source": [
    "ocupacoes_filtrado['Grupos de Base'] = ocupacoes_filtrado['Grupos de Base'].astype(str).apply(lambda x: x[0:4])"
   ]
  },
  {
   "cell_type": "code",
   "execution_count": 30,
   "metadata": {},
   "outputs": [],
   "source": [
    "pnadc_19 = pnadc_19.merge(ocupacoes_filtrado, left_on='V4010', right_on='Grupos de Base', how='left')"
   ]
  },
  {
   "cell_type": "code",
   "execution_count": 32,
   "metadata": {},
   "outputs": [
    {
     "data": {
      "text/html": [
       "<div>\n",
       "<style scoped>\n",
       "    .dataframe tbody tr th:only-of-type {\n",
       "        vertical-align: middle;\n",
       "    }\n",
       "\n",
       "    .dataframe tbody tr th {\n",
       "        vertical-align: top;\n",
       "    }\n",
       "\n",
       "    .dataframe thead th {\n",
       "        text-align: right;\n",
       "    }\n",
       "</style>\n",
       "<table border=\"1\" class=\"dataframe\">\n",
       "  <thead>\n",
       "    <tr style=\"text-align: right;\">\n",
       "      <th></th>\n",
       "      <th>Trimestre</th>\n",
       "      <th>V4010</th>\n",
       "      <th>UF</th>\n",
       "      <th>V2007</th>\n",
       "      <th>V2010</th>\n",
       "      <th>VD4019</th>\n",
       "      <th>V4013</th>\n",
       "      <th>VD3004</th>\n",
       "      <th>VD4009</th>\n",
       "      <th>V4019</th>\n",
       "      <th>V1032</th>\n",
       "      <th>dummy_infra</th>\n",
       "      <th>Grupos de Base</th>\n",
       "      <th>Grandes Grupos</th>\n",
       "      <th>teleworkable</th>\n",
       "    </tr>\n",
       "  </thead>\n",
       "  <tbody>\n",
       "    <tr>\n",
       "      <th>0</th>\n",
       "      <td>1</td>\n",
       "      <td>3221</td>\n",
       "      <td>Rondônia</td>\n",
       "      <td>Mulher</td>\n",
       "      <td>Parda</td>\n",
       "      <td>1583.0</td>\n",
       "      <td>86001</td>\n",
       "      <td>Superior completo</td>\n",
       "      <td>Empregado no setor privado com carteira de tra...</td>\n",
       "      <td>NaN</td>\n",
       "      <td>149.43857</td>\n",
       "      <td>0</td>\n",
       "      <td>3221</td>\n",
       "      <td>3.0</td>\n",
       "      <td>0.0</td>\n",
       "    </tr>\n",
       "    <tr>\n",
       "      <th>1</th>\n",
       "      <td>1</td>\n",
       "      <td>None</td>\n",
       "      <td>Rondônia</td>\n",
       "      <td>Homem</td>\n",
       "      <td>Parda</td>\n",
       "      <td>NaN</td>\n",
       "      <td>None</td>\n",
       "      <td>Fundamental completo ou equivalente</td>\n",
       "      <td>NaN</td>\n",
       "      <td>NaN</td>\n",
       "      <td>149.43857</td>\n",
       "      <td>0</td>\n",
       "      <td>NaN</td>\n",
       "      <td>NaN</td>\n",
       "      <td>NaN</td>\n",
       "    </tr>\n",
       "    <tr>\n",
       "      <th>2</th>\n",
       "      <td>1</td>\n",
       "      <td>None</td>\n",
       "      <td>Rondônia</td>\n",
       "      <td>Mulher</td>\n",
       "      <td>Branca</td>\n",
       "      <td>NaN</td>\n",
       "      <td>None</td>\n",
       "      <td>Médio completo ou equivalente</td>\n",
       "      <td>NaN</td>\n",
       "      <td>NaN</td>\n",
       "      <td>149.43857</td>\n",
       "      <td>0</td>\n",
       "      <td>NaN</td>\n",
       "      <td>NaN</td>\n",
       "      <td>NaN</td>\n",
       "    </tr>\n",
       "    <tr>\n",
       "      <th>3</th>\n",
       "      <td>1</td>\n",
       "      <td>None</td>\n",
       "      <td>Rondônia</td>\n",
       "      <td>Mulher</td>\n",
       "      <td>Parda</td>\n",
       "      <td>NaN</td>\n",
       "      <td>None</td>\n",
       "      <td>Médio completo ou equivalente</td>\n",
       "      <td>NaN</td>\n",
       "      <td>NaN</td>\n",
       "      <td>149.43857</td>\n",
       "      <td>0</td>\n",
       "      <td>NaN</td>\n",
       "      <td>NaN</td>\n",
       "      <td>NaN</td>\n",
       "    </tr>\n",
       "    <tr>\n",
       "      <th>4</th>\n",
       "      <td>1</td>\n",
       "      <td>None</td>\n",
       "      <td>Rondônia</td>\n",
       "      <td>Homem</td>\n",
       "      <td>Parda</td>\n",
       "      <td>NaN</td>\n",
       "      <td>None</td>\n",
       "      <td>Sem instrução e menos de 1 ano de estudo</td>\n",
       "      <td>NaN</td>\n",
       "      <td>NaN</td>\n",
       "      <td>149.43857</td>\n",
       "      <td>0</td>\n",
       "      <td>NaN</td>\n",
       "      <td>NaN</td>\n",
       "      <td>NaN</td>\n",
       "    </tr>\n",
       "  </tbody>\n",
       "</table>\n",
       "</div>"
      ],
      "text/plain": [
       "  Trimestre V4010        UF   V2007   V2010  VD4019  V4013  \\\n",
       "0         1  3221  Rondônia  Mulher   Parda  1583.0  86001   \n",
       "1         1  None  Rondônia   Homem   Parda     NaN   None   \n",
       "2         1  None  Rondônia  Mulher  Branca     NaN   None   \n",
       "3         1  None  Rondônia  Mulher   Parda     NaN   None   \n",
       "4         1  None  Rondônia   Homem   Parda     NaN   None   \n",
       "\n",
       "                                     VD3004  \\\n",
       "0                         Superior completo   \n",
       "1       Fundamental completo ou equivalente   \n",
       "2             Médio completo ou equivalente   \n",
       "3             Médio completo ou equivalente   \n",
       "4  Sem instrução e menos de 1 ano de estudo   \n",
       "\n",
       "                                              VD4009 V4019      V1032  \\\n",
       "0  Empregado no setor privado com carteira de tra...   NaN  149.43857   \n",
       "1                                                NaN   NaN  149.43857   \n",
       "2                                                NaN   NaN  149.43857   \n",
       "3                                                NaN   NaN  149.43857   \n",
       "4                                                NaN   NaN  149.43857   \n",
       "\n",
       "   dummy_infra Grupos de Base  Grandes Grupos  teleworkable  \n",
       "0            0           3221             3.0           0.0  \n",
       "1            0            NaN             NaN           NaN  \n",
       "2            0            NaN             NaN           NaN  \n",
       "3            0            NaN             NaN           NaN  \n",
       "4            0            NaN             NaN           NaN  "
      ]
     },
     "execution_count": 32,
     "metadata": {},
     "output_type": "execute_result"
    }
   ],
   "source": [
    "pnadc_19.head()"
   ]
  },
  {
   "cell_type": "code",
   "execution_count": 49,
   "metadata": {},
   "outputs": [
    {
     "data": {
      "text/plain": [
       "Grandes Grupos\n",
       "1.0    30350\n",
       "2.0    65861\n",
       "3.0    35123\n",
       "4.0    15337\n",
       "5.0    77364\n",
       "6.0    98483\n",
       "7.0    77498\n",
       "8.0    41055\n",
       "9.0    79479\n",
       "Name: Grupos de Base, dtype: int64"
      ]
     },
     "execution_count": 49,
     "metadata": {},
     "output_type": "execute_result"
    }
   ],
   "source": [
    "pnadc_19.groupby('Grandes Grupos')['Grupos de Base'].count()"
   ]
  },
  {
   "cell_type": "code",
   "execution_count": 56,
   "metadata": {},
   "outputs": [
    {
     "data": {
      "text/plain": [
       "Grandes Grupos\n",
       "1.0    23979\n",
       "2.0    46790\n",
       "3.0    13033\n",
       "4.0    10060\n",
       "5.0    19440\n",
       "6.0    19554\n",
       "7.0      518\n",
       "8.0    10262\n",
       "9.0     2966\n",
       "Name: Grupos de Base, dtype: int64"
      ]
     },
     "execution_count": 56,
     "metadata": {},
     "output_type": "execute_result"
    }
   ],
   "source": [
    "pnadc_19[(pnadc_19['teleworkable']==1)].groupby('Grandes Grupos')['Grupos de Base'].count() "
   ]
  },
  {
   "cell_type": "code",
   "execution_count": 59,
   "metadata": {},
   "outputs": [
    {
     "data": {
      "text/plain": [
       "Grandes Grupos\n",
       "1.0    0.802953\n",
       "2.0    0.882539\n",
       "3.0    0.806338\n",
       "4.0    0.677932\n",
       "5.0    0.429990\n",
       "6.0    0.182776\n",
       "7.0    0.293436\n",
       "8.0    0.412200\n",
       "9.0    0.231288\n",
       "Name: Grupos de Base, dtype: float64"
      ]
     },
     "execution_count": 59,
     "metadata": {},
     "output_type": "execute_result"
    }
   ],
   "source": [
    "pnadc_19[(pnadc_19['dummy_infra']==1)&(pnadc_19['teleworkable']==1)].groupby('Grandes Grupos')['Grupos de Base'].count() / pnadc_19[(pnadc_19['teleworkable']==1)].groupby('Grandes Grupos')['Grupos de Base'].count() "
   ]
  }
 ],
 "metadata": {
  "kernelspec": {
   "display_name": "econometria",
   "language": "python",
   "name": "python3"
  },
  "language_info": {
   "codemirror_mode": {
    "name": "ipython",
    "version": 3
   },
   "file_extension": ".py",
   "mimetype": "text/x-python",
   "name": "python",
   "nbconvert_exporter": "python",
   "pygments_lexer": "ipython3",
   "version": "3.10.4"
  },
  "orig_nbformat": 4
 },
 "nbformat": 4,
 "nbformat_minor": 2
}
