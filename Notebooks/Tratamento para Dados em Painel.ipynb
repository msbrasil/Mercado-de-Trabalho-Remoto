{
 "cells": [
  {
   "attachments": {},
   "cell_type": "markdown",
   "metadata": {},
   "source": [
    "### Tratamento dos dados para Regressão dos microdados da PNAD COVID\n",
    "\n",
    "Tratamento das variáveis que serão inseridas na regressão em painel"
   ]
  },
  {
   "cell_type": "markdown",
   "metadata": {},
   "source": [
    "Pacotes para manipulação e regressão"
   ]
  },
  {
   "cell_type": "code",
   "execution_count": 1,
   "metadata": {},
   "outputs": [],
   "source": [
    "import pandas as pd\n",
    "import numpy as np\n",
    "import datetime\n",
    "\n",
    "pnad_covid = pd.read_parquet('../Dados/pnad_covid/pnad_covid_filtrada.parquet')"
   ]
  },
  {
   "attachments": {},
   "cell_type": "markdown",
   "metadata": {},
   "source": [
    "### Tratamento das variáveis do modelo\n",
    "\n",
    "segundo nota técnica do IPEA\n",
    "\n",
    "**Variáveis da PNAD Covid que serão filtradas:**\n",
    "\n",
    "<img src=\"../Anexos/var_estudo.png\" width=\"600\" height=\"500\">"
   ]
  },
  {
   "cell_type": "markdown",
   "metadata": {},
   "source": [
    "Faixa etária (A002)"
   ]
  },
  {
   "cell_type": "code",
   "execution_count": 2,
   "metadata": {},
   "outputs": [],
   "source": [
    "#grupos de 10 a partir do 20 e até o 80\n",
    "\n",
    "#Grupos de 10 a partir do 20 e até o 80\n",
    "pnad_covid['grupo_etario'] = pnad_covid['A002'].apply(lambda x:\n",
    "                                                      '14-20' if x < 19\n",
    "                                                      else '20-29' if x < 29\n",
    "                                                      else '30-39' if x < 39\n",
    "                                                      else '40-49' if x < 49\n",
    "                                                      else '50-59' if x < 59\n",
    "                                                      else '60-69' if x < 69\n",
    "                                                      else '70-79' if x < 79\n",
    "                                                      else '80 ou mais' if x >= 80\n",
    "                                                      else x)\n",
    "\n",
    "\n",
    "pnad_covid['grupo_etario'] = pd.Categorical(pnad_covid['grupo_etario'], categories=[\n",
    "    '14-20',\n",
    "    '20-29'\n",
    "    '30-39'\n",
    "    '40-49'\n",
    "    '50-59'\n",
    "    '60-69'\n",
    "    '70-79'\n",
    "    '80 ou mais'    \n",
    "], ordered=True)"
   ]
  },
  {
   "cell_type": "markdown",
   "metadata": {},
   "source": [
    "Sexo (A003)"
   ]
  },
  {
   "cell_type": "code",
   "execution_count": 3,
   "metadata": {},
   "outputs": [],
   "source": [
    "#mulher recebe valor 0 e homem valor 1\n",
    "\n",
    "#pnad_covid['A003'] = pnad_covid['A003'].map({'Mulher':0, 'Homem':1})\n",
    "\n",
    "#transformando a variável em categórica\n",
    "\n",
    "pnad_covid['A003'] = pd.Categorical(pnad_covid['A003'], categories=[\n",
    "    'Mulher',\n",
    "    'Homem'\n",
    "], ordered=False)\n"
   ]
  },
  {
   "attachments": {},
   "cell_type": "markdown",
   "metadata": {},
   "source": [
    "Cor-raça (A004)"
   ]
  },
  {
   "cell_type": "code",
   "execution_count": 4,
   "metadata": {},
   "outputs": [],
   "source": [
    "#brancos e amarelos como 1 e demais 0\n",
    "\n",
    "#pnad_covid['A004'] = pnad_covid['A004'].apply(lambda x: 1 if x in ['Branca', 'Amarela'] else 0)\n",
    "\n",
    "#reagrupar as categorias de cor ou raça para \"Brancos e Amarelos\", \"Pretos, Pardos e Indígenas\" e \"Ignorado\"\n",
    "\n",
    "pnad_covid['Raça'] = pnad_covid['A004'].apply(lambda x:\n",
    "                                                'Brancos e Amarelos' if x == 'Branca' or x == 'Amarela' \n",
    "                                                else 'Pretos, Pardos e Indígenas' if x == 'Preta' or x == 'Parda' or x == 'Indígena'\n",
    "                                                else 'Ignorado' if x == 'Ignorado'\n",
    "                                                else x)\n",
    "\n",
    "#tranformar em categórica\n",
    "\n",
    "pnad_covid['Raça'] = pd.Categorical(pnad_covid['Raça'], categories=[\n",
    "    'Brancos e Amarelos',\n",
    "    'Pretos, Pardos e Indígenas',\n",
    "    'Ignorado'\n",
    "], ordered=False)"
   ]
  },
  {
   "attachments": {},
   "cell_type": "markdown",
   "metadata": {},
   "source": [
    "Escolaridade (A005)"
   ]
  },
  {
   "cell_type": "code",
   "execution_count": 5,
   "metadata": {},
   "outputs": [],
   "source": [
    "#Classificação da escolaridade conforme variável\n",
    "\n",
    "# pnad_covid['A005'] = pd.Categorical(pnad_covid['A005'], categories=[\n",
    "#     'Sem instrução',\n",
    "#     'Fundamental incompleto',\n",
    "#     'Fundamental completa',\n",
    "#     'Médio incompleto',\n",
    "#     'Médio completo',\n",
    "#     'Superior incompleto',\n",
    "#     'Superior completo',\n",
    "#     'Pós-graduação, mestrado ou doutorado'\n",
    "# ], ordered=True)\n",
    "\n",
    "#Reagrupar escolaridade em \"Sem instrução\", \"Fundamental Completo e Médio Incompleto\", \"Médio Completo e Superior Incompleto\", \"Superior Completo\"\n",
    "\n",
    "pnad_covid['Escolaridade'] = pnad_covid['A005'].apply(lambda x:\n",
    "                                                        'Sem instrução' if x == 'Sem instrução'\n",
    "                                                        else 'Sem instrução' if x == 'Fundamental incompleto'\n",
    "                                                        else 'Fundamental Completo e Médio Incompleto' if x == 'Fundamental completa'\n",
    "                                                        else 'Fundamental Completo e Médio Incompleto' if x == 'Médio incompleto'\n",
    "                                                        else 'Médio Completo e Superior Incompleto' if x == 'Médio completo'\n",
    "                                                        else 'Médio Completo e Superior Incompleto' if x == 'Superior incompleto'\n",
    "                                                        else 'Superior Completo' if x == 'Superior completo'\n",
    "                                                        else 'Superior Completo' if x == 'Pós-graduação, mestrado ou doutorado'\n",
    "                                                        else x)\n",
    "\n",
    "#tranformar em categórica\n",
    "\n",
    "pnad_covid['Escolaridade'] = pd.Categorical(pnad_covid['Escolaridade'], categories=[\n",
    "    'Sem instrução',\n",
    "    'Fundamental Completo e Médio Incompleto',\n",
    "    'Médio Completo e Superior Incompleto',\n",
    "    'Superior Completo'\n",
    "], ordered=True)"
   ]
  },
  {
   "attachments": {},
   "cell_type": "markdown",
   "metadata": {},
   "source": [
    "Formalidade (Composta por C007-Setor e C007B- formalidade)"
   ]
  },
  {
   "cell_type": "code",
   "execution_count": 6,
   "metadata": {},
   "outputs": [],
   "source": [
    "#setor privado sem carteira, setor publico não estatutario e sem carteira, sem contribuição para a previdencia = Informal\n",
    "\n",
    "def formalidade(row):\n",
    "    if row['C007'] == \"Empregado do setor privado\":\n",
    "        if row['C007B'] == 'Sim, tem carteira de trabalho assinada':\n",
    "            return 'Formal'\n",
    "        elif row['C007B'] == 'Sim, é servidor público estatutário':\n",
    "            return 'Formal'\n",
    "        elif row['C007B'] == 'Não':\n",
    "            return 'Informal'\n",
    "        else:\n",
    "            return 'Não identificado'\n",
    "            \n",
    "    elif row['C007'] == \"nan\":\n",
    "        if row['C007B'] == 'Sim, tem carteira de trabalho assinada':\n",
    "            return 'Formal'\n",
    "        elif row['C007B'] == 'Sim, é servidor público estatutário':\n",
    "            return 'Formal'\n",
    "        elif row['C007B'] == 'Não':\n",
    "            return 'Informal'\n",
    "        else:\n",
    "            return 'Não identificado'\n",
    "\n",
    "    elif row['C007'] == \"Conta própria\":\n",
    "        return 'Conta própria'\n",
    "\n",
    "    elif row['C007'] == \"Empregado do setor público (inclusive empresas de economia mista)\":\n",
    "        if row['C007B'] == 'Sim, tem carteira de trabalho assinada':\n",
    "            return 'Formal'\n",
    "        elif row['C007B'] == 'Sim, é servidor público estatutário':\n",
    "            return 'Formal'\n",
    "        elif row['C007B'] == 'Não':\n",
    "            return 'Informal'\n",
    "        else:\n",
    "            return 'Não identificado'\n",
    "\n",
    "    elif row['C007'] == \"Policial militar ou bombeiro militar\":\n",
    "        return 'Militar'\n",
    "\n",
    "    elif row['C007'] == \"Trabalhador doméstico (empregado doméstico, cuidados, babá)\":\n",
    "        if row['C007B'] == 'Sim, tem carteira de trabalho assinada':\n",
    "            return 'Formal'\n",
    "        elif row['C007B'] == 'Sim, é servidor público estatutário':\n",
    "            return 'Formal'\n",
    "        elif row['C007B'] == 'Não':\n",
    "            return 'Informal'\n",
    "        else:\n",
    "            return 'Não identificado'\n",
    "        \n",
    "    elif row['C007'] == \"Empregador\":\n",
    "        return 'Empregador'\n",
    "    elif row['C007'] == \"Militar do exercito, marinha ou aeronáutica\":\n",
    "        return 'Militar'\n",
    "    \n",
    "    elif row['C007'] == \"Trabalhador familiar não remunerado em ajuda a membro do domicílio ou parente\":\n",
    "        return 'Trabalhador familiar'\n",
    "\n",
    "    elif row['C007'] == \"Estava fora do mercado de trabalho (fazia apenas afazeres domésticos, cuidados de pessoas ou produção para próprio consumo)\":\n",
    "        return 'Fora do mercado de trabalho'"
   ]
  },
  {
   "cell_type": "code",
   "execution_count": 7,
   "metadata": {},
   "outputs": [],
   "source": [
    "#criar coluna de formalidade com base em duas colunas da pnad_covid\n",
    "\n",
    "pnad_covid['formalidade'] = pnad_covid.apply(formalidade, axis=1)"
   ]
  },
  {
   "cell_type": "code",
   "execution_count": 12,
   "metadata": {},
   "outputs": [],
   "source": [
    "#reagrupar coluna de formalidade como formal, informal\n",
    "\n",
    "pnad_covid['formalidade'] = pnad_covid['formalidade'].apply(lambda x:\n",
    "                                                            'Formal' if x == 'Formal'\n",
    "                                                            else 'Informal' if x == 'Informal'\n",
    "                                                            else 'Informal' if x == 'Conta própria'\n",
    "                                                            else 'Informal' if x == 'Militar'\n",
    "                                                            else 'Informal' if x == 'Empregador'\n",
    "                                                            else 'Informal' if x == 'Trabalhador familiar'\n",
    "                                                            else 'Fora do mercado de trabalho' if x == 'Fora do mercado de trabalho'\n",
    "                                                            else x)\n",
    "\n",
    "#tranformar em categórica\n",
    "\n",
    "pnad_covid['formalidade'] = pd.Categorical(pnad_covid['formalidade'], categories=[\n",
    "    'Formal',\n",
    "    'Informal',\n",
    "    'Fora do mercado de trabalho'\n",
    "], ordered=False)"
   ]
  },
  {
   "attachments": {},
   "cell_type": "markdown",
   "metadata": {},
   "source": [
    "Atividade(setor) (C007D)"
   ]
  },
  {
   "cell_type": "code",
   "execution_count": 14,
   "metadata": {},
   "outputs": [],
   "source": [
    "#Identificadas como agricultura, comércio, setor público, serviços e industria\n",
    "\n",
    "def setor(row):\n",
    "    if row['C007D'] == 'Agricultura, pecuária, produção florestal e pesca':\n",
    "        return 'Agricultura'\n",
    "    elif row['C007D'] == 'Comércio no atacado e varejo;':\n",
    "        return 'Comércio'\n",
    "    elif row['C007D'] == 'Administração pública (governo federal, estadual e municipal)':\n",
    "        return 'Setor público'\n",
    "    elif row['C007D'] in ['Educação', \n",
    "                          'Construção',\n",
    "                          'Saúde humana e assistência social',\n",
    "                          'Serviço doméstico remunerado (será imputado da posição na ocupação)',\n",
    "                          'Serviço de alimentação (bares, restaurantes, ambulantes de alimentação)',\n",
    "                          'Atividades de locação de mão de obra, segurança, limpeza, paisagismo e teleatendimento',\n",
    "                          'Escritórios de advocacia, engenharia, publicidade e veterinária (Atividades profissionais, científicas e técnicas)',\n",
    "                          'Reparação de veículos automotores e motocicletas',\n",
    "                          'Transporte de mercadorias',\n",
    "                          'Cabeleireiros, tratamento de beleza e serviços pessoais',\n",
    "                          'Transporte de passageiros',\n",
    "                          'Informação e comunicação (jornais, rádio e televisão, telecomunicações e informática)',\n",
    "                          'Bancos, atividades financeiras e de seguros',\n",
    "                          'Fornecimento de eletricidade e gás, água, esgoto e coleta de lixo',\n",
    "                          'Atividade artísticas, esportivas e de recreação',\n",
    "                          'Atividades imobiliárias',\n",
    "                          'Organizações religiosas, sindicatos e associações',\n",
    "                          'Hospedagem (hotéis, pousadas etc.)',\n",
    "                          'Armazenamento, correios e serviços de entregas']:\n",
    "        return 'Serviços'\n",
    "    elif row['C007D'] in ['Indústria da transformação (inclusive confecção e fabricação caseira)',\n",
    "                            'Extração de petróleo, carvão mineral, minerais metálicos, pedra, areia, sal etc.']:\n",
    "        return 'Indústria'\n",
    "    elif row['C007D'] == 'Outro':\n",
    "        return 'Outros'"
   ]
  },
  {
   "cell_type": "code",
   "execution_count": 15,
   "metadata": {},
   "outputs": [],
   "source": [
    "pnad_covid['setor'] = pnad_covid.apply(setor, axis=1)"
   ]
  },
  {
   "cell_type": "code",
   "execution_count": 18,
   "metadata": {},
   "outputs": [],
   "source": [
    "pnad_covid['setor'] = pd.Categorical(pnad_covid['setor'], categories=[\n",
    "    'Serviços',\n",
    "    'Agricultura',\n",
    "    'Comércio',\n",
    "    'Indústria',\n",
    "    'Outros',\n",
    "    'Setor público'\n",
    "], ordered=False)"
   ]
  },
  {
   "cell_type": "markdown",
   "metadata": {},
   "source": [
    "Ocupação (C001, C002, C003)"
   ]
  },
  {
   "cell_type": "code",
   "execution_count": 20,
   "metadata": {},
   "outputs": [],
   "source": [
    "def ocupacao(row):\n",
    "    \n",
    "    if row['C001'] == 'Sim':\n",
    "        if row['C013'] == 'Sim':\n",
    "            return 'Pessoa ocupada exercendo atividade de maneira remota'\n",
    "        \n",
    "        elif row['C013'] == 'Não':\n",
    "            return 'Pessoa ocupada não afastada'\n",
    "\n",
    "    elif row['C001'] == 'Não':\n",
    "        if row['C002'] == 'Sim':\n",
    "            if row['C003'] == 'Estava em quarentena, isolamento, distanciamento social ou férias coletivas':\n",
    "    \n",
    "                return 'Pessoas afastada devido distanciamento social'\n",
    "\n",
    "            elif row['C003'] in ['Licença remunerada por motivo de saúde ou acidente da própria pessoa',\n",
    "                                    'Férias, folga ou jornada de trabalho variável',\n",
    "                                    'Afastamento do próprio negócio/empresa por motivo de gestação, saúde, acidente, etc., sem ser remunerado por instituto de previdência',\n",
    "                                    'Outro motivo', \n",
    "                                    'Licença maternidade ou paternidade',\n",
    "                                    'Fatores ocasionais (mau tempo, paralisação nos serviços de transportes, etc.)',\n",
    "                                    'Outro tipo de licença remunerada (estudo, paternidade, casamento, licença prêmio, etc.)']:\n",
    "    \n",
    "                return 'Pessoas afastada por outras razões'\n",
    "            \n",
    "            else:\n",
    "                return row['C003']\n",
    "        \n",
    "    else:\n",
    "        return row['C001']\n"
   ]
  },
  {
   "cell_type": "code",
   "execution_count": 21,
   "metadata": {},
   "outputs": [],
   "source": [
    "pnad_covid['Ocupação'] = pnad_covid.apply(ocupacao, axis=1)"
   ]
  },
  {
   "cell_type": "code",
   "execution_count": 23,
   "metadata": {},
   "outputs": [],
   "source": [
    "#tranformar em categórica\n",
    "\n",
    "pnad_covid['Ocupação'] = pd.Categorical(pnad_covid['Ocupação'], categories=[\n",
    "    'Pessoa ocupada exercendo atividade de maneira remota',\n",
    "    'Pessoa ocupada não afastada',\n",
    "    'Pessoas afastada devido distanciamento social',\n",
    "    'Pessoas afastada por outras razões'\n",
    "], ordered=False)"
   ]
  },
  {
   "cell_type": "markdown",
   "metadata": {},
   "source": [
    "### Tratamento da variável de tempo"
   ]
  },
  {
   "cell_type": "code",
   "execution_count": 25,
   "metadata": {},
   "outputs": [
    {
     "name": "stdout",
     "output_type": "stream",
     "text": [
      "[18, 19, 20, 21, 22, 23, 24, 25, 26, 27, 28, 29, 30, 31, 32, 33, 34, 35, 36, 37, 38, 39, 40, 41, 42, 43, 44, 45, 46, 47, 48]\n"
     ]
    }
   ],
   "source": [
    "# Definindo a data de referência como o primeiro dia de maio\n",
    "data_referencia = datetime.datetime(2023, 5, 1)\n",
    "\n",
    "# Definindo a data final como o último dia de novembro\n",
    "data_final = datetime.datetime(2023, 11, 30)\n",
    "\n",
    "# Criando uma lista vazia para armazenar as semanas\n",
    "semanas = []\n",
    "\n",
    "# Loop para adicionar as semanas à lista\n",
    "while data_referencia <= data_final:\n",
    "    numero_semana = data_referencia.strftime(\"%V\")\n",
    "    semanas.append(numero_semana)\n",
    "    data_referencia += datetime.timedelta(weeks=1)\n",
    "\n",
    "# Imprimindo a lista de semanas\n",
    "\n",
    "#semanas como int\n",
    "\n",
    "semanas = [int(i) for i in semanas]\n",
    "\n",
    "print(semanas)"
   ]
  },
  {
   "cell_type": "code",
   "execution_count": 26,
   "metadata": {},
   "outputs": [],
   "source": [
    "df_data = pnad_covid[['Ano','V1013','V1012']].copy()"
   ]
  },
  {
   "cell_type": "code",
   "execution_count": 28,
   "metadata": {},
   "outputs": [],
   "source": [
    "df_data['Ano'] = df_data['Ano'].astype(int)\n",
    "df_data['V1013'] = df_data['V1013'].astype(int)\n",
    "df_data['V1012'] = df_data['V1012'].astype(int)\n",
    "\n",
    "data_ordenada = df_data.sort_values(by=['Ano','V1013','V1012'], ascending=[True, True, True])\n",
    "\n",
    "data_semana = data_ordenada.drop_duplicates(subset=['Ano','V1013','V1012'], keep='first')"
   ]
  },
  {
   "cell_type": "code",
   "execution_count": 34,
   "metadata": {},
   "outputs": [
    {
     "name": "stderr",
     "output_type": "stream",
     "text": [
      "/tmp/ipykernel_1140/1178876510.py:1: SettingWithCopyWarning: \n",
      "A value is trying to be set on a copy of a slice from a DataFrame.\n",
      "Try using .loc[row_indexer,col_indexer] = value instead\n",
      "\n",
      "See the caveats in the documentation: https://pandas.pydata.org/pandas-docs/stable/user_guide/indexing.html#returning-a-view-versus-a-copy\n",
      "  data_semana['semana'] = semanas[0:28]\n"
     ]
    }
   ],
   "source": [
    "data_semana['semana'] = semanas[0:28]"
   ]
  },
  {
   "cell_type": "code",
   "execution_count": 35,
   "metadata": {},
   "outputs": [
    {
     "name": "stderr",
     "output_type": "stream",
     "text": [
      "/tmp/ipykernel_1140/4059033413.py:2: SettingWithCopyWarning: \n",
      "A value is trying to be set on a copy of a slice from a DataFrame.\n",
      "Try using .loc[row_indexer,col_indexer] = value instead\n",
      "\n",
      "See the caveats in the documentation: https://pandas.pydata.org/pandas-docs/stable/user_guide/indexing.html#returning-a-view-versus-a-copy\n",
      "  data_semana['data_original'] = data_semana['Ano'].astype(str) + '-' + data_semana['V1013'].astype(str) + '-' + data_semana['V1012'].astype(str)\n"
     ]
    }
   ],
   "source": [
    "#join columns Ano V1013 V1012\n",
    "data_semana['data_original'] = data_semana['Ano'].astype(str) + '-' + data_semana['V1013'].astype(str) + '-' + data_semana['V1012'].astype(str)"
   ]
  },
  {
   "cell_type": "code",
   "execution_count": 39,
   "metadata": {},
   "outputs": [],
   "source": [
    "#dict where key is data_original and value is semana\n",
    "\n",
    "dict_semana = data_semana.set_index('data_original')['semana'].to_dict()"
   ]
  },
  {
   "cell_type": "code",
   "execution_count": 40,
   "metadata": {},
   "outputs": [],
   "source": [
    "pnad_covid['data_formatada'] = pnad_covid['Ano'].astype(str) + '-' + pnad_covid['V1013'].astype(str) + '-' + pnad_covid['V1012'].astype(str)"
   ]
  },
  {
   "cell_type": "code",
   "execution_count": 41,
   "metadata": {},
   "outputs": [],
   "source": [
    "pnad_covid['semana_dt'] = pnad_covid['data_formatada'].map(dict_semana)"
   ]
  },
  {
   "attachments": {},
   "cell_type": "markdown",
   "metadata": {},
   "source": [
    "### Dummy de Flexibilização"
   ]
  },
  {
   "cell_type": "code",
   "execution_count": 43,
   "metadata": {},
   "outputs": [
    {
     "ename": "ImportError",
     "evalue": "Missing optional dependency 'openpyxl'.  Use pip or conda to install openpyxl.",
     "output_type": "error",
     "traceback": [
      "\u001b[0;31m---------------------------------------------------------------------------\u001b[0m",
      "\u001b[0;31mModuleNotFoundError\u001b[0m                       Traceback (most recent call last)",
      "File \u001b[0;32m~/.local/lib/python3.10/site-packages/pandas/compat/_optional.py:142\u001b[0m, in \u001b[0;36mimport_optional_dependency\u001b[0;34m(name, extra, errors, min_version)\u001b[0m\n\u001b[1;32m    141\u001b[0m \u001b[39mtry\u001b[39;00m:\n\u001b[0;32m--> 142\u001b[0m     module \u001b[39m=\u001b[39m importlib\u001b[39m.\u001b[39;49mimport_module(name)\n\u001b[1;32m    143\u001b[0m \u001b[39mexcept\u001b[39;00m \u001b[39mImportError\u001b[39;00m:\n",
      "File \u001b[0;32m~/.python/current/lib/python3.10/importlib/__init__.py:126\u001b[0m, in \u001b[0;36mimport_module\u001b[0;34m(name, package)\u001b[0m\n\u001b[1;32m    125\u001b[0m         level \u001b[39m+\u001b[39m\u001b[39m=\u001b[39m \u001b[39m1\u001b[39m\n\u001b[0;32m--> 126\u001b[0m \u001b[39mreturn\u001b[39;00m _bootstrap\u001b[39m.\u001b[39;49m_gcd_import(name[level:], package, level)\n",
      "File \u001b[0;32m<frozen importlib._bootstrap>:1050\u001b[0m, in \u001b[0;36m_gcd_import\u001b[0;34m(name, package, level)\u001b[0m\n",
      "File \u001b[0;32m<frozen importlib._bootstrap>:1027\u001b[0m, in \u001b[0;36m_find_and_load\u001b[0;34m(name, import_)\u001b[0m\n",
      "File \u001b[0;32m<frozen importlib._bootstrap>:1004\u001b[0m, in \u001b[0;36m_find_and_load_unlocked\u001b[0;34m(name, import_)\u001b[0m\n",
      "\u001b[0;31mModuleNotFoundError\u001b[0m: No module named 'openpyxl'",
      "\nDuring handling of the above exception, another exception occurred:\n",
      "\u001b[0;31mImportError\u001b[0m                               Traceback (most recent call last)",
      "Cell \u001b[0;32mIn[43], line 1\u001b[0m\n\u001b[0;32m----> 1\u001b[0m df_datas_flex \u001b[39m=\u001b[39m pd\u001b[39m.\u001b[39;49mread_excel(\u001b[39m'\u001b[39;49m\u001b[39m../Anexos/datas_flexibilização.xlsx\u001b[39;49m\u001b[39m'\u001b[39;49m)\n",
      "File \u001b[0;32m~/.local/lib/python3.10/site-packages/pandas/io/excel/_base.py:478\u001b[0m, in \u001b[0;36mread_excel\u001b[0;34m(io, sheet_name, header, names, index_col, usecols, dtype, engine, converters, true_values, false_values, skiprows, nrows, na_values, keep_default_na, na_filter, verbose, parse_dates, date_parser, date_format, thousands, decimal, comment, skipfooter, storage_options, dtype_backend)\u001b[0m\n\u001b[1;32m    476\u001b[0m \u001b[39mif\u001b[39;00m \u001b[39mnot\u001b[39;00m \u001b[39misinstance\u001b[39m(io, ExcelFile):\n\u001b[1;32m    477\u001b[0m     should_close \u001b[39m=\u001b[39m \u001b[39mTrue\u001b[39;00m\n\u001b[0;32m--> 478\u001b[0m     io \u001b[39m=\u001b[39m ExcelFile(io, storage_options\u001b[39m=\u001b[39;49mstorage_options, engine\u001b[39m=\u001b[39;49mengine)\n\u001b[1;32m    479\u001b[0m \u001b[39melif\u001b[39;00m engine \u001b[39mand\u001b[39;00m engine \u001b[39m!=\u001b[39m io\u001b[39m.\u001b[39mengine:\n\u001b[1;32m    480\u001b[0m     \u001b[39mraise\u001b[39;00m \u001b[39mValueError\u001b[39;00m(\n\u001b[1;32m    481\u001b[0m         \u001b[39m\"\u001b[39m\u001b[39mEngine should not be specified when passing \u001b[39m\u001b[39m\"\u001b[39m\n\u001b[1;32m    482\u001b[0m         \u001b[39m\"\u001b[39m\u001b[39man ExcelFile - ExcelFile already has the engine set\u001b[39m\u001b[39m\"\u001b[39m\n\u001b[1;32m    483\u001b[0m     )\n",
      "File \u001b[0;32m~/.local/lib/python3.10/site-packages/pandas/io/excel/_base.py:1513\u001b[0m, in \u001b[0;36mExcelFile.__init__\u001b[0;34m(self, path_or_buffer, engine, storage_options)\u001b[0m\n\u001b[1;32m   1510\u001b[0m \u001b[39mself\u001b[39m\u001b[39m.\u001b[39mengine \u001b[39m=\u001b[39m engine\n\u001b[1;32m   1511\u001b[0m \u001b[39mself\u001b[39m\u001b[39m.\u001b[39mstorage_options \u001b[39m=\u001b[39m storage_options\n\u001b[0;32m-> 1513\u001b[0m \u001b[39mself\u001b[39m\u001b[39m.\u001b[39m_reader \u001b[39m=\u001b[39m \u001b[39mself\u001b[39;49m\u001b[39m.\u001b[39;49m_engines[engine](\u001b[39mself\u001b[39;49m\u001b[39m.\u001b[39;49m_io, storage_options\u001b[39m=\u001b[39;49mstorage_options)\n",
      "File \u001b[0;32m~/.local/lib/python3.10/site-packages/pandas/io/excel/_openpyxl.py:548\u001b[0m, in \u001b[0;36mOpenpyxlReader.__init__\u001b[0;34m(self, filepath_or_buffer, storage_options)\u001b[0m\n\u001b[1;32m    533\u001b[0m \u001b[39m@doc\u001b[39m(storage_options\u001b[39m=\u001b[39m_shared_docs[\u001b[39m\"\u001b[39m\u001b[39mstorage_options\u001b[39m\u001b[39m\"\u001b[39m])\n\u001b[1;32m    534\u001b[0m \u001b[39mdef\u001b[39;00m \u001b[39m__init__\u001b[39m(\n\u001b[1;32m    535\u001b[0m     \u001b[39mself\u001b[39m,\n\u001b[1;32m    536\u001b[0m     filepath_or_buffer: FilePath \u001b[39m|\u001b[39m ReadBuffer[\u001b[39mbytes\u001b[39m],\n\u001b[1;32m    537\u001b[0m     storage_options: StorageOptions \u001b[39m=\u001b[39m \u001b[39mNone\u001b[39;00m,\n\u001b[1;32m    538\u001b[0m ) \u001b[39m-\u001b[39m\u001b[39m>\u001b[39m \u001b[39mNone\u001b[39;00m:\n\u001b[1;32m    539\u001b[0m \u001b[39m    \u001b[39m\u001b[39m\"\"\"\u001b[39;00m\n\u001b[1;32m    540\u001b[0m \u001b[39m    Reader using openpyxl engine.\u001b[39;00m\n\u001b[1;32m    541\u001b[0m \n\u001b[0;32m   (...)\u001b[0m\n\u001b[1;32m    546\u001b[0m \u001b[39m    {storage_options}\u001b[39;00m\n\u001b[1;32m    547\u001b[0m \u001b[39m    \"\"\"\u001b[39;00m\n\u001b[0;32m--> 548\u001b[0m     import_optional_dependency(\u001b[39m\"\u001b[39;49m\u001b[39mopenpyxl\u001b[39;49m\u001b[39m\"\u001b[39;49m)\n\u001b[1;32m    549\u001b[0m     \u001b[39msuper\u001b[39m()\u001b[39m.\u001b[39m\u001b[39m__init__\u001b[39m(filepath_or_buffer, storage_options\u001b[39m=\u001b[39mstorage_options)\n",
      "File \u001b[0;32m~/.local/lib/python3.10/site-packages/pandas/compat/_optional.py:145\u001b[0m, in \u001b[0;36mimport_optional_dependency\u001b[0;34m(name, extra, errors, min_version)\u001b[0m\n\u001b[1;32m    143\u001b[0m \u001b[39mexcept\u001b[39;00m \u001b[39mImportError\u001b[39;00m:\n\u001b[1;32m    144\u001b[0m     \u001b[39mif\u001b[39;00m errors \u001b[39m==\u001b[39m \u001b[39m\"\u001b[39m\u001b[39mraise\u001b[39m\u001b[39m\"\u001b[39m:\n\u001b[0;32m--> 145\u001b[0m         \u001b[39mraise\u001b[39;00m \u001b[39mImportError\u001b[39;00m(msg)\n\u001b[1;32m    146\u001b[0m     \u001b[39mreturn\u001b[39;00m \u001b[39mNone\u001b[39;00m\n\u001b[1;32m    148\u001b[0m \u001b[39m# Handle submodules: if we have submodule, grab parent module from sys.modules\u001b[39;00m\n",
      "\u001b[0;31mImportError\u001b[0m: Missing optional dependency 'openpyxl'.  Use pip or conda to install openpyxl."
     ]
    }
   ],
   "source": [
    "df_datas_flex = pd.read_excel('../Anexos/datas_flexibilização.xlsx')"
   ]
  },
  {
   "cell_type": "code",
   "execution_count": 92,
   "metadata": {},
   "outputs": [],
   "source": [
    "df_datas_flex['semana'] = pd.to_datetime(df_datas_flex['Data'].values, format='%d/%m/%Y').strftime('%U')\n"
   ]
  },
  {
   "cell_type": "code",
   "execution_count": 93,
   "metadata": {},
   "outputs": [
    {
     "data": {
      "text/html": [
       "<div>\n",
       "<style scoped>\n",
       "    .dataframe tbody tr th:only-of-type {\n",
       "        vertical-align: middle;\n",
       "    }\n",
       "\n",
       "    .dataframe tbody tr th {\n",
       "        vertical-align: top;\n",
       "    }\n",
       "\n",
       "    .dataframe thead th {\n",
       "        text-align: right;\n",
       "    }\n",
       "</style>\n",
       "<table border=\"1\" class=\"dataframe\">\n",
       "  <thead>\n",
       "    <tr style=\"text-align: right;\">\n",
       "      <th></th>\n",
       "      <th>UF</th>\n",
       "      <th>Data</th>\n",
       "      <th>semana</th>\n",
       "    </tr>\n",
       "  </thead>\n",
       "  <tbody>\n",
       "    <tr>\n",
       "      <th>0</th>\n",
       "      <td>AC</td>\n",
       "      <td>26/06/2020</td>\n",
       "      <td>25</td>\n",
       "    </tr>\n",
       "    <tr>\n",
       "      <th>1</th>\n",
       "      <td>AL</td>\n",
       "      <td>22/06/2020</td>\n",
       "      <td>25</td>\n",
       "    </tr>\n",
       "    <tr>\n",
       "      <th>2</th>\n",
       "      <td>AM</td>\n",
       "      <td>01/06/2020</td>\n",
       "      <td>22</td>\n",
       "    </tr>\n",
       "    <tr>\n",
       "      <th>3</th>\n",
       "      <td>AP</td>\n",
       "      <td>13/06/2020</td>\n",
       "      <td>23</td>\n",
       "    </tr>\n",
       "    <tr>\n",
       "      <th>4</th>\n",
       "      <td>BA</td>\n",
       "      <td>07/07/2020</td>\n",
       "      <td>27</td>\n",
       "    </tr>\n",
       "  </tbody>\n",
       "</table>\n",
       "</div>"
      ],
      "text/plain": [
       "   UF        Data semana\n",
       "0  AC  26/06/2020     25\n",
       "1  AL  22/06/2020     25\n",
       "2  AM  01/06/2020     22\n",
       "3  AP  13/06/2020     23\n",
       "4  BA  07/07/2020     27"
      ]
     },
     "execution_count": 93,
     "metadata": {},
     "output_type": "execute_result"
    }
   ],
   "source": [
    "df_datas_flex.head()"
   ]
  },
  {
   "attachments": {},
   "cell_type": "markdown",
   "metadata": {},
   "source": [
    "Criação de variáveis indicadoras: Cada variável indicadora terá o valor 1 se a data corresponder à flexibilização de um determinado estado e 0 caso contrário."
   ]
  },
  {
   "cell_type": "code",
   "execution_count": 94,
   "metadata": {},
   "outputs": [],
   "source": [
    "df_datas_flex.set_index('UF', inplace=True)"
   ]
  },
  {
   "cell_type": "code",
   "execution_count": 95,
   "metadata": {},
   "outputs": [],
   "source": [
    "df_dummy_flex = pd.get_dummies(df_datas_flex['semana'])"
   ]
  },
  {
   "cell_type": "code",
   "execution_count": 96,
   "metadata": {},
   "outputs": [
    {
     "data": {
      "text/html": [
       "<div>\n",
       "<style scoped>\n",
       "    .dataframe tbody tr th:only-of-type {\n",
       "        vertical-align: middle;\n",
       "    }\n",
       "\n",
       "    .dataframe tbody tr th {\n",
       "        vertical-align: top;\n",
       "    }\n",
       "\n",
       "    .dataframe thead th {\n",
       "        text-align: right;\n",
       "    }\n",
       "</style>\n",
       "<table border=\"1\" class=\"dataframe\">\n",
       "  <thead>\n",
       "    <tr style=\"text-align: right;\">\n",
       "      <th></th>\n",
       "      <th>12</th>\n",
       "      <th>15</th>\n",
       "      <th>17</th>\n",
       "      <th>19</th>\n",
       "      <th>20</th>\n",
       "      <th>21</th>\n",
       "      <th>22</th>\n",
       "      <th>23</th>\n",
       "      <th>24</th>\n",
       "      <th>25</th>\n",
       "      <th>27</th>\n",
       "      <th>28</th>\n",
       "    </tr>\n",
       "    <tr>\n",
       "      <th>UF</th>\n",
       "      <th></th>\n",
       "      <th></th>\n",
       "      <th></th>\n",
       "      <th></th>\n",
       "      <th></th>\n",
       "      <th></th>\n",
       "      <th></th>\n",
       "      <th></th>\n",
       "      <th></th>\n",
       "      <th></th>\n",
       "      <th></th>\n",
       "      <th></th>\n",
       "    </tr>\n",
       "  </thead>\n",
       "  <tbody>\n",
       "    <tr>\n",
       "      <th>AC</th>\n",
       "      <td>False</td>\n",
       "      <td>False</td>\n",
       "      <td>False</td>\n",
       "      <td>False</td>\n",
       "      <td>False</td>\n",
       "      <td>False</td>\n",
       "      <td>False</td>\n",
       "      <td>False</td>\n",
       "      <td>False</td>\n",
       "      <td>True</td>\n",
       "      <td>False</td>\n",
       "      <td>False</td>\n",
       "    </tr>\n",
       "    <tr>\n",
       "      <th>AL</th>\n",
       "      <td>False</td>\n",
       "      <td>False</td>\n",
       "      <td>False</td>\n",
       "      <td>False</td>\n",
       "      <td>False</td>\n",
       "      <td>False</td>\n",
       "      <td>False</td>\n",
       "      <td>False</td>\n",
       "      <td>False</td>\n",
       "      <td>True</td>\n",
       "      <td>False</td>\n",
       "      <td>False</td>\n",
       "    </tr>\n",
       "    <tr>\n",
       "      <th>AM</th>\n",
       "      <td>False</td>\n",
       "      <td>False</td>\n",
       "      <td>False</td>\n",
       "      <td>False</td>\n",
       "      <td>False</td>\n",
       "      <td>False</td>\n",
       "      <td>True</td>\n",
       "      <td>False</td>\n",
       "      <td>False</td>\n",
       "      <td>False</td>\n",
       "      <td>False</td>\n",
       "      <td>False</td>\n",
       "    </tr>\n",
       "    <tr>\n",
       "      <th>AP</th>\n",
       "      <td>False</td>\n",
       "      <td>False</td>\n",
       "      <td>False</td>\n",
       "      <td>False</td>\n",
       "      <td>False</td>\n",
       "      <td>False</td>\n",
       "      <td>False</td>\n",
       "      <td>True</td>\n",
       "      <td>False</td>\n",
       "      <td>False</td>\n",
       "      <td>False</td>\n",
       "      <td>False</td>\n",
       "    </tr>\n",
       "    <tr>\n",
       "      <th>BA</th>\n",
       "      <td>False</td>\n",
       "      <td>False</td>\n",
       "      <td>False</td>\n",
       "      <td>False</td>\n",
       "      <td>False</td>\n",
       "      <td>False</td>\n",
       "      <td>False</td>\n",
       "      <td>False</td>\n",
       "      <td>False</td>\n",
       "      <td>False</td>\n",
       "      <td>True</td>\n",
       "      <td>False</td>\n",
       "    </tr>\n",
       "  </tbody>\n",
       "</table>\n",
       "</div>"
      ],
      "text/plain": [
       "       12     15     17     19     20     21     22     23     24     25   \n",
       "UF                                                                         \n",
       "AC  False  False  False  False  False  False  False  False  False   True  \\\n",
       "AL  False  False  False  False  False  False  False  False  False   True   \n",
       "AM  False  False  False  False  False  False   True  False  False  False   \n",
       "AP  False  False  False  False  False  False  False   True  False  False   \n",
       "BA  False  False  False  False  False  False  False  False  False  False   \n",
       "\n",
       "       27     28  \n",
       "UF                \n",
       "AC  False  False  \n",
       "AL  False  False  \n",
       "AM  False  False  \n",
       "AP  False  False  \n",
       "BA   True  False  "
      ]
     },
     "execution_count": 96,
     "metadata": {},
     "output_type": "execute_result"
    }
   ],
   "source": [
    "df_dummy_flex.head()"
   ]
  },
  {
   "cell_type": "code",
   "execution_count": 97,
   "metadata": {},
   "outputs": [],
   "source": [
    "#transformar df_dummy_flex em dict\n",
    "\n",
    "dict_dummy_flex = df_dummy_flex.to_dict('index')"
   ]
  },
  {
   "cell_type": "code",
   "execution_count": 98,
   "metadata": {},
   "outputs": [],
   "source": [
    "uf_dict = {\n",
    "    'Acre': 'AC',\n",
    "    'Alagoas': 'AL',\n",
    "    'Amapá': 'AP',\n",
    "    'Amazonas': 'AM',\n",
    "    'Bahia': 'BA',\n",
    "    'Ceará': 'CE',\n",
    "    'Distrito Federal': 'DF',\n",
    "    'Espírito Santo': 'ES',\n",
    "    'Goiás': 'GO',\n",
    "    'Maranhão': 'MA',\n",
    "    'Mato Grosso': 'MT',\n",
    "    'Mato Grosso do Sul': 'MS',\n",
    "    'Minas Gerais': 'MG',\n",
    "    'Pará': 'PA',\n",
    "    'Paraíba': 'PB',\n",
    "    'Paraná': 'PR',\n",
    "    'Pernambuco': 'PE',\n",
    "    'Piauí': 'PI',\n",
    "    'Rio de Janeiro': 'RJ',\n",
    "    'Rio Grande do Norte': 'RN',\n",
    "    'Rio Grande do Sul': 'RS',\n",
    "    'Rondônia': 'RO',\n",
    "    'Roraima': 'RR',\n",
    "    'Santa Catarina': 'SC',\n",
    "    'São Paulo': 'SP',\n",
    "    'Sergipe': 'SE',\n",
    "    'Tocantins': 'TO'\n",
    "}"
   ]
  },
  {
   "cell_type": "code",
   "execution_count": 99,
   "metadata": {},
   "outputs": [],
   "source": [
    "pnad_covid['sigla_uf'] = pnad_covid['UF'].map(uf_dict)"
   ]
  },
  {
   "cell_type": "code",
   "execution_count": 100,
   "metadata": {},
   "outputs": [],
   "source": [
    "#concatenar pnad_covid com df_dummy_flex a partir da UF\n",
    "\n",
    "pnad_covid = pd.merge(pnad_covid, df_dummy_flex, left_on='sigla_uf', right_index=True, suffixes=('', '_flex'))"
   ]
  },
  {
   "cell_type": "markdown",
   "metadata": {},
   "source": [
    "Agrupamento de dados: Se você possui várias observações para cada semana, pode ser útil realizar um agrupamento dos dados por semana e estado, calculando estatísticas resumo relevantes. Por exemplo, você pode calcular a contagem de casos de COVID-19 ou a taxa de desemprego para cada semana e estado e incluir essas variáveis agregadas no modelo.\n"
   ]
  },
  {
   "cell_type": "markdown",
   "metadata": {},
   "source": [
    "### Exportação dos dados"
   ]
  },
  {
   "cell_type": "code",
   "execution_count": 101,
   "metadata": {},
   "outputs": [
    {
     "ename": "",
     "evalue": "",
     "output_type": "error",
     "traceback": [
      "\u001b[1;31mThe Kernel crashed while executing code in the the current cell or a previous cell. Please review the code in the cell(s) to identify a possible cause of the failure. Click <a href='https://aka.ms/vscodeJupyterKernelCrash'>here</a> for more info. View Jupyter <a href='command:jupyter.viewOutput'>log</a> for further details."
     ]
    }
   ],
   "source": [
    "pnad_covid.to_parquet('../Dados/pnad_covid/pnad_covid_tratada.parquet')"
   ]
  },
  {
   "cell_type": "code",
   "execution_count": 43,
   "metadata": {},
   "outputs": [],
   "source": [
    "#seleção das variáveis principais\n",
    "df_selecionado = pnad_covid[['semana_dt', 'domicilio_id','A003', 'A004', 'A005', 'grupo_etario', 'setor', 'C001', 'C013']]"
   ]
  },
  {
   "cell_type": "code",
   "execution_count": 44,
   "metadata": {},
   "outputs": [],
   "source": [
    "df_selecionado.to_parquet('../Dados/pnad_covid/pnad_covid_selecionado.parquet')"
   ]
  }
 ],
 "metadata": {
  "kernelspec": {
   "display_name": "Python 3",
   "language": "python",
   "name": "python3"
  },
  "language_info": {
   "codemirror_mode": {
    "name": "ipython",
    "version": 3
   },
   "file_extension": ".py",
   "mimetype": "text/x-python",
   "name": "python",
   "nbconvert_exporter": "python",
   "pygments_lexer": "ipython3",
   "version": "3.10.8"
  },
  "orig_nbformat": 4
 },
 "nbformat": 4,
 "nbformat_minor": 2
}
