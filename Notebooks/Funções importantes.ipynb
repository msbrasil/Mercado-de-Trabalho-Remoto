{
 "cells": [
  {
   "cell_type": "markdown",
   "metadata": {},
   "source": [
    "Pacotes necessários"
   ]
  },
  {
   "cell_type": "code",
   "execution_count": null,
   "metadata": {},
   "outputs": [],
   "source": [
    "#pacotes necessários\n",
    "\n",
    "import pandas as pd\n",
    "import numpy as np\n",
    "import matplotlib.pyplot as plt\n",
    "import seaborn as sns\n",
    "import datetime as dt\n",
    "plt.style.use('fivethirtyeight')\n",
    "plt.rcParams['text.color'] = 'black'"
   ]
  },
  {
   "attachments": {},
   "cell_type": "markdown",
   "metadata": {},
   "source": [
    "#### Dicionário de Variáveis utilizadas\n",
    "|Chave|Descrição|Função|\n",
    "|-----|-----|-----|\n",
    "|**Identificação**|\n",
    "|Ano| Ano de referência|Controle|\n",
    "|Trimestre| Trimestre de referência|Controle|\n",
    "|UF| Estado|Controle|\n",
    "|Capital| Capital da UF|Controle|\n",
    "|UPA| Unidade Primária de Amostragem (UF(2) + número squencial(6) + DV(1))|Controle|\n",
    "|V1008| Número do Domicílio|Controle|\n",
    "|V1014| Painel - Grupo de Controle|Controle|\n",
    "|V1016| Número de entrevista (1 a 5)|Controle|\n",
    "|V2003| Número de ordem|Controle|\n",
    "|**Características**|\n",
    "|V2007| Sexo|Característica|\n",
    "|V2008| Dia Nascimento|Característica|\n",
    "|V20081| Mês nascimento|Característica|\n",
    "|V20082| Ano nascimento|Característica|\n",
    "|V2010| Raça|Característica|\n",
    "|**Variáveis exploradas**|\n",
    "| VXXXX | Explicação da variável | Descrição |\n",
    "|**Auxiliares**|\n",
    "|V1028| Peso do domicílio e das pessoas sem calibração|Expansão|\n",
    "|V1029| Peso do domicílio e das pessoas com calibração|Expansão|\n",
    "|V1033| Projeção da população por sexo e idade|Expansão|\n",
    "|posest|Domínios de projeção geográficos|Expansão|\n",
    "\n",
    "\n",
    " Chave para pessoa: UPA + V1008 + V1014  + V2003 + V2007 + V2008 + V20081 + V20082 \n",
    "\n",
    " *PARA ESTIMAÇÃO DA POPULAÇÃO, DEVE-SE USAR AS VARIÁVEIS: V1033 e posest.*"
   ]
  },
  {
   "cell_type": "markdown",
   "metadata": {},
   "source": [
    "Importação das bases"
   ]
  },
  {
   "cell_type": "code",
   "execution_count": null,
   "metadata": {},
   "outputs": [],
   "source": [
    "#determina qual diretório usar para cada sistema operacional.\n",
    "import os\n",
    "if os.name == 'nt': #windows\n",
    "    diretorio = 'C:\\\\Users\\\\est.matheus.brasil\\\\Documents\\\\Microdados PNAD Contínua\\\\feather\\\\'\n",
    "\n",
    "else: #linux(ou mac)\n",
    "    diretorio = '/home/matheus/Microdados PNAD/feather/'\n",
    "\n",
    "#Leitura de todas as bases com as variáveis selecionadas e criação de variáveis dinamicamente.\n",
    "\n",
    "colunas_selecionadas = ['Ano', 'Trimestre', 'UPA', 'UF', 'V1008', 'V1014', 'V2007', 'V2008', 'V20081', 'V20082', 'V2010', #Controle e chave ID\n",
    "                        '', #Variáveis de interesse\n",
    "                        'V1027', 'V1028', 'V1029', 'V1033', 'posest', 'posest_sxi'] #expansão\n",
    "                    \n",
    "for ano in range(2019, 2023):\n",
    "    for tri in range(1, 5):\n",
    "        if ano == 2019  and tri > 3:\n",
    "                print(f'lendo PNAD{ano} {tri}')\n",
    "                globals()[f'pnad_{ano}_{tri}'] = pd.read_feather(fr'{diretorio}{ano}_{tri}.feather', columns=colunas_selecionadas)\n",
    "        if 2019 < ano < 2022:\n",
    "                print(f'lendo PNAD{ano} {tri}')\n",
    "                globals()[f'pnad_{ano}_{tri}'] = pd.read_feather(fr'{diretorio}{ano}_{tri}.feather', columns=colunas_selecionadas)\n",
    "        if ano == 2022 and tri < 3:\n",
    "            print(f'lendo PNAD{ano} {tri}')\n",
    "            globals()[f'pnad_{ano}_{tri}'] = pd.read_feather(fr'{diretorio}{ano}_{tri}.feather', columns=colunas_selecionadas)"
   ]
  },
  {
   "cell_type": "markdown",
   "metadata": {},
   "source": [
    "Importação da base da pnad covid"
   ]
  },
  {
   "cell_type": "code",
   "execution_count": null,
   "metadata": {},
   "outputs": [],
   "source": [
    "#Importação dos dados da PNAD COVID\n",
    "\n",
    "#determina qual diretório usar para cada sistema operacional.\n",
    "import os\n",
    "if os.name == 'nt': #windows\n",
    "    diretorio = 'C:\\\\Users\\\\est.matheus.brasil\\\\Documents\\\\Microdados PNAD Contínua\\\\feather_covid\\\\'\n",
    "\n",
    "else: #linux(ou mac)\n",
    "    diretorio = '/home/matheus/Microdados PNAD/feather/'\n",
    "\n",
    "#Leitura de todas as bases com as variáveis selecionadas e criação de variáveis dinamicamente.\n",
    "\n",
    "# colunas_selecionadas = ['Ano', 'Trimestre', 'UPA', 'UF','Capital', 'V1008', 'V1014', 'V2007', 'V2008', 'V20081', 'V20082', 'V2010', #Controle e chave ID\n",
    "#                         'S01015','S01028','S01029', #Variáveis de interesse\n",
    "#                         'V1027', 'V1028', 'V1029', 'V1033', 'posest', 'posest_sxi'] #expansão\n",
    "\n",
    "\n",
    "for i in range(5, 12):\n",
    "    if i < 10:\n",
    "        mes = '0' + str(i)\n",
    "    else:\n",
    "        mes = i\n",
    "    print(f'Importando PNAD COVID {mes} 2020')\n",
    "    globals()[f'pnad_covid_{mes}2020'] = pd.read_feather(fr'{diretorio}PNAD_COVID_{mes}2020.feather')\n",
    "\n",
    "print('Fim da importação')\n"
   ]
  },
  {
   "cell_type": "markdown",
   "metadata": {},
   "source": [
    "Tratamento dos dados"
   ]
  },
  {
   "cell_type": "code",
   "execution_count": null,
   "metadata": {},
   "outputs": [],
   "source": [
    "#Concatena todos os dataframes de cada ano e trimestre em uma unica tabela.\n",
    "\n",
    "pnadc_completa = pd.concat([pnad_2019_4, \n",
    "                            pnad_2020_1, \n",
    "                            pnad_2020_2, \n",
    "                            pnad_2020_3, \n",
    "                            pnad_2020_4, \n",
    "                            pnad_2021_1, \n",
    "                            pnad_2021_2, \n",
    "                            pnad_2021_3, \n",
    "                            pnad_2021_4, \n",
    "                            pnad_2022_1, \n",
    "                            pnad_2022_2])\n",
    "#Converte variável para criar ID\n",
    "pnadc_completa['V2007'] = np.where(pnadc_completa['V2007'] == 'Homem', 0, 1)\n",
    "#Converte variáveis para numéricas\n",
    "pnadc_completa['UPA'] = pd.to_numeric(pnadc_completa['UPA'] , errors='coerce') \n",
    "pnadc_completa['V1008'] = pd.to_numeric(pnadc_completa['V1008'] , errors='coerce') \n",
    "pnadc_completa['V1014'] = pd.to_numeric(pnadc_completa['V1014'] , errors='coerce') \n",
    "pnadc_completa['V2007'] = pd.to_numeric(pnadc_completa['V2007'] , errors='coerce') \n",
    "pnadc_completa['V2008'] = pd.to_numeric(pnadc_completa['V2008'] , errors='coerce') \n",
    "pnadc_completa['V20081'] = pd.to_numeric(pnadc_completa['V20081'] , errors='coerce') \n",
    "pnadc_completa['V20082'] = pd.to_numeric(pnadc_completa['V20082'] , errors='coerce') \n",
    "\n",
    "#Cria chave ID e novo df\n",
    "pnadc_completa = pd.DataFrame({\n",
    "    #Controle\n",
    "    'Ano':pnadc_completa['Ano'], \n",
    "    'Trimestre':pnadc_completa['Trimestre'],\n",
    "    'UPA':pnadc_completa['UPA'],\n",
    "    'UF':pnadc_completa['UF'],\n",
    "    'V2007':pnadc_completa['V2007'],\n",
    "    #ID  \n",
    "    'ID': pnadc_completa['UPA'] + \n",
    "        pnadc_completa['V1008'] + \n",
    "        pnadc_completa['V1014'] + \n",
    "        pnadc_completa['V2007'] +\n",
    "        pnadc_completa['V2008'] +\n",
    "        pnadc_completa['V20081'] +\n",
    "        pnadc_completa['V20082'],\n",
    "    #Exploradas\n",
    "    'VXXXX': pnadc_completa['VXXXX'],\n",
    "    #Expansão\n",
    "    'V1027': pnadc_completa['V1027'],\n",
    "    'V1028': pnadc_completa['V1028'],\n",
    "    'V1029': pnadc_completa['V1029'],\n",
    "    'V1033': pnadc_completa['V1033'],\n",
    "    'posest': pnadc_completa['posest'],\n",
    "    'posest_sxi': pnadc_completa['posest_sxi']\n",
    "    })\n",
    "\n",
    "#Reverte alteração da coluna V2007 para os rótulos anteiores\n",
    "pnadc_completa['V2007'] = pnadc_completa['V2007'].apply(lambda x: 'Homem' if x == 0 else 'Mulher')\n",
    "# Ordernação da série histórica por ano e trimestre.\n",
    "pnadc_completa.sort_values(by=['Ano', 'Trimestre'], inplace=True)\n",
    "#concatena a coluna 'Ano' e 'Trimestre' em uma única coluna.\n",
    "pnadc_completa['ano_tri'] = pnadc_completa['Ano'].astype(str) + 'Q' + pnadc_completa['Trimestre'].astype(str)\n",
    "#Conversão da coluna ano_tri para datetime.\n",
    "pnadc_completa['ano_tri'] = pd.to_datetime(pnadc_completa['ano_tri']).dt.to_period('Q')"
   ]
  },
  {
   "cell_type": "markdown",
   "metadata": {},
   "source": [
    "para expandir qualquer variável para população"
   ]
  },
  {
   "cell_type": "code",
   "execution_count": null,
   "metadata": {},
   "outputs": [],
   "source": [
    "pd.crosstab(pnadc_completa['ano_tri'], pnadc_completa['VXXXX'], values=pnadc_completa['V1028'], aggfunc='sum')"
   ]
  },
  {
   "cell_type": "markdown",
   "metadata": {},
   "source": [
    "para calcular a média por determinada coluna"
   ]
  },
  {
   "cell_type": "code",
   "execution_count": null,
   "metadata": {},
   "outputs": [],
   "source": [
    "def weighted_average(df,data_col,weight_col,by_col):\n",
    "    df['_data_times_weight'] = df[data_col]*df[weight_col]\n",
    "    df['_weight_where_notnull'] = df[weight_col]*pd.notnull(df[data_col])\n",
    "    g = df.groupby(by_col)\n",
    "    result = g['_data_times_weight'].sum() / g['_weight_where_notnull'].sum()\n",
    "    del df['_data_times_weight'], df['_weight_where_notnull']\n",
    "    return result"
   ]
  }
 ],
 "metadata": {
  "kernelspec": {
   "display_name": "Python 3",
   "language": "python",
   "name": "python3"
  },
  "language_info": {
   "name": "python",
   "version": "3.10.6"
  },
  "orig_nbformat": 4,
  "vscode": {
   "interpreter": {
    "hash": "916dbcbb3f70747c44a77c7bcd40155683ae19c65e1c03b4aa3499c5328201f1"
   }
  }
 },
 "nbformat": 4,
 "nbformat_minor": 2
}
