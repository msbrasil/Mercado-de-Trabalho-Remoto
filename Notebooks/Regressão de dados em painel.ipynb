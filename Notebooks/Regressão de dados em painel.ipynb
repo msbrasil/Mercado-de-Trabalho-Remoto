{
 "cells": [
  {
   "attachments": {},
   "cell_type": "markdown",
   "metadata": {},
   "source": [
    "### Regressão dos microdados da PNAD COVID\n",
    "\n",
    "Regressão de dados em painel para estimadores de efeitos fixos.\n",
    "\n",
    "Variável depedente: Realização de teletrabalho\n",
    "\n",
    "Variáveis independentes: \n",
    "\n",
    "Variável t: maio a novembro de 2020."
   ]
  },
  {
   "cell_type": "markdown",
   "metadata": {},
   "source": [
    "Pacotes para manipulação e regressão"
   ]
  },
  {
   "cell_type": "code",
   "execution_count": 1,
   "metadata": {},
   "outputs": [],
   "source": [
    "import pandas as pd\n",
    "import numpy as np"
   ]
  },
  {
   "cell_type": "markdown",
   "metadata": {},
   "source": [
    "Dados utilizados"
   ]
  },
  {
   "cell_type": "code",
   "execution_count": 18,
   "metadata": {},
   "outputs": [],
   "source": [
    "pnad_covid = pd.read_parquet('../Dados/pnad_covid/pnad_covid_filtrada.parquet')"
   ]
  },
  {
   "attachments": {},
   "cell_type": "markdown",
   "metadata": {},
   "source": [
    "#### Tratamento\n",
    "\n",
    "segundo nota técnica do IPEA\n",
    "\n",
    "**Variáveis da PNAD Covid que serão filtradas:**\n",
    "\n",
    "<img src=\"../Anexos/var_estudo.png\" width=\"600\" height=\"500\">"
   ]
  },
  {
   "attachments": {},
   "cell_type": "markdown",
   "metadata": {},
   "source": [
    "Coluna de Data (Ano e mês)\n",
    "\n"
   ]
  },
  {
   "cell_type": "code",
   "execution_count": 64,
   "metadata": {},
   "outputs": [],
   "source": [
    "pnad_covid['data'] = pd.to_datetime(pnad_covid['Ano']+'-'+pnad_covid['V1013'], format='%Y-%m')"
   ]
  },
  {
   "cell_type": "markdown",
   "metadata": {},
   "source": [
    "Faixa etária (A002)"
   ]
  },
  {
   "cell_type": "code",
   "execution_count": 36,
   "metadata": {},
   "outputs": [],
   "source": [
    "#grupos de 10 a partir do 20 e até o 80\n",
    "\n",
    "#Grupos de 10 a partir do 20 e até o 80\n",
    "pnad_covid['grupo_etario'] = pnad_covid['A002'].apply(lambda x:\n",
    "                                                      '14-20' if x < 19\n",
    "                                                      else '20-29' if x < 29\n",
    "                                                      else '30-39' if x < 39\n",
    "                                                      else '40-49' if x < 49\n",
    "                                                      else '50-59' if x < 59\n",
    "                                                      else '60-69' if x < 69\n",
    "                                                      else '70-79' if x < 79\n",
    "                                                      else '80 ou mais' if x >= 80\n",
    "                                                      else x)\n",
    "\n",
    "#Classificação da escolaridade conforme variável\n",
    "\n",
    "pnad_covid['grupo_etario'] = pd.Categorical(pnad_covid['grupo_etario'], categories=[\n",
    "    '14-20',\n",
    "    '20-29'\n",
    "    '30-39'\n",
    "    '40-49'\n",
    "    '50-59'\n",
    "    '60-69'\n",
    "    '70-79'\n",
    "    '80 ou mais'    \n",
    "], ordered=True)"
   ]
  },
  {
   "cell_type": "markdown",
   "metadata": {},
   "source": [
    "Sexo (A003)"
   ]
  },
  {
   "cell_type": "code",
   "execution_count": 20,
   "metadata": {},
   "outputs": [],
   "source": [
    "#mulher recebe valor 0 e homem valor 1\n",
    "\n",
    "pnad_covid['A003'] = pnad_covid['A003'].map({'Mulher':0, 'Homem':1})"
   ]
  },
  {
   "attachments": {},
   "cell_type": "markdown",
   "metadata": {},
   "source": [
    "Cor-raça (A004)"
   ]
  },
  {
   "cell_type": "code",
   "execution_count": 21,
   "metadata": {},
   "outputs": [],
   "source": [
    "#brancos e amarelos como 1 e demais 0\n",
    "\n",
    "pnad_covid['A004'] = pnad_covid['A004'].apply(lambda x: 1 if x in ['Branca', 'Amarela'] else 0)"
   ]
  },
  {
   "attachments": {},
   "cell_type": "markdown",
   "metadata": {},
   "source": [
    "Escolaridade (A005)"
   ]
  },
  {
   "cell_type": "code",
   "execution_count": 22,
   "metadata": {},
   "outputs": [],
   "source": [
    "#Classificação da escolaridade conforme variável\n",
    "\n",
    "pnad_covid['A005'] = pd.Categorical(pnad_covid['A005'], categories=[\n",
    "    'Sem instrução',\n",
    "    'Fundamental incompleto',\n",
    "    'Fundamental completa',\n",
    "    'Médio incompleto',\n",
    "    'Médio completo',\n",
    "    'Superior incompleto',\n",
    "    'Superior completo',\n",
    "    'Pós-graduação, mestrado ou doutorado'\n",
    "], ordered=True)\n",
    "\n"
   ]
  },
  {
   "attachments": {},
   "cell_type": "markdown",
   "metadata": {},
   "source": [
    "Formalidade (Composta por C007-Setor e C007B- formalidade)"
   ]
  },
  {
   "cell_type": "code",
   "execution_count": null,
   "metadata": {},
   "outputs": [],
   "source": [
    "#setor privado sem carteira, setor publico não estatutario e sem carteira, sem contribuição para a previdencia = Informal"
   ]
  },
  {
   "cell_type": "code",
   "execution_count": 23,
   "metadata": {},
   "outputs": [],
   "source": [
    "def formalidade(row):\n",
    "    if row['C007'] == \"Empregado do setor privado\":\n",
    "        if row['C007B'] == 'Sim, tem carteira de trabalho assinada':\n",
    "            return 'Formal'\n",
    "        elif row['C007B'] == 'Sim, é servidor público estatutário':\n",
    "            return 'Formal'\n",
    "        elif row['C007B'] == 'Não':\n",
    "            return 'Informal'\n",
    "        else:\n",
    "            return 'Não identificado'\n",
    "            \n",
    "    elif row['C007'] == \"nan\":\n",
    "        if row['C007B'] == 'Sim, tem carteira de trabalho assinada':\n",
    "            return 'Formal'\n",
    "        elif row['C007B'] == 'Sim, é servidor público estatutário':\n",
    "            return 'Formal'\n",
    "        elif row['C007B'] == 'Não':\n",
    "            return 'Informal'\n",
    "        else:\n",
    "            return 'Não identificado'\n",
    "\n",
    "    elif row['C007'] == \"Conta própria\":\n",
    "        return 'Conta própria'\n",
    "\n",
    "    elif row['C007'] == \"Empregado do setor público (inclusive empresas de economia mista)\":\n",
    "        if row['C007B'] == 'Sim, tem carteira de trabalho assinada':\n",
    "            return 'Formal'\n",
    "        elif row['C007B'] == 'Sim, é servidor público estatutário':\n",
    "            return 'Formal'\n",
    "        elif row['C007B'] == 'Não':\n",
    "            return 'Informal'\n",
    "        else:\n",
    "            return 'Não identificado'\n",
    "\n",
    "    elif row['C007'] == \"Policial militar ou bombeiro militar\":\n",
    "        return 'Militar'\n",
    "\n",
    "    elif row['C007'] == \"Trabalhador doméstico (empregado doméstico, cuidados, babá)\":\n",
    "        if row['C007B'] == 'Sim, tem carteira de trabalho assinada':\n",
    "            return 'Formal'\n",
    "        elif row['C007B'] == 'Sim, é servidor público estatutário':\n",
    "            return 'Formal'\n",
    "        elif row['C007B'] == 'Não':\n",
    "            return 'Informal'\n",
    "        else:\n",
    "            return 'Não identificado'\n",
    "        \n",
    "    elif row['C007'] == \"Empregador\":\n",
    "        return 'Empregador'\n",
    "    elif row['C007'] == \"Militar do exercito, marinha ou aeronáutica\":\n",
    "        return 'Militar'\n",
    "    \n",
    "    elif row['C007'] == \"Trabalhador familiar não remunerado em ajuda a membro do domicílio ou parente\":\n",
    "        return 'Trabalhador familiar'\n",
    "\n",
    "    elif row['C007'] == \"Estava fora do mercado de trabalho (fazia apenas afazeres domésticos, cuidados de pessoas ou produção para próprio consumo)\":\n",
    "        return 'Fora do mercado de trabalho'"
   ]
  },
  {
   "cell_type": "code",
   "execution_count": 25,
   "metadata": {},
   "outputs": [],
   "source": [
    "#criar coluna de formalidade com base em duas colunas da pnad_covid\n",
    "\n",
    "pnad_covid['formalidade'] = pnad_covid.apply(formalidade, axis=1)"
   ]
  },
  {
   "attachments": {},
   "cell_type": "markdown",
   "metadata": {},
   "source": [
    "Atividade (C007D)"
   ]
  },
  {
   "cell_type": "code",
   "execution_count": 37,
   "metadata": {},
   "outputs": [],
   "source": [
    "#Identificadas como agricultura, comércio, setor público, serviços e industria\n",
    "\n",
    "def setor(row):\n",
    "    if row['C007D'] == 'Agricultura, pecuária, produção florestal e pesca':\n",
    "        return 'Agricultura'\n",
    "    elif row['C007D'] == 'Comércio no atacado e varejo;':\n",
    "        return 'Comércio'\n",
    "    elif row['C007D'] == 'Administração pública (governo federal, estadual e municipal)':\n",
    "        return 'Setor público'\n",
    "    elif row['C007D'] in ['Educação', \n",
    "                          'Construção',\n",
    "                          'Saúde humana e assistência social',\n",
    "                          'Serviço doméstico remunerado (será imputado da posição na ocupação)',\n",
    "                          'Serviço de alimentação (bares, restaurantes, ambulantes de alimentação)',\n",
    "                          'Atividades de locação de mão de obra, segurança, limpeza, paisagismo e teleatendimento',\n",
    "                          'Escritórios de advocacia, engenharia, publicidade e veterinária (Atividades profissionais, científicas e técnicas)',\n",
    "                          'Reparação de veículos automotores e motocicletas',\n",
    "                          'Transporte de mercadorias',\n",
    "                          'Cabeleireiros, tratamento de beleza e serviços pessoais',\n",
    "                          'Transporte de passageiros',\n",
    "                          'Informação e comunicação (jornais, rádio e televisão, telecomunicações e informática)',\n",
    "                          'Bancos, atividades financeiras e de seguros',\n",
    "                          'Fornecimento de eletricidade e gás, água, esgoto e coleta de lixo',\n",
    "                          'Atividade artísticas, esportivas e de recreação',\n",
    "                          'Atividades imobiliárias',\n",
    "                          'Organizações religiosas, sindicatos e associações',\n",
    "                          'Hospedagem (hotéis, pousadas etc.)',\n",
    "                          'Armazenamento, correios e serviços de entregas']:\n",
    "        return 'Serviços'\n",
    "    elif row['C007D'] in ['Indústria da transformação (inclusive confecção e fabricação caseira)',\n",
    "                            'Extração de petróleo, carvão mineral, minerais metálicos, pedra, areia, sal etc.']:\n",
    "        return 'Indústria'\n",
    "    elif row['C007D'] == 'Outro':\n",
    "        return 'Outros'"
   ]
  },
  {
   "cell_type": "code",
   "execution_count": 38,
   "metadata": {},
   "outputs": [],
   "source": [
    "pnad_covid['setor'] = pnad_covid.apply(setor, axis=1)"
   ]
  },
  {
   "cell_type": "markdown",
   "metadata": {},
   "source": [
    "Ocupação (C001, C002, C003)"
   ]
  },
  {
   "cell_type": "code",
   "execution_count": null,
   "metadata": {},
   "outputs": [],
   "source": [
    "#ocupadas \n",
    "#    ocupadas não afastadas\n",
    "#    Pessoas ocupadas exercendo atividade de maneira remota\n",
    "#Pessoas afastadas\n",
    "#    Afastada devido distanciamento social\n",
    "#    Afastada por outras razões"
   ]
  },
  {
   "cell_type": "code",
   "execution_count": 54,
   "metadata": {},
   "outputs": [
    {
     "data": {
      "text/plain": [
       "C001\n",
       "Não    1259629\n",
       "Sim     925662\n",
       "Name: count, dtype: int64"
      ]
     },
     "execution_count": 54,
     "metadata": {},
     "output_type": "execute_result"
    }
   ],
   "source": [
    "pnad_covid['C001'].value_counts()"
   ]
  },
  {
   "cell_type": "code",
   "execution_count": 61,
   "metadata": {},
   "outputs": [],
   "source": [
    "def ocupacao(row):\n",
    "    if row['C001'] == 'Sim':\n",
    "            return 'Ocupado não afastado'\n",
    "\n",
    "    elif row['C001'] == 'Não':\n",
    "                if row['C002'] == 'Sim':\n",
    "                    if row['C003'] == 'Estava em quarentena, isolamento, distanciamento social ou férias coletivas':\n",
    "                        return 'Afastado devido distanciamento social'\n",
    "\n",
    "                    elif row['C003'] in ['Licença remunerada por motivo de saúde ou acidente da própria pessoa',\n",
    "                          'Férias, folga ou jornada de trabalho variável',\n",
    "                          'Afastamento do próprio negócio/empresa por motivo de gestação, saúde, acidente, etc., sem ser remunerado por instituto de previdência',\n",
    "                          'Outro motivo', \n",
    "                          'Licença maternidade ou paternidade',\n",
    "                          'Fatores ocasionais (mau tempo, paralisação nos serviços de transportes, etc.)',\n",
    "                          'Outro tipo de licença remunerada (estudo, paternidade, casamento, licença prêmio, etc.)']:\n",
    "                        return 'Afastada por outras razões'\n",
    "\n",
    "                elif row['C002'] == 'Não':\n",
    "                    return 'Ocupado não afastado'"
   ]
  },
  {
   "cell_type": "code",
   "execution_count": null,
   "metadata": {},
   "outputs": [],
   "source": [
    "#TODO: tratamento adequado de Ocupação\n",
    "#TODO: criar chave adequada para individuos no tempo"
   ]
  },
  {
   "cell_type": "code",
   "execution_count": 62,
   "metadata": {},
   "outputs": [],
   "source": [
    "pnad_covid['ocupação'] = pnad_covid.apply(ocupacao, axis=1)"
   ]
  },
  {
   "cell_type": "code",
   "execution_count": 63,
   "metadata": {},
   "outputs": [
    {
     "data": {
      "text/plain": [
       "ocupação\n",
       "Afastada por outras razões                 38838\n",
       "Afastado devido distanciamento social     104941\n",
       "Ocupado não afastado                     2041512\n",
       "Name: ocupação, dtype: int64"
      ]
     },
     "execution_count": 63,
     "metadata": {},
     "output_type": "execute_result"
    }
   ],
   "source": [
    "pnad_covid['ocupação'].groupby(pnad_covid['ocupação']).count()"
   ]
  },
  {
   "cell_type": "markdown",
   "metadata": {},
   "source": [
    "---"
   ]
  },
  {
   "attachments": {},
   "cell_type": "markdown",
   "metadata": {},
   "source": [
    "Até aqui, as seguintes variáveis foram tratadas:\n",
    "- A002: faixa etária\n",
    "- A003: sexo\n",
    "- A004: cor\n",
    "- A005: escolaridade\n",
    "- C007: Formalidade\n",
    "- C007D: Setor"
   ]
  },
  {
   "attachments": {},
   "cell_type": "markdown",
   "metadata": {},
   "source": [
    "#### Modelo"
   ]
  },
  {
   "cell_type": "code",
   "execution_count": 46,
   "metadata": {},
   "outputs": [],
   "source": [
    "#Pacotes para modelagem\n",
    "import  statsmodels.api as sm \n",
    "from linearmodels.panel import PanelOLS"
   ]
  },
  {
   "cell_type": "code",
   "execution_count": 47,
   "metadata": {},
   "outputs": [
    {
     "ename": "ValueError",
     "evalue": "Series can only be used with a 2-level MultiIndex",
     "output_type": "error",
     "traceback": [
      "\u001b[0;31m---------------------------------------------------------------------------\u001b[0m",
      "\u001b[0;31mValueError\u001b[0m                                Traceback (most recent call last)",
      "Cell \u001b[0;32mIn[47], line 3\u001b[0m\n\u001b[1;32m      1\u001b[0m \u001b[39m# Calculating the alpha for each fund# adding the constant vector to the exogenous matrix\u001b[39;00m\n\u001b[1;32m      2\u001b[0m exog_variables \u001b[39m=\u001b[39m sm\u001b[39m.\u001b[39madd_constant(pnad_covid[[\u001b[39m'\u001b[39m\u001b[39mUF\u001b[39m\u001b[39m'\u001b[39m, \u001b[39m'\u001b[39m\u001b[39mA003\u001b[39m\u001b[39m'\u001b[39m, \u001b[39m'\u001b[39m\u001b[39mA004\u001b[39m\u001b[39m'\u001b[39m,\u001b[39m'\u001b[39m\u001b[39mA005\u001b[39m\u001b[39m'\u001b[39m,\u001b[39m'\u001b[39m\u001b[39mC01012\u001b[39m\u001b[39m'\u001b[39m,\u001b[39m'\u001b[39m\u001b[39mC007\u001b[39m\u001b[39m'\u001b[39m]])\u001b[39m# estimating the fixed effects model\u001b[39;00m\n\u001b[0;32m----> 3\u001b[0m f_effects_model \u001b[39m=\u001b[39m PanelOLS(\n\u001b[1;32m      4\u001b[0m     dependent \u001b[39m=\u001b[39;49m pnad_covid[\u001b[39m'\u001b[39;49m\u001b[39mteleworkable\u001b[39;49m\u001b[39m'\u001b[39;49m], \u001b[39m# endogenous variable (Y vector)\u001b[39;49;00m\n\u001b[1;32m      5\u001b[0m     exog \u001b[39m=\u001b[39;49m exog_variables, \u001b[39m# exogenous variables (X matrix)\u001b[39;49;00m\n\u001b[1;32m      6\u001b[0m     entity_effects \u001b[39m=\u001b[39;49m \u001b[39mTrue\u001b[39;49;00m, \u001b[39m# True -> Fixed Effects\u001b[39;49;00m\n\u001b[1;32m      7\u001b[0m     \u001b[39m#check_rank = False # True -> Balanced Panel\u001b[39;49;00m\n\u001b[1;32m      8\u001b[0m     )\n\u001b[1;32m     10\u001b[0m f_effects_results \u001b[39m=\u001b[39m f_effects_model\u001b[39m.\u001b[39mfit()\n",
      "File \u001b[0;32m~/.python/current/lib/python3.10/site-packages/linearmodels/panel/model.py:1216\u001b[0m, in \u001b[0;36mPanelOLS.__init__\u001b[0;34m(self, dependent, exog, weights, entity_effects, time_effects, other_effects, singletons, drop_absorbed, check_rank)\u001b[0m\n\u001b[1;32m   1203\u001b[0m \u001b[39mdef\u001b[39;00m \u001b[39m__init__\u001b[39m(\n\u001b[1;32m   1204\u001b[0m     \u001b[39mself\u001b[39m,\n\u001b[1;32m   1205\u001b[0m     dependent: PanelDataLike,\n\u001b[0;32m   (...)\u001b[0m\n\u001b[1;32m   1214\u001b[0m     check_rank: \u001b[39mbool\u001b[39m \u001b[39m=\u001b[39m \u001b[39mTrue\u001b[39;00m,\n\u001b[1;32m   1215\u001b[0m ) \u001b[39m-\u001b[39m\u001b[39m>\u001b[39m \u001b[39mNone\u001b[39;00m:\n\u001b[0;32m-> 1216\u001b[0m     \u001b[39msuper\u001b[39;49m()\u001b[39m.\u001b[39;49m\u001b[39m__init__\u001b[39;49m(dependent, exog, weights\u001b[39m=\u001b[39;49mweights, check_rank\u001b[39m=\u001b[39;49mcheck_rank)\n\u001b[1;32m   1218\u001b[0m     \u001b[39mself\u001b[39m\u001b[39m.\u001b[39m_entity_effects \u001b[39m=\u001b[39m entity_effects\n\u001b[1;32m   1219\u001b[0m     \u001b[39mself\u001b[39m\u001b[39m.\u001b[39m_time_effects \u001b[39m=\u001b[39m time_effects\n",
      "File \u001b[0;32m~/.python/current/lib/python3.10/site-packages/linearmodels/panel/model.py:312\u001b[0m, in \u001b[0;36m_PanelModelBase.__init__\u001b[0;34m(self, dependent, exog, weights, check_rank)\u001b[0m\n\u001b[1;32m    304\u001b[0m \u001b[39mdef\u001b[39;00m \u001b[39m__init__\u001b[39m(\n\u001b[1;32m    305\u001b[0m     \u001b[39mself\u001b[39m,\n\u001b[1;32m    306\u001b[0m     dependent: PanelDataLike,\n\u001b[0;32m   (...)\u001b[0m\n\u001b[1;32m    310\u001b[0m     check_rank: \u001b[39mbool\u001b[39m \u001b[39m=\u001b[39m \u001b[39mTrue\u001b[39;00m,\n\u001b[1;32m    311\u001b[0m ) \u001b[39m-\u001b[39m\u001b[39m>\u001b[39m \u001b[39mNone\u001b[39;00m:\n\u001b[0;32m--> 312\u001b[0m     \u001b[39mself\u001b[39m\u001b[39m.\u001b[39mdependent \u001b[39m=\u001b[39m PanelData(dependent, \u001b[39m\"\u001b[39;49m\u001b[39mDep\u001b[39;49m\u001b[39m\"\u001b[39;49m)\n\u001b[1;32m    313\u001b[0m     \u001b[39mself\u001b[39m\u001b[39m.\u001b[39mexog \u001b[39m=\u001b[39m PanelData(exog, \u001b[39m\"\u001b[39m\u001b[39mExog\u001b[39m\u001b[39m\"\u001b[39m)\n\u001b[1;32m    314\u001b[0m     \u001b[39mself\u001b[39m\u001b[39m.\u001b[39m_original_shape \u001b[39m=\u001b[39m \u001b[39mself\u001b[39m\u001b[39m.\u001b[39mdependent\u001b[39m.\u001b[39mshape\n",
      "File \u001b[0;32m~/.python/current/lib/python3.10/site-packages/linearmodels/panel/data.py:214\u001b[0m, in \u001b[0;36mPanelData.__init__\u001b[0;34m(self, x, var_name, convert_dummies, drop_first, copy)\u001b[0m\n\u001b[1;32m    212\u001b[0m     x \u001b[39m=\u001b[39m DataFrame(x)\n\u001b[1;32m    213\u001b[0m \u001b[39melif\u001b[39;00m \u001b[39misinstance\u001b[39m(x, Series):\n\u001b[0;32m--> 214\u001b[0m     \u001b[39mraise\u001b[39;00m \u001b[39mValueError\u001b[39;00m(\u001b[39m\"\u001b[39m\u001b[39mSeries can only be used with a 2-level MultiIndex\u001b[39m\u001b[39m\"\u001b[39m)\n\u001b[1;32m    216\u001b[0m \u001b[39mif\u001b[39;00m \u001b[39misinstance\u001b[39m(x, DataFrame):\n\u001b[1;32m    217\u001b[0m     \u001b[39mif\u001b[39;00m \u001b[39misinstance\u001b[39m(x\u001b[39m.\u001b[39mindex, MultiIndex):\n",
      "\u001b[0;31mValueError\u001b[0m: Series can only be used with a 2-level MultiIndex"
     ]
    }
   ],
   "source": [
    "# Calculating the alpha for each fund# adding the constant vector to the exogenous matrix\n",
    "exog_variables = sm.add_constant(pnad_covid[['UF', 'A003', 'A004','A005','C01012','C007']])# estimating the fixed effects model\n",
    "f_effects_model = PanelOLS(\n",
    "    dependent = pnad_covid['teleworkable'], # endogenous variable (Y vector)\n",
    "    exog = exog_variables, # exogenous variables (X matrix)\n",
    "    entity_effects = True, # True -> Fixed Effects\n",
    "    #check_rank = False # True -> Balanced Panel\n",
    "    )\n",
    "\n",
    "f_effects_results = f_effects_model.fit()"
   ]
  }
 ],
 "metadata": {
  "kernelspec": {
   "display_name": "Python 3",
   "language": "python",
   "name": "python3"
  },
  "language_info": {
   "codemirror_mode": {
    "name": "ipython",
    "version": 3
   },
   "file_extension": ".py",
   "mimetype": "text/x-python",
   "name": "python",
   "nbconvert_exporter": "python",
   "pygments_lexer": "ipython3",
   "version": "3.10.4"
  },
  "orig_nbformat": 4
 },
 "nbformat": 4,
 "nbformat_minor": 2
}
