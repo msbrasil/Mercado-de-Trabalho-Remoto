{
 "cells": [
  {
   "attachments": {},
   "cell_type": "markdown",
   "metadata": {},
   "source": [
    "### Tratamento de dados da PNAD COVID\n",
    "\n",
    "Notebook para filtrar dados da PNAD COVID. Selecionar as variáveis de interesse e variável que captura a realização de trabalho remoto.\n",
    "\n",
    "**Variáveis da PNAD Covid que serão filtradas:**\n",
    "\n",
    "<img src=\"../Anexos/var_estudo.png\" width=\"600\" height=\"500\">"
   ]
  },
  {
   "cell_type": "code",
   "execution_count": 1,
   "metadata": {},
   "outputs": [],
   "source": [
    "import pandas as pd"
   ]
  },
  {
   "cell_type": "code",
   "execution_count": 2,
   "metadata": {},
   "outputs": [],
   "source": [
    "filtro = ['Ano','V1013', 'V1012', 'UPA', 'Estrato', 'V1008', 'V1016', 'A003', 'A001B1','A001B2','A001B3', 'A004', 'A002', 'A005', 'UF', 'C007','C007B', 'C007D', 'C001', 'C002', 'C003', 'C013', 'F006']"
   ]
  },
  {
   "cell_type": "code",
   "execution_count": 3,
   "metadata": {},
   "outputs": [],
   "source": [
    "p_covid5 = pd.read_feather('../Dados/pnad_covid/original/PNAD_COVID_052020.feather', columns=filtro)\n",
    "p_covid6 = pd.read_feather('../Dados/pnad_covid/original/PNAD_COVID_062020.feather', columns=filtro)\n",
    "p_covid7 = pd.read_feather('../Dados/pnad_covid/original/PNAD_COVID_072020.feather', columns=filtro)\n",
    "p_covid8 = pd.read_feather('../Dados/pnad_covid/original/PNAD_COVID_082020.feather', columns=filtro)\n",
    "p_covid9 = pd.read_feather('../Dados/pnad_covid/original/PNAD_COVID_092020.feather', columns=filtro)\n",
    "p_covid10 = pd.read_feather('../Dados/pnad_covid/original/PNAD_COVID_102020.feather', columns=filtro)\n",
    "p_covid11 = pd.read_feather('../Dados/pnad_covid/original/PNAD_COVID_112020.feather', columns=filtro)"
   ]
  },
  {
   "cell_type": "code",
   "execution_count": null,
   "metadata": {},
   "outputs": [],
   "source": [
    "#Chave para pessoa: UPA + V1008 + V2003 + V2007 + V2008 + V20081 + V20082 \n",
    "\n",
    "# Variáveis que identificam os domicílios:\n",
    "# UPA: Unidade Primária de Amostragem\n",
    "# V1008: Número de seleção do domicílio\n",
    "# V1014: Painel (grupo da amostra) - sera substituita por \n",
    "\n",
    "#Variáveis que identificam os indivíduos:\n",
    "# V2007: Sexo (A003)\n",
    "# V2008: Dia de nascimento (A001B1)\n",
    "# V20081: Mês de nascimento (A001B2)\n",
    "# V20082: Ano de nascimento (A001B3)"
   ]
  },
  {
   "cell_type": "code",
   "execution_count": 29,
   "metadata": {},
   "outputs": [],
   "source": [
    "pnad_covid = pd.concat([p_covid5, p_covid6, p_covid7, p_covid8, p_covid9, p_covid10, p_covid11])"
   ]
  },
  {
   "cell_type": "code",
   "execution_count": 30,
   "metadata": {},
   "outputs": [
    {
     "data": {
      "text/plain": [
       "(2650459, 23)"
      ]
     },
     "execution_count": 30,
     "metadata": {},
     "output_type": "execute_result"
    }
   ],
   "source": [
    "pnad_covid.shape"
   ]
  },
  {
   "cell_type": "code",
   "execution_count": 31,
   "metadata": {},
   "outputs": [],
   "source": [
    "pnad_covid = pnad_covid[pnad_covid['A001B3'] != 9999]"
   ]
  },
  {
   "cell_type": "code",
   "execution_count": 32,
   "metadata": {},
   "outputs": [
    {
     "data": {
      "text/plain": [
       "(2508686, 23)"
      ]
     },
     "execution_count": 32,
     "metadata": {},
     "output_type": "execute_result"
    }
   ],
   "source": [
    "pnad_covid.shape"
   ]
  },
  {
   "cell_type": "code",
   "execution_count": 33,
   "metadata": {},
   "outputs": [],
   "source": [
    "pnad_covid['domicilio_id'] = pnad_covid['UPA'].values + pnad_covid['V1008'].values + pnad_covid['A003'].astype(str) + pnad_covid['A001B1'].values.astype(str) + pnad_covid['A001B2'].values.astype(str) + pnad_covid['A001B3'].values.astype(str)"
   ]
  },
  {
   "cell_type": "code",
   "execution_count": 34,
   "metadata": {},
   "outputs": [],
   "source": [
    "pnad_covid.to_parquet('../Dados/pnad_covid/pnad_covid_filtrada.parquet')"
   ]
  }
 ],
 "metadata": {
  "kernelspec": {
   "display_name": "Python 3",
   "language": "python",
   "name": "python3"
  },
  "language_info": {
   "codemirror_mode": {
    "name": "ipython",
    "version": 3
   },
   "file_extension": ".py",
   "mimetype": "text/x-python",
   "name": "python",
   "nbconvert_exporter": "python",
   "pygments_lexer": "ipython3",
   "version": "3.10.4"
  },
  "orig_nbformat": 4
 },
 "nbformat": 4,
 "nbformat_minor": 2
}
