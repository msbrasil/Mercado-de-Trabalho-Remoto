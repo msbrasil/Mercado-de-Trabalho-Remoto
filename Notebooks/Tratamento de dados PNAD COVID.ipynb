{
 "cells": [
  {
   "attachments": {},
   "cell_type": "markdown",
   "metadata": {},
   "source": [
    "### Tratamento de dados da PNAD COVID\n",
    "\n",
    "Notebook para filtrar dados da PNAD COVID. Selecionar as variáveis de interesse e variável que captura a realização de trabalho remoto.\n",
    "\n",
    "**Variáveis da PNAD Covid que serão filtradas:**\n",
    "\n",
    "<img src=\"../Anexos/var_estudo.png\" width=\"600\" height=\"500\">"
   ]
  },
  {
   "cell_type": "code",
   "execution_count": 3,
   "metadata": {},
   "outputs": [],
   "source": [
    "import pandas as pd"
   ]
  },
  {
   "cell_type": "code",
   "execution_count": 1,
   "metadata": {},
   "outputs": [],
   "source": [
    "filtro = ['Ano','V1013', 'V1008', 'V1012', 'V1016', 'A003', 'A004', 'A002', 'A005', 'UF', 'C007','C007B', 'C007D', 'C001', 'C002', 'C003', 'C013']"
   ]
  },
  {
   "cell_type": "code",
   "execution_count": 4,
   "metadata": {},
   "outputs": [],
   "source": [
    "p_covid5 = pd.read_feather('../Dados/pnad_covid/original/PNAD_COVID_052020.feather', columns=filtro)\n",
    "p_covid6 = pd.read_feather('../Dados/pnad_covid/original/PNAD_COVID_062020.feather', columns=filtro)\n",
    "p_covid7 = pd.read_feather('../Dados/pnad_covid/original/PNAD_COVID_072020.feather', columns=filtro)\n",
    "p_covid8 = pd.read_feather('../Dados/pnad_covid/original/PNAD_COVID_082020.feather', columns=filtro)\n",
    "p_covid9 = pd.read_feather('../Dados/pnad_covid/original/PNAD_COVID_092020.feather', columns=filtro)\n",
    "p_covid10 = pd.read_feather('../Dados/pnad_covid/original/PNAD_COVID_102020.feather', columns=filtro)\n",
    "p_covid11 = pd.read_feather('../Dados/pnad_covid/original/PNAD_COVID_112020.feather', columns=filtro)"
   ]
  },
  {
   "cell_type": "code",
   "execution_count": null,
   "metadata": {},
   "outputs": [],
   "source": [
    "#Chave para pessoa: UPA + V1008 + V2003 + V2007 + V2008 + V20081 + V20082 "
   ]
  },
  {
   "cell_type": "code",
   "execution_count": 12,
   "metadata": {},
   "outputs": [
    {
     "data": {
      "text/plain": [
       "V1016\n",
       "6    380461\n",
       "Name: count, dtype: int64"
      ]
     },
     "execution_count": 12,
     "metadata": {},
     "output_type": "execute_result"
    }
   ],
   "source": [
    "p_covid10['V1016'].value_counts()"
   ]
  },
  {
   "cell_type": "code",
   "execution_count": 13,
   "metadata": {},
   "outputs": [],
   "source": [
    "pnad_covid = pd.concat([p_covid5, p_covid6, p_covid7, p_covid8, p_covid9, p_covid10, p_covid11])"
   ]
  },
  {
   "cell_type": "code",
   "execution_count": 14,
   "metadata": {},
   "outputs": [],
   "source": [
    "pnad_covid.to_parquet('../Dados/pnad_covid/pnad_covid_filtrada.parquet')"
   ]
  }
 ],
 "metadata": {
  "kernelspec": {
   "display_name": "Python 3",
   "language": "python",
   "name": "python3"
  },
  "language_info": {
   "codemirror_mode": {
    "name": "ipython",
    "version": 3
   },
   "file_extension": ".py",
   "mimetype": "text/x-python",
   "name": "python",
   "nbconvert_exporter": "python",
   "pygments_lexer": "ipython3",
   "version": "3.10.4"
  },
  "orig_nbformat": 4
 },
 "nbformat": 4,
 "nbformat_minor": 2
}
