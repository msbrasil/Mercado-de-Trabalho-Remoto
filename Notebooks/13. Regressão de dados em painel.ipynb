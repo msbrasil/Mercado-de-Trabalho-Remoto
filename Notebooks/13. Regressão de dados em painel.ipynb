{
 "cells": [
  {
   "cell_type": "markdown",
   "metadata": {},
   "source": [
    "### Regressão de dados em painel "
   ]
  },
  {
   "cell_type": "markdown",
   "metadata": {},
   "source": [
    "Pacotes"
   ]
  },
  {
   "cell_type": "code",
   "execution_count": 3,
   "metadata": {},
   "outputs": [],
   "source": [
    "import pandas as pd\n",
    "import numpy as np\n",
    "from itertools import product\n",
    "\n",
    "# Modelo\n",
    "import  statsmodels.api as sm \n",
    "from linearmodels.panel import PanelOLS"
   ]
  },
  {
   "cell_type": "code",
   "execution_count": 4,
   "metadata": {},
   "outputs": [],
   "source": [
    "panel_data = pd.read_parquet('../Dados/pnad_covid/pnad_covid_tratada.parquet')"
   ]
  },
  {
   "cell_type": "code",
   "execution_count": 5,
   "metadata": {},
   "outputs": [
    {
     "data": {
      "text/html": [
       "<div>\n",
       "<style scoped>\n",
       "    .dataframe tbody tr th:only-of-type {\n",
       "        vertical-align: middle;\n",
       "    }\n",
       "\n",
       "    .dataframe tbody tr th {\n",
       "        vertical-align: top;\n",
       "    }\n",
       "\n",
       "    .dataframe thead th {\n",
       "        text-align: right;\n",
       "    }\n",
       "</style>\n",
       "<table border=\"1\" class=\"dataframe\">\n",
       "  <thead>\n",
       "    <tr style=\"text-align: right;\">\n",
       "      <th></th>\n",
       "      <th>Ano</th>\n",
       "      <th>V1013</th>\n",
       "      <th>V1012</th>\n",
       "      <th>UPA</th>\n",
       "      <th>Estrato</th>\n",
       "      <th>V1008</th>\n",
       "      <th>V1016</th>\n",
       "      <th>A003</th>\n",
       "      <th>A001B1</th>\n",
       "      <th>A001B2</th>\n",
       "      <th>...</th>\n",
       "      <th>17</th>\n",
       "      <th>19</th>\n",
       "      <th>20</th>\n",
       "      <th>21</th>\n",
       "      <th>22</th>\n",
       "      <th>23</th>\n",
       "      <th>24</th>\n",
       "      <th>25</th>\n",
       "      <th>27</th>\n",
       "      <th>28</th>\n",
       "    </tr>\n",
       "  </thead>\n",
       "  <tbody>\n",
       "    <tr>\n",
       "      <th>0</th>\n",
       "      <td>2020</td>\n",
       "      <td>5</td>\n",
       "      <td>1</td>\n",
       "      <td>110000016</td>\n",
       "      <td>1110011</td>\n",
       "      <td>1</td>\n",
       "      <td>1</td>\n",
       "      <td>Mulher</td>\n",
       "      <td>2</td>\n",
       "      <td>2</td>\n",
       "      <td>...</td>\n",
       "      <td>False</td>\n",
       "      <td>False</td>\n",
       "      <td>False</td>\n",
       "      <td>False</td>\n",
       "      <td>False</td>\n",
       "      <td>False</td>\n",
       "      <td>True</td>\n",
       "      <td>True</td>\n",
       "      <td>True</td>\n",
       "      <td>True</td>\n",
       "    </tr>\n",
       "    <tr>\n",
       "      <th>1</th>\n",
       "      <td>2020</td>\n",
       "      <td>5</td>\n",
       "      <td>1</td>\n",
       "      <td>110000016</td>\n",
       "      <td>1110011</td>\n",
       "      <td>1</td>\n",
       "      <td>1</td>\n",
       "      <td>Mulher</td>\n",
       "      <td>15</td>\n",
       "      <td>2</td>\n",
       "      <td>...</td>\n",
       "      <td>False</td>\n",
       "      <td>False</td>\n",
       "      <td>False</td>\n",
       "      <td>False</td>\n",
       "      <td>False</td>\n",
       "      <td>False</td>\n",
       "      <td>True</td>\n",
       "      <td>True</td>\n",
       "      <td>True</td>\n",
       "      <td>True</td>\n",
       "    </tr>\n",
       "    <tr>\n",
       "      <th>2</th>\n",
       "      <td>2020</td>\n",
       "      <td>5</td>\n",
       "      <td>1</td>\n",
       "      <td>110000016</td>\n",
       "      <td>1110011</td>\n",
       "      <td>1</td>\n",
       "      <td>1</td>\n",
       "      <td>Mulher</td>\n",
       "      <td>24</td>\n",
       "      <td>1</td>\n",
       "      <td>...</td>\n",
       "      <td>False</td>\n",
       "      <td>False</td>\n",
       "      <td>False</td>\n",
       "      <td>False</td>\n",
       "      <td>False</td>\n",
       "      <td>False</td>\n",
       "      <td>True</td>\n",
       "      <td>True</td>\n",
       "      <td>True</td>\n",
       "      <td>True</td>\n",
       "    </tr>\n",
       "    <tr>\n",
       "      <th>3</th>\n",
       "      <td>2020</td>\n",
       "      <td>5</td>\n",
       "      <td>1</td>\n",
       "      <td>110000016</td>\n",
       "      <td>1110011</td>\n",
       "      <td>1</td>\n",
       "      <td>1</td>\n",
       "      <td>Homem</td>\n",
       "      <td>29</td>\n",
       "      <td>12</td>\n",
       "      <td>...</td>\n",
       "      <td>False</td>\n",
       "      <td>False</td>\n",
       "      <td>False</td>\n",
       "      <td>False</td>\n",
       "      <td>False</td>\n",
       "      <td>False</td>\n",
       "      <td>True</td>\n",
       "      <td>True</td>\n",
       "      <td>True</td>\n",
       "      <td>True</td>\n",
       "    </tr>\n",
       "    <tr>\n",
       "      <th>4</th>\n",
       "      <td>2020</td>\n",
       "      <td>5</td>\n",
       "      <td>4</td>\n",
       "      <td>110000016</td>\n",
       "      <td>1110011</td>\n",
       "      <td>10</td>\n",
       "      <td>1</td>\n",
       "      <td>Homem</td>\n",
       "      <td>18</td>\n",
       "      <td>6</td>\n",
       "      <td>...</td>\n",
       "      <td>False</td>\n",
       "      <td>False</td>\n",
       "      <td>False</td>\n",
       "      <td>False</td>\n",
       "      <td>False</td>\n",
       "      <td>False</td>\n",
       "      <td>True</td>\n",
       "      <td>True</td>\n",
       "      <td>True</td>\n",
       "      <td>True</td>\n",
       "    </tr>\n",
       "  </tbody>\n",
       "</table>\n",
       "<p>5 rows × 45 columns</p>\n",
       "</div>"
      ],
      "text/plain": [
       "    Ano V1013 V1012        UPA  Estrato V1008 V1016    A003  A001B1  A001B2  \\\n",
       "0  2020     5     1  110000016  1110011     1     1  Mulher       2       2   \n",
       "1  2020     5     1  110000016  1110011     1     1  Mulher      15       2   \n",
       "2  2020     5     1  110000016  1110011     1     1  Mulher      24       1   \n",
       "3  2020     5     1  110000016  1110011     1     1   Homem      29      12   \n",
       "4  2020     5     4  110000016  1110011    10     1   Homem      18       6   \n",
       "\n",
       "   ...     17     19     20     21     22     23    24    25    27    28  \n",
       "0  ...  False  False  False  False  False  False  True  True  True  True  \n",
       "1  ...  False  False  False  False  False  False  True  True  True  True  \n",
       "2  ...  False  False  False  False  False  False  True  True  True  True  \n",
       "3  ...  False  False  False  False  False  False  True  True  True  True  \n",
       "4  ...  False  False  False  False  False  False  True  True  True  True  \n",
       "\n",
       "[5 rows x 45 columns]"
      ]
     },
     "execution_count": 5,
     "metadata": {},
     "output_type": "execute_result"
    }
   ],
   "source": [
    "panel_data.head()"
   ]
  },
  {
   "cell_type": "code",
   "execution_count": 6,
   "metadata": {},
   "outputs": [
    {
     "data": {
      "text/plain": [
       "Index(['Ano', 'V1013', 'V1012', 'UPA', 'Estrato', 'V1008', 'V1016', 'A003',\n",
       "       'A001B1', 'A001B2', 'A001B3', 'A004', 'A002', 'A005', 'UF', 'C007',\n",
       "       'C007B', 'C007D', 'C001', 'C002', 'C003', 'C013', 'F006',\n",
       "       'domicilio_id', 'grupo_etario', 'Raça', 'Escolaridade', 'formalidade',\n",
       "       'setor', 'Ocupação', 'data_formatada', 'semana_dt', 'sigla_uf', '12',\n",
       "       '15', '17', '19', '20', '21', '22', '23', '24', '25', '27', '28'],\n",
       "      dtype='object')"
      ]
     },
     "execution_count": 6,
     "metadata": {},
     "output_type": "execute_result"
    }
   ],
   "source": [
    "panel_data.columns"
   ]
  },
  {
   "attachments": {},
   "cell_type": "markdown",
   "metadata": {},
   "source": [
    "variáveis de identificação:\n",
    "- semana_dt = semana de referencia\n",
    "- domicilio_id = identificação do domicilio\n",
    "\n",
    "variáveis exógenas:\n",
    "- A003, sexo\n",
    "- A004, cor\n",
    "- A005, escolaridade\n",
    "- grupo_etario\n",
    "- formalidade\n",
    "- setor\n",
    "- Ocupação\n",
    "- 12, 15, 17, 19, 20, 21, 22, 23, 24, 25, 27, 28, datas (semana de flexibilização em formato dummy)\n",
    "\n",
    "variável endógena:\n",
    "C013, trabalho remoto"
   ]
  },
  {
   "cell_type": "code",
   "execution_count": 7,
   "metadata": {},
   "outputs": [],
   "source": [
    "panel_data = panel_data[['semana_dt', 'domicilio_id', #indetificadores\n",
    "                         'C013', #endógena\n",
    "                         'A003', 'A004', 'A005', 'grupo_etario', 'formalidade', 'setor', 'Ocupação', #exógenas\n",
    "                         '12', '15', '17', '19', '20', '21', '22', '23', '24', '25', '27', '28']]"
   ]
  },
  {
   "cell_type": "code",
   "execution_count": 8,
   "metadata": {},
   "outputs": [
    {
     "data": {
      "text/plain": [
       "(2508686, 22)"
      ]
     },
     "execution_count": 8,
     "metadata": {},
     "output_type": "execute_result"
    }
   ],
   "source": [
    "panel_data.shape"
   ]
  },
  {
   "cell_type": "code",
   "execution_count": 9,
   "metadata": {},
   "outputs": [],
   "source": [
    "panel_data.dropna(subset='C013', inplace=True)"
   ]
  },
  {
   "cell_type": "code",
   "execution_count": 10,
   "metadata": {},
   "outputs": [
    {
     "data": {
      "text/plain": [
       "(113093, 22)"
      ]
     },
     "execution_count": 10,
     "metadata": {},
     "output_type": "execute_result"
    }
   ],
   "source": [
    "panel_data.shape"
   ]
  },
  {
   "attachments": {},
   "cell_type": "markdown",
   "metadata": {},
   "source": [
    "### Balanceamento do modelo"
   ]
  },
  {
   "cell_type": "code",
   "execution_count": 11,
   "metadata": {},
   "outputs": [],
   "source": [
    "# correcting unbalanced data (like ids missing dates along the dataset)\n",
    " \n",
    "ids = list(panel_data['domicilio_id'].unique())\n",
    "dates = list(panel_data['semana_dt'].unique())"
   ]
  },
  {
   "cell_type": "code",
   "execution_count": 12,
   "metadata": {},
   "outputs": [],
   "source": [
    "indexes = pd.MultiIndex.from_product(iterables = [ids, dates],names = ['id', 'time'])"
   ]
  },
  {
   "cell_type": "code",
   "execution_count": 13,
   "metadata": {},
   "outputs": [],
   "source": [
    "balanced_panel = product(ids, dates)"
   ]
  },
  {
   "cell_type": "code",
   "execution_count": 14,
   "metadata": {},
   "outputs": [],
   "source": [
    "df_aux = pd.DataFrame(data = balanced_panel, columns = ['portfolio_id', 'date'],index= indexes)"
   ]
  },
  {
   "cell_type": "code",
   "execution_count": 15,
   "metadata": {},
   "outputs": [],
   "source": [
    "#merge the balanced panel with the original dataset\n",
    "\n",
    "panel_data = pd.merge(df_aux, panel_data, how = 'left', left_on = ['portfolio_id', 'date'], right_on = ['domicilio_id', 'semana_dt'])"
   ]
  },
  {
   "cell_type": "code",
   "execution_count": 16,
   "metadata": {},
   "outputs": [],
   "source": [
    "#set multiindex to the dataset with portfolio_id and date\n",
    "\n",
    "panel_data.set_index(['portfolio_id', 'date'], inplace = True)"
   ]
  },
  {
   "attachments": {},
   "cell_type": "markdown",
   "metadata": {},
   "source": [
    "### Regressão"
   ]
  },
  {
   "cell_type": "code",
   "execution_count": 18,
   "metadata": {},
   "outputs": [
    {
     "data": {
      "text/plain": [
       "portfolio_id             date\n",
       "11000001613Homem1211980  18         Superior completo\n",
       "                         20                       NaN\n",
       "                         19                       NaN\n",
       "                         21                       NaN\n",
       "                         24                       NaN\n",
       "                                         ...         \n",
       "5300298004Homem2271983   39                       NaN\n",
       "                         42      Fundamental completa\n",
       "                         44                       NaN\n",
       "                         45                       NaN\n",
       "                         43                       NaN\n",
       "Name: A005, Length: 1023662, dtype: category\n",
       "Categories (8, object): ['Sem instrução', 'Fundamental incompleto', 'Fundamental completa', 'Médio incompleto', 'Médio completo', 'Superior incompleto', 'Superior completo', 'Pós-graduação, mestrado ou doutorado']"
      ]
     },
     "execution_count": 18,
     "metadata": {},
     "output_type": "execute_result"
    }
   ],
   "source": [
    "panel_data['A005']"
   ]
  },
  {
   "cell_type": "code",
   "execution_count": 19,
   "metadata": {},
   "outputs": [],
   "source": [
    "#Variáveis explicativas do modelo\n",
    "# Adicionando uma constante\n",
    "exog_variables = panel_data[['A003', 'A004', 'A005', 'grupo_etario', 'formalidade', 'setor', 'Ocupação', '12', '15', '17', '19', '20', '21', '22', '23', '24', '25', '27', '28']]"
   ]
  },
  {
   "cell_type": "code",
   "execution_count": 20,
   "metadata": {},
   "outputs": [
    {
     "data": {
      "text/plain": [
       "(1023662, 19)"
      ]
     },
     "execution_count": 20,
     "metadata": {},
     "output_type": "execute_result"
    }
   ],
   "source": [
    "exog_variables.shape"
   ]
  },
  {
   "cell_type": "code",
   "execution_count": 21,
   "metadata": {},
   "outputs": [
    {
     "name": "stderr",
     "output_type": "stream",
     "text": [
      "/home/matheus/miniconda3/envs/monografia/lib/python3.11/site-packages/linearmodels/panel/model.py:1214: MissingValueWarning: \n",
      "Inputs contain missing values. Dropping rows with missing observations.\n",
      "  super().__init__(dependent, exog, weights=weights, check_rank=check_rank)\n",
      "/home/matheus/miniconda3/envs/monografia/lib/python3.11/site-packages/linearmodels/shared/linalg.py:43: RuntimeWarning: invalid value encountered in divide\n",
      "  normed_var = x.var(0) / np.abs(x).max(0)\n"
     ]
    }
   ],
   "source": [
    "# estimating the fixed effects model\n",
    "f_effects_model = PanelOLS( dependent = panel_data.C013, # variável endógena (Y)\n",
    "exog = exog_variables, # exogenous variables (X matrix)\n",
    "entity_effects = True, # True -> Fixed Effects\n",
    "check_rank = False,  # True -> Balanced Panel\n",
    "drop_absorbed=True)"
   ]
  },
  {
   "cell_type": "code",
   "execution_count": 22,
   "metadata": {},
   "outputs": [
    {
     "name": "stderr",
     "output_type": "stream",
     "text": [
      "/tmp/ipykernel_5349/3205855132.py:1: AbsorbingEffectWarning: \n",
      "Variables have been fully absorbed and have removed from the regression:\n",
      "\n",
      "formalidade.Fora do mercado de trabalho, Ocupação.Pessoas afastada devido distanciamento social, Ocupação.Pessoas afastada por outras razões, 22, 23, 24, 25, 27, 28\n",
      "\n",
      "  f_effects_results = f_effects_model.fit()\n"
     ]
    }
   ],
   "source": [
    "f_effects_results = f_effects_model.fit()"
   ]
  },
  {
   "cell_type": "code",
   "execution_count": 23,
   "metadata": {},
   "outputs": [
    {
     "ename": "LinAlgError",
     "evalue": "Singular matrix",
     "output_type": "error",
     "traceback": [
      "\u001b[0;31m---------------------------------------------------------------------------\u001b[0m",
      "\u001b[0;31mLinAlgError\u001b[0m                               Traceback (most recent call last)",
      "Cell \u001b[0;32mIn[23], line 1\u001b[0m\n\u001b[0;32m----> 1\u001b[0m f_effects_results\u001b[39m.\u001b[39;49msummary\n",
      "File \u001b[0;32m~/miniconda3/envs/monografia/lib/python3.11/site-packages/linearmodels/panel/results.py:839\u001b[0m, in \u001b[0;36mPanelEffectsResults.summary\u001b[0;34m(self)\u001b[0m\n\u001b[1;32m    823\u001b[0m \u001b[39m@property\u001b[39m\n\u001b[1;32m    824\u001b[0m \u001b[39mdef\u001b[39;00m \u001b[39msummary\u001b[39m(\u001b[39mself\u001b[39m) \u001b[39m-\u001b[39m\u001b[39m>\u001b[39m Summary:\n\u001b[1;32m    825\u001b[0m \u001b[39m    \u001b[39m\u001b[39m\"\"\"\u001b[39;00m\n\u001b[1;32m    826\u001b[0m \u001b[39m    Model estimation summary.\u001b[39;00m\n\u001b[1;32m    827\u001b[0m \n\u001b[0;32m   (...)\u001b[0m\n\u001b[1;32m    836\u001b[0m \u001b[39m    ``summary.as_html()`` and ``summary.as_latex()``.\u001b[39;00m\n\u001b[1;32m    837\u001b[0m \u001b[39m    \"\"\"\u001b[39;00m\n\u001b[0;32m--> 839\u001b[0m     smry \u001b[39m=\u001b[39m \u001b[39msuper\u001b[39;49m()\u001b[39m.\u001b[39;49msummary\n\u001b[1;32m    841\u001b[0m     is_invalid \u001b[39m=\u001b[39m np\u001b[39m.\u001b[39misfinite(\u001b[39mself\u001b[39m\u001b[39m.\u001b[39mf_pooled\u001b[39m.\u001b[39mstat)\n\u001b[1;32m    842\u001b[0m     f_pool \u001b[39m=\u001b[39m _str(\u001b[39mself\u001b[39m\u001b[39m.\u001b[39mf_pooled\u001b[39m.\u001b[39mstat) \u001b[39mif\u001b[39;00m is_invalid \u001b[39melse\u001b[39;00m \u001b[39m\"\u001b[39m\u001b[39m--\u001b[39m\u001b[39m\"\u001b[39m\n",
      "File \u001b[0;32m~/miniconda3/envs/monografia/lib/python3.11/site-packages/linearmodels/panel/results.py:389\u001b[0m, in \u001b[0;36mPanelResults.summary\u001b[0;34m(self)\u001b[0m\n\u001b[1;32m    386\u001b[0m f_pval \u001b[39m=\u001b[39m pval_format(\u001b[39mself\u001b[39m\u001b[39m.\u001b[39mf_statistic\u001b[39m.\u001b[39mpval) \u001b[39mif\u001b[39;00m is_invalid \u001b[39melse\u001b[39;00m \u001b[39m\"\u001b[39m\u001b[39m--\u001b[39m\u001b[39m\"\u001b[39m\n\u001b[1;32m    387\u001b[0m f_dist \u001b[39m=\u001b[39m \u001b[39mself\u001b[39m\u001b[39m.\u001b[39mf_statistic\u001b[39m.\u001b[39mdist_name \u001b[39mif\u001b[39;00m is_invalid \u001b[39melse\u001b[39;00m \u001b[39m\"\u001b[39m\u001b[39m--\u001b[39m\u001b[39m\"\u001b[39m\n\u001b[0;32m--> 389\u001b[0m f_robust \u001b[39m=\u001b[39m _str(\u001b[39mself\u001b[39;49m\u001b[39m.\u001b[39;49mf_statistic_robust\u001b[39m.\u001b[39mstat) \u001b[39mif\u001b[39;00m is_invalid \u001b[39melse\u001b[39;00m \u001b[39m\"\u001b[39m\u001b[39m--\u001b[39m\u001b[39m\"\u001b[39m\n\u001b[1;32m    390\u001b[0m f_robust_pval \u001b[39m=\u001b[39m (\n\u001b[1;32m    391\u001b[0m     pval_format(\u001b[39mself\u001b[39m\u001b[39m.\u001b[39mf_statistic_robust\u001b[39m.\u001b[39mpval) \u001b[39mif\u001b[39;00m is_invalid \u001b[39melse\u001b[39;00m \u001b[39m\"\u001b[39m\u001b[39m--\u001b[39m\u001b[39m\"\u001b[39m\n\u001b[1;32m    392\u001b[0m )\n\u001b[1;32m    393\u001b[0m f_robust_name \u001b[39m=\u001b[39m \u001b[39mself\u001b[39m\u001b[39m.\u001b[39mf_statistic_robust\u001b[39m.\u001b[39mdist_name \u001b[39mif\u001b[39;00m is_invalid \u001b[39melse\u001b[39;00m \u001b[39m\"\u001b[39m\u001b[39m--\u001b[39m\u001b[39m\"\u001b[39m\n",
      "File \u001b[0;32m~/miniconda3/envs/monografia/lib/python3.11/site-packages/linearmodels/panel/results.py:631\u001b[0m, in \u001b[0;36mPanelResults.f_statistic_robust\u001b[0;34m(self)\u001b[0m\n\u001b[1;32m    600\u001b[0m \u001b[39m\u001b[39m\u001b[39mr\u001b[39m\u001b[39m\"\"\"\u001b[39;00m\n\u001b[1;32m    601\u001b[0m \u001b[39mJoint test of significance for non-constant regressors\u001b[39;00m\n\u001b[1;32m    602\u001b[0m \n\u001b[0;32m   (...)\u001b[0m\n\u001b[1;32m    626\u001b[0m \u001b[39mdistribution where df is the residual degree of freedom from the model.\u001b[39;00m\n\u001b[1;32m    627\u001b[0m \u001b[39m\"\"\"\u001b[39;00m\n\u001b[1;32m    628\u001b[0m \u001b[39mfrom\u001b[39;00m \u001b[39mlinearmodels\u001b[39;00m\u001b[39m.\u001b[39;00m\u001b[39mpanel\u001b[39;00m\u001b[39m.\u001b[39;00m\u001b[39mmodel\u001b[39;00m \u001b[39mimport\u001b[39;00m _deferred_f\n\u001b[1;32m    630\u001b[0m \u001b[39mreturn\u001b[39;00m _deferred_f(\n\u001b[0;32m--> 631\u001b[0m     \u001b[39mself\u001b[39m\u001b[39m.\u001b[39mparams, \u001b[39mself\u001b[39;49m\u001b[39m.\u001b[39;49mcov, \u001b[39mself\u001b[39m\u001b[39m.\u001b[39m_debiased, \u001b[39mself\u001b[39m\u001b[39m.\u001b[39mdf_resid, \u001b[39mself\u001b[39m\u001b[39m.\u001b[39m_f_info\n\u001b[1;32m    632\u001b[0m )\n",
      "File \u001b[0;32m~/miniconda3/envs/monografia/lib/python3.11/functools.py:1001\u001b[0m, in \u001b[0;36mcached_property.__get__\u001b[0;34m(self, instance, owner)\u001b[0m\n\u001b[1;32m    999\u001b[0m val \u001b[39m=\u001b[39m cache\u001b[39m.\u001b[39mget(\u001b[39mself\u001b[39m\u001b[39m.\u001b[39mattrname, _NOT_FOUND)\n\u001b[1;32m   1000\u001b[0m \u001b[39mif\u001b[39;00m val \u001b[39mis\u001b[39;00m _NOT_FOUND:\n\u001b[0;32m-> 1001\u001b[0m     val \u001b[39m=\u001b[39m \u001b[39mself\u001b[39;49m\u001b[39m.\u001b[39;49mfunc(instance)\n\u001b[1;32m   1002\u001b[0m     \u001b[39mtry\u001b[39;00m:\n\u001b[1;32m   1003\u001b[0m         cache[\u001b[39mself\u001b[39m\u001b[39m.\u001b[39mattrname] \u001b[39m=\u001b[39m val\n",
      "File \u001b[0;32m~/miniconda3/envs/monografia/lib/python3.11/site-packages/linearmodels/panel/results.py:82\u001b[0m, in \u001b[0;36mPanelResults.cov\u001b[0;34m(self)\u001b[0m\n\u001b[1;32m     78\u001b[0m \u001b[39m@cached_property\u001b[39m\n\u001b[1;32m     79\u001b[0m \u001b[39mdef\u001b[39;00m \u001b[39mcov\u001b[39m(\u001b[39mself\u001b[39m) \u001b[39m-\u001b[39m\u001b[39m>\u001b[39m DataFrame:\n\u001b[1;32m     80\u001b[0m \u001b[39m    \u001b[39m\u001b[39m\"\"\"Estimated covariance of parameters\"\"\"\u001b[39;00m\n\u001b[1;32m     81\u001b[0m     \u001b[39mreturn\u001b[39;00m DataFrame(\n\u001b[0;32m---> 82\u001b[0m         \u001b[39mself\u001b[39;49m\u001b[39m.\u001b[39;49m_deferred_cov(), columns\u001b[39m=\u001b[39m\u001b[39mself\u001b[39m\u001b[39m.\u001b[39m_var_names, index\u001b[39m=\u001b[39m\u001b[39mself\u001b[39m\u001b[39m.\u001b[39m_var_names\n\u001b[1;32m     83\u001b[0m     )\n",
      "File \u001b[0;32m~/miniconda3/envs/monografia/lib/python3.11/site-packages/linearmodels/panel/covariance.py:135\u001b[0m, in \u001b[0;36mHomoskedasticCovariance.deferred_cov\u001b[0;34m(self)\u001b[0m\n\u001b[1;32m    133\u001b[0m \u001b[39mdef\u001b[39;00m \u001b[39mdeferred_cov\u001b[39m(\u001b[39mself\u001b[39m) \u001b[39m-\u001b[39m\u001b[39m>\u001b[39m Float64Array:\n\u001b[1;32m    134\u001b[0m \u001b[39m    \u001b[39m\u001b[39m\"\"\"Covariance calculation deferred until executed\"\"\"\u001b[39;00m\n\u001b[0;32m--> 135\u001b[0m     \u001b[39mreturn\u001b[39;00m \u001b[39mself\u001b[39;49m\u001b[39m.\u001b[39;49mcov\n",
      "File \u001b[0;32m~/miniconda3/envs/monografia/lib/python3.11/functools.py:1001\u001b[0m, in \u001b[0;36mcached_property.__get__\u001b[0;34m(self, instance, owner)\u001b[0m\n\u001b[1;32m    999\u001b[0m val \u001b[39m=\u001b[39m cache\u001b[39m.\u001b[39mget(\u001b[39mself\u001b[39m\u001b[39m.\u001b[39mattrname, _NOT_FOUND)\n\u001b[1;32m   1000\u001b[0m \u001b[39mif\u001b[39;00m val \u001b[39mis\u001b[39;00m _NOT_FOUND:\n\u001b[0;32m-> 1001\u001b[0m     val \u001b[39m=\u001b[39m \u001b[39mself\u001b[39;49m\u001b[39m.\u001b[39;49mfunc(instance)\n\u001b[1;32m   1002\u001b[0m     \u001b[39mtry\u001b[39;00m:\n\u001b[1;32m   1003\u001b[0m         cache[\u001b[39mself\u001b[39m\u001b[39m.\u001b[39mattrname] \u001b[39m=\u001b[39m val\n",
      "File \u001b[0;32m~/miniconda3/envs/monografia/lib/python3.11/site-packages/linearmodels/panel/covariance.py:130\u001b[0m, in \u001b[0;36mHomoskedasticCovariance.cov\u001b[0;34m(self)\u001b[0m\n\u001b[1;32m    128\u001b[0m \u001b[39m\u001b[39m\u001b[39m\"\"\"Estimated covariance\"\"\"\u001b[39;00m\n\u001b[1;32m    129\u001b[0m x \u001b[39m=\u001b[39m \u001b[39mself\u001b[39m\u001b[39m.\u001b[39m_x\n\u001b[0;32m--> 130\u001b[0m out \u001b[39m=\u001b[39m \u001b[39mself\u001b[39m\u001b[39m.\u001b[39ms2 \u001b[39m*\u001b[39m inv(x\u001b[39m.\u001b[39;49mT \u001b[39m@\u001b[39;49m x)\n\u001b[1;32m    131\u001b[0m \u001b[39mreturn\u001b[39;00m (out \u001b[39m+\u001b[39m out\u001b[39m.\u001b[39mT) \u001b[39m/\u001b[39m \u001b[39m2\u001b[39m\n",
      "File \u001b[0;32m~/miniconda3/envs/monografia/lib/python3.11/site-packages/numpy/linalg/linalg.py:561\u001b[0m, in \u001b[0;36minv\u001b[0;34m(a)\u001b[0m\n\u001b[1;32m    559\u001b[0m signature \u001b[39m=\u001b[39m \u001b[39m'\u001b[39m\u001b[39mD->D\u001b[39m\u001b[39m'\u001b[39m \u001b[39mif\u001b[39;00m isComplexType(t) \u001b[39melse\u001b[39;00m \u001b[39m'\u001b[39m\u001b[39md->d\u001b[39m\u001b[39m'\u001b[39m\n\u001b[1;32m    560\u001b[0m extobj \u001b[39m=\u001b[39m get_linalg_error_extobj(_raise_linalgerror_singular)\n\u001b[0;32m--> 561\u001b[0m ainv \u001b[39m=\u001b[39m _umath_linalg\u001b[39m.\u001b[39;49minv(a, signature\u001b[39m=\u001b[39;49msignature, extobj\u001b[39m=\u001b[39;49mextobj)\n\u001b[1;32m    562\u001b[0m \u001b[39mreturn\u001b[39;00m wrap(ainv\u001b[39m.\u001b[39mastype(result_t, copy\u001b[39m=\u001b[39m\u001b[39mFalse\u001b[39;00m))\n",
      "File \u001b[0;32m~/miniconda3/envs/monografia/lib/python3.11/site-packages/numpy/linalg/linalg.py:112\u001b[0m, in \u001b[0;36m_raise_linalgerror_singular\u001b[0;34m(err, flag)\u001b[0m\n\u001b[1;32m    111\u001b[0m \u001b[39mdef\u001b[39;00m \u001b[39m_raise_linalgerror_singular\u001b[39m(err, flag):\n\u001b[0;32m--> 112\u001b[0m     \u001b[39mraise\u001b[39;00m LinAlgError(\u001b[39m\"\u001b[39m\u001b[39mSingular matrix\u001b[39m\u001b[39m\"\u001b[39m)\n",
      "\u001b[0;31mLinAlgError\u001b[0m: Singular matrix"
     ]
    }
   ],
   "source": [
    "f_effects_results.summary"
   ]
  },
  {
   "cell_type": "markdown",
   "metadata": {},
   "source": [
    "---"
   ]
  },
  {
   "attachments": {},
   "cell_type": "markdown",
   "metadata": {},
   "source": [
    "Efeito do 2º choque - Flexibilização"
   ]
  }
 ],
 "metadata": {
  "kernelspec": {
   "display_name": "Python 3",
   "language": "python",
   "name": "python3"
  },
  "language_info": {
   "codemirror_mode": {
    "name": "ipython",
    "version": 3
   },
   "file_extension": ".py",
   "mimetype": "text/x-python",
   "name": "python",
   "nbconvert_exporter": "python",
   "pygments_lexer": "ipython3",
   "version": "3.11.4"
  },
  "orig_nbformat": 4
 },
 "nbformat": 4,
 "nbformat_minor": 2
}
