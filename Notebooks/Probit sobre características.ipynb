{
 "cells": [
  {
   "attachments": {},
   "cell_type": "markdown",
   "metadata": {},
   "source": [
    "### Estimação de um Probit sobre as características que influenciam no trabalho remoto potencial\n",
    "\n",
    "Verificar as variáveis que mais afetam o trabalho remoto potencial no Brasil.\n",
    "\n",
    "A base de dados utilizada é a PNAD Contínua do IBGE, referente ao 4º trimestre de 2019."
   ]
  },
  {
   "cell_type": "code",
   "execution_count": 1,
   "metadata": {},
   "outputs": [],
   "source": [
    "import pandas as pd\n",
    "import numpy as np"
   ]
  },
  {
   "cell_type": "code",
   "execution_count": 40,
   "metadata": {},
   "outputs": [],
   "source": [
    "pnad = pd.read_parquet('../Dados/pnad/pnad_2019_potencial.parquet')"
   ]
  },
  {
   "cell_type": "code",
   "execution_count": 41,
   "metadata": {},
   "outputs": [],
   "source": [
    "pnad.dropna(inplace=True)"
   ]
  },
  {
   "cell_type": "code",
   "execution_count": 42,
   "metadata": {},
   "outputs": [],
   "source": [
    "caracteristicas = pnad[['V2007','V2010','V3009A','V4012']]"
   ]
  },
  {
   "cell_type": "code",
   "execution_count": 43,
   "metadata": {},
   "outputs": [],
   "source": [
    "X = pd.get_dummies(caracteristicas)"
   ]
  },
  {
   "cell_type": "code",
   "execution_count": 44,
   "metadata": {},
   "outputs": [],
   "source": [
    "y = pnad['teletrabalho']"
   ]
  },
  {
   "cell_type": "code",
   "execution_count": 45,
   "metadata": {},
   "outputs": [],
   "source": [
    "import statsmodels.api as sm\n",
    "from statsmodels.discrete.discrete_model import Probit"
   ]
  },
  {
   "cell_type": "code",
   "execution_count": 46,
   "metadata": {},
   "outputs": [
    {
     "name": "stdout",
     "output_type": "stream",
     "text": [
      "Warning: Maximum number of iterations has been exceeded.\n",
      "         Current function value: 0.448178\n",
      "         Iterations: 35\n",
      "                          Probit Regression Results                           \n",
      "==============================================================================\n",
      "Dep. Variable:           teletrabalho   No. Observations:                39953\n",
      "Model:                         Probit   Df Residuals:                    39923\n",
      "Method:                           MLE   Df Model:                           29\n",
      "Date:                Thu, 27 Apr 2023   Pseudo R-squ.:                  0.2368\n",
      "Time:                        17:16:31   Log-Likelihood:                -17906.\n",
      "converged:                      False   LL-Null:                       -23462.\n",
      "Covariance Type:            nonrobust   LLR p-value:                     0.000\n",
      "==============================================================================================================================================================================\n",
      "                                                                                                                 coef    std err          z      P>|z|      [0.025      0.975]\n",
      "------------------------------------------------------------------------------------------------------------------------------------------------------------------------------\n",
      "const                                                                                                         -2.0242        nan        nan        nan         nan         nan\n",
      "V2007_Homem                                                                                                   -1.1041      6e+05  -1.84e-06      1.000   -1.18e+06    1.18e+06\n",
      "V2007_Mulher                                                                                                  -0.9200   6.05e+05  -1.52e-06      1.000   -1.18e+06    1.18e+06\n",
      "V2010_Amarela                                                                                                 -0.1467   1.83e+05  -8.03e-07      1.000   -3.58e+05    3.58e+05\n",
      "V2010_Branca                                                                                                  -0.1845   1.83e+05  -1.01e-06      1.000   -3.58e+05    3.58e+05\n",
      "V2010_Ignorado                                                                                                -0.4236   1.83e+05  -2.32e-06      1.000   -3.58e+05    3.58e+05\n",
      "V2010_Indígena                                                                                                -0.5058   1.83e+05  -2.77e-06      1.000   -3.58e+05    3.58e+05\n",
      "V2010_Parda                                                                                                   -0.3746   1.83e+05  -2.05e-06      1.000   -3.58e+05    3.58e+05\n",
      "V2010_Preta                                                                                                   -0.3890   1.83e+05  -2.13e-06      1.000   -3.58e+05    3.58e+05\n",
      "V3009A_Alfabetização de jovens e adultos                                                                      -5.5990   6.01e+05  -9.31e-06      1.000   -1.18e+06    1.18e+06\n",
      "V3009A_Antigo científico, clássico, etc. (médio 2º ciclo)                                                      0.6687      6e+05   1.11e-06      1.000   -1.18e+06    1.18e+06\n",
      "V3009A_Antigo ginásio (médio 1º ciclo)                                                                         0.1584      6e+05   2.64e-07      1.000   -1.18e+06    1.18e+06\n",
      "V3009A_Antigo primário (elementar)                                                                             0.0060      6e+05      1e-08      1.000   -1.18e+06    1.18e+06\n",
      "V3009A_Classe de alfabetização - CA                                                                            0.0711      6e+05   1.18e-07      1.000   -1.18e+06    1.18e+06\n",
      "V3009A_Doutorado                                                                                               1.7944      6e+05   2.99e-06      1.000   -1.18e+06    1.18e+06\n",
      "V3009A_Educação de jovens e adultos (EJA) ou supletivo do 1º grau                                              0.0972      6e+05   1.62e-07      1.000   -1.18e+06    1.18e+06\n",
      "V3009A_Educação de jovens e adultos (EJA) ou supletivo do 2º grau                                              0.1606      6e+05   2.68e-07      1.000   -1.18e+06    1.18e+06\n",
      "V3009A_Especialização de nível superior                                                                        1.5797      6e+05   2.63e-06      1.000   -1.18e+06    1.18e+06\n",
      "V3009A_Mestrado                                                                                                1.7117      6e+05   2.85e-06      1.000   -1.18e+06    1.18e+06\n",
      "V3009A_Pré-escola                                                                                             -4.2560      6e+05  -7.09e-06      1.000   -1.18e+06    1.18e+06\n",
      "V3009A_Regular do ensino fundamental ou do 1º grau                                                            -0.2143      6e+05  -3.57e-07      1.000   -1.18e+06    1.18e+06\n",
      "V3009A_Regular do ensino médio ou do 2º grau                                                                   0.4028      6e+05   6.71e-07      1.000   -1.18e+06    1.18e+06\n",
      "V3009A_Superior - graduação                                                                                    1.3946      6e+05   2.32e-06      1.000   -1.18e+06    1.18e+06\n",
      "V4012_Conta própria                                                                                            1.6635   5.88e+05   2.83e-06      1.000   -1.15e+06    1.15e+06\n",
      "V4012_Empregado do setor privado                                                                               2.0080   5.88e+05   3.42e-06      1.000   -1.15e+06    1.15e+06\n",
      "V4012_Empregado do setor público (inclusive empresas de economia mista)                                        2.3118   5.88e+05   3.93e-06      1.000   -1.15e+06    1.15e+06\n",
      "V4012_Empregador                                                                                               1.9148   5.88e+05   3.26e-06      1.000   -1.15e+06    1.15e+06\n",
      "V4012_Militar do exército, da marinha, da aeronáutica, da polícia militar ou do corpo de bombeiros militar    -6.6904   2.69e+06  -2.49e-06      1.000   -5.26e+06    5.26e+06\n",
      "V4012_Trabalhador doméstico                                                                                    1.7844   5.88e+05   3.04e-06      1.000   -1.15e+06    1.15e+06\n",
      "V4012_Trabalhador familiar não remunerado                                                                     -5.0162   1.02e+08   -4.9e-08      1.000   -2.01e+08    2.01e+08\n",
      "==============================================================================================================================================================================\n"
     ]
    },
    {
     "name": "stderr",
     "output_type": "stream",
     "text": [
      "c:\\Users\\est.matheus.brasil\\Anaconda3\\envs\\econometria\\lib\\site-packages\\statsmodels\\base\\model.py:604: ConvergenceWarning: Maximum Likelihood optimization failed to converge. Check mle_retvals\n",
      "  warnings.warn(\"Maximum Likelihood optimization failed to \"\n"
     ]
    }
   ],
   "source": [
    "X = sm.add_constant(X)\n",
    "model = Probit(y, X)\n",
    "probit_model = model.fit()\n",
    "print(probit_model.summary())"
   ]
  }
 ],
 "metadata": {
  "kernelspec": {
   "display_name": "econometria",
   "language": "python",
   "name": "python3"
  },
  "language_info": {
   "codemirror_mode": {
    "name": "ipython",
    "version": 3
   },
   "file_extension": ".py",
   "mimetype": "text/x-python",
   "name": "python",
   "nbconvert_exporter": "python",
   "pygments_lexer": "ipython3",
   "version": "3.10.4"
  },
  "orig_nbformat": 4
 },
 "nbformat": 4,
 "nbformat_minor": 2
}
